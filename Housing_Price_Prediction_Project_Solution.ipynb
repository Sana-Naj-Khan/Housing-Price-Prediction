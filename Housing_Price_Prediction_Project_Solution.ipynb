{
 "cells": [
  {
   "cell_type": "markdown",
   "id": "38398d78",
   "metadata": {},
   "source": [
    "# Problem Statement"
   ]
  },
  {
   "cell_type": "raw",
   "id": "1454083a",
   "metadata": {},
   "source": [
    "It is your job to predict the sales price for each house. For each Id in the test set, you must predict the value of the SalePrice variable.\n",
    "\n",
    "Metric Submissions are evaluated on Mean-Squared-Error (MSE). Submission File Format The file should contain a header and have the following format:\n",
    "\n",
    "Id,SalePrice\n",
    "1461,169000.1\n",
    "1462,187724.1233"
   ]
  },
  {
   "cell_type": "code",
   "execution_count": 1,
   "id": "60622cad",
   "metadata": {},
   "outputs": [],
   "source": [
    "from warnings import filterwarnings #to ignore the warnings\n",
    "filterwarnings(\"ignore\")\n",
    "import pandas as pd #for dataprocessing"
   ]
  },
  {
   "cell_type": "markdown",
   "id": "51d51bcd",
   "metadata": {},
   "source": [
    "# Reading Dataset"
   ]
  },
  {
   "cell_type": "code",
   "execution_count": 2,
   "id": "ae4cf980",
   "metadata": {},
   "outputs": [],
   "source": [
    "train = pd.read_csv(\"C:/Users/hp/Desktop/Python Classess/Regression Assignment/train_set.csv\") \n",
    "test = pd.read_csv(\"C:/Users/hp/Desktop/Python Classess/Regression Assignment/testing_set.csv\") "
   ]
  },
  {
   "cell_type": "code",
   "execution_count": 3,
   "id": "691510fd",
   "metadata": {},
   "outputs": [
    {
     "data": {
      "text/html": [
       "<div>\n",
       "<style scoped>\n",
       "    .dataframe tbody tr th:only-of-type {\n",
       "        vertical-align: middle;\n",
       "    }\n",
       "\n",
       "    .dataframe tbody tr th {\n",
       "        vertical-align: top;\n",
       "    }\n",
       "\n",
       "    .dataframe thead th {\n",
       "        text-align: right;\n",
       "    }\n",
       "</style>\n",
       "<table border=\"1\" class=\"dataframe\">\n",
       "  <thead>\n",
       "    <tr style=\"text-align: right;\">\n",
       "      <th></th>\n",
       "      <th>Id</th>\n",
       "      <th>MSSubClass</th>\n",
       "      <th>MSZoning</th>\n",
       "      <th>LotFrontage</th>\n",
       "      <th>LotArea</th>\n",
       "      <th>Street</th>\n",
       "      <th>Alley</th>\n",
       "      <th>LotShape</th>\n",
       "      <th>LandContour</th>\n",
       "      <th>Utilities</th>\n",
       "      <th>...</th>\n",
       "      <th>PoolArea</th>\n",
       "      <th>PoolQC</th>\n",
       "      <th>Fence</th>\n",
       "      <th>MiscFeature</th>\n",
       "      <th>MiscVal</th>\n",
       "      <th>MoSold</th>\n",
       "      <th>YrSold</th>\n",
       "      <th>SaleType</th>\n",
       "      <th>SaleCondition</th>\n",
       "      <th>SalePrice</th>\n",
       "    </tr>\n",
       "  </thead>\n",
       "  <tbody>\n",
       "    <tr>\n",
       "      <th>0</th>\n",
       "      <td>1</td>\n",
       "      <td>60</td>\n",
       "      <td>RL</td>\n",
       "      <td>65.0</td>\n",
       "      <td>8450</td>\n",
       "      <td>Pave</td>\n",
       "      <td>NaN</td>\n",
       "      <td>Reg</td>\n",
       "      <td>Lvl</td>\n",
       "      <td>AllPub</td>\n",
       "      <td>...</td>\n",
       "      <td>0</td>\n",
       "      <td>NaN</td>\n",
       "      <td>NaN</td>\n",
       "      <td>NaN</td>\n",
       "      <td>0</td>\n",
       "      <td>2</td>\n",
       "      <td>2008</td>\n",
       "      <td>WD</td>\n",
       "      <td>Normal</td>\n",
       "      <td>208500</td>\n",
       "    </tr>\n",
       "    <tr>\n",
       "      <th>1</th>\n",
       "      <td>2</td>\n",
       "      <td>20</td>\n",
       "      <td>RL</td>\n",
       "      <td>80.0</td>\n",
       "      <td>9600</td>\n",
       "      <td>Pave</td>\n",
       "      <td>NaN</td>\n",
       "      <td>Reg</td>\n",
       "      <td>Lvl</td>\n",
       "      <td>AllPub</td>\n",
       "      <td>...</td>\n",
       "      <td>0</td>\n",
       "      <td>NaN</td>\n",
       "      <td>NaN</td>\n",
       "      <td>NaN</td>\n",
       "      <td>0</td>\n",
       "      <td>5</td>\n",
       "      <td>2007</td>\n",
       "      <td>WD</td>\n",
       "      <td>Normal</td>\n",
       "      <td>181500</td>\n",
       "    </tr>\n",
       "  </tbody>\n",
       "</table>\n",
       "<p>2 rows × 81 columns</p>\n",
       "</div>"
      ],
      "text/plain": [
       "   Id  MSSubClass MSZoning  LotFrontage  LotArea Street Alley LotShape  \\\n",
       "0   1          60       RL         65.0     8450   Pave   NaN      Reg   \n",
       "1   2          20       RL         80.0     9600   Pave   NaN      Reg   \n",
       "\n",
       "  LandContour Utilities  ... PoolArea PoolQC Fence MiscFeature MiscVal MoSold  \\\n",
       "0         Lvl    AllPub  ...        0    NaN   NaN         NaN       0      2   \n",
       "1         Lvl    AllPub  ...        0    NaN   NaN         NaN       0      5   \n",
       "\n",
       "  YrSold  SaleType  SaleCondition  SalePrice  \n",
       "0   2008        WD         Normal     208500  \n",
       "1   2007        WD         Normal     181500  \n",
       "\n",
       "[2 rows x 81 columns]"
      ]
     },
     "execution_count": 3,
     "metadata": {},
     "output_type": "execute_result"
    }
   ],
   "source": [
    "train.head(2)"
   ]
  },
  {
   "cell_type": "code",
   "execution_count": 4,
   "id": "c528bfc5",
   "metadata": {},
   "outputs": [
    {
     "data": {
      "text/html": [
       "<div>\n",
       "<style scoped>\n",
       "    .dataframe tbody tr th:only-of-type {\n",
       "        vertical-align: middle;\n",
       "    }\n",
       "\n",
       "    .dataframe tbody tr th {\n",
       "        vertical-align: top;\n",
       "    }\n",
       "\n",
       "    .dataframe thead th {\n",
       "        text-align: right;\n",
       "    }\n",
       "</style>\n",
       "<table border=\"1\" class=\"dataframe\">\n",
       "  <thead>\n",
       "    <tr style=\"text-align: right;\">\n",
       "      <th></th>\n",
       "      <th>Id</th>\n",
       "      <th>MSSubClass</th>\n",
       "      <th>MSZoning</th>\n",
       "      <th>LotFrontage</th>\n",
       "      <th>LotArea</th>\n",
       "      <th>Street</th>\n",
       "      <th>Alley</th>\n",
       "      <th>LotShape</th>\n",
       "      <th>LandContour</th>\n",
       "      <th>Utilities</th>\n",
       "      <th>...</th>\n",
       "      <th>ScreenPorch</th>\n",
       "      <th>PoolArea</th>\n",
       "      <th>PoolQC</th>\n",
       "      <th>Fence</th>\n",
       "      <th>MiscFeature</th>\n",
       "      <th>MiscVal</th>\n",
       "      <th>MoSold</th>\n",
       "      <th>YrSold</th>\n",
       "      <th>SaleType</th>\n",
       "      <th>SaleCondition</th>\n",
       "    </tr>\n",
       "  </thead>\n",
       "  <tbody>\n",
       "    <tr>\n",
       "      <th>0</th>\n",
       "      <td>1461</td>\n",
       "      <td>20</td>\n",
       "      <td>RH</td>\n",
       "      <td>80.0</td>\n",
       "      <td>11622</td>\n",
       "      <td>Pave</td>\n",
       "      <td>NaN</td>\n",
       "      <td>Reg</td>\n",
       "      <td>Lvl</td>\n",
       "      <td>AllPub</td>\n",
       "      <td>...</td>\n",
       "      <td>120</td>\n",
       "      <td>0</td>\n",
       "      <td>NaN</td>\n",
       "      <td>MnPrv</td>\n",
       "      <td>NaN</td>\n",
       "      <td>0</td>\n",
       "      <td>6</td>\n",
       "      <td>2010</td>\n",
       "      <td>WD</td>\n",
       "      <td>Normal</td>\n",
       "    </tr>\n",
       "    <tr>\n",
       "      <th>1</th>\n",
       "      <td>1462</td>\n",
       "      <td>20</td>\n",
       "      <td>RL</td>\n",
       "      <td>81.0</td>\n",
       "      <td>14267</td>\n",
       "      <td>Pave</td>\n",
       "      <td>NaN</td>\n",
       "      <td>IR1</td>\n",
       "      <td>Lvl</td>\n",
       "      <td>AllPub</td>\n",
       "      <td>...</td>\n",
       "      <td>0</td>\n",
       "      <td>0</td>\n",
       "      <td>NaN</td>\n",
       "      <td>NaN</td>\n",
       "      <td>Gar2</td>\n",
       "      <td>12500</td>\n",
       "      <td>6</td>\n",
       "      <td>2010</td>\n",
       "      <td>WD</td>\n",
       "      <td>Normal</td>\n",
       "    </tr>\n",
       "  </tbody>\n",
       "</table>\n",
       "<p>2 rows × 80 columns</p>\n",
       "</div>"
      ],
      "text/plain": [
       "     Id  MSSubClass MSZoning  LotFrontage  LotArea Street Alley LotShape  \\\n",
       "0  1461          20       RH         80.0    11622   Pave   NaN      Reg   \n",
       "1  1462          20       RL         81.0    14267   Pave   NaN      IR1   \n",
       "\n",
       "  LandContour Utilities  ... ScreenPorch PoolArea PoolQC  Fence MiscFeature  \\\n",
       "0         Lvl    AllPub  ...         120        0    NaN  MnPrv         NaN   \n",
       "1         Lvl    AllPub  ...           0        0    NaN    NaN        Gar2   \n",
       "\n",
       "  MiscVal MoSold  YrSold  SaleType  SaleCondition  \n",
       "0       0      6    2010        WD         Normal  \n",
       "1   12500      6    2010        WD         Normal  \n",
       "\n",
       "[2 rows x 80 columns]"
      ]
     },
     "execution_count": 4,
     "metadata": {},
     "output_type": "execute_result"
    }
   ],
   "source": [
    "test.head(2)"
   ]
  },
  {
   "cell_type": "markdown",
   "id": "54d78452",
   "metadata": {},
   "source": [
    "# Missing Data Treatment"
   ]
  },
  {
   "cell_type": "code",
   "execution_count": 5,
   "id": "fef524f3",
   "metadata": {},
   "outputs": [],
   "source": [
    "for col in ['Alley','FireplaceQu','Fence','MiscFeature','PoolQC','BsmtQual','BsmtCond','BsmtExposure','BsmtFinType1','BsmtFinType2',\n",
    "            'GarageType','GarageFinish','GarageQual','GarageCond']:\n",
    "     train[col].fillna('None', inplace= True)"
   ]
  },
  {
   "cell_type": "code",
   "execution_count": 6,
   "id": "d7930243",
   "metadata": {},
   "outputs": [],
   "source": [
    "#train.isna().sum()"
   ]
  },
  {
   "cell_type": "code",
   "execution_count": 7,
   "id": "8185c578",
   "metadata": {},
   "outputs": [],
   "source": [
    "for col in ['Alley','FireplaceQu','Fence','MiscFeature','PoolQC','BsmtQual','BsmtCond','BsmtExposure','BsmtFinType1','BsmtFinType2',\n",
    "            'GarageType','GarageFinish','GarageQual','GarageCond']:\n",
    "     test[col].fillna('None', inplace= True)"
   ]
  },
  {
   "cell_type": "code",
   "execution_count": 8,
   "id": "34d8d0b4",
   "metadata": {},
   "outputs": [],
   "source": [
    "#test.isna().sum()"
   ]
  },
  {
   "cell_type": "code",
   "execution_count": 9,
   "id": "3b56f15f",
   "metadata": {},
   "outputs": [],
   "source": [
    "from Customfunction import replacer\n",
    "replacer(train)"
   ]
  },
  {
   "cell_type": "code",
   "execution_count": 10,
   "id": "9e7fbe21",
   "metadata": {},
   "outputs": [],
   "source": [
    "#train.isna().sum()"
   ]
  },
  {
   "cell_type": "code",
   "execution_count": 11,
   "id": "145f6926",
   "metadata": {},
   "outputs": [],
   "source": [
    "replacer(test)"
   ]
  },
  {
   "cell_type": "code",
   "execution_count": 12,
   "id": "5ba3a1a6",
   "metadata": {},
   "outputs": [],
   "source": [
    "#test.isna().sum()"
   ]
  },
  {
   "cell_type": "markdown",
   "id": "dc86961b",
   "metadata": {},
   "source": [
    "# Initial X and Y"
   ]
  },
  {
   "cell_type": "code",
   "execution_count": 13,
   "id": "05e65746",
   "metadata": {},
   "outputs": [],
   "source": [
    "Y = train[['SalePrice']]\n",
    "X = train.drop(labels=[\"Id\",\"SalePrice\"],axis=1)"
   ]
  },
  {
   "cell_type": "code",
   "execution_count": 14,
   "id": "19063fd0",
   "metadata": {},
   "outputs": [],
   "source": [
    "#Y.head(2)"
   ]
  },
  {
   "cell_type": "code",
   "execution_count": 15,
   "id": "d772d128",
   "metadata": {},
   "outputs": [
    {
     "data": {
      "text/plain": [
       "(1460, 1)"
      ]
     },
     "execution_count": 15,
     "metadata": {},
     "output_type": "execute_result"
    }
   ],
   "source": [
    "Y.shape"
   ]
  },
  {
   "cell_type": "code",
   "execution_count": 16,
   "id": "ee5c13c4",
   "metadata": {},
   "outputs": [],
   "source": [
    "#X.head(5)"
   ]
  },
  {
   "cell_type": "code",
   "execution_count": 17,
   "id": "1ef2cda5",
   "metadata": {},
   "outputs": [
    {
     "data": {
      "text/plain": [
       "(1460, 79)"
      ]
     },
     "execution_count": 17,
     "metadata": {},
     "output_type": "execute_result"
    }
   ],
   "source": [
    "X.shape"
   ]
  },
  {
   "cell_type": "markdown",
   "id": "1777ab7d",
   "metadata": {},
   "source": [
    "# Divide data in cat and con"
   ]
  },
  {
   "cell_type": "code",
   "execution_count": 18,
   "id": "7830c149",
   "metadata": {},
   "outputs": [],
   "source": [
    "cat = []\n",
    "con = []\n",
    "for i in X.columns:\n",
    "        if(X[i].dtypes == \"object\"):\n",
    "            cat.append(i)\n",
    "        else:\n",
    "            con.append(i)"
   ]
  },
  {
   "cell_type": "markdown",
   "id": "219cad01",
   "metadata": {},
   "source": [
    "# Standardize the data"
   ]
  },
  {
   "cell_type": "code",
   "execution_count": 19,
   "id": "fbfa3511",
   "metadata": {},
   "outputs": [],
   "source": [
    "from sklearn.preprocessing import StandardScaler\n",
    "ss = StandardScaler()\n",
    "X1 = pd.DataFrame(ss.fit_transform(X[con]),columns=con)"
   ]
  },
  {
   "cell_type": "markdown",
   "id": "0efd015b",
   "metadata": {},
   "source": [
    "# Remove Outliers"
   ]
  },
  {
   "cell_type": "code",
   "execution_count": 20,
   "id": "b91a7a18",
   "metadata": {},
   "outputs": [],
   "source": [
    "outliers = []\n",
    "for i in X1.columns:\n",
    "    outliers.extend(list(X1[(X1[i]>3) | (X1[i]<-3)].index))\n",
    "import numpy as np\n",
    "outliers = np.unique(outliers)\n"
   ]
  },
  {
   "cell_type": "code",
   "execution_count": 21,
   "id": "48c4109a",
   "metadata": {},
   "outputs": [],
   "source": [
    "#outliers"
   ]
  },
  {
   "cell_type": "code",
   "execution_count": 22,
   "id": "c5186a4f",
   "metadata": {},
   "outputs": [],
   "source": [
    "X = X.drop(index=outliers,axis=0)\n",
    "Y = Y.drop(index=outliers,axis=0)"
   ]
  },
  {
   "cell_type": "code",
   "execution_count": 23,
   "id": "dc19ed14",
   "metadata": {},
   "outputs": [
    {
     "data": {
      "text/plain": [
       "(1021, 79)"
      ]
     },
     "execution_count": 23,
     "metadata": {},
     "output_type": "execute_result"
    }
   ],
   "source": [
    "X.shape"
   ]
  },
  {
   "cell_type": "code",
   "execution_count": 24,
   "id": "1295410c",
   "metadata": {},
   "outputs": [
    {
     "data": {
      "text/plain": [
       "(1021, 1)"
      ]
     },
     "execution_count": 24,
     "metadata": {},
     "output_type": "execute_result"
    }
   ],
   "source": [
    "Y.shape"
   ]
  },
  {
   "cell_type": "code",
   "execution_count": 25,
   "id": "810add39",
   "metadata": {},
   "outputs": [
    {
     "data": {
      "text/html": [
       "<div>\n",
       "<style scoped>\n",
       "    .dataframe tbody tr th:only-of-type {\n",
       "        vertical-align: middle;\n",
       "    }\n",
       "\n",
       "    .dataframe tbody tr th {\n",
       "        vertical-align: top;\n",
       "    }\n",
       "\n",
       "    .dataframe thead th {\n",
       "        text-align: right;\n",
       "    }\n",
       "</style>\n",
       "<table border=\"1\" class=\"dataframe\">\n",
       "  <thead>\n",
       "    <tr style=\"text-align: right;\">\n",
       "      <th></th>\n",
       "      <th>MSSubClass</th>\n",
       "      <th>MSZoning</th>\n",
       "      <th>LotFrontage</th>\n",
       "      <th>LotArea</th>\n",
       "      <th>Street</th>\n",
       "      <th>Alley</th>\n",
       "      <th>LotShape</th>\n",
       "      <th>LandContour</th>\n",
       "      <th>Utilities</th>\n",
       "      <th>LotConfig</th>\n",
       "      <th>...</th>\n",
       "      <th>ScreenPorch</th>\n",
       "      <th>PoolArea</th>\n",
       "      <th>PoolQC</th>\n",
       "      <th>Fence</th>\n",
       "      <th>MiscFeature</th>\n",
       "      <th>MiscVal</th>\n",
       "      <th>MoSold</th>\n",
       "      <th>YrSold</th>\n",
       "      <th>SaleType</th>\n",
       "      <th>SaleCondition</th>\n",
       "    </tr>\n",
       "  </thead>\n",
       "  <tbody>\n",
       "    <tr>\n",
       "      <th>0</th>\n",
       "      <td>60</td>\n",
       "      <td>RL</td>\n",
       "      <td>65.0</td>\n",
       "      <td>8450</td>\n",
       "      <td>Pave</td>\n",
       "      <td>None</td>\n",
       "      <td>Reg</td>\n",
       "      <td>Lvl</td>\n",
       "      <td>AllPub</td>\n",
       "      <td>Inside</td>\n",
       "      <td>...</td>\n",
       "      <td>0</td>\n",
       "      <td>0</td>\n",
       "      <td>None</td>\n",
       "      <td>None</td>\n",
       "      <td>None</td>\n",
       "      <td>0</td>\n",
       "      <td>2</td>\n",
       "      <td>2008</td>\n",
       "      <td>WD</td>\n",
       "      <td>Normal</td>\n",
       "    </tr>\n",
       "    <tr>\n",
       "      <th>2</th>\n",
       "      <td>60</td>\n",
       "      <td>RL</td>\n",
       "      <td>68.0</td>\n",
       "      <td>11250</td>\n",
       "      <td>Pave</td>\n",
       "      <td>None</td>\n",
       "      <td>IR1</td>\n",
       "      <td>Lvl</td>\n",
       "      <td>AllPub</td>\n",
       "      <td>Inside</td>\n",
       "      <td>...</td>\n",
       "      <td>0</td>\n",
       "      <td>0</td>\n",
       "      <td>None</td>\n",
       "      <td>None</td>\n",
       "      <td>None</td>\n",
       "      <td>0</td>\n",
       "      <td>9</td>\n",
       "      <td>2008</td>\n",
       "      <td>WD</td>\n",
       "      <td>Normal</td>\n",
       "    </tr>\n",
       "    <tr>\n",
       "      <th>4</th>\n",
       "      <td>60</td>\n",
       "      <td>RL</td>\n",
       "      <td>84.0</td>\n",
       "      <td>14260</td>\n",
       "      <td>Pave</td>\n",
       "      <td>None</td>\n",
       "      <td>IR1</td>\n",
       "      <td>Lvl</td>\n",
       "      <td>AllPub</td>\n",
       "      <td>FR2</td>\n",
       "      <td>...</td>\n",
       "      <td>0</td>\n",
       "      <td>0</td>\n",
       "      <td>None</td>\n",
       "      <td>None</td>\n",
       "      <td>None</td>\n",
       "      <td>0</td>\n",
       "      <td>12</td>\n",
       "      <td>2008</td>\n",
       "      <td>WD</td>\n",
       "      <td>Normal</td>\n",
       "    </tr>\n",
       "    <tr>\n",
       "      <th>6</th>\n",
       "      <td>20</td>\n",
       "      <td>RL</td>\n",
       "      <td>75.0</td>\n",
       "      <td>10084</td>\n",
       "      <td>Pave</td>\n",
       "      <td>None</td>\n",
       "      <td>Reg</td>\n",
       "      <td>Lvl</td>\n",
       "      <td>AllPub</td>\n",
       "      <td>Inside</td>\n",
       "      <td>...</td>\n",
       "      <td>0</td>\n",
       "      <td>0</td>\n",
       "      <td>None</td>\n",
       "      <td>None</td>\n",
       "      <td>None</td>\n",
       "      <td>0</td>\n",
       "      <td>8</td>\n",
       "      <td>2007</td>\n",
       "      <td>WD</td>\n",
       "      <td>Normal</td>\n",
       "    </tr>\n",
       "    <tr>\n",
       "      <th>10</th>\n",
       "      <td>20</td>\n",
       "      <td>RL</td>\n",
       "      <td>70.0</td>\n",
       "      <td>11200</td>\n",
       "      <td>Pave</td>\n",
       "      <td>None</td>\n",
       "      <td>Reg</td>\n",
       "      <td>Lvl</td>\n",
       "      <td>AllPub</td>\n",
       "      <td>Inside</td>\n",
       "      <td>...</td>\n",
       "      <td>0</td>\n",
       "      <td>0</td>\n",
       "      <td>None</td>\n",
       "      <td>None</td>\n",
       "      <td>None</td>\n",
       "      <td>0</td>\n",
       "      <td>2</td>\n",
       "      <td>2008</td>\n",
       "      <td>WD</td>\n",
       "      <td>Normal</td>\n",
       "    </tr>\n",
       "  </tbody>\n",
       "</table>\n",
       "<p>5 rows × 79 columns</p>\n",
       "</div>"
      ],
      "text/plain": [
       "    MSSubClass MSZoning  LotFrontage  LotArea Street Alley LotShape  \\\n",
       "0           60       RL         65.0     8450   Pave  None      Reg   \n",
       "2           60       RL         68.0    11250   Pave  None      IR1   \n",
       "4           60       RL         84.0    14260   Pave  None      IR1   \n",
       "6           20       RL         75.0    10084   Pave  None      Reg   \n",
       "10          20       RL         70.0    11200   Pave  None      Reg   \n",
       "\n",
       "   LandContour Utilities LotConfig  ... ScreenPorch PoolArea PoolQC Fence  \\\n",
       "0          Lvl    AllPub    Inside  ...           0        0   None  None   \n",
       "2          Lvl    AllPub    Inside  ...           0        0   None  None   \n",
       "4          Lvl    AllPub       FR2  ...           0        0   None  None   \n",
       "6          Lvl    AllPub    Inside  ...           0        0   None  None   \n",
       "10         Lvl    AllPub    Inside  ...           0        0   None  None   \n",
       "\n",
       "   MiscFeature MiscVal  MoSold  YrSold  SaleType  SaleCondition  \n",
       "0         None       0       2    2008        WD         Normal  \n",
       "2         None       0       9    2008        WD         Normal  \n",
       "4         None       0      12    2008        WD         Normal  \n",
       "6         None       0       8    2007        WD         Normal  \n",
       "10        None       0       2    2008        WD         Normal  \n",
       "\n",
       "[5 rows x 79 columns]"
      ]
     },
     "execution_count": 25,
     "metadata": {},
     "output_type": "execute_result"
    }
   ],
   "source": [
    "X.head()"
   ]
  },
  {
   "cell_type": "code",
   "execution_count": 26,
   "id": "f412716d",
   "metadata": {},
   "outputs": [],
   "source": [
    "X.index = range(0,1021,1)"
   ]
  },
  {
   "cell_type": "code",
   "execution_count": 27,
   "id": "95b76b11",
   "metadata": {},
   "outputs": [
    {
     "data": {
      "text/html": [
       "<div>\n",
       "<style scoped>\n",
       "    .dataframe tbody tr th:only-of-type {\n",
       "        vertical-align: middle;\n",
       "    }\n",
       "\n",
       "    .dataframe tbody tr th {\n",
       "        vertical-align: top;\n",
       "    }\n",
       "\n",
       "    .dataframe thead th {\n",
       "        text-align: right;\n",
       "    }\n",
       "</style>\n",
       "<table border=\"1\" class=\"dataframe\">\n",
       "  <thead>\n",
       "    <tr style=\"text-align: right;\">\n",
       "      <th></th>\n",
       "      <th>MSSubClass</th>\n",
       "      <th>MSZoning</th>\n",
       "      <th>LotFrontage</th>\n",
       "      <th>LotArea</th>\n",
       "      <th>Street</th>\n",
       "      <th>Alley</th>\n",
       "      <th>LotShape</th>\n",
       "      <th>LandContour</th>\n",
       "      <th>Utilities</th>\n",
       "      <th>LotConfig</th>\n",
       "      <th>...</th>\n",
       "      <th>ScreenPorch</th>\n",
       "      <th>PoolArea</th>\n",
       "      <th>PoolQC</th>\n",
       "      <th>Fence</th>\n",
       "      <th>MiscFeature</th>\n",
       "      <th>MiscVal</th>\n",
       "      <th>MoSold</th>\n",
       "      <th>YrSold</th>\n",
       "      <th>SaleType</th>\n",
       "      <th>SaleCondition</th>\n",
       "    </tr>\n",
       "  </thead>\n",
       "  <tbody>\n",
       "    <tr>\n",
       "      <th>0</th>\n",
       "      <td>60</td>\n",
       "      <td>RL</td>\n",
       "      <td>65.0</td>\n",
       "      <td>8450</td>\n",
       "      <td>Pave</td>\n",
       "      <td>None</td>\n",
       "      <td>Reg</td>\n",
       "      <td>Lvl</td>\n",
       "      <td>AllPub</td>\n",
       "      <td>Inside</td>\n",
       "      <td>...</td>\n",
       "      <td>0</td>\n",
       "      <td>0</td>\n",
       "      <td>None</td>\n",
       "      <td>None</td>\n",
       "      <td>None</td>\n",
       "      <td>0</td>\n",
       "      <td>2</td>\n",
       "      <td>2008</td>\n",
       "      <td>WD</td>\n",
       "      <td>Normal</td>\n",
       "    </tr>\n",
       "    <tr>\n",
       "      <th>1</th>\n",
       "      <td>60</td>\n",
       "      <td>RL</td>\n",
       "      <td>68.0</td>\n",
       "      <td>11250</td>\n",
       "      <td>Pave</td>\n",
       "      <td>None</td>\n",
       "      <td>IR1</td>\n",
       "      <td>Lvl</td>\n",
       "      <td>AllPub</td>\n",
       "      <td>Inside</td>\n",
       "      <td>...</td>\n",
       "      <td>0</td>\n",
       "      <td>0</td>\n",
       "      <td>None</td>\n",
       "      <td>None</td>\n",
       "      <td>None</td>\n",
       "      <td>0</td>\n",
       "      <td>9</td>\n",
       "      <td>2008</td>\n",
       "      <td>WD</td>\n",
       "      <td>Normal</td>\n",
       "    </tr>\n",
       "    <tr>\n",
       "      <th>2</th>\n",
       "      <td>60</td>\n",
       "      <td>RL</td>\n",
       "      <td>84.0</td>\n",
       "      <td>14260</td>\n",
       "      <td>Pave</td>\n",
       "      <td>None</td>\n",
       "      <td>IR1</td>\n",
       "      <td>Lvl</td>\n",
       "      <td>AllPub</td>\n",
       "      <td>FR2</td>\n",
       "      <td>...</td>\n",
       "      <td>0</td>\n",
       "      <td>0</td>\n",
       "      <td>None</td>\n",
       "      <td>None</td>\n",
       "      <td>None</td>\n",
       "      <td>0</td>\n",
       "      <td>12</td>\n",
       "      <td>2008</td>\n",
       "      <td>WD</td>\n",
       "      <td>Normal</td>\n",
       "    </tr>\n",
       "    <tr>\n",
       "      <th>3</th>\n",
       "      <td>20</td>\n",
       "      <td>RL</td>\n",
       "      <td>75.0</td>\n",
       "      <td>10084</td>\n",
       "      <td>Pave</td>\n",
       "      <td>None</td>\n",
       "      <td>Reg</td>\n",
       "      <td>Lvl</td>\n",
       "      <td>AllPub</td>\n",
       "      <td>Inside</td>\n",
       "      <td>...</td>\n",
       "      <td>0</td>\n",
       "      <td>0</td>\n",
       "      <td>None</td>\n",
       "      <td>None</td>\n",
       "      <td>None</td>\n",
       "      <td>0</td>\n",
       "      <td>8</td>\n",
       "      <td>2007</td>\n",
       "      <td>WD</td>\n",
       "      <td>Normal</td>\n",
       "    </tr>\n",
       "    <tr>\n",
       "      <th>4</th>\n",
       "      <td>20</td>\n",
       "      <td>RL</td>\n",
       "      <td>70.0</td>\n",
       "      <td>11200</td>\n",
       "      <td>Pave</td>\n",
       "      <td>None</td>\n",
       "      <td>Reg</td>\n",
       "      <td>Lvl</td>\n",
       "      <td>AllPub</td>\n",
       "      <td>Inside</td>\n",
       "      <td>...</td>\n",
       "      <td>0</td>\n",
       "      <td>0</td>\n",
       "      <td>None</td>\n",
       "      <td>None</td>\n",
       "      <td>None</td>\n",
       "      <td>0</td>\n",
       "      <td>2</td>\n",
       "      <td>2008</td>\n",
       "      <td>WD</td>\n",
       "      <td>Normal</td>\n",
       "    </tr>\n",
       "  </tbody>\n",
       "</table>\n",
       "<p>5 rows × 79 columns</p>\n",
       "</div>"
      ],
      "text/plain": [
       "   MSSubClass MSZoning  LotFrontage  LotArea Street Alley LotShape  \\\n",
       "0          60       RL         65.0     8450   Pave  None      Reg   \n",
       "1          60       RL         68.0    11250   Pave  None      IR1   \n",
       "2          60       RL         84.0    14260   Pave  None      IR1   \n",
       "3          20       RL         75.0    10084   Pave  None      Reg   \n",
       "4          20       RL         70.0    11200   Pave  None      Reg   \n",
       "\n",
       "  LandContour Utilities LotConfig  ... ScreenPorch PoolArea PoolQC Fence  \\\n",
       "0         Lvl    AllPub    Inside  ...           0        0   None  None   \n",
       "1         Lvl    AllPub    Inside  ...           0        0   None  None   \n",
       "2         Lvl    AllPub       FR2  ...           0        0   None  None   \n",
       "3         Lvl    AllPub    Inside  ...           0        0   None  None   \n",
       "4         Lvl    AllPub    Inside  ...           0        0   None  None   \n",
       "\n",
       "  MiscFeature MiscVal  MoSold  YrSold  SaleType  SaleCondition  \n",
       "0        None       0       2    2008        WD         Normal  \n",
       "1        None       0       9    2008        WD         Normal  \n",
       "2        None       0      12    2008        WD         Normal  \n",
       "3        None       0       8    2007        WD         Normal  \n",
       "4        None       0       2    2008        WD         Normal  \n",
       "\n",
       "[5 rows x 79 columns]"
      ]
     },
     "execution_count": 27,
     "metadata": {},
     "output_type": "execute_result"
    }
   ],
   "source": [
    "X.head()"
   ]
  },
  {
   "cell_type": "code",
   "execution_count": 28,
   "id": "3f95f312",
   "metadata": {},
   "outputs": [
    {
     "data": {
      "text/html": [
       "<div>\n",
       "<style scoped>\n",
       "    .dataframe tbody tr th:only-of-type {\n",
       "        vertical-align: middle;\n",
       "    }\n",
       "\n",
       "    .dataframe tbody tr th {\n",
       "        vertical-align: top;\n",
       "    }\n",
       "\n",
       "    .dataframe thead th {\n",
       "        text-align: right;\n",
       "    }\n",
       "</style>\n",
       "<table border=\"1\" class=\"dataframe\">\n",
       "  <thead>\n",
       "    <tr style=\"text-align: right;\">\n",
       "      <th></th>\n",
       "      <th>SalePrice</th>\n",
       "    </tr>\n",
       "  </thead>\n",
       "  <tbody>\n",
       "    <tr>\n",
       "      <th>0</th>\n",
       "      <td>208500</td>\n",
       "    </tr>\n",
       "    <tr>\n",
       "      <th>2</th>\n",
       "      <td>223500</td>\n",
       "    </tr>\n",
       "    <tr>\n",
       "      <th>4</th>\n",
       "      <td>250000</td>\n",
       "    </tr>\n",
       "    <tr>\n",
       "      <th>6</th>\n",
       "      <td>307000</td>\n",
       "    </tr>\n",
       "    <tr>\n",
       "      <th>10</th>\n",
       "      <td>129500</td>\n",
       "    </tr>\n",
       "  </tbody>\n",
       "</table>\n",
       "</div>"
      ],
      "text/plain": [
       "    SalePrice\n",
       "0      208500\n",
       "2      223500\n",
       "4      250000\n",
       "6      307000\n",
       "10     129500"
      ]
     },
     "execution_count": 28,
     "metadata": {},
     "output_type": "execute_result"
    }
   ],
   "source": [
    "Y.head()"
   ]
  },
  {
   "cell_type": "code",
   "execution_count": 29,
   "id": "f190118e",
   "metadata": {},
   "outputs": [],
   "source": [
    "Y.index= range(0,1021,1)"
   ]
  },
  {
   "cell_type": "code",
   "execution_count": 30,
   "id": "8402a5ed",
   "metadata": {},
   "outputs": [
    {
     "data": {
      "text/html": [
       "<div>\n",
       "<style scoped>\n",
       "    .dataframe tbody tr th:only-of-type {\n",
       "        vertical-align: middle;\n",
       "    }\n",
       "\n",
       "    .dataframe tbody tr th {\n",
       "        vertical-align: top;\n",
       "    }\n",
       "\n",
       "    .dataframe thead th {\n",
       "        text-align: right;\n",
       "    }\n",
       "</style>\n",
       "<table border=\"1\" class=\"dataframe\">\n",
       "  <thead>\n",
       "    <tr style=\"text-align: right;\">\n",
       "      <th></th>\n",
       "      <th>SalePrice</th>\n",
       "    </tr>\n",
       "  </thead>\n",
       "  <tbody>\n",
       "    <tr>\n",
       "      <th>0</th>\n",
       "      <td>208500</td>\n",
       "    </tr>\n",
       "    <tr>\n",
       "      <th>1</th>\n",
       "      <td>223500</td>\n",
       "    </tr>\n",
       "    <tr>\n",
       "      <th>2</th>\n",
       "      <td>250000</td>\n",
       "    </tr>\n",
       "    <tr>\n",
       "      <th>3</th>\n",
       "      <td>307000</td>\n",
       "    </tr>\n",
       "    <tr>\n",
       "      <th>4</th>\n",
       "      <td>129500</td>\n",
       "    </tr>\n",
       "  </tbody>\n",
       "</table>\n",
       "</div>"
      ],
      "text/plain": [
       "   SalePrice\n",
       "0     208500\n",
       "1     223500\n",
       "2     250000\n",
       "3     307000\n",
       "4     129500"
      ]
     },
     "execution_count": 30,
     "metadata": {},
     "output_type": "execute_result"
    }
   ],
   "source": [
    "Y.head()"
   ]
  },
  {
   "cell_type": "markdown",
   "id": "3c8ce730",
   "metadata": {},
   "source": [
    "# EDA"
   ]
  },
  {
   "cell_type": "code",
   "execution_count": 31,
   "id": "6ee4d1c4",
   "metadata": {},
   "outputs": [
    {
     "name": "stdout",
     "output_type": "stream",
     "text": [
      "SalePrice ~ MSZoning --->   0.0\n",
      "SalePrice ~ Street --->   0.117\n",
      "SalePrice ~ Alley --->   0.0\n",
      "SalePrice ~ LotShape --->   0.0\n",
      "SalePrice ~ LandContour --->   0.0\n",
      "SalePrice ~ Utilities --->   0.5847\n",
      "SalePrice ~ LotConfig --->   0.0\n",
      "SalePrice ~ LandSlope --->   0.1414\n",
      "SalePrice ~ Neighborhood --->   0.0\n",
      "SalePrice ~ Condition1 --->   0.0\n",
      "SalePrice ~ Condition2 --->   0.0434\n",
      "SalePrice ~ BldgType --->   0.0\n",
      "SalePrice ~ HouseStyle --->   0.0\n",
      "SalePrice ~ RoofStyle --->   0.0\n",
      "SalePrice ~ RoofMatl --->   0.0\n",
      "SalePrice ~ Exterior1st --->   0.0\n",
      "SalePrice ~ Exterior2nd --->   0.0\n",
      "SalePrice ~ MasVnrType --->   0.0\n",
      "SalePrice ~ ExterQual --->   0.0\n",
      "SalePrice ~ ExterCond --->   0.0\n",
      "SalePrice ~ Foundation --->   0.0\n",
      "SalePrice ~ BsmtQual --->   0.0\n",
      "SalePrice ~ BsmtCond --->   0.0\n",
      "SalePrice ~ BsmtExposure --->   0.0\n",
      "SalePrice ~ BsmtFinType1 --->   0.0\n",
      "SalePrice ~ BsmtFinType2 --->   0.0\n",
      "SalePrice ~ Heating --->   0.0008\n",
      "SalePrice ~ HeatingQC --->   0.0\n",
      "SalePrice ~ CentralAir --->   0.0\n",
      "SalePrice ~ Electrical --->   0.0\n",
      "SalePrice ~ KitchenQual --->   0.0\n",
      "SalePrice ~ Functional --->   0.0005\n",
      "SalePrice ~ FireplaceQu --->   0.0\n",
      "SalePrice ~ GarageType --->   0.0\n",
      "SalePrice ~ GarageFinish --->   0.0\n",
      "SalePrice ~ GarageQual --->   0.0\n",
      "SalePrice ~ GarageCond --->   0.0\n",
      "SalePrice ~ PavedDrive --->   0.0\n",
      "SalePrice ~ PoolQC --->   0.0\n",
      "SalePrice ~ Fence --->   0.0\n",
      "SalePrice ~ MiscFeature --->   0.035\n",
      "SalePrice ~ SaleType --->   0.0\n",
      "SalePrice ~ SaleCondition --->   0.0\n"
     ]
    }
   ],
   "source": [
    "for i in cat:\n",
    "    import pandas as pd\n",
    "    from statsmodels.formula.api import ols\n",
    "    rel = \"SalePrice ~ \" + str(i)\n",
    "    from statsmodels.stats.anova import anova_lm\n",
    "    from statsmodels.formula.api import ols\n",
    "    model = ols(rel,train).fit()\n",
    "    W= anova_lm(model)\n",
    "    round(W.iloc[0,4],4)\n",
    "    print(rel,\"--->  \",round(W.iloc[0,4],4))"
   ]
  },
  {
   "cell_type": "code",
   "execution_count": 32,
   "id": "11806559",
   "metadata": {},
   "outputs": [],
   "source": [
    "#Removing those columns having higher pvalues>0.05\n",
    "cat.remove(\"Street\")\n",
    "cat.remove(\"Utilities\")\n",
    "cat.remove(\"LandSlope\")"
   ]
  },
  {
   "cell_type": "code",
   "execution_count": 33,
   "id": "6d61f3f6",
   "metadata": {},
   "outputs": [
    {
     "data": {
      "text/plain": [
       "KitchenAbvGr    -0.135907\n",
       "EnclosedPorch   -0.128578\n",
       "MSSubClass      -0.084284\n",
       "OverallCond     -0.077856\n",
       "YrSold          -0.028923\n",
       "LowQualFinSF    -0.025606\n",
       "Id              -0.021917\n",
       "MiscVal         -0.021190\n",
       "BsmtHalfBath    -0.016844\n",
       "BsmtFinSF2      -0.011378\n",
       "3SsnPorch        0.044584\n",
       "MoSold           0.046432\n",
       "PoolArea         0.092404\n",
       "ScreenPorch      0.111447\n",
       "BedroomAbvGr     0.168213\n",
       "BsmtUnfSF        0.214479\n",
       "BsmtFullBath     0.227122\n",
       "LotArea          0.263843\n",
       "HalfBath         0.284108\n",
       "OpenPorchSF      0.315856\n",
       "2ndFlrSF         0.319334\n",
       "WoodDeckSF       0.324413\n",
       "LotFrontage      0.334901\n",
       "BsmtFinSF1       0.386420\n",
       "Fireplaces       0.466929\n",
       "GarageYrBlt      0.470177\n",
       "MasVnrArea       0.475241\n",
       "YearRemodAdd     0.507101\n",
       "YearBuilt        0.522897\n",
       "TotRmsAbvGrd     0.533723\n",
       "FullBath         0.560664\n",
       "1stFlrSF         0.605852\n",
       "TotalBsmtSF      0.613581\n",
       "GarageArea       0.623431\n",
       "GarageCars       0.640409\n",
       "GrLivArea        0.708624\n",
       "OverallQual      0.790982\n",
       "SalePrice        1.000000\n",
       "Name: SalePrice, dtype: float64"
      ]
     },
     "execution_count": 33,
     "metadata": {},
     "output_type": "execute_result"
    }
   ],
   "source": [
    "train.corr()[\"SalePrice\"].sort_values()"
   ]
  },
  {
   "cell_type": "code",
   "execution_count": 34,
   "id": "29bf8854",
   "metadata": {},
   "outputs": [],
   "source": [
    "#Dropping the column based on correlation having less than"
   ]
  },
  {
   "cell_type": "code",
   "execution_count": 35,
   "id": "98b90f72",
   "metadata": {},
   "outputs": [],
   "source": [
    "train= train.drop(labels=['KitchenAbvGr', 'EnclosedPorch', 'MSSubClass', 'OverallCond', 'YrSold',\n",
    "       'LowQualFinSF', 'MiscVal', 'BsmtHalfBath', 'BsmtFinSF2',\n",
    "       '3SsnPorch', 'MoSold', 'PoolArea'],axis=1)"
   ]
  },
  {
   "cell_type": "raw",
   "id": "19d40a03",
   "metadata": {},
   "source": []
  },
  {
   "cell_type": "code",
   "execution_count": 36,
   "id": "81bd2de2",
   "metadata": {},
   "outputs": [],
   "source": [
    "#train.head()"
   ]
  },
  {
   "cell_type": "markdown",
   "id": "1c4b90eb",
   "metadata": {},
   "source": [
    "# Preprocessing the data with OHE"
   ]
  },
  {
   "cell_type": "code",
   "execution_count": 37,
   "id": "32270cd7",
   "metadata": {},
   "outputs": [],
   "source": [
    "X1 = pd.DataFrame(ss.fit_transform(X[con]),columns=con)\n",
    "X2 = pd.get_dummies(X[cat])"
   ]
  },
  {
   "cell_type": "code",
   "execution_count": 38,
   "id": "3bb7bbfe",
   "metadata": {},
   "outputs": [],
   "source": [
    "#X1"
   ]
  },
  {
   "cell_type": "code",
   "execution_count": 39,
   "id": "e3dab305",
   "metadata": {},
   "outputs": [],
   "source": [
    "#X2"
   ]
  },
  {
   "cell_type": "code",
   "execution_count": 40,
   "id": "97fa38be",
   "metadata": {},
   "outputs": [],
   "source": [
    "Xnew = X1.join(X2)"
   ]
  },
  {
   "cell_type": "code",
   "execution_count": 41,
   "id": "7106e880",
   "metadata": {},
   "outputs": [
    {
     "data": {
      "text/plain": [
       "(1021, 267)"
      ]
     },
     "execution_count": 41,
     "metadata": {},
     "output_type": "execute_result"
    }
   ],
   "source": [
    "Xnew.shape"
   ]
  },
  {
   "cell_type": "code",
   "execution_count": 42,
   "id": "31d3eddc",
   "metadata": {},
   "outputs": [
    {
     "data": {
      "text/plain": [
       "(1021, 1)"
      ]
     },
     "execution_count": 42,
     "metadata": {},
     "output_type": "execute_result"
    }
   ],
   "source": [
    "Y.shape"
   ]
  },
  {
   "cell_type": "markdown",
   "id": "7dcd60d3",
   "metadata": {},
   "source": [
    "# Split data into training and testing set"
   ]
  },
  {
   "cell_type": "code",
   "execution_count": 43,
   "id": "6f1d60c5",
   "metadata": {},
   "outputs": [],
   "source": [
    "from sklearn.model_selection import train_test_split\n",
    "xtrain,xtest,ytrain,ytest=train_test_split(Xnew,Y,test_size=0.2,random_state=31)"
   ]
  },
  {
   "cell_type": "markdown",
   "id": "3776b8f1",
   "metadata": {},
   "source": [
    "# Create Backward Elimination OLS Model"
   ]
  },
  {
   "cell_type": "code",
   "execution_count": 44,
   "id": "3e0237f7",
   "metadata": {},
   "outputs": [
    {
     "data": {
      "text/html": [
       "<table class=\"simpletable\">\n",
       "<caption>OLS Regression Results</caption>\n",
       "<tr>\n",
       "  <th>Dep. Variable:</th>        <td>SalePrice</td>    <th>  R-squared:         </th> <td>   0.947</td> \n",
       "</tr>\n",
       "<tr>\n",
       "  <th>Model:</th>                   <td>OLS</td>       <th>  Adj. R-squared:    </th> <td>   0.929</td> \n",
       "</tr>\n",
       "<tr>\n",
       "  <th>Method:</th>             <td>Least Squares</td>  <th>  F-statistic:       </th> <td>   52.49</td> \n",
       "</tr>\n",
       "<tr>\n",
       "  <th>Date:</th>             <td>Wed, 05 Oct 2022</td> <th>  Prob (F-statistic):</th> <td>1.04e-292</td>\n",
       "</tr>\n",
       "<tr>\n",
       "  <th>Time:</th>                 <td>19:22:49</td>     <th>  Log-Likelihood:    </th> <td> -9033.2</td> \n",
       "</tr>\n",
       "<tr>\n",
       "  <th>No. Observations:</th>      <td>   816</td>      <th>  AIC:               </th> <td>1.848e+04</td>\n",
       "</tr>\n",
       "<tr>\n",
       "  <th>Df Residuals:</th>          <td>   609</td>      <th>  BIC:               </th> <td>1.945e+04</td>\n",
       "</tr>\n",
       "<tr>\n",
       "  <th>Df Model:</th>              <td>   206</td>      <th>                     </th>     <td> </td>    \n",
       "</tr>\n",
       "<tr>\n",
       "  <th>Covariance Type:</th>      <td>nonrobust</td>    <th>                     </th>     <td> </td>    \n",
       "</tr>\n",
       "</table>\n",
       "<table class=\"simpletable\">\n",
       "<tr>\n",
       "            <td></td>               <th>coef</th>     <th>std err</th>      <th>t</th>      <th>P>|t|</th>  <th>[0.025</th>    <th>0.975]</th>  \n",
       "</tr>\n",
       "<tr>\n",
       "  <th>const</th>                 <td> 1.476e+04</td> <td> 2314.551</td> <td>    6.377</td> <td> 0.000</td> <td> 1.02e+04</td> <td> 1.93e+04</td>\n",
       "</tr>\n",
       "<tr>\n",
       "  <th>MSSubClass</th>            <td>-4037.1669</td> <td> 7916.615</td> <td>   -0.510</td> <td> 0.610</td> <td>-1.96e+04</td> <td> 1.15e+04</td>\n",
       "</tr>\n",
       "<tr>\n",
       "  <th>LotFrontage</th>           <td> -141.9179</td> <td> 1127.610</td> <td>   -0.126</td> <td> 0.900</td> <td>-2356.393</td> <td> 2072.558</td>\n",
       "</tr>\n",
       "<tr>\n",
       "  <th>LotArea</th>               <td> 5389.1691</td> <td> 1227.991</td> <td>    4.389</td> <td> 0.000</td> <td> 2977.559</td> <td> 7800.779</td>\n",
       "</tr>\n",
       "<tr>\n",
       "  <th>OverallQual</th>           <td> 7260.3696</td> <td> 1583.379</td> <td>    4.585</td> <td> 0.000</td> <td> 4150.824</td> <td> 1.04e+04</td>\n",
       "</tr>\n",
       "<tr>\n",
       "  <th>OverallCond</th>           <td> 5902.2908</td> <td> 1056.012</td> <td>    5.589</td> <td> 0.000</td> <td> 3828.423</td> <td> 7976.158</td>\n",
       "</tr>\n",
       "<tr>\n",
       "  <th>YearBuilt</th>             <td> 1.164e+04</td> <td> 3039.443</td> <td>    3.828</td> <td> 0.000</td> <td> 5666.604</td> <td> 1.76e+04</td>\n",
       "</tr>\n",
       "<tr>\n",
       "  <th>YearRemodAdd</th>          <td> 3052.8891</td> <td> 1441.364</td> <td>    2.118</td> <td> 0.035</td> <td>  222.241</td> <td> 5883.537</td>\n",
       "</tr>\n",
       "<tr>\n",
       "  <th>MasVnrArea</th>            <td> -355.4218</td> <td> 1261.440</td> <td>   -0.282</td> <td> 0.778</td> <td>-2832.722</td> <td> 2121.879</td>\n",
       "</tr>\n",
       "<tr>\n",
       "  <th>BsmtFinSF1</th>            <td> 6455.5019</td> <td> 1140.753</td> <td>    5.659</td> <td> 0.000</td> <td> 4215.215</td> <td> 8695.789</td>\n",
       "</tr>\n",
       "<tr>\n",
       "  <th>BsmtFinSF2</th>            <td> 1251.3657</td> <td> 1529.488</td> <td>    0.818</td> <td> 0.414</td> <td>-1752.345</td> <td> 4255.077</td>\n",
       "</tr>\n",
       "<tr>\n",
       "  <th>BsmtUnfSF</th>             <td>  365.0046</td> <td> 1044.823</td> <td>    0.349</td> <td> 0.727</td> <td>-1686.888</td> <td> 2416.897</td>\n",
       "</tr>\n",
       "<tr>\n",
       "  <th>TotalBsmtSF</th>           <td> 7859.4061</td> <td> 1795.774</td> <td>    4.377</td> <td> 0.000</td> <td> 4332.745</td> <td> 1.14e+04</td>\n",
       "</tr>\n",
       "<tr>\n",
       "  <th>1stFlrSF</th>              <td> 3915.2346</td> <td> 1881.544</td> <td>    2.081</td> <td> 0.038</td> <td>  220.132</td> <td> 7610.337</td>\n",
       "</tr>\n",
       "<tr>\n",
       "  <th>2ndFlrSF</th>              <td> 1.305e+04</td> <td> 1937.840</td> <td>    6.736</td> <td> 0.000</td> <td> 9247.410</td> <td> 1.69e+04</td>\n",
       "</tr>\n",
       "<tr>\n",
       "  <th>LowQualFinSF</th>          <td> -112.3844</td> <td>  651.878</td> <td>   -0.172</td> <td> 0.863</td> <td>-1392.585</td> <td> 1167.817</td>\n",
       "</tr>\n",
       "<tr>\n",
       "  <th>GrLivArea</th>             <td> 1.523e+04</td> <td> 1497.959</td> <td>   10.164</td> <td> 0.000</td> <td> 1.23e+04</td> <td> 1.82e+04</td>\n",
       "</tr>\n",
       "<tr>\n",
       "  <th>BsmtFullBath</th>          <td>  -43.8629</td> <td> 1129.974</td> <td>   -0.039</td> <td> 0.969</td> <td>-2262.982</td> <td> 2175.256</td>\n",
       "</tr>\n",
       "<tr>\n",
       "  <th>BsmtHalfBath</th>          <td> 9.049e-11</td> <td> 1.23e-10</td> <td>    0.735</td> <td> 0.463</td> <td>-1.51e-10</td> <td> 3.32e-10</td>\n",
       "</tr>\n",
       "<tr>\n",
       "  <th>FullBath</th>              <td> -125.4669</td> <td> 1478.125</td> <td>   -0.085</td> <td> 0.932</td> <td>-3028.309</td> <td> 2777.375</td>\n",
       "</tr>\n",
       "<tr>\n",
       "  <th>HalfBath</th>              <td>  125.0514</td> <td> 1247.822</td> <td>    0.100</td> <td> 0.920</td> <td>-2325.505</td> <td> 2575.608</td>\n",
       "</tr>\n",
       "<tr>\n",
       "  <th>BedroomAbvGr</th>          <td>-1116.8000</td> <td> 1245.932</td> <td>   -0.896</td> <td> 0.370</td> <td>-3563.644</td> <td> 1330.044</td>\n",
       "</tr>\n",
       "<tr>\n",
       "  <th>KitchenAbvGr</th>          <td>-9.725e-11</td> <td> 1.16e-10</td> <td>   -0.838</td> <td> 0.403</td> <td>-3.25e-10</td> <td> 1.31e-10</td>\n",
       "</tr>\n",
       "<tr>\n",
       "  <th>TotRmsAbvGrd</th>          <td>  586.9154</td> <td> 1630.136</td> <td>    0.360</td> <td> 0.719</td> <td>-2614.455</td> <td> 3788.286</td>\n",
       "</tr>\n",
       "<tr>\n",
       "  <th>Fireplaces</th>            <td>  -86.2884</td> <td> 2015.343</td> <td>   -0.043</td> <td> 0.966</td> <td>-4044.153</td> <td> 3871.576</td>\n",
       "</tr>\n",
       "<tr>\n",
       "  <th>GarageYrBlt</th>           <td>-1559.2819</td> <td> 1910.224</td> <td>   -0.816</td> <td> 0.415</td> <td>-5310.708</td> <td> 2192.144</td>\n",
       "</tr>\n",
       "<tr>\n",
       "  <th>GarageCars</th>            <td> 2917.1654</td> <td> 1880.726</td> <td>    1.551</td> <td> 0.121</td> <td> -776.330</td> <td> 6610.661</td>\n",
       "</tr>\n",
       "<tr>\n",
       "  <th>GarageArea</th>            <td> 3896.0608</td> <td> 1829.390</td> <td>    2.130</td> <td> 0.034</td> <td>  303.383</td> <td> 7488.739</td>\n",
       "</tr>\n",
       "<tr>\n",
       "  <th>WoodDeckSF</th>            <td> 3315.1666</td> <td>  801.438</td> <td>    4.137</td> <td> 0.000</td> <td> 1741.249</td> <td> 4889.084</td>\n",
       "</tr>\n",
       "<tr>\n",
       "  <th>OpenPorchSF</th>           <td> 1865.9858</td> <td>  856.734</td> <td>    2.178</td> <td> 0.030</td> <td>  183.473</td> <td> 3548.498</td>\n",
       "</tr>\n",
       "<tr>\n",
       "  <th>EnclosedPorch</th>         <td>  441.8079</td> <td>  870.517</td> <td>    0.508</td> <td> 0.612</td> <td>-1267.772</td> <td> 2151.388</td>\n",
       "</tr>\n",
       "<tr>\n",
       "  <th>3SsnPorch</th>             <td> -457.3665</td> <td>  622.660</td> <td>   -0.735</td> <td> 0.463</td> <td>-1680.188</td> <td>  765.455</td>\n",
       "</tr>\n",
       "<tr>\n",
       "  <th>ScreenPorch</th>           <td>  969.4123</td> <td>  714.097</td> <td>    1.358</td> <td> 0.175</td> <td> -432.979</td> <td> 2371.804</td>\n",
       "</tr>\n",
       "<tr>\n",
       "  <th>PoolArea</th>              <td> 1.227e-10</td> <td> 6.59e-11</td> <td>    1.864</td> <td> 0.063</td> <td>-6.59e-12</td> <td> 2.52e-10</td>\n",
       "</tr>\n",
       "<tr>\n",
       "  <th>MiscVal</th>               <td> -324.7769</td> <td> 1810.934</td> <td>   -0.179</td> <td> 0.858</td> <td>-3881.210</td> <td> 3231.656</td>\n",
       "</tr>\n",
       "<tr>\n",
       "  <th>MoSold</th>                <td>  366.4716</td> <td>  725.253</td> <td>    0.505</td> <td> 0.614</td> <td>-1057.829</td> <td> 1790.772</td>\n",
       "</tr>\n",
       "<tr>\n",
       "  <th>YrSold</th>                <td> -648.4407</td> <td>  796.054</td> <td>   -0.815</td> <td> 0.416</td> <td>-2211.785</td> <td>  914.903</td>\n",
       "</tr>\n",
       "<tr>\n",
       "  <th>MSZoning_C (all)</th>      <td>-1.968e+04</td> <td> 1.01e+04</td> <td>   -1.947</td> <td> 0.052</td> <td>-3.95e+04</td> <td>  171.627</td>\n",
       "</tr>\n",
       "<tr>\n",
       "  <th>MSZoning_FV</th>           <td>   2.4e+04</td> <td> 6581.458</td> <td>    3.646</td> <td> 0.000</td> <td> 1.11e+04</td> <td> 3.69e+04</td>\n",
       "</tr>\n",
       "<tr>\n",
       "  <th>MSZoning_RH</th>           <td>-1181.3321</td> <td> 8610.354</td> <td>   -0.137</td> <td> 0.891</td> <td>-1.81e+04</td> <td> 1.57e+04</td>\n",
       "</tr>\n",
       "<tr>\n",
       "  <th>MSZoning_RL</th>           <td> 4954.4379</td> <td> 4073.525</td> <td>    1.216</td> <td> 0.224</td> <td>-3045.423</td> <td>  1.3e+04</td>\n",
       "</tr>\n",
       "<tr>\n",
       "  <th>MSZoning_RM</th>           <td> 6668.9132</td> <td> 4751.623</td> <td>    1.404</td> <td> 0.161</td> <td>-2662.643</td> <td>  1.6e+04</td>\n",
       "</tr>\n",
       "<tr>\n",
       "  <th>Alley_Grvl</th>            <td> 5665.3080</td> <td> 4062.239</td> <td>    1.395</td> <td> 0.164</td> <td>-2312.388</td> <td> 1.36e+04</td>\n",
       "</tr>\n",
       "<tr>\n",
       "  <th>Alley_None</th>            <td> 4926.9506</td> <td> 2572.941</td> <td>    1.915</td> <td> 0.056</td> <td> -125.964</td> <td> 9979.865</td>\n",
       "</tr>\n",
       "<tr>\n",
       "  <th>Alley_Pave</th>            <td> 4167.6386</td> <td> 3961.275</td> <td>    1.052</td> <td> 0.293</td> <td>-3611.778</td> <td> 1.19e+04</td>\n",
       "</tr>\n",
       "<tr>\n",
       "  <th>LotShape_IR1</th>          <td> 8383.6383</td> <td> 3368.500</td> <td>    2.489</td> <td> 0.013</td> <td> 1768.353</td> <td>  1.5e+04</td>\n",
       "</tr>\n",
       "<tr>\n",
       "  <th>LotShape_IR2</th>          <td> 6620.1747</td> <td> 4791.638</td> <td>    1.382</td> <td> 0.168</td> <td>-2789.966</td> <td>  1.6e+04</td>\n",
       "</tr>\n",
       "<tr>\n",
       "  <th>LotShape_IR3</th>          <td>-8214.4329</td> <td> 8903.749</td> <td>   -0.923</td> <td> 0.357</td> <td>-2.57e+04</td> <td> 9271.346</td>\n",
       "</tr>\n",
       "<tr>\n",
       "  <th>LotShape_Reg</th>          <td> 7970.5172</td> <td> 3519.282</td> <td>    2.265</td> <td> 0.024</td> <td> 1059.116</td> <td> 1.49e+04</td>\n",
       "</tr>\n",
       "<tr>\n",
       "  <th>LandContour_Bnk</th>       <td> 5952.0299</td> <td> 4357.492</td> <td>    1.366</td> <td> 0.172</td> <td>-2605.505</td> <td> 1.45e+04</td>\n",
       "</tr>\n",
       "<tr>\n",
       "  <th>LandContour_HLS</th>       <td> 9862.4357</td> <td> 3965.617</td> <td>    2.487</td> <td> 0.013</td> <td> 2074.491</td> <td> 1.77e+04</td>\n",
       "</tr>\n",
       "<tr>\n",
       "  <th>LandContour_Low</th>       <td>-6958.8121</td> <td> 6114.133</td> <td>   -1.138</td> <td> 0.256</td> <td> -1.9e+04</td> <td> 5048.531</td>\n",
       "</tr>\n",
       "<tr>\n",
       "  <th>LandContour_Lvl</th>       <td> 5904.2437</td> <td> 2693.608</td> <td>    2.192</td> <td> 0.029</td> <td>  614.355</td> <td> 1.12e+04</td>\n",
       "</tr>\n",
       "<tr>\n",
       "  <th>LotConfig_Corner</th>      <td> 6411.0725</td> <td> 3019.993</td> <td>    2.123</td> <td> 0.034</td> <td>  480.207</td> <td> 1.23e+04</td>\n",
       "</tr>\n",
       "<tr>\n",
       "  <th>LotConfig_CulDSac</th>     <td> 1.086e+04</td> <td> 3615.160</td> <td>    3.004</td> <td> 0.003</td> <td> 3761.182</td> <td>  1.8e+04</td>\n",
       "</tr>\n",
       "<tr>\n",
       "  <th>LotConfig_FR2</th>         <td>  975.3054</td> <td> 4133.291</td> <td>    0.236</td> <td> 0.814</td> <td>-7141.928</td> <td> 9092.539</td>\n",
       "</tr>\n",
       "<tr>\n",
       "  <th>LotConfig_FR3</th>         <td>-9042.4744</td> <td> 8961.508</td> <td>   -1.009</td> <td> 0.313</td> <td>-2.66e+04</td> <td> 8556.735</td>\n",
       "</tr>\n",
       "<tr>\n",
       "  <th>LotConfig_Inside</th>      <td> 5555.1188</td> <td> 2691.234</td> <td>    2.064</td> <td> 0.039</td> <td>  269.893</td> <td> 1.08e+04</td>\n",
       "</tr>\n",
       "<tr>\n",
       "  <th>Neighborhood_Blmngtn</th>  <td> 1.261e+04</td> <td> 7214.986</td> <td>    1.748</td> <td> 0.081</td> <td>-1557.282</td> <td> 2.68e+04</td>\n",
       "</tr>\n",
       "<tr>\n",
       "  <th>Neighborhood_Blueste</th>  <td>-4041.5580</td> <td> 1.92e+04</td> <td>   -0.211</td> <td> 0.833</td> <td>-4.17e+04</td> <td> 3.36e+04</td>\n",
       "</tr>\n",
       "<tr>\n",
       "  <th>Neighborhood_BrDale</th>   <td> 1.398e+04</td> <td> 8479.445</td> <td>    1.649</td> <td> 0.100</td> <td>-2672.186</td> <td> 3.06e+04</td>\n",
       "</tr>\n",
       "<tr>\n",
       "  <th>Neighborhood_BrkSide</th>  <td>-3110.3565</td> <td> 6368.266</td> <td>   -0.488</td> <td> 0.625</td> <td>-1.56e+04</td> <td> 9396.070</td>\n",
       "</tr>\n",
       "<tr>\n",
       "  <th>Neighborhood_ClearCr</th>  <td>-9246.5955</td> <td> 8358.044</td> <td>   -1.106</td> <td> 0.269</td> <td>-2.57e+04</td> <td> 7167.491</td>\n",
       "</tr>\n",
       "<tr>\n",
       "  <th>Neighborhood_CollgCr</th>  <td>-4841.9695</td> <td> 3215.018</td> <td>   -1.506</td> <td> 0.133</td> <td>-1.12e+04</td> <td> 1471.899</td>\n",
       "</tr>\n",
       "<tr>\n",
       "  <th>Neighborhood_Crawfor</th>  <td> 2.595e+04</td> <td> 6487.546</td> <td>    4.000</td> <td> 0.000</td> <td> 1.32e+04</td> <td> 3.87e+04</td>\n",
       "</tr>\n",
       "<tr>\n",
       "  <th>Neighborhood_Edwards</th>  <td>-1.209e+04</td> <td> 3625.877</td> <td>   -3.334</td> <td> 0.001</td> <td>-1.92e+04</td> <td>-4969.356</td>\n",
       "</tr>\n",
       "<tr>\n",
       "  <th>Neighborhood_Gilbert</th>  <td>-6215.0040</td> <td> 4341.931</td> <td>   -1.431</td> <td> 0.153</td> <td>-1.47e+04</td> <td> 2311.971</td>\n",
       "</tr>\n",
       "<tr>\n",
       "  <th>Neighborhood_IDOTRR</th>   <td>-4367.1787</td> <td> 7617.847</td> <td>   -0.573</td> <td> 0.567</td> <td>-1.93e+04</td> <td> 1.06e+04</td>\n",
       "</tr>\n",
       "<tr>\n",
       "  <th>Neighborhood_MeadowV</th>  <td>-1.085e+04</td> <td> 9239.011</td> <td>   -1.175</td> <td> 0.241</td> <td> -2.9e+04</td> <td> 7291.039</td>\n",
       "</tr>\n",
       "<tr>\n",
       "  <th>Neighborhood_Mitchel</th>  <td>-9415.6897</td> <td> 4807.321</td> <td>   -1.959</td> <td> 0.051</td> <td>-1.89e+04</td> <td>   25.250</td>\n",
       "</tr>\n",
       "<tr>\n",
       "  <th>Neighborhood_NAmes</th>    <td>-7267.4541</td> <td> 3316.679</td> <td>   -2.191</td> <td> 0.029</td> <td>-1.38e+04</td> <td> -753.938</td>\n",
       "</tr>\n",
       "<tr>\n",
       "  <th>Neighborhood_NPkVill</th>  <td> 2.001e+04</td> <td> 1.42e+04</td> <td>    1.408</td> <td> 0.160</td> <td>-7893.251</td> <td> 4.79e+04</td>\n",
       "</tr>\n",
       "<tr>\n",
       "  <th>Neighborhood_NWAmes</th>   <td> -1.17e+04</td> <td> 4229.422</td> <td>   -2.766</td> <td> 0.006</td> <td>   -2e+04</td> <td>-3392.916</td>\n",
       "</tr>\n",
       "<tr>\n",
       "  <th>Neighborhood_NoRidge</th>  <td> 5221.8373</td> <td> 6057.433</td> <td>    0.862</td> <td> 0.389</td> <td>-6674.155</td> <td> 1.71e+04</td>\n",
       "</tr>\n",
       "<tr>\n",
       "  <th>Neighborhood_NridgHt</th>  <td> 1.361e+04</td> <td> 4792.904</td> <td>    2.840</td> <td> 0.005</td> <td> 4200.440</td> <td>  2.3e+04</td>\n",
       "</tr>\n",
       "<tr>\n",
       "  <th>Neighborhood_OldTown</th>  <td>-7944.1935</td> <td> 6249.973</td> <td>   -1.271</td> <td> 0.204</td> <td>-2.02e+04</td> <td> 4329.921</td>\n",
       "</tr>\n",
       "<tr>\n",
       "  <th>Neighborhood_SWISU</th>    <td>-8787.2499</td> <td> 8160.745</td> <td>   -1.077</td> <td> 0.282</td> <td>-2.48e+04</td> <td> 7239.367</td>\n",
       "</tr>\n",
       "<tr>\n",
       "  <th>Neighborhood_Sawyer</th>   <td>-5080.9314</td> <td> 3897.390</td> <td>   -1.304</td> <td> 0.193</td> <td>-1.27e+04</td> <td> 2573.023</td>\n",
       "</tr>\n",
       "<tr>\n",
       "  <th>Neighborhood_SawyerW</th>  <td>  865.8789</td> <td> 4429.477</td> <td>    0.195</td> <td> 0.845</td> <td>-7833.026</td> <td> 9564.783</td>\n",
       "</tr>\n",
       "<tr>\n",
       "  <th>Neighborhood_Somerst</th>  <td>-6983.1662</td> <td> 6424.086</td> <td>   -1.087</td> <td> 0.277</td> <td>-1.96e+04</td> <td> 5632.883</td>\n",
       "</tr>\n",
       "<tr>\n",
       "  <th>Neighborhood_StoneBr</th>  <td> 4.506e+04</td> <td> 6328.915</td> <td>    7.120</td> <td> 0.000</td> <td> 3.26e+04</td> <td> 5.75e+04</td>\n",
       "</tr>\n",
       "<tr>\n",
       "  <th>Neighborhood_Timber</th>   <td>-7671.2534</td> <td> 5261.924</td> <td>   -1.458</td> <td> 0.145</td> <td> -1.8e+04</td> <td> 2662.465</td>\n",
       "</tr>\n",
       "<tr>\n",
       "  <th>Neighborhood_Veenker</th>  <td>-2945.6217</td> <td> 9595.227</td> <td>   -0.307</td> <td> 0.759</td> <td>-2.18e+04</td> <td> 1.59e+04</td>\n",
       "</tr>\n",
       "<tr>\n",
       "  <th>Condition1_Artery</th>     <td>-4294.2952</td> <td> 6102.058</td> <td>   -0.704</td> <td> 0.482</td> <td>-1.63e+04</td> <td> 7689.334</td>\n",
       "</tr>\n",
       "<tr>\n",
       "  <th>Condition1_Feedr</th>      <td> 4599.7775</td> <td> 4741.234</td> <td>    0.970</td> <td> 0.332</td> <td>-4711.374</td> <td> 1.39e+04</td>\n",
       "</tr>\n",
       "<tr>\n",
       "  <th>Condition1_Norm</th>       <td> 1.025e+04</td> <td> 3703.963</td> <td>    2.767</td> <td> 0.006</td> <td> 2974.208</td> <td> 1.75e+04</td>\n",
       "</tr>\n",
       "<tr>\n",
       "  <th>Condition1_PosA</th>       <td>-1.064e+04</td> <td> 1.11e+04</td> <td>   -0.961</td> <td> 0.337</td> <td>-3.24e+04</td> <td> 1.11e+04</td>\n",
       "</tr>\n",
       "<tr>\n",
       "  <th>Condition1_PosN</th>       <td> 1.829e+04</td> <td> 9160.691</td> <td>    1.997</td> <td> 0.046</td> <td>  301.797</td> <td> 3.63e+04</td>\n",
       "</tr>\n",
       "<tr>\n",
       "  <th>Condition1_RRAe</th>       <td>-1.987e+04</td> <td> 7559.242</td> <td>   -2.629</td> <td> 0.009</td> <td>-3.47e+04</td> <td>-5025.937</td>\n",
       "</tr>\n",
       "<tr>\n",
       "  <th>Condition1_RRAn</th>       <td> 5887.0421</td> <td> 6728.235</td> <td>    0.875</td> <td> 0.382</td> <td>-7326.316</td> <td> 1.91e+04</td>\n",
       "</tr>\n",
       "<tr>\n",
       "  <th>Condition1_RRNe</th>       <td>-1.755e-11</td> <td> 4.66e-11</td> <td>   -0.377</td> <td> 0.706</td> <td>-1.09e-10</td> <td> 7.39e-11</td>\n",
       "</tr>\n",
       "<tr>\n",
       "  <th>Condition1_RRNn</th>       <td> 1.053e+04</td> <td> 1.76e+04</td> <td>    0.598</td> <td> 0.550</td> <td>-2.41e+04</td> <td> 4.51e+04</td>\n",
       "</tr>\n",
       "<tr>\n",
       "  <th>Condition2_Feedr</th>      <td> 1.191e+04</td> <td>  1.7e+04</td> <td>    0.702</td> <td> 0.483</td> <td>-2.14e+04</td> <td> 4.52e+04</td>\n",
       "</tr>\n",
       "<tr>\n",
       "  <th>Condition2_Norm</th>       <td> 2851.8635</td> <td> 1.57e+04</td> <td>    0.182</td> <td> 0.856</td> <td>-2.79e+04</td> <td> 3.36e+04</td>\n",
       "</tr>\n",
       "<tr>\n",
       "  <th>Condition2_RRNn</th>       <td>-1.048e-11</td> <td> 3.28e-11</td> <td>   -0.319</td> <td> 0.749</td> <td>-7.49e-11</td> <td> 5.39e-11</td>\n",
       "</tr>\n",
       "<tr>\n",
       "  <th>BldgType_1Fam</th>         <td>  1.72e+04</td> <td> 9808.033</td> <td>    1.753</td> <td> 0.080</td> <td>-2066.401</td> <td> 3.65e+04</td>\n",
       "</tr>\n",
       "<tr>\n",
       "  <th>BldgType_2fmCon</th>       <td>-1.683e+04</td> <td> 2.48e+04</td> <td>   -0.677</td> <td> 0.498</td> <td>-6.56e+04</td> <td>  3.2e+04</td>\n",
       "</tr>\n",
       "<tr>\n",
       "  <th>BldgType_Duplex</th>       <td> 2506.7839</td> <td>  1.2e+04</td> <td>    0.208</td> <td> 0.835</td> <td>-2.11e+04</td> <td> 2.62e+04</td>\n",
       "</tr>\n",
       "<tr>\n",
       "  <th>BldgType_Twnhs</th>        <td> 3228.1808</td> <td> 1.39e+04</td> <td>    0.233</td> <td> 0.816</td> <td> -2.4e+04</td> <td> 3.05e+04</td>\n",
       "</tr>\n",
       "<tr>\n",
       "  <th>BldgType_TwnhsE</th>       <td> 8655.7685</td> <td> 1.35e+04</td> <td>    0.639</td> <td> 0.523</td> <td>-1.79e+04</td> <td> 3.53e+04</td>\n",
       "</tr>\n",
       "<tr>\n",
       "  <th>HouseStyle_1.5Fin</th>     <td>  362.5536</td> <td> 4469.695</td> <td>    0.081</td> <td> 0.935</td> <td>-8415.332</td> <td> 9140.439</td>\n",
       "</tr>\n",
       "<tr>\n",
       "  <th>HouseStyle_1.5Unf</th>     <td> 1.528e+04</td> <td>    1e+04</td> <td>    1.523</td> <td> 0.128</td> <td>-4423.554</td> <td>  3.5e+04</td>\n",
       "</tr>\n",
       "<tr>\n",
       "  <th>HouseStyle_1Story</th>     <td> 6722.4031</td> <td> 7942.726</td> <td>    0.846</td> <td> 0.398</td> <td>-8876.054</td> <td> 2.23e+04</td>\n",
       "</tr>\n",
       "<tr>\n",
       "  <th>HouseStyle_2.5Unf</th>     <td>-1.503e+04</td> <td> 1.31e+04</td> <td>   -1.150</td> <td> 0.250</td> <td>-4.07e+04</td> <td> 1.06e+04</td>\n",
       "</tr>\n",
       "<tr>\n",
       "  <th>HouseStyle_2Story</th>     <td>-2915.9217</td> <td> 4440.298</td> <td>   -0.657</td> <td> 0.512</td> <td>-1.16e+04</td> <td> 5804.234</td>\n",
       "</tr>\n",
       "<tr>\n",
       "  <th>HouseStyle_SFoyer</th>     <td> 5768.8758</td> <td> 7868.480</td> <td>    0.733</td> <td> 0.464</td> <td>-9683.772</td> <td> 2.12e+04</td>\n",
       "</tr>\n",
       "<tr>\n",
       "  <th>HouseStyle_SLvl</th>       <td> 4572.6871</td> <td> 6630.234</td> <td>    0.690</td> <td> 0.491</td> <td>-8448.211</td> <td> 1.76e+04</td>\n",
       "</tr>\n",
       "<tr>\n",
       "  <th>RoofStyle_Flat</th>        <td>-1031.4497</td> <td> 8398.738</td> <td>   -0.123</td> <td> 0.902</td> <td>-1.75e+04</td> <td> 1.55e+04</td>\n",
       "</tr>\n",
       "<tr>\n",
       "  <th>RoofStyle_Gable</th>       <td> -797.9611</td> <td> 6689.019</td> <td>   -0.119</td> <td> 0.905</td> <td>-1.39e+04</td> <td> 1.23e+04</td>\n",
       "</tr>\n",
       "<tr>\n",
       "  <th>RoofStyle_Gambrel</th>     <td> 3568.2612</td> <td> 1.05e+04</td> <td>    0.340</td> <td> 0.734</td> <td>-1.71e+04</td> <td> 2.42e+04</td>\n",
       "</tr>\n",
       "<tr>\n",
       "  <th>RoofStyle_Hip</th>         <td>  410.7403</td> <td> 6931.691</td> <td>    0.059</td> <td> 0.953</td> <td>-1.32e+04</td> <td>  1.4e+04</td>\n",
       "</tr>\n",
       "<tr>\n",
       "  <th>RoofStyle_Mansard</th>     <td> 1.261e+04</td> <td> 1.67e+04</td> <td>    0.755</td> <td> 0.451</td> <td>-2.02e+04</td> <td> 4.54e+04</td>\n",
       "</tr>\n",
       "<tr>\n",
       "  <th>RoofMatl_CompShg</th>      <td> 1.753e+04</td> <td> 1.19e+04</td> <td>    1.470</td> <td> 0.142</td> <td>-5880.047</td> <td> 4.09e+04</td>\n",
       "</tr>\n",
       "<tr>\n",
       "  <th>RoofMatl_Tar&Grv</th>      <td>-1031.4497</td> <td> 8398.738</td> <td>   -0.123</td> <td> 0.902</td> <td>-1.75e+04</td> <td> 1.55e+04</td>\n",
       "</tr>\n",
       "<tr>\n",
       "  <th>RoofMatl_WdShake</th>      <td>-1.678e+04</td> <td> 2.34e+04</td> <td>   -0.717</td> <td> 0.473</td> <td>-6.27e+04</td> <td> 2.92e+04</td>\n",
       "</tr>\n",
       "<tr>\n",
       "  <th>RoofMatl_WdShngl</th>      <td> 1.504e+04</td> <td> 1.84e+04</td> <td>    0.819</td> <td> 0.413</td> <td> -2.1e+04</td> <td> 5.11e+04</td>\n",
       "</tr>\n",
       "<tr>\n",
       "  <th>Exterior1st_AsbShng</th>   <td> 2.491e+04</td> <td> 2.24e+04</td> <td>    1.112</td> <td> 0.267</td> <td>-1.91e+04</td> <td> 6.89e+04</td>\n",
       "</tr>\n",
       "<tr>\n",
       "  <th>Exterior1st_BrkComm</th>   <td> 2.223e+04</td> <td> 2.48e+04</td> <td>    0.896</td> <td> 0.371</td> <td>-2.65e+04</td> <td> 7.09e+04</td>\n",
       "</tr>\n",
       "<tr>\n",
       "  <th>Exterior1st_BrkFace</th>   <td> 1.193e+04</td> <td> 7399.800</td> <td>    1.612</td> <td> 0.108</td> <td>-2606.576</td> <td> 2.65e+04</td>\n",
       "</tr>\n",
       "<tr>\n",
       "  <th>Exterior1st_CBlock</th>    <td>-5012.1834</td> <td> 1.28e+04</td> <td>   -0.392</td> <td> 0.695</td> <td>-3.01e+04</td> <td> 2.01e+04</td>\n",
       "</tr>\n",
       "<tr>\n",
       "  <th>Exterior1st_CemntBd</th>   <td>-1.776e+04</td> <td> 2.02e+04</td> <td>   -0.879</td> <td> 0.380</td> <td>-5.74e+04</td> <td> 2.19e+04</td>\n",
       "</tr>\n",
       "<tr>\n",
       "  <th>Exterior1st_HdBoard</th>   <td>-8790.1451</td> <td> 6013.423</td> <td>   -1.462</td> <td> 0.144</td> <td>-2.06e+04</td> <td> 3019.418</td>\n",
       "</tr>\n",
       "<tr>\n",
       "  <th>Exterior1st_ImStucc</th>   <td> 1.903e+04</td> <td> 2.24e+04</td> <td>    0.849</td> <td> 0.396</td> <td> -2.5e+04</td> <td> 6.31e+04</td>\n",
       "</tr>\n",
       "<tr>\n",
       "  <th>Exterior1st_MetalSd</th>   <td>-1146.5434</td> <td>    1e+04</td> <td>   -0.114</td> <td> 0.909</td> <td>-2.08e+04</td> <td> 1.85e+04</td>\n",
       "</tr>\n",
       "<tr>\n",
       "  <th>Exterior1st_Plywood</th>   <td>-7463.5184</td> <td> 6290.256</td> <td>   -1.187</td> <td> 0.236</td> <td>-1.98e+04</td> <td> 4889.707</td>\n",
       "</tr>\n",
       "<tr>\n",
       "  <th>Exterior1st_Stucco</th>    <td>-6142.4426</td> <td> 1.17e+04</td> <td>   -0.524</td> <td> 0.600</td> <td>-2.92e+04</td> <td> 1.69e+04</td>\n",
       "</tr>\n",
       "<tr>\n",
       "  <th>Exterior1st_VinylSd</th>   <td>-8466.3242</td> <td> 8224.403</td> <td>   -1.029</td> <td> 0.304</td> <td>-2.46e+04</td> <td> 7685.309</td>\n",
       "</tr>\n",
       "<tr>\n",
       "  <th>Exterior1st_Wd Sdng</th>   <td>-8575.6751</td> <td> 5942.600</td> <td>   -1.443</td> <td> 0.150</td> <td>-2.02e+04</td> <td> 3094.801</td>\n",
       "</tr>\n",
       "<tr>\n",
       "  <th>Exterior1st_WdShing</th>   <td>   14.5005</td> <td> 7989.722</td> <td>    0.002</td> <td> 0.999</td> <td>-1.57e+04</td> <td> 1.57e+04</td>\n",
       "</tr>\n",
       "<tr>\n",
       "  <th>Exterior2nd_AsbShng</th>   <td>-1.501e+04</td> <td> 2.04e+04</td> <td>   -0.736</td> <td> 0.462</td> <td>-5.51e+04</td> <td>  2.5e+04</td>\n",
       "</tr>\n",
       "<tr>\n",
       "  <th>Exterior2nd_Brk Cmn</th>   <td> 1742.3718</td> <td> 1.77e+04</td> <td>    0.098</td> <td> 0.922</td> <td> -3.3e+04</td> <td> 3.65e+04</td>\n",
       "</tr>\n",
       "<tr>\n",
       "  <th>Exterior2nd_BrkFace</th>   <td>-4514.9818</td> <td> 9191.108</td> <td>   -0.491</td> <td> 0.623</td> <td>-2.26e+04</td> <td> 1.35e+04</td>\n",
       "</tr>\n",
       "<tr>\n",
       "  <th>Exterior2nd_CBlock</th>    <td>-5012.1834</td> <td> 1.28e+04</td> <td>   -0.392</td> <td> 0.695</td> <td>-3.01e+04</td> <td> 2.01e+04</td>\n",
       "</tr>\n",
       "<tr>\n",
       "  <th>Exterior2nd_CmentBd</th>   <td> 2.183e+04</td> <td> 2.09e+04</td> <td>    1.045</td> <td> 0.296</td> <td>-1.92e+04</td> <td> 6.28e+04</td>\n",
       "</tr>\n",
       "<tr>\n",
       "  <th>Exterior2nd_HdBoard</th>   <td> 2403.0179</td> <td> 6119.628</td> <td>    0.393</td> <td> 0.695</td> <td>-9615.117</td> <td> 1.44e+04</td>\n",
       "</tr>\n",
       "<tr>\n",
       "  <th>Exterior2nd_ImStucc</th>   <td>-4430.7674</td> <td> 1.19e+04</td> <td>   -0.373</td> <td> 0.709</td> <td>-2.77e+04</td> <td> 1.89e+04</td>\n",
       "</tr>\n",
       "<tr>\n",
       "  <th>Exterior2nd_MetalSd</th>   <td> 5681.0473</td> <td> 1.04e+04</td> <td>    0.548</td> <td> 0.584</td> <td>-1.47e+04</td> <td>  2.6e+04</td>\n",
       "</tr>\n",
       "<tr>\n",
       "  <th>Exterior2nd_Other</th>     <td>-2.139e+04</td> <td> 2.03e+04</td> <td>   -1.054</td> <td> 0.292</td> <td>-6.13e+04</td> <td> 1.85e+04</td>\n",
       "</tr>\n",
       "<tr>\n",
       "  <th>Exterior2nd_Plywood</th>   <td> -854.8841</td> <td> 5771.433</td> <td>   -0.148</td> <td> 0.882</td> <td>-1.22e+04</td> <td> 1.05e+04</td>\n",
       "</tr>\n",
       "<tr>\n",
       "  <th>Exterior2nd_Stone</th>     <td>-1.258e+04</td> <td> 2.06e+04</td> <td>   -0.612</td> <td> 0.541</td> <td> -5.3e+04</td> <td> 2.78e+04</td>\n",
       "</tr>\n",
       "<tr>\n",
       "  <th>Exterior2nd_Stucco</th>    <td> 3.351e+04</td> <td> 1.15e+04</td> <td>    2.927</td> <td> 0.004</td> <td>  1.1e+04</td> <td>  5.6e+04</td>\n",
       "</tr>\n",
       "<tr>\n",
       "  <th>Exterior2nd_VinylSd</th>   <td> 6848.9808</td> <td> 7806.453</td> <td>    0.877</td> <td> 0.381</td> <td>-8481.855</td> <td> 2.22e+04</td>\n",
       "</tr>\n",
       "<tr>\n",
       "  <th>Exterior2nd_Wd Sdng</th>   <td> 7619.1419</td> <td> 5812.490</td> <td>    1.311</td> <td> 0.190</td> <td>-3795.816</td> <td>  1.9e+04</td>\n",
       "</tr>\n",
       "<tr>\n",
       "  <th>Exterior2nd_Wd Shng</th>   <td>-1090.9002</td> <td> 7037.076</td> <td>   -0.155</td> <td> 0.877</td> <td>-1.49e+04</td> <td> 1.27e+04</td>\n",
       "</tr>\n",
       "<tr>\n",
       "  <th>MasVnrType_BrkCmn</th>     <td> 1057.2122</td> <td> 6780.023</td> <td>    0.156</td> <td> 0.876</td> <td>-1.23e+04</td> <td> 1.44e+04</td>\n",
       "</tr>\n",
       "<tr>\n",
       "  <th>MasVnrType_BrkFace</th>    <td> 2150.2084</td> <td> 2599.523</td> <td>    0.827</td> <td> 0.408</td> <td>-2954.910</td> <td> 7255.327</td>\n",
       "</tr>\n",
       "<tr>\n",
       "  <th>MasVnrType_None</th>       <td> 1091.3073</td> <td> 2905.926</td> <td>    0.376</td> <td> 0.707</td> <td>-4615.544</td> <td> 6798.159</td>\n",
       "</tr>\n",
       "<tr>\n",
       "  <th>MasVnrType_Stone</th>      <td> 1.046e+04</td> <td> 3115.212</td> <td>    3.358</td> <td> 0.001</td> <td> 4343.308</td> <td> 1.66e+04</td>\n",
       "</tr>\n",
       "<tr>\n",
       "  <th>ExterQual_Ex</th>          <td> 6516.8146</td> <td> 6269.455</td> <td>    1.039</td> <td> 0.299</td> <td>-5795.561</td> <td> 1.88e+04</td>\n",
       "</tr>\n",
       "<tr>\n",
       "  <th>ExterQual_Fa</th>          <td> 1.573e+04</td> <td> 1.22e+04</td> <td>    1.286</td> <td> 0.199</td> <td>-8286.267</td> <td> 3.97e+04</td>\n",
       "</tr>\n",
       "<tr>\n",
       "  <th>ExterQual_Gd</th>          <td>-2724.1701</td> <td> 4597.986</td> <td>   -0.592</td> <td> 0.554</td> <td>-1.18e+04</td> <td> 6305.663</td>\n",
       "</tr>\n",
       "<tr>\n",
       "  <th>ExterQual_TA</th>          <td>-4761.2186</td> <td> 4704.702</td> <td>   -1.012</td> <td> 0.312</td> <td> -1.4e+04</td> <td> 4478.189</td>\n",
       "</tr>\n",
       "<tr>\n",
       "  <th>ExterCond_Fa</th>          <td>-4134.6507</td> <td> 6100.908</td> <td>   -0.678</td> <td> 0.498</td> <td>-1.61e+04</td> <td> 7846.722</td>\n",
       "</tr>\n",
       "<tr>\n",
       "  <th>ExterCond_Gd</th>          <td> 6443.3421</td> <td> 3493.133</td> <td>    1.845</td> <td> 0.066</td> <td> -416.707</td> <td> 1.33e+04</td>\n",
       "</tr>\n",
       "<tr>\n",
       "  <th>ExterCond_TA</th>          <td> 1.245e+04</td> <td> 3084.195</td> <td>    4.037</td> <td> 0.000</td> <td> 6394.257</td> <td> 1.85e+04</td>\n",
       "</tr>\n",
       "<tr>\n",
       "  <th>Foundation_BrkTil</th>     <td>-2634.1719</td> <td> 4756.073</td> <td>   -0.554</td> <td> 0.580</td> <td> -1.2e+04</td> <td> 6706.123</td>\n",
       "</tr>\n",
       "<tr>\n",
       "  <th>Foundation_CBlock</th>     <td> -301.2727</td> <td> 4001.128</td> <td>   -0.075</td> <td> 0.940</td> <td>-8158.956</td> <td> 7556.410</td>\n",
       "</tr>\n",
       "<tr>\n",
       "  <th>Foundation_PConc</th>      <td> 1228.0763</td> <td> 4358.912</td> <td>    0.282</td> <td> 0.778</td> <td>-7332.247</td> <td> 9788.400</td>\n",
       "</tr>\n",
       "<tr>\n",
       "  <th>Foundation_Slab</th>       <td> 1218.0450</td> <td> 9434.661</td> <td>    0.129</td> <td> 0.897</td> <td>-1.73e+04</td> <td> 1.97e+04</td>\n",
       "</tr>\n",
       "<tr>\n",
       "  <th>Foundation_Stone</th>      <td> 1.525e+04</td> <td> 1.27e+04</td> <td>    1.197</td> <td> 0.232</td> <td>-9769.939</td> <td> 4.03e+04</td>\n",
       "</tr>\n",
       "<tr>\n",
       "  <th>Foundation_Wood</th>       <td> 2.768e-11</td> <td> 1.97e-11</td> <td>    1.401</td> <td> 0.162</td> <td>-1.11e-11</td> <td> 6.65e-11</td>\n",
       "</tr>\n",
       "<tr>\n",
       "  <th>BsmtQual_Ex</th>           <td> 1.725e+04</td> <td> 3798.279</td> <td>    4.543</td> <td> 0.000</td> <td> 9794.514</td> <td> 2.47e+04</td>\n",
       "</tr>\n",
       "<tr>\n",
       "  <th>BsmtQual_Fa</th>           <td> 3355.0272</td> <td> 5620.424</td> <td>    0.597</td> <td> 0.551</td> <td>-7682.737</td> <td> 1.44e+04</td>\n",
       "</tr>\n",
       "<tr>\n",
       "  <th>BsmtQual_Gd</th>           <td>-4716.3273</td> <td> 2616.864</td> <td>   -1.802</td> <td> 0.072</td> <td>-9855.501</td> <td>  422.846</td>\n",
       "</tr>\n",
       "<tr>\n",
       "  <th>BsmtQual_None</th>         <td> 3020.8536</td> <td> 2016.727</td> <td>    1.498</td> <td> 0.135</td> <td> -939.730</td> <td> 6981.437</td>\n",
       "</tr>\n",
       "<tr>\n",
       "  <th>BsmtQual_TA</th>           <td>-4153.4847</td> <td> 2721.163</td> <td>   -1.526</td> <td> 0.127</td> <td>-9497.487</td> <td> 1190.517</td>\n",
       "</tr>\n",
       "<tr>\n",
       "  <th>BsmtCond_Fa</th>           <td> 1822.7107</td> <td> 3463.542</td> <td>    0.526</td> <td> 0.599</td> <td>-4979.225</td> <td> 8624.646</td>\n",
       "</tr>\n",
       "<tr>\n",
       "  <th>BsmtCond_Gd</th>           <td> 2551.2816</td> <td> 3077.108</td> <td>    0.829</td> <td> 0.407</td> <td>-3491.749</td> <td> 8594.312</td>\n",
       "</tr>\n",
       "<tr>\n",
       "  <th>BsmtCond_None</th>         <td> 3020.8536</td> <td> 2016.727</td> <td>    1.498</td> <td> 0.135</td> <td> -939.730</td> <td> 6981.437</td>\n",
       "</tr>\n",
       "<tr>\n",
       "  <th>BsmtCond_TA</th>           <td> 7365.0513</td> <td> 2148.982</td> <td>    3.427</td> <td> 0.001</td> <td> 3144.737</td> <td> 1.16e+04</td>\n",
       "</tr>\n",
       "<tr>\n",
       "  <th>BsmtExposure_Av</th>       <td>  904.4547</td> <td> 1880.260</td> <td>    0.481</td> <td> 0.631</td> <td>-2788.125</td> <td> 4597.035</td>\n",
       "</tr>\n",
       "<tr>\n",
       "  <th>BsmtExposure_Gd</th>       <td> 1.608e+04</td> <td> 2635.519</td> <td>    6.102</td> <td> 0.000</td> <td> 1.09e+04</td> <td> 2.13e+04</td>\n",
       "</tr>\n",
       "<tr>\n",
       "  <th>BsmtExposure_Mn</th>       <td>-3268.8971</td> <td> 2537.382</td> <td>   -1.288</td> <td> 0.198</td> <td>-8251.978</td> <td> 1714.184</td>\n",
       "</tr>\n",
       "<tr>\n",
       "  <th>BsmtExposure_No</th>       <td>-1978.7810</td> <td> 1651.662</td> <td>   -1.198</td> <td> 0.231</td> <td>-5222.426</td> <td> 1264.864</td>\n",
       "</tr>\n",
       "<tr>\n",
       "  <th>BsmtExposure_None</th>     <td> 3020.8536</td> <td> 2016.727</td> <td>    1.498</td> <td> 0.135</td> <td> -939.730</td> <td> 6981.437</td>\n",
       "</tr>\n",
       "<tr>\n",
       "  <th>BsmtFinType1_ALQ</th>      <td> 1901.5260</td> <td> 2142.817</td> <td>    0.887</td> <td> 0.375</td> <td>-2306.681</td> <td> 6109.733</td>\n",
       "</tr>\n",
       "<tr>\n",
       "  <th>BsmtFinType1_BLQ</th>      <td> 1154.3728</td> <td> 2387.858</td> <td>    0.483</td> <td> 0.629</td> <td>-3535.062</td> <td> 5843.808</td>\n",
       "</tr>\n",
       "<tr>\n",
       "  <th>BsmtFinType1_GLQ</th>      <td> 9764.3463</td> <td> 2220.690</td> <td>    4.397</td> <td> 0.000</td> <td> 5403.208</td> <td> 1.41e+04</td>\n",
       "</tr>\n",
       "<tr>\n",
       "  <th>BsmtFinType1_LwQ</th>      <td>-3502.9960</td> <td> 3784.229</td> <td>   -0.926</td> <td> 0.355</td> <td>-1.09e+04</td> <td> 3928.727</td>\n",
       "</tr>\n",
       "<tr>\n",
       "  <th>BsmtFinType1_None</th>     <td> 3020.8536</td> <td> 2016.727</td> <td>    1.498</td> <td> 0.135</td> <td> -939.730</td> <td> 6981.437</td>\n",
       "</tr>\n",
       "<tr>\n",
       "  <th>BsmtFinType1_Rec</th>      <td>  378.8678</td> <td> 2542.673</td> <td>    0.149</td> <td> 0.882</td> <td>-4614.604</td> <td> 5372.339</td>\n",
       "</tr>\n",
       "<tr>\n",
       "  <th>BsmtFinType1_Unf</th>      <td> 2042.9267</td> <td> 2312.748</td> <td>    0.883</td> <td> 0.377</td> <td>-2499.003</td> <td> 6584.856</td>\n",
       "</tr>\n",
       "<tr>\n",
       "  <th>BsmtFinType2_ALQ</th>      <td> 6677.1783</td> <td> 1.17e+04</td> <td>    0.573</td> <td> 0.567</td> <td>-1.62e+04</td> <td> 2.96e+04</td>\n",
       "</tr>\n",
       "<tr>\n",
       "  <th>BsmtFinType2_BLQ</th>      <td>-3846.5499</td> <td> 5719.393</td> <td>   -0.673</td> <td> 0.501</td> <td>-1.51e+04</td> <td> 7385.577</td>\n",
       "</tr>\n",
       "<tr>\n",
       "  <th>BsmtFinType2_GLQ</th>      <td>  2.01e+04</td> <td> 1.12e+04</td> <td>    1.788</td> <td> 0.074</td> <td>-1972.761</td> <td> 4.22e+04</td>\n",
       "</tr>\n",
       "<tr>\n",
       "  <th>BsmtFinType2_LwQ</th>      <td>-4942.9528</td> <td> 5223.272</td> <td>   -0.946</td> <td> 0.344</td> <td>-1.52e+04</td> <td> 5314.858</td>\n",
       "</tr>\n",
       "<tr>\n",
       "  <th>BsmtFinType2_None</th>     <td> 3020.8536</td> <td> 2016.727</td> <td>    1.498</td> <td> 0.135</td> <td> -939.730</td> <td> 6981.437</td>\n",
       "</tr>\n",
       "<tr>\n",
       "  <th>BsmtFinType2_Rec</th>      <td>-5754.0173</td> <td> 5248.696</td> <td>   -1.096</td> <td> 0.273</td> <td>-1.61e+04</td> <td> 4553.724</td>\n",
       "</tr>\n",
       "<tr>\n",
       "  <th>BsmtFinType2_Unf</th>      <td> -495.9588</td> <td> 5559.260</td> <td>   -0.089</td> <td> 0.929</td> <td>-1.14e+04</td> <td> 1.04e+04</td>\n",
       "</tr>\n",
       "<tr>\n",
       "  <th>Heating_Floor</th>         <td> 1.287e-12</td> <td> 8.27e-12</td> <td>    0.156</td> <td> 0.876</td> <td>-1.49e-11</td> <td> 1.75e-11</td>\n",
       "</tr>\n",
       "<tr>\n",
       "  <th>Heating_GasA</th>          <td>-4629.4827</td> <td> 8690.194</td> <td>   -0.533</td> <td> 0.594</td> <td>-2.17e+04</td> <td> 1.24e+04</td>\n",
       "</tr>\n",
       "<tr>\n",
       "  <th>Heating_GasW</th>          <td> 1577.2678</td> <td> 1.09e+04</td> <td>    0.145</td> <td> 0.885</td> <td>-1.98e+04</td> <td> 2.29e+04</td>\n",
       "</tr>\n",
       "<tr>\n",
       "  <th>Heating_Grav</th>          <td>-8166.0070</td> <td> 1.42e+04</td> <td>   -0.577</td> <td> 0.564</td> <td> -3.6e+04</td> <td> 1.96e+04</td>\n",
       "</tr>\n",
       "<tr>\n",
       "  <th>Heating_Wall</th>          <td> 2.598e+04</td> <td> 1.87e+04</td> <td>    1.390</td> <td> 0.165</td> <td>-1.07e+04</td> <td> 6.27e+04</td>\n",
       "</tr>\n",
       "<tr>\n",
       "  <th>HeatingQC_Ex</th>          <td> 4637.0500</td> <td> 2178.261</td> <td>    2.129</td> <td> 0.034</td> <td>  359.235</td> <td> 8914.865</td>\n",
       "</tr>\n",
       "<tr>\n",
       "  <th>HeatingQC_Fa</th>          <td> 3637.8528</td> <td> 4492.986</td> <td>    0.810</td> <td> 0.418</td> <td>-5185.773</td> <td> 1.25e+04</td>\n",
       "</tr>\n",
       "<tr>\n",
       "  <th>HeatingQC_Gd</th>          <td> 1987.8895</td> <td> 2211.000</td> <td>    0.899</td> <td> 0.369</td> <td>-2354.220</td> <td> 6329.999</td>\n",
       "</tr>\n",
       "<tr>\n",
       "  <th>HeatingQC_TA</th>          <td> 4497.1049</td> <td> 2021.657</td> <td>    2.224</td> <td> 0.026</td> <td>  526.839</td> <td> 8467.370</td>\n",
       "</tr>\n",
       "<tr>\n",
       "  <th>CentralAir_N</th>          <td> 1.007e+04</td> <td> 2930.316</td> <td>    3.437</td> <td> 0.001</td> <td> 4317.396</td> <td> 1.58e+04</td>\n",
       "</tr>\n",
       "<tr>\n",
       "  <th>CentralAir_Y</th>          <td> 4687.7495</td> <td> 3042.695</td> <td>    1.541</td> <td> 0.124</td> <td>-1287.699</td> <td> 1.07e+04</td>\n",
       "</tr>\n",
       "<tr>\n",
       "  <th>Electrical_FuseA</th>      <td> 5765.3979</td> <td> 3251.971</td> <td>    1.773</td> <td> 0.077</td> <td> -621.041</td> <td> 1.22e+04</td>\n",
       "</tr>\n",
       "<tr>\n",
       "  <th>Electrical_FuseF</th>      <td> 4219.1713</td> <td> 4836.566</td> <td>    0.872</td> <td> 0.383</td> <td>-5279.201</td> <td> 1.37e+04</td>\n",
       "</tr>\n",
       "<tr>\n",
       "  <th>Electrical_FuseP</th>      <td> 3.483e-12</td> <td> 2.67e-12</td> <td>    1.305</td> <td> 0.192</td> <td>-1.76e-12</td> <td> 8.72e-12</td>\n",
       "</tr>\n",
       "<tr>\n",
       "  <th>Electrical_SBrkr</th>      <td> 4775.3281</td> <td> 3001.651</td> <td>    1.591</td> <td> 0.112</td> <td>-1119.515</td> <td> 1.07e+04</td>\n",
       "</tr>\n",
       "<tr>\n",
       "  <th>KitchenQual_Ex</th>        <td> 1.644e+04</td> <td> 3612.247</td> <td>    4.552</td> <td> 0.000</td> <td> 9349.843</td> <td> 2.35e+04</td>\n",
       "</tr>\n",
       "<tr>\n",
       "  <th>KitchenQual_Fa</th>        <td>  852.2273</td> <td> 4947.655</td> <td>    0.172</td> <td> 0.863</td> <td>-8864.309</td> <td> 1.06e+04</td>\n",
       "</tr>\n",
       "<tr>\n",
       "  <th>KitchenQual_Gd</th>        <td>-3017.4608</td> <td> 2362.067</td> <td>   -1.277</td> <td> 0.202</td> <td>-7656.246</td> <td> 1621.324</td>\n",
       "</tr>\n",
       "<tr>\n",
       "  <th>KitchenQual_TA</th>        <td>  481.3145</td> <td> 2295.289</td> <td>    0.210</td> <td> 0.834</td> <td>-4026.327</td> <td> 4988.956</td>\n",
       "</tr>\n",
       "<tr>\n",
       "  <th>Functional_Maj1</th>       <td> 7505.5953</td> <td> 9388.479</td> <td>    0.799</td> <td> 0.424</td> <td>-1.09e+04</td> <td> 2.59e+04</td>\n",
       "</tr>\n",
       "<tr>\n",
       "  <th>Functional_Maj2</th>       <td> 5608.6692</td> <td> 1.75e+04</td> <td>    0.320</td> <td> 0.749</td> <td>-2.89e+04</td> <td> 4.01e+04</td>\n",
       "</tr>\n",
       "<tr>\n",
       "  <th>Functional_Min1</th>       <td>  391.8296</td> <td> 6135.390</td> <td>    0.064</td> <td> 0.949</td> <td>-1.17e+04</td> <td> 1.24e+04</td>\n",
       "</tr>\n",
       "<tr>\n",
       "  <th>Functional_Min2</th>       <td> 7210.2951</td> <td> 6092.575</td> <td>    1.183</td> <td> 0.237</td> <td>-4754.712</td> <td> 1.92e+04</td>\n",
       "</tr>\n",
       "<tr>\n",
       "  <th>Functional_Mod</th>        <td>-2.131e+04</td> <td> 9602.008</td> <td>   -2.220</td> <td> 0.027</td> <td>-4.02e+04</td> <td>-2455.721</td>\n",
       "</tr>\n",
       "<tr>\n",
       "  <th>Functional_Typ</th>        <td> 1.536e+04</td> <td> 4549.688</td> <td>    3.375</td> <td> 0.001</td> <td> 6421.314</td> <td> 2.43e+04</td>\n",
       "</tr>\n",
       "<tr>\n",
       "  <th>FireplaceQu_Ex</th>        <td> 5760.7356</td> <td> 5939.277</td> <td>    0.970</td> <td> 0.332</td> <td>-5903.215</td> <td> 1.74e+04</td>\n",
       "</tr>\n",
       "<tr>\n",
       "  <th>FireplaceQu_Fa</th>        <td>-7926.2045</td> <td> 4592.503</td> <td>   -1.726</td> <td> 0.085</td> <td>-1.69e+04</td> <td> 1092.860</td>\n",
       "</tr>\n",
       "<tr>\n",
       "  <th>FireplaceQu_Gd</th>        <td> 2059.1648</td> <td> 2464.817</td> <td>    0.835</td> <td> 0.404</td> <td>-2781.407</td> <td> 6899.737</td>\n",
       "</tr>\n",
       "<tr>\n",
       "  <th>FireplaceQu_None</th>      <td>-1903.6154</td> <td> 3752.397</td> <td>   -0.507</td> <td> 0.612</td> <td>-9272.824</td> <td> 5465.594</td>\n",
       "</tr>\n",
       "<tr>\n",
       "  <th>FireplaceQu_Po</th>        <td> 1.521e+04</td> <td> 5940.477</td> <td>    2.560</td> <td> 0.011</td> <td> 3542.095</td> <td> 2.69e+04</td>\n",
       "</tr>\n",
       "<tr>\n",
       "  <th>FireplaceQu_TA</th>        <td> 1561.4155</td> <td> 2649.922</td> <td>    0.589</td> <td> 0.556</td> <td>-3642.678</td> <td> 6765.509</td>\n",
       "</tr>\n",
       "<tr>\n",
       "  <th>GarageType_Attchd</th>     <td>-4481.0469</td> <td> 4310.489</td> <td>   -1.040</td> <td> 0.299</td> <td>-1.29e+04</td> <td> 3984.179</td>\n",
       "</tr>\n",
       "<tr>\n",
       "  <th>GarageType_Basment</th>    <td>-1036.2755</td> <td> 6656.528</td> <td>   -0.156</td> <td> 0.876</td> <td>-1.41e+04</td> <td>  1.2e+04</td>\n",
       "</tr>\n",
       "<tr>\n",
       "  <th>GarageType_BuiltIn</th>    <td>-2052.3981</td> <td> 5216.929</td> <td>   -0.393</td> <td> 0.694</td> <td>-1.23e+04</td> <td> 8192.956</td>\n",
       "</tr>\n",
       "<tr>\n",
       "  <th>GarageType_CarPort</th>    <td> 2.207e+04</td> <td> 1.64e+04</td> <td>    1.344</td> <td> 0.179</td> <td>-1.02e+04</td> <td> 5.43e+04</td>\n",
       "</tr>\n",
       "<tr>\n",
       "  <th>GarageType_Detchd</th>     <td>-1620.7376</td> <td> 4440.938</td> <td>   -0.365</td> <td> 0.715</td> <td>-1.03e+04</td> <td> 7100.674</td>\n",
       "</tr>\n",
       "<tr>\n",
       "  <th>GarageType_None</th>       <td> 1883.4485</td> <td> 1742.908</td> <td>    1.081</td> <td> 0.280</td> <td>-1539.391</td> <td> 5306.288</td>\n",
       "</tr>\n",
       "<tr>\n",
       "  <th>GarageFinish_Fin</th>      <td> 3158.3561</td> <td> 1705.909</td> <td>    1.851</td> <td> 0.065</td> <td> -191.822</td> <td> 6508.534</td>\n",
       "</tr>\n",
       "<tr>\n",
       "  <th>GarageFinish_None</th>     <td> 1883.4485</td> <td> 1742.908</td> <td>    1.081</td> <td> 0.280</td> <td>-1539.391</td> <td> 5306.288</td>\n",
       "</tr>\n",
       "<tr>\n",
       "  <th>GarageFinish_RFn</th>      <td> 5541.6969</td> <td> 1552.051</td> <td>    3.571</td> <td> 0.000</td> <td> 2493.676</td> <td> 8589.718</td>\n",
       "</tr>\n",
       "<tr>\n",
       "  <th>GarageFinish_Unf</th>      <td> 4176.3958</td> <td> 1819.386</td> <td>    2.295</td> <td> 0.022</td> <td>  603.364</td> <td> 7749.428</td>\n",
       "</tr>\n",
       "<tr>\n",
       "  <th>GarageQual_Ex</th>         <td> 5033.8565</td> <td> 6318.023</td> <td>    0.797</td> <td> 0.426</td> <td>-7373.900</td> <td> 1.74e+04</td>\n",
       "</tr>\n",
       "<tr>\n",
       "  <th>GarageQual_Fa</th>         <td>-3796.7325</td> <td> 5167.983</td> <td>   -0.735</td> <td> 0.463</td> <td>-1.39e+04</td> <td> 6352.499</td>\n",
       "</tr>\n",
       "<tr>\n",
       "  <th>GarageQual_Gd</th>         <td> 8564.3750</td> <td> 7331.763</td> <td>    1.168</td> <td> 0.243</td> <td>-5834.231</td> <td>  2.3e+04</td>\n",
       "</tr>\n",
       "<tr>\n",
       "  <th>GarageQual_None</th>       <td> 1883.4485</td> <td> 1742.908</td> <td>    1.081</td> <td> 0.280</td> <td>-1539.391</td> <td> 5306.288</td>\n",
       "</tr>\n",
       "<tr>\n",
       "  <th>GarageQual_Po</th>         <td>         0</td> <td>        0</td> <td>      nan</td> <td>   nan</td> <td>        0</td> <td>        0</td>\n",
       "</tr>\n",
       "<tr>\n",
       "  <th>GarageQual_TA</th>         <td> 3074.9498</td> <td> 3805.664</td> <td>    0.808</td> <td> 0.419</td> <td>-4398.868</td> <td> 1.05e+04</td>\n",
       "</tr>\n",
       "<tr>\n",
       "  <th>GarageCond_Ex</th>         <td> 5033.8565</td> <td> 6318.023</td> <td>    0.797</td> <td> 0.426</td> <td>-7373.900</td> <td> 1.74e+04</td>\n",
       "</tr>\n",
       "<tr>\n",
       "  <th>GarageCond_Fa</th>         <td>-7124.2716</td> <td> 6855.726</td> <td>   -1.039</td> <td> 0.299</td> <td>-2.06e+04</td> <td> 6339.461</td>\n",
       "</tr>\n",
       "<tr>\n",
       "  <th>GarageCond_Gd</th>         <td>  228.1941</td> <td> 9263.471</td> <td>    0.025</td> <td> 0.980</td> <td> -1.8e+04</td> <td> 1.84e+04</td>\n",
       "</tr>\n",
       "<tr>\n",
       "  <th>GarageCond_None</th>       <td> 1883.4485</td> <td> 1742.908</td> <td>    1.081</td> <td> 0.280</td> <td>-1539.391</td> <td> 5306.288</td>\n",
       "</tr>\n",
       "<tr>\n",
       "  <th>GarageCond_Po</th>         <td> 1.569e+04</td> <td> 1.48e+04</td> <td>    1.060</td> <td> 0.290</td> <td>-1.34e+04</td> <td> 4.47e+04</td>\n",
       "</tr>\n",
       "<tr>\n",
       "  <th>GarageCond_TA</th>         <td> -946.4208</td> <td> 5305.753</td> <td>   -0.178</td> <td> 0.858</td> <td>-1.14e+04</td> <td> 9473.371</td>\n",
       "</tr>\n",
       "<tr>\n",
       "  <th>PavedDrive_N</th>          <td> 8411.3838</td> <td> 3239.761</td> <td>    2.596</td> <td> 0.010</td> <td> 2048.924</td> <td> 1.48e+04</td>\n",
       "</tr>\n",
       "<tr>\n",
       "  <th>PavedDrive_P</th>          <td> -601.5874</td> <td> 4084.458</td> <td>   -0.147</td> <td> 0.883</td> <td>-8622.919</td> <td> 7419.744</td>\n",
       "</tr>\n",
       "<tr>\n",
       "  <th>PavedDrive_Y</th>          <td> 6950.1009</td> <td> 2712.192</td> <td>    2.563</td> <td> 0.011</td> <td> 1623.716</td> <td> 1.23e+04</td>\n",
       "</tr>\n",
       "<tr>\n",
       "  <th>PoolQC_None</th>           <td> 1.476e+04</td> <td> 2314.551</td> <td>    6.377</td> <td> 0.000</td> <td> 1.02e+04</td> <td> 1.93e+04</td>\n",
       "</tr>\n",
       "<tr>\n",
       "  <th>Fence_GdPrv</th>           <td> 2507.2853</td> <td> 4021.830</td> <td>    0.623</td> <td> 0.533</td> <td>-5391.054</td> <td> 1.04e+04</td>\n",
       "</tr>\n",
       "<tr>\n",
       "  <th>Fence_GdWo</th>            <td> 4815.7379</td> <td> 3513.057</td> <td>    1.371</td> <td> 0.171</td> <td>-2083.439</td> <td> 1.17e+04</td>\n",
       "</tr>\n",
       "<tr>\n",
       "  <th>Fence_MnPrv</th>           <td> 6989.5058</td> <td> 2755.970</td> <td>    2.536</td> <td> 0.011</td> <td> 1577.147</td> <td> 1.24e+04</td>\n",
       "</tr>\n",
       "<tr>\n",
       "  <th>Fence_MnWw</th>            <td>-5922.9939</td> <td> 6693.392</td> <td>   -0.885</td> <td> 0.377</td> <td>-1.91e+04</td> <td> 7221.937</td>\n",
       "</tr>\n",
       "<tr>\n",
       "  <th>Fence_None</th>            <td> 6370.3621</td> <td> 2344.943</td> <td>    2.717</td> <td> 0.007</td> <td> 1765.205</td> <td>  1.1e+04</td>\n",
       "</tr>\n",
       "<tr>\n",
       "  <th>MiscFeature_None</th>      <td> 4095.0948</td> <td> 5487.034</td> <td>    0.746</td> <td> 0.456</td> <td>-6680.709</td> <td> 1.49e+04</td>\n",
       "</tr>\n",
       "<tr>\n",
       "  <th>MiscFeature_Shed</th>      <td> 1.066e+04</td> <td> 5770.290</td> <td>    1.848</td> <td> 0.065</td> <td> -667.279</td> <td>  2.2e+04</td>\n",
       "</tr>\n",
       "<tr>\n",
       "  <th>SaleType_COD</th>          <td>-1098.0380</td> <td> 6494.965</td> <td>   -0.169</td> <td> 0.866</td> <td>-1.39e+04</td> <td> 1.17e+04</td>\n",
       "</tr>\n",
       "<tr>\n",
       "  <th>SaleType_CWD</th>          <td> 4.347e+04</td> <td> 1.33e+04</td> <td>    3.271</td> <td> 0.001</td> <td> 1.74e+04</td> <td> 6.96e+04</td>\n",
       "</tr>\n",
       "<tr>\n",
       "  <th>SaleType_Con</th>          <td> 1.432e+04</td> <td> 1.75e+04</td> <td>    0.816</td> <td> 0.415</td> <td>-2.01e+04</td> <td> 4.88e+04</td>\n",
       "</tr>\n",
       "<tr>\n",
       "  <th>SaleType_ConLD</th>        <td>-8072.7020</td> <td> 1.03e+04</td> <td>   -0.781</td> <td> 0.435</td> <td>-2.84e+04</td> <td> 1.22e+04</td>\n",
       "</tr>\n",
       "<tr>\n",
       "  <th>SaleType_ConLI</th>        <td>-5650.7356</td> <td> 1.14e+04</td> <td>   -0.495</td> <td> 0.621</td> <td>-2.81e+04</td> <td> 1.68e+04</td>\n",
       "</tr>\n",
       "<tr>\n",
       "  <th>SaleType_ConLw</th>        <td>-8979.7898</td> <td> 1.95e+04</td> <td>   -0.460</td> <td> 0.646</td> <td>-4.73e+04</td> <td> 2.94e+04</td>\n",
       "</tr>\n",
       "<tr>\n",
       "  <th>SaleType_New</th>          <td>-2.077e+04</td> <td> 1.38e+04</td> <td>   -1.502</td> <td> 0.134</td> <td>-4.79e+04</td> <td> 6381.940</td>\n",
       "</tr>\n",
       "<tr>\n",
       "  <th>SaleType_Oth</th>          <td>    6.6345</td> <td> 1.42e+04</td> <td>    0.000</td> <td> 1.000</td> <td>-2.78e+04</td> <td> 2.78e+04</td>\n",
       "</tr>\n",
       "<tr>\n",
       "  <th>SaleType_WD</th>           <td> 1535.2080</td> <td> 4882.886</td> <td>    0.314</td> <td> 0.753</td> <td>-8054.130</td> <td> 1.11e+04</td>\n",
       "</tr>\n",
       "<tr>\n",
       "  <th>SaleCondition_Abnorml</th> <td> 1212.2248</td> <td> 5523.628</td> <td>    0.219</td> <td> 0.826</td> <td>-9635.446</td> <td> 1.21e+04</td>\n",
       "</tr>\n",
       "<tr>\n",
       "  <th>SaleCondition_AdjLand</th> <td>  3.03e+04</td> <td> 1.51e+04</td> <td>    2.004</td> <td> 0.045</td> <td>  611.202</td> <td>    6e+04</td>\n",
       "</tr>\n",
       "<tr>\n",
       "  <th>SaleCondition_Alloca</th>  <td>-6.319e+04</td> <td> 1.74e+04</td> <td>   -3.637</td> <td> 0.000</td> <td>-9.73e+04</td> <td>-2.91e+04</td>\n",
       "</tr>\n",
       "<tr>\n",
       "  <th>SaleCondition_Family</th>  <td> 1913.9576</td> <td> 7436.067</td> <td>    0.257</td> <td> 0.797</td> <td>-1.27e+04</td> <td> 1.65e+04</td>\n",
       "</tr>\n",
       "<tr>\n",
       "  <th>SaleCondition_Normal</th>  <td> 6091.5183</td> <td> 5152.168</td> <td>    1.182</td> <td> 0.238</td> <td>-4026.654</td> <td> 1.62e+04</td>\n",
       "</tr>\n",
       "<tr>\n",
       "  <th>SaleCondition_Partial</th> <td> 3.843e+04</td> <td> 1.35e+04</td> <td>    2.848</td> <td> 0.005</td> <td> 1.19e+04</td> <td> 6.49e+04</td>\n",
       "</tr>\n",
       "</table>\n",
       "<table class=\"simpletable\">\n",
       "<tr>\n",
       "  <th>Omnibus:</th>       <td>162.697</td> <th>  Durbin-Watson:     </th> <td>   2.100</td>\n",
       "</tr>\n",
       "<tr>\n",
       "  <th>Prob(Omnibus):</th> <td> 0.000</td>  <th>  Jarque-Bera (JB):  </th> <td>4063.877</td>\n",
       "</tr>\n",
       "<tr>\n",
       "  <th>Skew:</th>          <td> 0.060</td>  <th>  Prob(JB):          </th> <td>    0.00</td>\n",
       "</tr>\n",
       "<tr>\n",
       "  <th>Kurtosis:</th>      <td>13.932</td>  <th>  Cond. No.          </th> <td>1.02e+16</td>\n",
       "</tr>\n",
       "</table><br/><br/>Notes:<br/>[1] Standard Errors assume that the covariance matrix of the errors is correctly specified.<br/>[2] The smallest eigenvalue is 2.1e-28. This might indicate that there are<br/>strong multicollinearity problems or that the design matrix is singular."
      ],
      "text/plain": [
       "<class 'statsmodels.iolib.summary.Summary'>\n",
       "\"\"\"\n",
       "                            OLS Regression Results                            \n",
       "==============================================================================\n",
       "Dep. Variable:              SalePrice   R-squared:                       0.947\n",
       "Model:                            OLS   Adj. R-squared:                  0.929\n",
       "Method:                 Least Squares   F-statistic:                     52.49\n",
       "Date:                Wed, 05 Oct 2022   Prob (F-statistic):          1.04e-292\n",
       "Time:                        19:22:49   Log-Likelihood:                -9033.2\n",
       "No. Observations:                 816   AIC:                         1.848e+04\n",
       "Df Residuals:                     609   BIC:                         1.945e+04\n",
       "Df Model:                         206                                         \n",
       "Covariance Type:            nonrobust                                         \n",
       "=========================================================================================\n",
       "                            coef    std err          t      P>|t|      [0.025      0.975]\n",
       "-----------------------------------------------------------------------------------------\n",
       "const                  1.476e+04   2314.551      6.377      0.000    1.02e+04    1.93e+04\n",
       "MSSubClass            -4037.1669   7916.615     -0.510      0.610   -1.96e+04    1.15e+04\n",
       "LotFrontage            -141.9179   1127.610     -0.126      0.900   -2356.393    2072.558\n",
       "LotArea                5389.1691   1227.991      4.389      0.000    2977.559    7800.779\n",
       "OverallQual            7260.3696   1583.379      4.585      0.000    4150.824    1.04e+04\n",
       "OverallCond            5902.2908   1056.012      5.589      0.000    3828.423    7976.158\n",
       "YearBuilt              1.164e+04   3039.443      3.828      0.000    5666.604    1.76e+04\n",
       "YearRemodAdd           3052.8891   1441.364      2.118      0.035     222.241    5883.537\n",
       "MasVnrArea             -355.4218   1261.440     -0.282      0.778   -2832.722    2121.879\n",
       "BsmtFinSF1             6455.5019   1140.753      5.659      0.000    4215.215    8695.789\n",
       "BsmtFinSF2             1251.3657   1529.488      0.818      0.414   -1752.345    4255.077\n",
       "BsmtUnfSF               365.0046   1044.823      0.349      0.727   -1686.888    2416.897\n",
       "TotalBsmtSF            7859.4061   1795.774      4.377      0.000    4332.745    1.14e+04\n",
       "1stFlrSF               3915.2346   1881.544      2.081      0.038     220.132    7610.337\n",
       "2ndFlrSF               1.305e+04   1937.840      6.736      0.000    9247.410    1.69e+04\n",
       "LowQualFinSF           -112.3844    651.878     -0.172      0.863   -1392.585    1167.817\n",
       "GrLivArea              1.523e+04   1497.959     10.164      0.000    1.23e+04    1.82e+04\n",
       "BsmtFullBath            -43.8629   1129.974     -0.039      0.969   -2262.982    2175.256\n",
       "BsmtHalfBath           9.049e-11   1.23e-10      0.735      0.463   -1.51e-10    3.32e-10\n",
       "FullBath               -125.4669   1478.125     -0.085      0.932   -3028.309    2777.375\n",
       "HalfBath                125.0514   1247.822      0.100      0.920   -2325.505    2575.608\n",
       "BedroomAbvGr          -1116.8000   1245.932     -0.896      0.370   -3563.644    1330.044\n",
       "KitchenAbvGr          -9.725e-11   1.16e-10     -0.838      0.403   -3.25e-10    1.31e-10\n",
       "TotRmsAbvGrd            586.9154   1630.136      0.360      0.719   -2614.455    3788.286\n",
       "Fireplaces              -86.2884   2015.343     -0.043      0.966   -4044.153    3871.576\n",
       "GarageYrBlt           -1559.2819   1910.224     -0.816      0.415   -5310.708    2192.144\n",
       "GarageCars             2917.1654   1880.726      1.551      0.121    -776.330    6610.661\n",
       "GarageArea             3896.0608   1829.390      2.130      0.034     303.383    7488.739\n",
       "WoodDeckSF             3315.1666    801.438      4.137      0.000    1741.249    4889.084\n",
       "OpenPorchSF            1865.9858    856.734      2.178      0.030     183.473    3548.498\n",
       "EnclosedPorch           441.8079    870.517      0.508      0.612   -1267.772    2151.388\n",
       "3SsnPorch              -457.3665    622.660     -0.735      0.463   -1680.188     765.455\n",
       "ScreenPorch             969.4123    714.097      1.358      0.175    -432.979    2371.804\n",
       "PoolArea               1.227e-10   6.59e-11      1.864      0.063   -6.59e-12    2.52e-10\n",
       "MiscVal                -324.7769   1810.934     -0.179      0.858   -3881.210    3231.656\n",
       "MoSold                  366.4716    725.253      0.505      0.614   -1057.829    1790.772\n",
       "YrSold                 -648.4407    796.054     -0.815      0.416   -2211.785     914.903\n",
       "MSZoning_C (all)      -1.968e+04   1.01e+04     -1.947      0.052   -3.95e+04     171.627\n",
       "MSZoning_FV              2.4e+04   6581.458      3.646      0.000    1.11e+04    3.69e+04\n",
       "MSZoning_RH           -1181.3321   8610.354     -0.137      0.891   -1.81e+04    1.57e+04\n",
       "MSZoning_RL            4954.4379   4073.525      1.216      0.224   -3045.423     1.3e+04\n",
       "MSZoning_RM            6668.9132   4751.623      1.404      0.161   -2662.643     1.6e+04\n",
       "Alley_Grvl             5665.3080   4062.239      1.395      0.164   -2312.388    1.36e+04\n",
       "Alley_None             4926.9506   2572.941      1.915      0.056    -125.964    9979.865\n",
       "Alley_Pave             4167.6386   3961.275      1.052      0.293   -3611.778    1.19e+04\n",
       "LotShape_IR1           8383.6383   3368.500      2.489      0.013    1768.353     1.5e+04\n",
       "LotShape_IR2           6620.1747   4791.638      1.382      0.168   -2789.966     1.6e+04\n",
       "LotShape_IR3          -8214.4329   8903.749     -0.923      0.357   -2.57e+04    9271.346\n",
       "LotShape_Reg           7970.5172   3519.282      2.265      0.024    1059.116    1.49e+04\n",
       "LandContour_Bnk        5952.0299   4357.492      1.366      0.172   -2605.505    1.45e+04\n",
       "LandContour_HLS        9862.4357   3965.617      2.487      0.013    2074.491    1.77e+04\n",
       "LandContour_Low       -6958.8121   6114.133     -1.138      0.256    -1.9e+04    5048.531\n",
       "LandContour_Lvl        5904.2437   2693.608      2.192      0.029     614.355    1.12e+04\n",
       "LotConfig_Corner       6411.0725   3019.993      2.123      0.034     480.207    1.23e+04\n",
       "LotConfig_CulDSac      1.086e+04   3615.160      3.004      0.003    3761.182     1.8e+04\n",
       "LotConfig_FR2           975.3054   4133.291      0.236      0.814   -7141.928    9092.539\n",
       "LotConfig_FR3         -9042.4744   8961.508     -1.009      0.313   -2.66e+04    8556.735\n",
       "LotConfig_Inside       5555.1188   2691.234      2.064      0.039     269.893    1.08e+04\n",
       "Neighborhood_Blmngtn   1.261e+04   7214.986      1.748      0.081   -1557.282    2.68e+04\n",
       "Neighborhood_Blueste  -4041.5580   1.92e+04     -0.211      0.833   -4.17e+04    3.36e+04\n",
       "Neighborhood_BrDale    1.398e+04   8479.445      1.649      0.100   -2672.186    3.06e+04\n",
       "Neighborhood_BrkSide  -3110.3565   6368.266     -0.488      0.625   -1.56e+04    9396.070\n",
       "Neighborhood_ClearCr  -9246.5955   8358.044     -1.106      0.269   -2.57e+04    7167.491\n",
       "Neighborhood_CollgCr  -4841.9695   3215.018     -1.506      0.133   -1.12e+04    1471.899\n",
       "Neighborhood_Crawfor   2.595e+04   6487.546      4.000      0.000    1.32e+04    3.87e+04\n",
       "Neighborhood_Edwards  -1.209e+04   3625.877     -3.334      0.001   -1.92e+04   -4969.356\n",
       "Neighborhood_Gilbert  -6215.0040   4341.931     -1.431      0.153   -1.47e+04    2311.971\n",
       "Neighborhood_IDOTRR   -4367.1787   7617.847     -0.573      0.567   -1.93e+04    1.06e+04\n",
       "Neighborhood_MeadowV  -1.085e+04   9239.011     -1.175      0.241    -2.9e+04    7291.039\n",
       "Neighborhood_Mitchel  -9415.6897   4807.321     -1.959      0.051   -1.89e+04      25.250\n",
       "Neighborhood_NAmes    -7267.4541   3316.679     -2.191      0.029   -1.38e+04    -753.938\n",
       "Neighborhood_NPkVill   2.001e+04   1.42e+04      1.408      0.160   -7893.251    4.79e+04\n",
       "Neighborhood_NWAmes    -1.17e+04   4229.422     -2.766      0.006      -2e+04   -3392.916\n",
       "Neighborhood_NoRidge   5221.8373   6057.433      0.862      0.389   -6674.155    1.71e+04\n",
       "Neighborhood_NridgHt   1.361e+04   4792.904      2.840      0.005    4200.440     2.3e+04\n",
       "Neighborhood_OldTown  -7944.1935   6249.973     -1.271      0.204   -2.02e+04    4329.921\n",
       "Neighborhood_SWISU    -8787.2499   8160.745     -1.077      0.282   -2.48e+04    7239.367\n",
       "Neighborhood_Sawyer   -5080.9314   3897.390     -1.304      0.193   -1.27e+04    2573.023\n",
       "Neighborhood_SawyerW    865.8789   4429.477      0.195      0.845   -7833.026    9564.783\n",
       "Neighborhood_Somerst  -6983.1662   6424.086     -1.087      0.277   -1.96e+04    5632.883\n",
       "Neighborhood_StoneBr   4.506e+04   6328.915      7.120      0.000    3.26e+04    5.75e+04\n",
       "Neighborhood_Timber   -7671.2534   5261.924     -1.458      0.145    -1.8e+04    2662.465\n",
       "Neighborhood_Veenker  -2945.6217   9595.227     -0.307      0.759   -2.18e+04    1.59e+04\n",
       "Condition1_Artery     -4294.2952   6102.058     -0.704      0.482   -1.63e+04    7689.334\n",
       "Condition1_Feedr       4599.7775   4741.234      0.970      0.332   -4711.374    1.39e+04\n",
       "Condition1_Norm        1.025e+04   3703.963      2.767      0.006    2974.208    1.75e+04\n",
       "Condition1_PosA       -1.064e+04   1.11e+04     -0.961      0.337   -3.24e+04    1.11e+04\n",
       "Condition1_PosN        1.829e+04   9160.691      1.997      0.046     301.797    3.63e+04\n",
       "Condition1_RRAe       -1.987e+04   7559.242     -2.629      0.009   -3.47e+04   -5025.937\n",
       "Condition1_RRAn        5887.0421   6728.235      0.875      0.382   -7326.316    1.91e+04\n",
       "Condition1_RRNe       -1.755e-11   4.66e-11     -0.377      0.706   -1.09e-10    7.39e-11\n",
       "Condition1_RRNn        1.053e+04   1.76e+04      0.598      0.550   -2.41e+04    4.51e+04\n",
       "Condition2_Feedr       1.191e+04    1.7e+04      0.702      0.483   -2.14e+04    4.52e+04\n",
       "Condition2_Norm        2851.8635   1.57e+04      0.182      0.856   -2.79e+04    3.36e+04\n",
       "Condition2_RRNn       -1.048e-11   3.28e-11     -0.319      0.749   -7.49e-11    5.39e-11\n",
       "BldgType_1Fam           1.72e+04   9808.033      1.753      0.080   -2066.401    3.65e+04\n",
       "BldgType_2fmCon       -1.683e+04   2.48e+04     -0.677      0.498   -6.56e+04     3.2e+04\n",
       "BldgType_Duplex        2506.7839    1.2e+04      0.208      0.835   -2.11e+04    2.62e+04\n",
       "BldgType_Twnhs         3228.1808   1.39e+04      0.233      0.816    -2.4e+04    3.05e+04\n",
       "BldgType_TwnhsE        8655.7685   1.35e+04      0.639      0.523   -1.79e+04    3.53e+04\n",
       "HouseStyle_1.5Fin       362.5536   4469.695      0.081      0.935   -8415.332    9140.439\n",
       "HouseStyle_1.5Unf      1.528e+04      1e+04      1.523      0.128   -4423.554     3.5e+04\n",
       "HouseStyle_1Story      6722.4031   7942.726      0.846      0.398   -8876.054    2.23e+04\n",
       "HouseStyle_2.5Unf     -1.503e+04   1.31e+04     -1.150      0.250   -4.07e+04    1.06e+04\n",
       "HouseStyle_2Story     -2915.9217   4440.298     -0.657      0.512   -1.16e+04    5804.234\n",
       "HouseStyle_SFoyer      5768.8758   7868.480      0.733      0.464   -9683.772    2.12e+04\n",
       "HouseStyle_SLvl        4572.6871   6630.234      0.690      0.491   -8448.211    1.76e+04\n",
       "RoofStyle_Flat        -1031.4497   8398.738     -0.123      0.902   -1.75e+04    1.55e+04\n",
       "RoofStyle_Gable        -797.9611   6689.019     -0.119      0.905   -1.39e+04    1.23e+04\n",
       "RoofStyle_Gambrel      3568.2612   1.05e+04      0.340      0.734   -1.71e+04    2.42e+04\n",
       "RoofStyle_Hip           410.7403   6931.691      0.059      0.953   -1.32e+04     1.4e+04\n",
       "RoofStyle_Mansard      1.261e+04   1.67e+04      0.755      0.451   -2.02e+04    4.54e+04\n",
       "RoofMatl_CompShg       1.753e+04   1.19e+04      1.470      0.142   -5880.047    4.09e+04\n",
       "RoofMatl_Tar&Grv      -1031.4497   8398.738     -0.123      0.902   -1.75e+04    1.55e+04\n",
       "RoofMatl_WdShake      -1.678e+04   2.34e+04     -0.717      0.473   -6.27e+04    2.92e+04\n",
       "RoofMatl_WdShngl       1.504e+04   1.84e+04      0.819      0.413    -2.1e+04    5.11e+04\n",
       "Exterior1st_AsbShng    2.491e+04   2.24e+04      1.112      0.267   -1.91e+04    6.89e+04\n",
       "Exterior1st_BrkComm    2.223e+04   2.48e+04      0.896      0.371   -2.65e+04    7.09e+04\n",
       "Exterior1st_BrkFace    1.193e+04   7399.800      1.612      0.108   -2606.576    2.65e+04\n",
       "Exterior1st_CBlock    -5012.1834   1.28e+04     -0.392      0.695   -3.01e+04    2.01e+04\n",
       "Exterior1st_CemntBd   -1.776e+04   2.02e+04     -0.879      0.380   -5.74e+04    2.19e+04\n",
       "Exterior1st_HdBoard   -8790.1451   6013.423     -1.462      0.144   -2.06e+04    3019.418\n",
       "Exterior1st_ImStucc    1.903e+04   2.24e+04      0.849      0.396    -2.5e+04    6.31e+04\n",
       "Exterior1st_MetalSd   -1146.5434      1e+04     -0.114      0.909   -2.08e+04    1.85e+04\n",
       "Exterior1st_Plywood   -7463.5184   6290.256     -1.187      0.236   -1.98e+04    4889.707\n",
       "Exterior1st_Stucco    -6142.4426   1.17e+04     -0.524      0.600   -2.92e+04    1.69e+04\n",
       "Exterior1st_VinylSd   -8466.3242   8224.403     -1.029      0.304   -2.46e+04    7685.309\n",
       "Exterior1st_Wd Sdng   -8575.6751   5942.600     -1.443      0.150   -2.02e+04    3094.801\n",
       "Exterior1st_WdShing      14.5005   7989.722      0.002      0.999   -1.57e+04    1.57e+04\n",
       "Exterior2nd_AsbShng   -1.501e+04   2.04e+04     -0.736      0.462   -5.51e+04     2.5e+04\n",
       "Exterior2nd_Brk Cmn    1742.3718   1.77e+04      0.098      0.922    -3.3e+04    3.65e+04\n",
       "Exterior2nd_BrkFace   -4514.9818   9191.108     -0.491      0.623   -2.26e+04    1.35e+04\n",
       "Exterior2nd_CBlock    -5012.1834   1.28e+04     -0.392      0.695   -3.01e+04    2.01e+04\n",
       "Exterior2nd_CmentBd    2.183e+04   2.09e+04      1.045      0.296   -1.92e+04    6.28e+04\n",
       "Exterior2nd_HdBoard    2403.0179   6119.628      0.393      0.695   -9615.117    1.44e+04\n",
       "Exterior2nd_ImStucc   -4430.7674   1.19e+04     -0.373      0.709   -2.77e+04    1.89e+04\n",
       "Exterior2nd_MetalSd    5681.0473   1.04e+04      0.548      0.584   -1.47e+04     2.6e+04\n",
       "Exterior2nd_Other     -2.139e+04   2.03e+04     -1.054      0.292   -6.13e+04    1.85e+04\n",
       "Exterior2nd_Plywood    -854.8841   5771.433     -0.148      0.882   -1.22e+04    1.05e+04\n",
       "Exterior2nd_Stone     -1.258e+04   2.06e+04     -0.612      0.541    -5.3e+04    2.78e+04\n",
       "Exterior2nd_Stucco     3.351e+04   1.15e+04      2.927      0.004     1.1e+04     5.6e+04\n",
       "Exterior2nd_VinylSd    6848.9808   7806.453      0.877      0.381   -8481.855    2.22e+04\n",
       "Exterior2nd_Wd Sdng    7619.1419   5812.490      1.311      0.190   -3795.816     1.9e+04\n",
       "Exterior2nd_Wd Shng   -1090.9002   7037.076     -0.155      0.877   -1.49e+04    1.27e+04\n",
       "MasVnrType_BrkCmn      1057.2122   6780.023      0.156      0.876   -1.23e+04    1.44e+04\n",
       "MasVnrType_BrkFace     2150.2084   2599.523      0.827      0.408   -2954.910    7255.327\n",
       "MasVnrType_None        1091.3073   2905.926      0.376      0.707   -4615.544    6798.159\n",
       "MasVnrType_Stone       1.046e+04   3115.212      3.358      0.001    4343.308    1.66e+04\n",
       "ExterQual_Ex           6516.8146   6269.455      1.039      0.299   -5795.561    1.88e+04\n",
       "ExterQual_Fa           1.573e+04   1.22e+04      1.286      0.199   -8286.267    3.97e+04\n",
       "ExterQual_Gd          -2724.1701   4597.986     -0.592      0.554   -1.18e+04    6305.663\n",
       "ExterQual_TA          -4761.2186   4704.702     -1.012      0.312    -1.4e+04    4478.189\n",
       "ExterCond_Fa          -4134.6507   6100.908     -0.678      0.498   -1.61e+04    7846.722\n",
       "ExterCond_Gd           6443.3421   3493.133      1.845      0.066    -416.707    1.33e+04\n",
       "ExterCond_TA           1.245e+04   3084.195      4.037      0.000    6394.257    1.85e+04\n",
       "Foundation_BrkTil     -2634.1719   4756.073     -0.554      0.580    -1.2e+04    6706.123\n",
       "Foundation_CBlock      -301.2727   4001.128     -0.075      0.940   -8158.956    7556.410\n",
       "Foundation_PConc       1228.0763   4358.912      0.282      0.778   -7332.247    9788.400\n",
       "Foundation_Slab        1218.0450   9434.661      0.129      0.897   -1.73e+04    1.97e+04\n",
       "Foundation_Stone       1.525e+04   1.27e+04      1.197      0.232   -9769.939    4.03e+04\n",
       "Foundation_Wood        2.768e-11   1.97e-11      1.401      0.162   -1.11e-11    6.65e-11\n",
       "BsmtQual_Ex            1.725e+04   3798.279      4.543      0.000    9794.514    2.47e+04\n",
       "BsmtQual_Fa            3355.0272   5620.424      0.597      0.551   -7682.737    1.44e+04\n",
       "BsmtQual_Gd           -4716.3273   2616.864     -1.802      0.072   -9855.501     422.846\n",
       "BsmtQual_None          3020.8536   2016.727      1.498      0.135    -939.730    6981.437\n",
       "BsmtQual_TA           -4153.4847   2721.163     -1.526      0.127   -9497.487    1190.517\n",
       "BsmtCond_Fa            1822.7107   3463.542      0.526      0.599   -4979.225    8624.646\n",
       "BsmtCond_Gd            2551.2816   3077.108      0.829      0.407   -3491.749    8594.312\n",
       "BsmtCond_None          3020.8536   2016.727      1.498      0.135    -939.730    6981.437\n",
       "BsmtCond_TA            7365.0513   2148.982      3.427      0.001    3144.737    1.16e+04\n",
       "BsmtExposure_Av         904.4547   1880.260      0.481      0.631   -2788.125    4597.035\n",
       "BsmtExposure_Gd        1.608e+04   2635.519      6.102      0.000    1.09e+04    2.13e+04\n",
       "BsmtExposure_Mn       -3268.8971   2537.382     -1.288      0.198   -8251.978    1714.184\n",
       "BsmtExposure_No       -1978.7810   1651.662     -1.198      0.231   -5222.426    1264.864\n",
       "BsmtExposure_None      3020.8536   2016.727      1.498      0.135    -939.730    6981.437\n",
       "BsmtFinType1_ALQ       1901.5260   2142.817      0.887      0.375   -2306.681    6109.733\n",
       "BsmtFinType1_BLQ       1154.3728   2387.858      0.483      0.629   -3535.062    5843.808\n",
       "BsmtFinType1_GLQ       9764.3463   2220.690      4.397      0.000    5403.208    1.41e+04\n",
       "BsmtFinType1_LwQ      -3502.9960   3784.229     -0.926      0.355   -1.09e+04    3928.727\n",
       "BsmtFinType1_None      3020.8536   2016.727      1.498      0.135    -939.730    6981.437\n",
       "BsmtFinType1_Rec        378.8678   2542.673      0.149      0.882   -4614.604    5372.339\n",
       "BsmtFinType1_Unf       2042.9267   2312.748      0.883      0.377   -2499.003    6584.856\n",
       "BsmtFinType2_ALQ       6677.1783   1.17e+04      0.573      0.567   -1.62e+04    2.96e+04\n",
       "BsmtFinType2_BLQ      -3846.5499   5719.393     -0.673      0.501   -1.51e+04    7385.577\n",
       "BsmtFinType2_GLQ        2.01e+04   1.12e+04      1.788      0.074   -1972.761    4.22e+04\n",
       "BsmtFinType2_LwQ      -4942.9528   5223.272     -0.946      0.344   -1.52e+04    5314.858\n",
       "BsmtFinType2_None      3020.8536   2016.727      1.498      0.135    -939.730    6981.437\n",
       "BsmtFinType2_Rec      -5754.0173   5248.696     -1.096      0.273   -1.61e+04    4553.724\n",
       "BsmtFinType2_Unf       -495.9588   5559.260     -0.089      0.929   -1.14e+04    1.04e+04\n",
       "Heating_Floor          1.287e-12   8.27e-12      0.156      0.876   -1.49e-11    1.75e-11\n",
       "Heating_GasA          -4629.4827   8690.194     -0.533      0.594   -2.17e+04    1.24e+04\n",
       "Heating_GasW           1577.2678   1.09e+04      0.145      0.885   -1.98e+04    2.29e+04\n",
       "Heating_Grav          -8166.0070   1.42e+04     -0.577      0.564    -3.6e+04    1.96e+04\n",
       "Heating_Wall           2.598e+04   1.87e+04      1.390      0.165   -1.07e+04    6.27e+04\n",
       "HeatingQC_Ex           4637.0500   2178.261      2.129      0.034     359.235    8914.865\n",
       "HeatingQC_Fa           3637.8528   4492.986      0.810      0.418   -5185.773    1.25e+04\n",
       "HeatingQC_Gd           1987.8895   2211.000      0.899      0.369   -2354.220    6329.999\n",
       "HeatingQC_TA           4497.1049   2021.657      2.224      0.026     526.839    8467.370\n",
       "CentralAir_N           1.007e+04   2930.316      3.437      0.001    4317.396    1.58e+04\n",
       "CentralAir_Y           4687.7495   3042.695      1.541      0.124   -1287.699    1.07e+04\n",
       "Electrical_FuseA       5765.3979   3251.971      1.773      0.077    -621.041    1.22e+04\n",
       "Electrical_FuseF       4219.1713   4836.566      0.872      0.383   -5279.201    1.37e+04\n",
       "Electrical_FuseP       3.483e-12   2.67e-12      1.305      0.192   -1.76e-12    8.72e-12\n",
       "Electrical_SBrkr       4775.3281   3001.651      1.591      0.112   -1119.515    1.07e+04\n",
       "KitchenQual_Ex         1.644e+04   3612.247      4.552      0.000    9349.843    2.35e+04\n",
       "KitchenQual_Fa          852.2273   4947.655      0.172      0.863   -8864.309    1.06e+04\n",
       "KitchenQual_Gd        -3017.4608   2362.067     -1.277      0.202   -7656.246    1621.324\n",
       "KitchenQual_TA          481.3145   2295.289      0.210      0.834   -4026.327    4988.956\n",
       "Functional_Maj1        7505.5953   9388.479      0.799      0.424   -1.09e+04    2.59e+04\n",
       "Functional_Maj2        5608.6692   1.75e+04      0.320      0.749   -2.89e+04    4.01e+04\n",
       "Functional_Min1         391.8296   6135.390      0.064      0.949   -1.17e+04    1.24e+04\n",
       "Functional_Min2        7210.2951   6092.575      1.183      0.237   -4754.712    1.92e+04\n",
       "Functional_Mod        -2.131e+04   9602.008     -2.220      0.027   -4.02e+04   -2455.721\n",
       "Functional_Typ         1.536e+04   4549.688      3.375      0.001    6421.314    2.43e+04\n",
       "FireplaceQu_Ex         5760.7356   5939.277      0.970      0.332   -5903.215    1.74e+04\n",
       "FireplaceQu_Fa        -7926.2045   4592.503     -1.726      0.085   -1.69e+04    1092.860\n",
       "FireplaceQu_Gd         2059.1648   2464.817      0.835      0.404   -2781.407    6899.737\n",
       "FireplaceQu_None      -1903.6154   3752.397     -0.507      0.612   -9272.824    5465.594\n",
       "FireplaceQu_Po         1.521e+04   5940.477      2.560      0.011    3542.095    2.69e+04\n",
       "FireplaceQu_TA         1561.4155   2649.922      0.589      0.556   -3642.678    6765.509\n",
       "GarageType_Attchd     -4481.0469   4310.489     -1.040      0.299   -1.29e+04    3984.179\n",
       "GarageType_Basment    -1036.2755   6656.528     -0.156      0.876   -1.41e+04     1.2e+04\n",
       "GarageType_BuiltIn    -2052.3981   5216.929     -0.393      0.694   -1.23e+04    8192.956\n",
       "GarageType_CarPort     2.207e+04   1.64e+04      1.344      0.179   -1.02e+04    5.43e+04\n",
       "GarageType_Detchd     -1620.7376   4440.938     -0.365      0.715   -1.03e+04    7100.674\n",
       "GarageType_None        1883.4485   1742.908      1.081      0.280   -1539.391    5306.288\n",
       "GarageFinish_Fin       3158.3561   1705.909      1.851      0.065    -191.822    6508.534\n",
       "GarageFinish_None      1883.4485   1742.908      1.081      0.280   -1539.391    5306.288\n",
       "GarageFinish_RFn       5541.6969   1552.051      3.571      0.000    2493.676    8589.718\n",
       "GarageFinish_Unf       4176.3958   1819.386      2.295      0.022     603.364    7749.428\n",
       "GarageQual_Ex          5033.8565   6318.023      0.797      0.426   -7373.900    1.74e+04\n",
       "GarageQual_Fa         -3796.7325   5167.983     -0.735      0.463   -1.39e+04    6352.499\n",
       "GarageQual_Gd          8564.3750   7331.763      1.168      0.243   -5834.231     2.3e+04\n",
       "GarageQual_None        1883.4485   1742.908      1.081      0.280   -1539.391    5306.288\n",
       "GarageQual_Po                  0          0        nan        nan           0           0\n",
       "GarageQual_TA          3074.9498   3805.664      0.808      0.419   -4398.868    1.05e+04\n",
       "GarageCond_Ex          5033.8565   6318.023      0.797      0.426   -7373.900    1.74e+04\n",
       "GarageCond_Fa         -7124.2716   6855.726     -1.039      0.299   -2.06e+04    6339.461\n",
       "GarageCond_Gd           228.1941   9263.471      0.025      0.980    -1.8e+04    1.84e+04\n",
       "GarageCond_None        1883.4485   1742.908      1.081      0.280   -1539.391    5306.288\n",
       "GarageCond_Po          1.569e+04   1.48e+04      1.060      0.290   -1.34e+04    4.47e+04\n",
       "GarageCond_TA          -946.4208   5305.753     -0.178      0.858   -1.14e+04    9473.371\n",
       "PavedDrive_N           8411.3838   3239.761      2.596      0.010    2048.924    1.48e+04\n",
       "PavedDrive_P           -601.5874   4084.458     -0.147      0.883   -8622.919    7419.744\n",
       "PavedDrive_Y           6950.1009   2712.192      2.563      0.011    1623.716    1.23e+04\n",
       "PoolQC_None            1.476e+04   2314.551      6.377      0.000    1.02e+04    1.93e+04\n",
       "Fence_GdPrv            2507.2853   4021.830      0.623      0.533   -5391.054    1.04e+04\n",
       "Fence_GdWo             4815.7379   3513.057      1.371      0.171   -2083.439    1.17e+04\n",
       "Fence_MnPrv            6989.5058   2755.970      2.536      0.011    1577.147    1.24e+04\n",
       "Fence_MnWw            -5922.9939   6693.392     -0.885      0.377   -1.91e+04    7221.937\n",
       "Fence_None             6370.3621   2344.943      2.717      0.007    1765.205     1.1e+04\n",
       "MiscFeature_None       4095.0948   5487.034      0.746      0.456   -6680.709    1.49e+04\n",
       "MiscFeature_Shed       1.066e+04   5770.290      1.848      0.065    -667.279     2.2e+04\n",
       "SaleType_COD          -1098.0380   6494.965     -0.169      0.866   -1.39e+04    1.17e+04\n",
       "SaleType_CWD           4.347e+04   1.33e+04      3.271      0.001    1.74e+04    6.96e+04\n",
       "SaleType_Con           1.432e+04   1.75e+04      0.816      0.415   -2.01e+04    4.88e+04\n",
       "SaleType_ConLD        -8072.7020   1.03e+04     -0.781      0.435   -2.84e+04    1.22e+04\n",
       "SaleType_ConLI        -5650.7356   1.14e+04     -0.495      0.621   -2.81e+04    1.68e+04\n",
       "SaleType_ConLw        -8979.7898   1.95e+04     -0.460      0.646   -4.73e+04    2.94e+04\n",
       "SaleType_New          -2.077e+04   1.38e+04     -1.502      0.134   -4.79e+04    6381.940\n",
       "SaleType_Oth              6.6345   1.42e+04      0.000      1.000   -2.78e+04    2.78e+04\n",
       "SaleType_WD            1535.2080   4882.886      0.314      0.753   -8054.130    1.11e+04\n",
       "SaleCondition_Abnorml  1212.2248   5523.628      0.219      0.826   -9635.446    1.21e+04\n",
       "SaleCondition_AdjLand   3.03e+04   1.51e+04      2.004      0.045     611.202       6e+04\n",
       "SaleCondition_Alloca  -6.319e+04   1.74e+04     -3.637      0.000   -9.73e+04   -2.91e+04\n",
       "SaleCondition_Family   1913.9576   7436.067      0.257      0.797   -1.27e+04    1.65e+04\n",
       "SaleCondition_Normal   6091.5183   5152.168      1.182      0.238   -4026.654    1.62e+04\n",
       "SaleCondition_Partial  3.843e+04   1.35e+04      2.848      0.005    1.19e+04    6.49e+04\n",
       "==============================================================================\n",
       "Omnibus:                      162.697   Durbin-Watson:                   2.100\n",
       "Prob(Omnibus):                  0.000   Jarque-Bera (JB):             4063.877\n",
       "Skew:                           0.060   Prob(JB):                         0.00\n",
       "Kurtosis:                      13.932   Cond. No.                     1.02e+16\n",
       "==============================================================================\n",
       "\n",
       "Notes:\n",
       "[1] Standard Errors assume that the covariance matrix of the errors is correctly specified.\n",
       "[2] The smallest eigenvalue is 2.1e-28. This might indicate that there are\n",
       "strong multicollinearity problems or that the design matrix is singular.\n",
       "\"\"\""
      ]
     },
     "execution_count": 44,
     "metadata": {},
     "output_type": "execute_result"
    }
   ],
   "source": [
    "from statsmodels.api import OLS,add_constant\n",
    "xconst = add_constant(xtrain,has_constant=\"add\")\n",
    "ols = OLS(ytrain,xconst)\n",
    "model = ols.fit()\n",
    "model.summary()"
   ]
  },
  {
   "cell_type": "code",
   "execution_count": 45,
   "id": "a02ce6ea",
   "metadata": {},
   "outputs": [
    {
     "data": {
      "text/plain": [
       "0.92865"
      ]
     },
     "execution_count": 45,
     "metadata": {},
     "output_type": "execute_result"
    }
   ],
   "source": [
    "round(model.rsquared_adj,5)"
   ]
  },
  {
   "cell_type": "code",
   "execution_count": 46,
   "id": "4c430a99",
   "metadata": {},
   "outputs": [
    {
     "data": {
      "text/plain": [
       "Index(['GrLivArea', 'Neighborhood_StoneBr', '2ndFlrSF', 'PoolQC_None', 'const',\n",
       "       'BsmtExposure_Gd', 'BsmtFinSF1', 'OverallCond', 'OverallQual',\n",
       "       'KitchenQual_Ex',\n",
       "       ...\n",
       "       'HouseStyle_1.5Fin', 'Foundation_CBlock', 'Functional_Min1',\n",
       "       'RoofStyle_Hip', 'Fireplaces', 'BsmtFullBath', 'GarageCond_Gd',\n",
       "       'Exterior1st_WdShing', 'SaleType_Oth', 'GarageQual_Po'],\n",
       "      dtype='object', length=268)"
      ]
     },
     "execution_count": 46,
     "metadata": {},
     "output_type": "execute_result"
    }
   ],
   "source": [
    "model.pvalues.sort_values().index"
   ]
  },
  {
   "cell_type": "markdown",
   "id": "e4a87fdf",
   "metadata": {},
   "source": [
    "# Model 2"
   ]
  },
  {
   "cell_type": "code",
   "execution_count": 47,
   "id": "252b0877",
   "metadata": {},
   "outputs": [
    {
     "data": {
      "text/plain": [
       "'GarageQual_Po'"
      ]
     },
     "execution_count": 47,
     "metadata": {},
     "output_type": "execute_result"
    }
   ],
   "source": [
    "model.pvalues.sort_values().index[-1]"
   ]
  },
  {
   "cell_type": "code",
   "execution_count": 48,
   "id": "4fd043db",
   "metadata": {},
   "outputs": [],
   "source": [
    "col_to_be_dropped= model.pvalues.sort_values().index[-1]"
   ]
  },
  {
   "cell_type": "code",
   "execution_count": 49,
   "id": "1baf997a",
   "metadata": {},
   "outputs": [
    {
     "data": {
      "text/plain": [
       "0.92865"
      ]
     },
     "execution_count": 49,
     "metadata": {},
     "output_type": "execute_result"
    }
   ],
   "source": [
    "Xnew = Xnew.drop(labels=col_to_be_dropped,axis=1)\n",
    "from sklearn.model_selection import train_test_split\n",
    "xtrain,xtest,ytrain,ytest=train_test_split(Xnew,Y,test_size=0.2,random_state=31)\n",
    "from statsmodels.api import OLS,add_constant\n",
    "xconst = add_constant(xtrain,has_constant=\"add\")\n",
    "ols = OLS(ytrain,xconst)\n",
    "model = ols.fit()\n",
    "round(model.rsquared_adj,5)"
   ]
  },
  {
   "cell_type": "markdown",
   "id": "9d6071a0",
   "metadata": {},
   "source": [
    "# Model 3"
   ]
  },
  {
   "cell_type": "code",
   "execution_count": 50,
   "id": "f8bdf237",
   "metadata": {},
   "outputs": [
    {
     "data": {
      "text/plain": [
       "'SaleType_Oth'"
      ]
     },
     "execution_count": 50,
     "metadata": {},
     "output_type": "execute_result"
    }
   ],
   "source": [
    "model.pvalues.sort_values().index[-1]"
   ]
  },
  {
   "cell_type": "code",
   "execution_count": 51,
   "id": "3f34cf75",
   "metadata": {},
   "outputs": [],
   "source": [
    "col_to_be_dropped= model.pvalues.sort_values().index[-1]"
   ]
  },
  {
   "cell_type": "code",
   "execution_count": 52,
   "id": "51c57cb8",
   "metadata": {},
   "outputs": [
    {
     "data": {
      "text/plain": [
       "0.92865"
      ]
     },
     "execution_count": 52,
     "metadata": {},
     "output_type": "execute_result"
    }
   ],
   "source": [
    "Xnew = Xnew.drop(labels=col_to_be_dropped,axis=1)\n",
    "from sklearn.model_selection import train_test_split\n",
    "xtrain,xtest,ytrain,ytest=train_test_split(Xnew,Y,test_size=0.2,random_state=31)\n",
    "from statsmodels.api import OLS,add_constant\n",
    "xconst = add_constant(xtrain,has_constant=\"add\")\n",
    "ols = OLS(ytrain,xconst)\n",
    "model = ols.fit()\n",
    "round(model.rsquared_adj,5)"
   ]
  },
  {
   "cell_type": "markdown",
   "id": "e07ed7e2",
   "metadata": {},
   "source": [
    "# Model 4"
   ]
  },
  {
   "cell_type": "code",
   "execution_count": 53,
   "id": "d708006f",
   "metadata": {},
   "outputs": [
    {
     "data": {
      "text/plain": [
       "'Exterior1st_WdShing'"
      ]
     },
     "execution_count": 53,
     "metadata": {},
     "output_type": "execute_result"
    }
   ],
   "source": [
    "model.pvalues.sort_values().index[-1]"
   ]
  },
  {
   "cell_type": "code",
   "execution_count": 54,
   "id": "8fd32262",
   "metadata": {},
   "outputs": [
    {
     "data": {
      "text/plain": [
       "0.92865"
      ]
     },
     "execution_count": 54,
     "metadata": {},
     "output_type": "execute_result"
    }
   ],
   "source": [
    "col_to_be_dropped= model.pvalues.sort_values().index[-1]\n",
    "Xnew = Xnew.drop(labels=col_to_be_dropped,axis=1)\n",
    "from sklearn.model_selection import train_test_split\n",
    "xtrain,xtest,ytrain,ytest=train_test_split(Xnew,Y,test_size=0.2,random_state=31)\n",
    "from statsmodels.api import OLS,add_constant\n",
    "xconst = add_constant(xtrain,has_constant=\"add\")\n",
    "ols = OLS(ytrain,xconst)\n",
    "model = ols.fit()\n",
    "round(model.rsquared_adj,5)"
   ]
  },
  {
   "cell_type": "markdown",
   "id": "7dfb1a38",
   "metadata": {},
   "source": [
    "# Model 5"
   ]
  },
  {
   "cell_type": "code",
   "execution_count": 55,
   "id": "912a7343",
   "metadata": {},
   "outputs": [
    {
     "data": {
      "text/plain": [
       "'GarageCond_Gd'"
      ]
     },
     "execution_count": 55,
     "metadata": {},
     "output_type": "execute_result"
    }
   ],
   "source": [
    "model.pvalues.sort_values().index[-1]"
   ]
  },
  {
   "cell_type": "code",
   "execution_count": 56,
   "id": "e50e0acd",
   "metadata": {},
   "outputs": [
    {
     "data": {
      "text/plain": [
       "0.92865"
      ]
     },
     "execution_count": 56,
     "metadata": {},
     "output_type": "execute_result"
    }
   ],
   "source": [
    "col_to_be_dropped= model.pvalues.sort_values().index[-1]\n",
    "Xnew = Xnew.drop(labels=col_to_be_dropped,axis=1)\n",
    "from sklearn.model_selection import train_test_split\n",
    "xtrain,xtest,ytrain,ytest=train_test_split(Xnew,Y,test_size=0.2,random_state=31)\n",
    "from statsmodels.api import OLS,add_constant\n",
    "xconst = add_constant(xtrain,has_constant=\"add\")\n",
    "ols = OLS(ytrain,xconst)\n",
    "model = ols.fit()\n",
    "round(model.rsquared_adj,5)"
   ]
  },
  {
   "cell_type": "markdown",
   "id": "7aa91559",
   "metadata": {},
   "source": [
    "# Model 6"
   ]
  },
  {
   "cell_type": "code",
   "execution_count": 57,
   "id": "f005dcff",
   "metadata": {},
   "outputs": [
    {
     "data": {
      "text/plain": [
       "'BsmtFullBath'"
      ]
     },
     "execution_count": 57,
     "metadata": {},
     "output_type": "execute_result"
    }
   ],
   "source": [
    "model.pvalues.sort_values().index[-1]"
   ]
  },
  {
   "cell_type": "code",
   "execution_count": 58,
   "id": "c02403ce",
   "metadata": {},
   "outputs": [
    {
     "data": {
      "text/plain": [
       "0.92877"
      ]
     },
     "execution_count": 58,
     "metadata": {},
     "output_type": "execute_result"
    }
   ],
   "source": [
    "col_to_be_dropped= model.pvalues.sort_values().index[-1]\n",
    "Xnew = Xnew.drop(labels=col_to_be_dropped,axis=1)\n",
    "from sklearn.model_selection import train_test_split\n",
    "xtrain,xtest,ytrain,ytest=train_test_split(Xnew,Y,test_size=0.2,random_state=31)\n",
    "from statsmodels.api import OLS,add_constant\n",
    "xconst = add_constant(xtrain,has_constant=\"add\")\n",
    "ols = OLS(ytrain,xconst)\n",
    "model = ols.fit()\n",
    "round(model.rsquared_adj,5)"
   ]
  },
  {
   "cell_type": "markdown",
   "id": "0e639130",
   "metadata": {},
   "source": [
    "# Model 7"
   ]
  },
  {
   "cell_type": "code",
   "execution_count": 59,
   "id": "502ab319",
   "metadata": {},
   "outputs": [
    {
     "data": {
      "text/plain": [
       "'Fireplaces'"
      ]
     },
     "execution_count": 59,
     "metadata": {},
     "output_type": "execute_result"
    }
   ],
   "source": [
    "model.pvalues.sort_values().index[-1]"
   ]
  },
  {
   "cell_type": "code",
   "execution_count": 60,
   "id": "8551645a",
   "metadata": {},
   "outputs": [
    {
     "data": {
      "text/plain": [
       "0.92888"
      ]
     },
     "execution_count": 60,
     "metadata": {},
     "output_type": "execute_result"
    }
   ],
   "source": [
    "col_to_be_dropped= model.pvalues.sort_values().index[-1]\n",
    "Xnew = Xnew.drop(labels=col_to_be_dropped,axis=1)\n",
    "from sklearn.model_selection import train_test_split\n",
    "xtrain,xtest,ytrain,ytest=train_test_split(Xnew,Y,test_size=0.2,random_state=31)\n",
    "from statsmodels.api import OLS,add_constant\n",
    "xconst = add_constant(xtrain,has_constant=\"add\")\n",
    "ols = OLS(ytrain,xconst)\n",
    "model = ols.fit()\n",
    "round(model.rsquared_adj,5)"
   ]
  },
  {
   "cell_type": "markdown",
   "id": "cd9f7069",
   "metadata": {},
   "source": [
    "# Model 8"
   ]
  },
  {
   "cell_type": "code",
   "execution_count": 61,
   "id": "761205ad",
   "metadata": {},
   "outputs": [
    {
     "data": {
      "text/plain": [
       "'RoofStyle_Hip'"
      ]
     },
     "execution_count": 61,
     "metadata": {},
     "output_type": "execute_result"
    }
   ],
   "source": [
    "model.pvalues.sort_values().index[-1]"
   ]
  },
  {
   "cell_type": "code",
   "execution_count": 62,
   "id": "61832bc9",
   "metadata": {},
   "outputs": [
    {
     "data": {
      "text/plain": [
       "0.92888"
      ]
     },
     "execution_count": 62,
     "metadata": {},
     "output_type": "execute_result"
    }
   ],
   "source": [
    "col_to_be_dropped= model.pvalues.sort_values().index[-1]\n",
    "Xnew = Xnew.drop(labels=col_to_be_dropped,axis=1)\n",
    "from sklearn.model_selection import train_test_split\n",
    "xtrain,xtest,ytrain,ytest=train_test_split(Xnew,Y,test_size=0.2,random_state=31)\n",
    "from statsmodels.api import OLS,add_constant\n",
    "xconst = add_constant(xtrain,has_constant=\"add\")\n",
    "ols = OLS(ytrain,xconst)\n",
    "model = ols.fit()\n",
    "round(model.rsquared_adj,5)"
   ]
  },
  {
   "cell_type": "markdown",
   "id": "695d57eb",
   "metadata": {},
   "source": [
    "# Model 9"
   ]
  },
  {
   "cell_type": "code",
   "execution_count": 63,
   "id": "d7c4a818",
   "metadata": {},
   "outputs": [
    {
     "data": {
      "text/plain": [
       "'Functional_Min1'"
      ]
     },
     "execution_count": 63,
     "metadata": {},
     "output_type": "execute_result"
    }
   ],
   "source": [
    "model.pvalues.sort_values().index[-1]"
   ]
  },
  {
   "cell_type": "code",
   "execution_count": 64,
   "id": "32e1d98a",
   "metadata": {},
   "outputs": [
    {
     "data": {
      "text/plain": [
       "0.92888"
      ]
     },
     "execution_count": 64,
     "metadata": {},
     "output_type": "execute_result"
    }
   ],
   "source": [
    "col_to_be_dropped= model.pvalues.sort_values().index[-1]\n",
    "Xnew = Xnew.drop(labels=col_to_be_dropped,axis=1)\n",
    "from sklearn.model_selection import train_test_split\n",
    "xtrain,xtest,ytrain,ytest=train_test_split(Xnew,Y,test_size=0.2,random_state=31)\n",
    "from statsmodels.api import OLS,add_constant\n",
    "xconst = add_constant(xtrain,has_constant=\"add\")\n",
    "ols = OLS(ytrain,xconst)\n",
    "model = ols.fit()\n",
    "round(model.rsquared_adj,5)"
   ]
  },
  {
   "cell_type": "markdown",
   "id": "5730ee30",
   "metadata": {},
   "source": [
    "# Model 10"
   ]
  },
  {
   "cell_type": "code",
   "execution_count": 65,
   "id": "091fba1a",
   "metadata": {},
   "outputs": [
    {
     "data": {
      "text/plain": [
       "'PoolArea'"
      ]
     },
     "execution_count": 65,
     "metadata": {},
     "output_type": "execute_result"
    }
   ],
   "source": [
    "model.pvalues.sort_values().index[-1]"
   ]
  },
  {
   "cell_type": "code",
   "execution_count": 66,
   "id": "de4e58ea",
   "metadata": {},
   "outputs": [
    {
     "data": {
      "text/plain": [
       "0.92888"
      ]
     },
     "execution_count": 66,
     "metadata": {},
     "output_type": "execute_result"
    }
   ],
   "source": [
    "col_to_be_dropped= model.pvalues.sort_values().index[-1]\n",
    "Xnew = Xnew.drop(labels=col_to_be_dropped,axis=1)\n",
    "from sklearn.model_selection import train_test_split\n",
    "xtrain,xtest,ytrain,ytest=train_test_split(Xnew,Y,test_size=0.2,random_state=31)\n",
    "from statsmodels.api import OLS,add_constant\n",
    "xconst = add_constant(xtrain,has_constant=\"add\")\n",
    "ols = OLS(ytrain,xconst)\n",
    "model = ols.fit()\n",
    "round(model.rsquared_adj,5)"
   ]
  },
  {
   "cell_type": "markdown",
   "id": "10701472",
   "metadata": {},
   "source": [
    "# Model 11"
   ]
  },
  {
   "cell_type": "code",
   "execution_count": 67,
   "id": "b8544975",
   "metadata": {},
   "outputs": [
    {
     "data": {
      "text/plain": [
       "'SaleType_COD'"
      ]
     },
     "execution_count": 67,
     "metadata": {},
     "output_type": "execute_result"
    }
   ],
   "source": [
    "model.pvalues.sort_values().index[-1]"
   ]
  },
  {
   "cell_type": "code",
   "execution_count": 68,
   "id": "bd0f7df7",
   "metadata": {},
   "outputs": [
    {
     "data": {
      "text/plain": [
       "0.929"
      ]
     },
     "execution_count": 68,
     "metadata": {},
     "output_type": "execute_result"
    }
   ],
   "source": [
    "col_to_be_dropped= model.pvalues.sort_values().index[-1]\n",
    "Xnew = Xnew.drop(labels=col_to_be_dropped,axis=1)\n",
    "from sklearn.model_selection import train_test_split\n",
    "xtrain,xtest,ytrain,ytest=train_test_split(Xnew,Y,test_size=0.2,random_state=31)\n",
    "from statsmodels.api import OLS,add_constant\n",
    "xconst = add_constant(xtrain,has_constant=\"add\")\n",
    "ols = OLS(ytrain,xconst)\n",
    "model = ols.fit()\n",
    "round(model.rsquared_adj,5)"
   ]
  },
  {
   "cell_type": "markdown",
   "id": "7be06b57",
   "metadata": {},
   "source": [
    "# Model 12"
   ]
  },
  {
   "cell_type": "code",
   "execution_count": 69,
   "id": "e320f80f",
   "metadata": {},
   "outputs": [
    {
     "data": {
      "text/plain": [
       "'BsmtHalfBath'"
      ]
     },
     "execution_count": 69,
     "metadata": {},
     "output_type": "execute_result"
    }
   ],
   "source": [
    "model.pvalues.sort_values().index[-1]"
   ]
  },
  {
   "cell_type": "code",
   "execution_count": 70,
   "id": "c204c902",
   "metadata": {},
   "outputs": [
    {
     "data": {
      "text/plain": [
       "0.929"
      ]
     },
     "execution_count": 70,
     "metadata": {},
     "output_type": "execute_result"
    }
   ],
   "source": [
    "col_to_be_dropped= model.pvalues.sort_values().index[-1]\n",
    "Xnew = Xnew.drop(labels=col_to_be_dropped,axis=1)\n",
    "from sklearn.model_selection import train_test_split\n",
    "xtrain,xtest,ytrain,ytest=train_test_split(Xnew,Y,test_size=0.2,random_state=31)\n",
    "from statsmodels.api import OLS,add_constant\n",
    "xconst = add_constant(xtrain,has_constant=\"add\")\n",
    "ols = OLS(ytrain,xconst)\n",
    "model = ols.fit()\n",
    "round(model.rsquared_adj,5)"
   ]
  },
  {
   "cell_type": "markdown",
   "id": "819b6177",
   "metadata": {},
   "source": [
    "# Model 13"
   ]
  },
  {
   "cell_type": "code",
   "execution_count": 71,
   "id": "c5c926e5",
   "metadata": {},
   "outputs": [
    {
     "data": {
      "text/plain": [
       "'Foundation_CBlock'"
      ]
     },
     "execution_count": 71,
     "metadata": {},
     "output_type": "execute_result"
    }
   ],
   "source": [
    "model.pvalues.sort_values().index[-1]"
   ]
  },
  {
   "cell_type": "code",
   "execution_count": 72,
   "id": "70841250",
   "metadata": {},
   "outputs": [
    {
     "data": {
      "text/plain": [
       "0.929"
      ]
     },
     "execution_count": 72,
     "metadata": {},
     "output_type": "execute_result"
    }
   ],
   "source": [
    "col_to_be_dropped= model.pvalues.sort_values().index[-1]\n",
    "Xnew = Xnew.drop(labels=col_to_be_dropped,axis=1)\n",
    "from sklearn.model_selection import train_test_split\n",
    "xtrain,xtest,ytrain,ytest=train_test_split(Xnew,Y,test_size=0.2,random_state=31)\n",
    "from statsmodels.api import OLS,add_constant\n",
    "xconst = add_constant(xtrain,has_constant=\"add\")\n",
    "ols = OLS(ytrain,xconst)\n",
    "model = ols.fit()\n",
    "round(model.rsquared_adj,5)"
   ]
  },
  {
   "cell_type": "markdown",
   "id": "452cbe85",
   "metadata": {},
   "source": [
    "# Model 14"
   ]
  },
  {
   "cell_type": "code",
   "execution_count": 73,
   "id": "7204b4ca",
   "metadata": {},
   "outputs": [
    {
     "data": {
      "text/plain": [
       "'FullBath'"
      ]
     },
     "execution_count": 73,
     "metadata": {},
     "output_type": "execute_result"
    }
   ],
   "source": [
    "model.pvalues.sort_values().index[-1]"
   ]
  },
  {
   "cell_type": "code",
   "execution_count": 74,
   "id": "e66ef611",
   "metadata": {},
   "outputs": [
    {
     "data": {
      "text/plain": [
       "0.92911"
      ]
     },
     "execution_count": 74,
     "metadata": {},
     "output_type": "execute_result"
    }
   ],
   "source": [
    "col_to_be_dropped= model.pvalues.sort_values().index[-1]\n",
    "Xnew = Xnew.drop(labels=col_to_be_dropped,axis=1)\n",
    "from sklearn.model_selection import train_test_split\n",
    "xtrain,xtest,ytrain,ytest=train_test_split(Xnew,Y,test_size=0.2,random_state=31)\n",
    "from statsmodels.api import OLS,add_constant\n",
    "xconst = add_constant(xtrain,has_constant=\"add\")\n",
    "ols = OLS(ytrain,xconst)\n",
    "model = ols.fit()\n",
    "round(model.rsquared_adj,5)"
   ]
  },
  {
   "cell_type": "markdown",
   "id": "37136a48",
   "metadata": {},
   "source": [
    "# Model 15"
   ]
  },
  {
   "cell_type": "code",
   "execution_count": 75,
   "id": "027e0bf3",
   "metadata": {},
   "outputs": [
    {
     "data": {
      "text/plain": [
       "'HouseStyle_1.5Fin'"
      ]
     },
     "execution_count": 75,
     "metadata": {},
     "output_type": "execute_result"
    }
   ],
   "source": [
    "model.pvalues.sort_values().index[-1]"
   ]
  },
  {
   "cell_type": "code",
   "execution_count": 76,
   "id": "8a3b92d5",
   "metadata": {},
   "outputs": [
    {
     "data": {
      "text/plain": [
       "0.92911"
      ]
     },
     "execution_count": 76,
     "metadata": {},
     "output_type": "execute_result"
    }
   ],
   "source": [
    "col_to_be_dropped= model.pvalues.sort_values().index[-1]\n",
    "Xnew = Xnew.drop(labels=col_to_be_dropped,axis=1)\n",
    "from sklearn.model_selection import train_test_split\n",
    "xtrain,xtest,ytrain,ytest=train_test_split(Xnew,Y,test_size=0.2,random_state=31)\n",
    "from statsmodels.api import OLS,add_constant\n",
    "xconst = add_constant(xtrain,has_constant=\"add\")\n",
    "ols = OLS(ytrain,xconst)\n",
    "model = ols.fit()\n",
    "round(model.rsquared_adj,5)"
   ]
  },
  {
   "cell_type": "markdown",
   "id": "e258b014",
   "metadata": {},
   "source": [
    "# Model 16"
   ]
  },
  {
   "cell_type": "code",
   "execution_count": 77,
   "id": "e4a17259",
   "metadata": {},
   "outputs": [
    {
     "data": {
      "text/plain": [
       "'BsmtFinType2_Unf'"
      ]
     },
     "execution_count": 77,
     "metadata": {},
     "output_type": "execute_result"
    }
   ],
   "source": [
    "model.pvalues.sort_values().index[-1]"
   ]
  },
  {
   "cell_type": "code",
   "execution_count": 78,
   "id": "f11a4f50",
   "metadata": {},
   "outputs": [
    {
     "data": {
      "text/plain": [
       "0.92911"
      ]
     },
     "execution_count": 78,
     "metadata": {},
     "output_type": "execute_result"
    }
   ],
   "source": [
    "col_to_be_dropped= model.pvalues.sort_values().index[-1]\n",
    "Xnew = Xnew.drop(labels=col_to_be_dropped,axis=1)\n",
    "from sklearn.model_selection import train_test_split\n",
    "xtrain,xtest,ytrain,ytest=train_test_split(Xnew,Y,test_size=0.2,random_state=31)\n",
    "from statsmodels.api import OLS,add_constant\n",
    "xconst = add_constant(xtrain,has_constant=\"add\")\n",
    "ols = OLS(ytrain,xconst)\n",
    "model = ols.fit()\n",
    "round(model.rsquared_adj,5)"
   ]
  },
  {
   "cell_type": "markdown",
   "id": "b491f694",
   "metadata": {},
   "source": [
    "# Model 17"
   ]
  },
  {
   "cell_type": "code",
   "execution_count": 79,
   "id": "4c22dd33",
   "metadata": {},
   "outputs": [
    {
     "data": {
      "text/plain": [
       "'Exterior1st_MetalSd'"
      ]
     },
     "execution_count": 79,
     "metadata": {},
     "output_type": "execute_result"
    }
   ],
   "source": [
    "model.pvalues.sort_values().index[-1]"
   ]
  },
  {
   "cell_type": "code",
   "execution_count": 80,
   "id": "119f7a7c",
   "metadata": {},
   "outputs": [
    {
     "data": {
      "text/plain": [
       "0.92923"
      ]
     },
     "execution_count": 80,
     "metadata": {},
     "output_type": "execute_result"
    }
   ],
   "source": [
    "col_to_be_dropped= model.pvalues.sort_values().index[-1]\n",
    "Xnew = Xnew.drop(labels=col_to_be_dropped,axis=1)\n",
    "from sklearn.model_selection import train_test_split\n",
    "xtrain,xtest,ytrain,ytest=train_test_split(Xnew,Y,test_size=0.2,random_state=31)\n",
    "from statsmodels.api import OLS,add_constant\n",
    "xconst = add_constant(xtrain,has_constant=\"add\")\n",
    "ols = OLS(ytrain,xconst)\n",
    "model = ols.fit()\n",
    "round(model.rsquared_adj,5)"
   ]
  },
  {
   "cell_type": "markdown",
   "id": "c29ffa00",
   "metadata": {},
   "source": [
    "# Model 18"
   ]
  },
  {
   "cell_type": "code",
   "execution_count": 81,
   "id": "0f613491",
   "metadata": {},
   "outputs": [
    {
     "data": {
      "text/plain": [
       "'Exterior2nd_Brk Cmn'"
      ]
     },
     "execution_count": 81,
     "metadata": {},
     "output_type": "execute_result"
    }
   ],
   "source": [
    "model.pvalues.sort_values().index[-1]"
   ]
  },
  {
   "cell_type": "code",
   "execution_count": 82,
   "id": "06b1a3a5",
   "metadata": {},
   "outputs": [
    {
     "data": {
      "text/plain": [
       "0.92923"
      ]
     },
     "execution_count": 82,
     "metadata": {},
     "output_type": "execute_result"
    }
   ],
   "source": [
    "col_to_be_dropped= model.pvalues.sort_values().index[-1]\n",
    "Xnew = Xnew.drop(labels=col_to_be_dropped,axis=1)\n",
    "from sklearn.model_selection import train_test_split\n",
    "xtrain,xtest,ytrain,ytest=train_test_split(Xnew,Y,test_size=0.2,random_state=31)\n",
    "from statsmodels.api import OLS,add_constant\n",
    "xconst = add_constant(xtrain,has_constant=\"add\")\n",
    "ols = OLS(ytrain,xconst)\n",
    "model = ols.fit()\n",
    "round(model.rsquared_adj,5)"
   ]
  },
  {
   "cell_type": "markdown",
   "id": "6a145060",
   "metadata": {},
   "source": [
    "# Model 19"
   ]
  },
  {
   "cell_type": "code",
   "execution_count": 83,
   "id": "b6076ecd",
   "metadata": {},
   "outputs": [
    {
     "data": {
      "text/plain": [
       "'Exterior2nd_HdBoard'"
      ]
     },
     "execution_count": 83,
     "metadata": {},
     "output_type": "execute_result"
    }
   ],
   "source": [
    "model.pvalues.sort_values().index[-1]"
   ]
  },
  {
   "cell_type": "code",
   "execution_count": 84,
   "id": "fe30815f",
   "metadata": {},
   "outputs": [
    {
     "data": {
      "text/plain": [
       "0.92934"
      ]
     },
     "execution_count": 84,
     "metadata": {},
     "output_type": "execute_result"
    }
   ],
   "source": [
    "col_to_be_dropped= model.pvalues.sort_values().index[-1]\n",
    "Xnew = Xnew.drop(labels=col_to_be_dropped,axis=1)\n",
    "from sklearn.model_selection import train_test_split\n",
    "xtrain,xtest,ytrain,ytest=train_test_split(Xnew,Y,test_size=0.2,random_state=31)\n",
    "from statsmodels.api import OLS,add_constant\n",
    "xconst = add_constant(xtrain,has_constant=\"add\")\n",
    "ols = OLS(ytrain,xconst)\n",
    "model = ols.fit()\n",
    "round(model.rsquared_adj,5)"
   ]
  },
  {
   "cell_type": "markdown",
   "id": "193fae3b",
   "metadata": {},
   "source": [
    "# Model 20"
   ]
  },
  {
   "cell_type": "code",
   "execution_count": 85,
   "id": "fb37160b",
   "metadata": {},
   "outputs": [
    {
     "data": {
      "text/plain": [
       "'Foundation_Wood'"
      ]
     },
     "execution_count": 85,
     "metadata": {},
     "output_type": "execute_result"
    }
   ],
   "source": [
    "model.pvalues.sort_values().index[-1]"
   ]
  },
  {
   "cell_type": "code",
   "execution_count": 86,
   "id": "7a27848d",
   "metadata": {},
   "outputs": [
    {
     "data": {
      "text/plain": [
       "0.92934"
      ]
     },
     "execution_count": 86,
     "metadata": {},
     "output_type": "execute_result"
    }
   ],
   "source": [
    "col_to_be_dropped= model.pvalues.sort_values().index[-1]\n",
    "Xnew = Xnew.drop(labels=col_to_be_dropped,axis=1)\n",
    "from sklearn.model_selection import train_test_split\n",
    "xtrain,xtest,ytrain,ytest=train_test_split(Xnew,Y,test_size=0.2,random_state=31)\n",
    "from statsmodels.api import OLS,add_constant\n",
    "xconst = add_constant(xtrain,has_constant=\"add\")\n",
    "ols = OLS(ytrain,xconst)\n",
    "model = ols.fit()\n",
    "round(model.rsquared_adj,5)"
   ]
  },
  {
   "cell_type": "markdown",
   "id": "36cdbf7d",
   "metadata": {},
   "source": [
    "# Model 21"
   ]
  },
  {
   "cell_type": "code",
   "execution_count": 87,
   "id": "bd7d618e",
   "metadata": {},
   "outputs": [
    {
     "data": {
      "text/plain": [
       "'GarageCond_TA'"
      ]
     },
     "execution_count": 87,
     "metadata": {},
     "output_type": "execute_result"
    }
   ],
   "source": [
    "model.pvalues.sort_values().index[-1]"
   ]
  },
  {
   "cell_type": "code",
   "execution_count": 88,
   "id": "ed361c58",
   "metadata": {},
   "outputs": [
    {
     "data": {
      "text/plain": [
       "0.92946"
      ]
     },
     "execution_count": 88,
     "metadata": {},
     "output_type": "execute_result"
    }
   ],
   "source": [
    "col_to_be_dropped= model.pvalues.sort_values().index[-1]\n",
    "Xnew = Xnew.drop(labels=col_to_be_dropped,axis=1)\n",
    "from sklearn.model_selection import train_test_split\n",
    "xtrain,xtest,ytrain,ytest=train_test_split(Xnew,Y,test_size=0.2,random_state=31)\n",
    "from statsmodels.api import OLS,add_constant\n",
    "xconst = add_constant(xtrain,has_constant=\"add\")\n",
    "ols = OLS(ytrain,xconst)\n",
    "model = ols.fit()\n",
    "round(model.rsquared_adj,5)"
   ]
  },
  {
   "cell_type": "markdown",
   "id": "2425c4fb",
   "metadata": {},
   "source": [
    "# Model 22 "
   ]
  },
  {
   "cell_type": "code",
   "execution_count": 89,
   "id": "75f66bb4",
   "metadata": {},
   "outputs": [
    {
     "data": {
      "text/plain": [
       "'RoofStyle_Flat'"
      ]
     },
     "execution_count": 89,
     "metadata": {},
     "output_type": "execute_result"
    }
   ],
   "source": [
    "model.pvalues.sort_values().index[-1]"
   ]
  },
  {
   "cell_type": "code",
   "execution_count": 90,
   "id": "c0fa9133",
   "metadata": {},
   "outputs": [
    {
     "data": {
      "text/plain": [
       "0.92946"
      ]
     },
     "execution_count": 90,
     "metadata": {},
     "output_type": "execute_result"
    }
   ],
   "source": [
    "col_to_be_dropped= model.pvalues.sort_values().index[-1]\n",
    "Xnew = Xnew.drop(labels=col_to_be_dropped,axis=1)\n",
    "from sklearn.model_selection import train_test_split\n",
    "xtrain,xtest,ytrain,ytest=train_test_split(Xnew,Y,test_size=0.2,random_state=31)\n",
    "from statsmodels.api import OLS,add_constant\n",
    "xconst = add_constant(xtrain,has_constant=\"add\")\n",
    "ols = OLS(ytrain,xconst)\n",
    "model = ols.fit()\n",
    "round(model.rsquared_adj,5)"
   ]
  },
  {
   "cell_type": "markdown",
   "id": "af9a5652",
   "metadata": {},
   "source": [
    "# Model 23"
   ]
  },
  {
   "cell_type": "code",
   "execution_count": 91,
   "id": "02520847",
   "metadata": {},
   "outputs": [
    {
     "data": {
      "text/plain": [
       "'Electrical_FuseP'"
      ]
     },
     "execution_count": 91,
     "metadata": {},
     "output_type": "execute_result"
    }
   ],
   "source": [
    "model.pvalues.sort_values().index[-1]"
   ]
  },
  {
   "cell_type": "code",
   "execution_count": 92,
   "id": "b6fa7543",
   "metadata": {},
   "outputs": [
    {
     "data": {
      "text/plain": [
       "0.92946"
      ]
     },
     "execution_count": 92,
     "metadata": {},
     "output_type": "execute_result"
    }
   ],
   "source": [
    "col_to_be_dropped= model.pvalues.sort_values().index[-1]\n",
    "Xnew = Xnew.drop(labels=col_to_be_dropped,axis=1)\n",
    "from sklearn.model_selection import train_test_split\n",
    "xtrain,xtest,ytrain,ytest=train_test_split(Xnew,Y,test_size=0.2,random_state=31)\n",
    "from statsmodels.api import OLS,add_constant\n",
    "xconst = add_constant(xtrain,has_constant=\"add\")\n",
    "ols = OLS(ytrain,xconst)\n",
    "model = ols.fit()\n",
    "round(model.rsquared_adj,5)"
   ]
  },
  {
   "cell_type": "markdown",
   "id": "5d6da935",
   "metadata": {},
   "source": [
    "# Model 24"
   ]
  },
  {
   "cell_type": "code",
   "execution_count": 93,
   "id": "7c72ac91",
   "metadata": {},
   "outputs": [
    {
     "data": {
      "text/plain": [
       "'KitchenAbvGr'"
      ]
     },
     "execution_count": 93,
     "metadata": {},
     "output_type": "execute_result"
    }
   ],
   "source": [
    "model.pvalues.sort_values().index[-1]"
   ]
  },
  {
   "cell_type": "code",
   "execution_count": 94,
   "id": "8c206a98",
   "metadata": {},
   "outputs": [
    {
     "data": {
      "text/plain": [
       "0.92946"
      ]
     },
     "execution_count": 94,
     "metadata": {},
     "output_type": "execute_result"
    }
   ],
   "source": [
    "col_to_be_dropped= model.pvalues.sort_values().index[-1]\n",
    "Xnew = Xnew.drop(labels=col_to_be_dropped,axis=1)\n",
    "from sklearn.model_selection import train_test_split\n",
    "xtrain,xtest,ytrain,ytest=train_test_split(Xnew,Y,test_size=0.2,random_state=31)\n",
    "from statsmodels.api import OLS,add_constant\n",
    "xconst = add_constant(xtrain,has_constant=\"add\")\n",
    "ols = OLS(ytrain,xconst)\n",
    "model = ols.fit()\n",
    "round(model.rsquared_adj,5)"
   ]
  },
  {
   "cell_type": "markdown",
   "id": "890a2584",
   "metadata": {},
   "source": [
    "# Model 25"
   ]
  },
  {
   "cell_type": "code",
   "execution_count": 95,
   "id": "883f0d80",
   "metadata": {},
   "outputs": [
    {
     "data": {
      "text/plain": [
       "'Condition1_RRNe'"
      ]
     },
     "execution_count": 95,
     "metadata": {},
     "output_type": "execute_result"
    }
   ],
   "source": [
    "model.pvalues.sort_values().index[-1]"
   ]
  },
  {
   "cell_type": "code",
   "execution_count": 96,
   "id": "583fb9c3",
   "metadata": {},
   "outputs": [
    {
     "data": {
      "text/plain": [
       "0.92946"
      ]
     },
     "execution_count": 96,
     "metadata": {},
     "output_type": "execute_result"
    }
   ],
   "source": [
    "col_to_be_dropped= model.pvalues.sort_values().index[-1]\n",
    "Xnew = Xnew.drop(labels=col_to_be_dropped,axis=1)\n",
    "from sklearn.model_selection import train_test_split\n",
    "xtrain,xtest,ytrain,ytest=train_test_split(Xnew,Y,test_size=0.2,random_state=31)\n",
    "from statsmodels.api import OLS,add_constant\n",
    "xconst = add_constant(xtrain,has_constant=\"add\")\n",
    "ols = OLS(ytrain,xconst)\n",
    "model = ols.fit()\n",
    "round(model.rsquared_adj,5)"
   ]
  },
  {
   "cell_type": "markdown",
   "id": "a437abfd",
   "metadata": {},
   "source": [
    "# Model 26"
   ]
  },
  {
   "cell_type": "code",
   "execution_count": 97,
   "id": "523f6406",
   "metadata": {},
   "outputs": [
    {
     "data": {
      "text/plain": [
       "'RoofMatl_Tar&Grv'"
      ]
     },
     "execution_count": 97,
     "metadata": {},
     "output_type": "execute_result"
    }
   ],
   "source": [
    "model.pvalues.sort_values().index[-1]"
   ]
  },
  {
   "cell_type": "code",
   "execution_count": 98,
   "id": "07185f97",
   "metadata": {},
   "outputs": [
    {
     "data": {
      "text/plain": [
       "0.92946"
      ]
     },
     "execution_count": 98,
     "metadata": {},
     "output_type": "execute_result"
    }
   ],
   "source": [
    "col_to_be_dropped= model.pvalues.sort_values().index[-1]\n",
    "Xnew = Xnew.drop(labels=col_to_be_dropped,axis=1)\n",
    "from sklearn.model_selection import train_test_split\n",
    "xtrain,xtest,ytrain,ytest=train_test_split(Xnew,Y,test_size=0.2,random_state=31)\n",
    "from statsmodels.api import OLS,add_constant\n",
    "xconst = add_constant(xtrain,has_constant=\"add\")\n",
    "ols = OLS(ytrain,xconst)\n",
    "model = ols.fit()\n",
    "round(model.rsquared_adj,5)"
   ]
  },
  {
   "cell_type": "markdown",
   "id": "51be9c9a",
   "metadata": {},
   "source": [
    "# Model 27"
   ]
  },
  {
   "cell_type": "code",
   "execution_count": 99,
   "id": "86400dc7",
   "metadata": {},
   "outputs": [
    {
     "data": {
      "text/plain": [
       "'LotFrontage'"
      ]
     },
     "execution_count": 99,
     "metadata": {},
     "output_type": "execute_result"
    }
   ],
   "source": [
    "model.pvalues.sort_values().index[-1]"
   ]
  },
  {
   "cell_type": "code",
   "execution_count": 100,
   "id": "f66bc7ed",
   "metadata": {},
   "outputs": [
    {
     "data": {
      "text/plain": [
       "0.92957"
      ]
     },
     "execution_count": 100,
     "metadata": {},
     "output_type": "execute_result"
    }
   ],
   "source": [
    "col_to_be_dropped= model.pvalues.sort_values().index[-1]\n",
    "Xnew = Xnew.drop(labels=col_to_be_dropped,axis=1)\n",
    "from sklearn.model_selection import train_test_split\n",
    "xtrain,xtest,ytrain,ytest=train_test_split(Xnew,Y,test_size=0.2,random_state=31)\n",
    "from statsmodels.api import OLS,add_constant\n",
    "xconst = add_constant(xtrain,has_constant=\"add\")\n",
    "ols = OLS(ytrain,xconst)\n",
    "model = ols.fit()\n",
    "round(model.rsquared_adj,5)"
   ]
  },
  {
   "cell_type": "markdown",
   "id": "c478e9dc",
   "metadata": {},
   "source": [
    "# Model 28"
   ]
  },
  {
   "cell_type": "code",
   "execution_count": 101,
   "id": "49b7b2da",
   "metadata": {},
   "outputs": [
    {
     "data": {
      "text/plain": [
       "'BsmtFinType1_Rec'"
      ]
     },
     "execution_count": 101,
     "metadata": {},
     "output_type": "execute_result"
    }
   ],
   "source": [
    "model.pvalues.sort_values().index[-1]"
   ]
  },
  {
   "cell_type": "code",
   "execution_count": 102,
   "id": "1011cb5c",
   "metadata": {},
   "outputs": [
    {
     "data": {
      "text/plain": [
       "0.92957"
      ]
     },
     "execution_count": 102,
     "metadata": {},
     "output_type": "execute_result"
    }
   ],
   "source": [
    "col_to_be_dropped= model.pvalues.sort_values().index[-1]\n",
    "Xnew = Xnew.drop(labels=col_to_be_dropped,axis=1)\n",
    "from sklearn.model_selection import train_test_split\n",
    "xtrain,xtest,ytrain,ytest=train_test_split(Xnew,Y,test_size=0.2,random_state=31)\n",
    "from statsmodels.api import OLS,add_constant\n",
    "xconst = add_constant(xtrain,has_constant=\"add\")\n",
    "ols = OLS(ytrain,xconst)\n",
    "model = ols.fit()\n",
    "round(model.rsquared_adj,5)"
   ]
  },
  {
   "cell_type": "markdown",
   "id": "eeca40e2",
   "metadata": {},
   "source": [
    "# Model 29"
   ]
  },
  {
   "cell_type": "code",
   "execution_count": 103,
   "id": "b687a9a2",
   "metadata": {},
   "outputs": [
    {
     "data": {
      "text/plain": [
       "'HalfBath'"
      ]
     },
     "execution_count": 103,
     "metadata": {},
     "output_type": "execute_result"
    }
   ],
   "source": [
    "model.pvalues.sort_values().index[-1]"
   ]
  },
  {
   "cell_type": "code",
   "execution_count": 104,
   "id": "d4fcd5bc",
   "metadata": {},
   "outputs": [
    {
     "data": {
      "text/plain": [
       "0.92968"
      ]
     },
     "execution_count": 104,
     "metadata": {},
     "output_type": "execute_result"
    }
   ],
   "source": [
    "col_to_be_dropped= model.pvalues.sort_values().index[-1]\n",
    "Xnew = Xnew.drop(labels=col_to_be_dropped,axis=1)\n",
    "from sklearn.model_selection import train_test_split\n",
    "xtrain,xtest,ytrain,ytest=train_test_split(Xnew,Y,test_size=0.2,random_state=31)\n",
    "from statsmodels.api import OLS,add_constant\n",
    "xconst = add_constant(xtrain,has_constant=\"add\")\n",
    "ols = OLS(ytrain,xconst)\n",
    "model = ols.fit()\n",
    "round(model.rsquared_adj,5)"
   ]
  },
  {
   "cell_type": "markdown",
   "id": "60a943e0",
   "metadata": {},
   "source": [
    "# Model 30"
   ]
  },
  {
   "cell_type": "code",
   "execution_count": 105,
   "id": "782e8760",
   "metadata": {},
   "outputs": [
    {
     "data": {
      "text/plain": [
       "'Foundation_Slab'"
      ]
     },
     "execution_count": 105,
     "metadata": {},
     "output_type": "execute_result"
    }
   ],
   "source": [
    "model.pvalues.sort_values().index[-1]"
   ]
  },
  {
   "cell_type": "code",
   "execution_count": 106,
   "id": "85893995",
   "metadata": {},
   "outputs": [
    {
     "data": {
      "text/plain": [
       "0.92979"
      ]
     },
     "execution_count": 106,
     "metadata": {},
     "output_type": "execute_result"
    }
   ],
   "source": [
    "col_to_be_dropped= model.pvalues.sort_values().index[-1]\n",
    "Xnew = Xnew.drop(labels=col_to_be_dropped,axis=1)\n",
    "from sklearn.model_selection import train_test_split\n",
    "xtrain,xtest,ytrain,ytest=train_test_split(Xnew,Y,test_size=0.2,random_state=31)\n",
    "from statsmodels.api import OLS,add_constant\n",
    "xconst = add_constant(xtrain,has_constant=\"add\")\n",
    "ols = OLS(ytrain,xconst)\n",
    "model = ols.fit()\n",
    "round(model.rsquared_adj,5)"
   ]
  },
  {
   "cell_type": "markdown",
   "id": "4bca5f21",
   "metadata": {},
   "source": [
    "# Model 31 "
   ]
  },
  {
   "cell_type": "code",
   "execution_count": 107,
   "id": "1a1e8ea7",
   "metadata": {},
   "outputs": [
    {
     "data": {
      "text/plain": [
       "'PavedDrive_P'"
      ]
     },
     "execution_count": 107,
     "metadata": {},
     "output_type": "execute_result"
    }
   ],
   "source": [
    "model.pvalues.sort_values().index[-1]"
   ]
  },
  {
   "cell_type": "code",
   "execution_count": 108,
   "id": "59ade507",
   "metadata": {},
   "outputs": [
    {
     "data": {
      "text/plain": [
       "0.92979"
      ]
     },
     "execution_count": 108,
     "metadata": {},
     "output_type": "execute_result"
    }
   ],
   "source": [
    "col_to_be_dropped= model.pvalues.sort_values().index[-1]\n",
    "Xnew = Xnew.drop(labels=col_to_be_dropped,axis=1)\n",
    "from sklearn.model_selection import train_test_split\n",
    "xtrain,xtest,ytrain,ytest=train_test_split(Xnew,Y,test_size=0.2,random_state=31)\n",
    "from statsmodels.api import OLS,add_constant\n",
    "xconst = add_constant(xtrain,has_constant=\"add\")\n",
    "ols = OLS(ytrain,xconst)\n",
    "model = ols.fit()\n",
    "round(model.rsquared_adj,5)"
   ]
  },
  {
   "cell_type": "markdown",
   "id": "fbd565b7",
   "metadata": {},
   "source": [
    "# Model 32"
   ]
  },
  {
   "cell_type": "code",
   "execution_count": 109,
   "id": "619fc129",
   "metadata": {},
   "outputs": [
    {
     "data": {
      "text/plain": [
       "'Heating_GasW'"
      ]
     },
     "execution_count": 109,
     "metadata": {},
     "output_type": "execute_result"
    }
   ],
   "source": [
    "model.pvalues.sort_values().index[-1]"
   ]
  },
  {
   "cell_type": "code",
   "execution_count": 110,
   "id": "c83e5b46",
   "metadata": {},
   "outputs": [
    {
     "data": {
      "text/plain": [
       "0.92979"
      ]
     },
     "execution_count": 110,
     "metadata": {},
     "output_type": "execute_result"
    }
   ],
   "source": [
    "col_to_be_dropped= model.pvalues.sort_values().index[-1]\n",
    "Xnew = Xnew.drop(labels=col_to_be_dropped,axis=1)\n",
    "from sklearn.model_selection import train_test_split\n",
    "xtrain,xtest,ytrain,ytest=train_test_split(Xnew,Y,test_size=0.2,random_state=31)\n",
    "from statsmodels.api import OLS,add_constant\n",
    "xconst = add_constant(xtrain,has_constant=\"add\")\n",
    "ols = OLS(ytrain,xconst)\n",
    "model = ols.fit()\n",
    "round(model.rsquared_adj,5)"
   ]
  },
  {
   "cell_type": "markdown",
   "id": "e7dda02b",
   "metadata": {},
   "source": [
    "# Model 33"
   ]
  },
  {
   "cell_type": "code",
   "execution_count": 111,
   "id": "29e6cbbc",
   "metadata": {},
   "outputs": [
    {
     "data": {
      "text/plain": [
       "'MSZoning_RH'"
      ]
     },
     "execution_count": 111,
     "metadata": {},
     "output_type": "execute_result"
    }
   ],
   "source": [
    "model.pvalues.sort_values().index[-1]"
   ]
  },
  {
   "cell_type": "code",
   "execution_count": 112,
   "id": "d67c1471",
   "metadata": {},
   "outputs": [
    {
     "data": {
      "text/plain": [
       "0.92979"
      ]
     },
     "execution_count": 112,
     "metadata": {},
     "output_type": "execute_result"
    }
   ],
   "source": [
    "col_to_be_dropped= model.pvalues.sort_values().index[-1]\n",
    "Xnew = Xnew.drop(labels=col_to_be_dropped,axis=1)\n",
    "from sklearn.model_selection import train_test_split\n",
    "xtrain,xtest,ytrain,ytest=train_test_split(Xnew,Y,test_size=0.2,random_state=31)\n",
    "from statsmodels.api import OLS,add_constant\n",
    "xconst = add_constant(xtrain,has_constant=\"add\")\n",
    "ols = OLS(ytrain,xconst)\n",
    "model = ols.fit()\n",
    "round(model.rsquared_adj,5)"
   ]
  },
  {
   "cell_type": "markdown",
   "id": "459d3d4a",
   "metadata": {},
   "source": [
    "# Model 34"
   ]
  },
  {
   "cell_type": "code",
   "execution_count": 113,
   "id": "fd1e3a26",
   "metadata": {},
   "outputs": [
    {
     "data": {
      "text/plain": [
       "'MasVnrType_BrkCmn'"
      ]
     },
     "execution_count": 113,
     "metadata": {},
     "output_type": "execute_result"
    }
   ],
   "source": [
    "model.pvalues.sort_values().index[-1]"
   ]
  },
  {
   "cell_type": "code",
   "execution_count": 114,
   "id": "60861a29",
   "metadata": {},
   "outputs": [
    {
     "data": {
      "text/plain": [
       "0.92979"
      ]
     },
     "execution_count": 114,
     "metadata": {},
     "output_type": "execute_result"
    }
   ],
   "source": [
    "col_to_be_dropped= model.pvalues.sort_values().index[-1]\n",
    "Xnew = Xnew.drop(labels=col_to_be_dropped,axis=1)\n",
    "from sklearn.model_selection import train_test_split\n",
    "xtrain,xtest,ytrain,ytest=train_test_split(Xnew,Y,test_size=0.2,random_state=31)\n",
    "from statsmodels.api import OLS,add_constant\n",
    "xconst = add_constant(xtrain,has_constant=\"add\")\n",
    "ols = OLS(ytrain,xconst)\n",
    "model = ols.fit()\n",
    "round(model.rsquared_adj,5)"
   ]
  },
  {
   "cell_type": "markdown",
   "id": "f5fd76c2",
   "metadata": {},
   "source": [
    "# Model 35"
   ]
  },
  {
   "cell_type": "code",
   "execution_count": 115,
   "id": "cb9a4402",
   "metadata": {},
   "outputs": [
    {
     "data": {
      "text/plain": [
       "'MasVnrType_None'"
      ]
     },
     "execution_count": 115,
     "metadata": {},
     "output_type": "execute_result"
    }
   ],
   "source": [
    "model.pvalues.sort_values().index[-1]"
   ]
  },
  {
   "cell_type": "code",
   "execution_count": 116,
   "id": "39ac7088",
   "metadata": {},
   "outputs": [
    {
     "data": {
      "text/plain": [
       "0.92991"
      ]
     },
     "execution_count": 116,
     "metadata": {},
     "output_type": "execute_result"
    }
   ],
   "source": [
    "col_to_be_dropped= model.pvalues.sort_values().index[-1]\n",
    "Xnew = Xnew.drop(labels=col_to_be_dropped,axis=1)\n",
    "from sklearn.model_selection import train_test_split\n",
    "xtrain,xtest,ytrain,ytest=train_test_split(Xnew,Y,test_size=0.2,random_state=31)\n",
    "from statsmodels.api import OLS,add_constant\n",
    "xconst = add_constant(xtrain,has_constant=\"add\")\n",
    "ols = OLS(ytrain,xconst)\n",
    "model = ols.fit()\n",
    "round(model.rsquared_adj,5)"
   ]
  },
  {
   "cell_type": "code",
   "execution_count": 117,
   "id": "a7323f20",
   "metadata": {},
   "outputs": [],
   "source": [
    "#Model 36"
   ]
  },
  {
   "cell_type": "code",
   "execution_count": 118,
   "id": "8a41093d",
   "metadata": {},
   "outputs": [
    {
     "data": {
      "text/plain": [
       "'Heating_Floor'"
      ]
     },
     "execution_count": 118,
     "metadata": {},
     "output_type": "execute_result"
    }
   ],
   "source": [
    "model.pvalues.sort_values().index[-1]"
   ]
  },
  {
   "cell_type": "code",
   "execution_count": 119,
   "id": "28d3d0eb",
   "metadata": {},
   "outputs": [
    {
     "data": {
      "text/plain": [
       "0.92991"
      ]
     },
     "execution_count": 119,
     "metadata": {},
     "output_type": "execute_result"
    }
   ],
   "source": [
    "col_to_be_dropped= model.pvalues.sort_values().index[-1]\n",
    "Xnew = Xnew.drop(labels=col_to_be_dropped,axis=1)\n",
    "from sklearn.model_selection import train_test_split\n",
    "xtrain,xtest,ytrain,ytest=train_test_split(Xnew,Y,test_size=0.2,random_state=31)\n",
    "from statsmodels.api import OLS,add_constant\n",
    "xconst = add_constant(xtrain,has_constant=\"add\")\n",
    "ols = OLS(ytrain,xconst)\n",
    "model = ols.fit()\n",
    "round(model.rsquared_adj,5)"
   ]
  },
  {
   "cell_type": "code",
   "execution_count": 120,
   "id": "f0d124b4",
   "metadata": {},
   "outputs": [],
   "source": [
    "#Model 37"
   ]
  },
  {
   "cell_type": "code",
   "execution_count": 121,
   "id": "1f90deb8",
   "metadata": {},
   "outputs": [
    {
     "data": {
      "text/plain": [
       "'Condition2_RRNn'"
      ]
     },
     "execution_count": 121,
     "metadata": {},
     "output_type": "execute_result"
    }
   ],
   "source": [
    "model.pvalues.sort_values().index[-1]"
   ]
  },
  {
   "cell_type": "code",
   "execution_count": 122,
   "id": "1b9b31cc",
   "metadata": {},
   "outputs": [
    {
     "data": {
      "text/plain": [
       "0.92991"
      ]
     },
     "execution_count": 122,
     "metadata": {},
     "output_type": "execute_result"
    }
   ],
   "source": [
    "col_to_be_dropped= model.pvalues.sort_values().index[-1]\n",
    "Xnew = Xnew.drop(labels=col_to_be_dropped,axis=1)\n",
    "from sklearn.model_selection import train_test_split\n",
    "xtrain,xtest,ytrain,ytest=train_test_split(Xnew,Y,test_size=0.2,random_state=31)\n",
    "from statsmodels.api import OLS,add_constant\n",
    "xconst = add_constant(xtrain,has_constant=\"add\")\n",
    "ols = OLS(ytrain,xconst)\n",
    "model = ols.fit()\n",
    "round(model.rsquared_adj,5)"
   ]
  },
  {
   "cell_type": "code",
   "execution_count": 123,
   "id": "da35f0b9",
   "metadata": {},
   "outputs": [],
   "source": [
    "#Model 38"
   ]
  },
  {
   "cell_type": "code",
   "execution_count": 124,
   "id": "d28f9d20",
   "metadata": {},
   "outputs": [
    {
     "data": {
      "text/plain": [
       "'LowQualFinSF'"
      ]
     },
     "execution_count": 124,
     "metadata": {},
     "output_type": "execute_result"
    }
   ],
   "source": [
    "model.pvalues.sort_values().index[-1]"
   ]
  },
  {
   "cell_type": "code",
   "execution_count": 125,
   "id": "3d37333f",
   "metadata": {},
   "outputs": [
    {
     "data": {
      "text/plain": [
       "0.92991"
      ]
     },
     "execution_count": 125,
     "metadata": {},
     "output_type": "execute_result"
    }
   ],
   "source": [
    "col_to_be_dropped= model.pvalues.sort_values().index[-1]\n",
    "Xnew = Xnew.drop(labels=col_to_be_dropped,axis=1)\n",
    "from sklearn.model_selection import train_test_split\n",
    "xtrain,xtest,ytrain,ytest=train_test_split(Xnew,Y,test_size=0.2,random_state=31)\n",
    "from statsmodels.api import OLS,add_constant\n",
    "xconst = add_constant(xtrain,has_constant=\"add\")\n",
    "ols = OLS(ytrain,xconst)\n",
    "model = ols.fit()\n",
    "round(model.rsquared_adj,5)"
   ]
  },
  {
   "cell_type": "code",
   "execution_count": 126,
   "id": "17592478",
   "metadata": {},
   "outputs": [],
   "source": [
    "#Model 39"
   ]
  },
  {
   "cell_type": "code",
   "execution_count": 127,
   "id": "631c4fb6",
   "metadata": {},
   "outputs": [
    {
     "data": {
      "text/plain": [
       "'GrLivArea'"
      ]
     },
     "execution_count": 127,
     "metadata": {},
     "output_type": "execute_result"
    }
   ],
   "source": [
    "model.pvalues.sort_values().index[-1]"
   ]
  },
  {
   "cell_type": "code",
   "execution_count": 128,
   "id": "b522569e",
   "metadata": {},
   "outputs": [
    {
     "data": {
      "text/plain": [
       "0.93002"
      ]
     },
     "execution_count": 128,
     "metadata": {},
     "output_type": "execute_result"
    }
   ],
   "source": [
    "col_to_be_dropped= model.pvalues.sort_values().index[-1]\n",
    "Xnew = Xnew.drop(labels=col_to_be_dropped,axis=1)\n",
    "from sklearn.model_selection import train_test_split\n",
    "xtrain,xtest,ytrain,ytest=train_test_split(Xnew,Y,test_size=0.2,random_state=31)\n",
    "from statsmodels.api import OLS,add_constant\n",
    "xconst = add_constant(xtrain,has_constant=\"add\")\n",
    "ols = OLS(ytrain,xconst)\n",
    "model = ols.fit()\n",
    "round(model.rsquared_adj,5)"
   ]
  },
  {
   "cell_type": "code",
   "execution_count": 530,
   "id": "0cd20994",
   "metadata": {},
   "outputs": [],
   "source": [
    "#Model 40"
   ]
  },
  {
   "cell_type": "code",
   "execution_count": 130,
   "id": "c4a128d4",
   "metadata": {},
   "outputs": [
    {
     "data": {
      "text/plain": [
       "'KitchenQual_Fa'"
      ]
     },
     "execution_count": 130,
     "metadata": {},
     "output_type": "execute_result"
    }
   ],
   "source": [
    "model.pvalues.sort_values().index[-1]"
   ]
  },
  {
   "cell_type": "code",
   "execution_count": 131,
   "id": "0cabf5e6",
   "metadata": {},
   "outputs": [
    {
     "data": {
      "text/plain": [
       "0.93002"
      ]
     },
     "execution_count": 131,
     "metadata": {},
     "output_type": "execute_result"
    }
   ],
   "source": [
    "col_to_be_dropped= model.pvalues.sort_values().index[-1]\n",
    "Xnew = Xnew.drop(labels=col_to_be_dropped,axis=1)\n",
    "from sklearn.model_selection import train_test_split\n",
    "xtrain,xtest,ytrain,ytest=train_test_split(Xnew,Y,test_size=0.2,random_state=31)\n",
    "from statsmodels.api import OLS,add_constant\n",
    "xconst = add_constant(xtrain,has_constant=\"add\")\n",
    "ols = OLS(ytrain,xconst)\n",
    "model = ols.fit()\n",
    "round(model.rsquared_adj,5)"
   ]
  },
  {
   "cell_type": "code",
   "execution_count": 132,
   "id": "e908d5f8",
   "metadata": {},
   "outputs": [],
   "source": [
    "#Model 41"
   ]
  },
  {
   "cell_type": "code",
   "execution_count": 133,
   "id": "ea44d640",
   "metadata": {},
   "outputs": [
    {
     "data": {
      "text/plain": [
       "'KitchenQual_TA'"
      ]
     },
     "execution_count": 133,
     "metadata": {},
     "output_type": "execute_result"
    }
   ],
   "source": [
    "model.pvalues.sort_values().index[-1]"
   ]
  },
  {
   "cell_type": "code",
   "execution_count": 134,
   "id": "9037b41e",
   "metadata": {},
   "outputs": [
    {
     "data": {
      "text/plain": [
       "0.93013"
      ]
     },
     "execution_count": 134,
     "metadata": {},
     "output_type": "execute_result"
    }
   ],
   "source": [
    "col_to_be_dropped= model.pvalues.sort_values().index[-1]\n",
    "Xnew = Xnew.drop(labels=col_to_be_dropped,axis=1)\n",
    "from sklearn.model_selection import train_test_split\n",
    "xtrain,xtest,ytrain,ytest=train_test_split(Xnew,Y,test_size=0.2,random_state=31)\n",
    "from statsmodels.api import OLS,add_constant\n",
    "xconst = add_constant(xtrain,has_constant=\"add\")\n",
    "ols = OLS(ytrain,xconst)\n",
    "model = ols.fit()\n",
    "round(model.rsquared_adj,5)"
   ]
  },
  {
   "cell_type": "code",
   "execution_count": 135,
   "id": "030f373e",
   "metadata": {},
   "outputs": [],
   "source": [
    "#model 42"
   ]
  },
  {
   "cell_type": "code",
   "execution_count": 136,
   "id": "286fa031",
   "metadata": {},
   "outputs": [
    {
     "data": {
      "text/plain": [
       "'GarageType_Basment'"
      ]
     },
     "execution_count": 136,
     "metadata": {},
     "output_type": "execute_result"
    }
   ],
   "source": [
    "model.pvalues.sort_values().index[-1]"
   ]
  },
  {
   "cell_type": "code",
   "execution_count": 137,
   "id": "6d9fbff9",
   "metadata": {},
   "outputs": [
    {
     "data": {
      "text/plain": [
       "0.93013"
      ]
     },
     "execution_count": 137,
     "metadata": {},
     "output_type": "execute_result"
    }
   ],
   "source": [
    "col_to_be_dropped= model.pvalues.sort_values().index[-1]\n",
    "Xnew = Xnew.drop(labels=col_to_be_dropped,axis=1)\n",
    "from sklearn.model_selection import train_test_split\n",
    "xtrain,xtest,ytrain,ytest=train_test_split(Xnew,Y,test_size=0.2,random_state=31)\n",
    "from statsmodels.api import OLS,add_constant\n",
    "xconst = add_constant(xtrain,has_constant=\"add\")\n",
    "ols = OLS(ytrain,xconst)\n",
    "model = ols.fit()\n",
    "round(model.rsquared_adj,5)"
   ]
  },
  {
   "cell_type": "code",
   "execution_count": 138,
   "id": "0369b0a3",
   "metadata": {},
   "outputs": [],
   "source": [
    "#model 43"
   ]
  },
  {
   "cell_type": "code",
   "execution_count": 139,
   "id": "f3f5144f",
   "metadata": {},
   "outputs": [
    {
     "data": {
      "text/plain": [
       "'GarageType_Detchd'"
      ]
     },
     "execution_count": 139,
     "metadata": {},
     "output_type": "execute_result"
    }
   ],
   "source": [
    "model.pvalues.sort_values().index[-1]"
   ]
  },
  {
   "cell_type": "code",
   "execution_count": 140,
   "id": "11c77b8a",
   "metadata": {},
   "outputs": [
    {
     "data": {
      "text/plain": [
       "0.93024"
      ]
     },
     "execution_count": 140,
     "metadata": {},
     "output_type": "execute_result"
    }
   ],
   "source": [
    "col_to_be_dropped= model.pvalues.sort_values().index[-1]\n",
    "Xnew = Xnew.drop(labels=col_to_be_dropped,axis=1)\n",
    "from sklearn.model_selection import train_test_split\n",
    "xtrain,xtest,ytrain,ytest=train_test_split(Xnew,Y,test_size=0.2,random_state=31)\n",
    "from statsmodels.api import OLS,add_constant\n",
    "xconst = add_constant(xtrain,has_constant=\"add\")\n",
    "ols = OLS(ytrain,xconst)\n",
    "model = ols.fit()\n",
    "round(model.rsquared_adj,5)"
   ]
  },
  {
   "cell_type": "code",
   "execution_count": 141,
   "id": "6198d54b",
   "metadata": {},
   "outputs": [],
   "source": [
    "#model 44"
   ]
  },
  {
   "cell_type": "code",
   "execution_count": 142,
   "id": "b1affc71",
   "metadata": {},
   "outputs": [
    {
     "data": {
      "text/plain": [
       "'GarageType_BuiltIn'"
      ]
     },
     "execution_count": 142,
     "metadata": {},
     "output_type": "execute_result"
    }
   ],
   "source": [
    "model.pvalues.sort_values().index[-1]"
   ]
  },
  {
   "cell_type": "code",
   "execution_count": 143,
   "id": "c2335133",
   "metadata": {},
   "outputs": [
    {
     "data": {
      "text/plain": [
       "0.93035"
      ]
     },
     "execution_count": 143,
     "metadata": {},
     "output_type": "execute_result"
    }
   ],
   "source": [
    "col_to_be_dropped= model.pvalues.sort_values().index[-1]\n",
    "Xnew = Xnew.drop(labels=col_to_be_dropped,axis=1)\n",
    "from sklearn.model_selection import train_test_split\n",
    "xtrain,xtest,ytrain,ytest=train_test_split(Xnew,Y,test_size=0.2,random_state=31)\n",
    "from statsmodels.api import OLS,add_constant\n",
    "xconst = add_constant(xtrain,has_constant=\"add\")\n",
    "ols = OLS(ytrain,xconst)\n",
    "model = ols.fit()\n",
    "round(model.rsquared_adj,5)"
   ]
  },
  {
   "cell_type": "code",
   "execution_count": 144,
   "id": "618f2f2f",
   "metadata": {},
   "outputs": [],
   "source": [
    "#model 45"
   ]
  },
  {
   "cell_type": "code",
   "execution_count": 145,
   "id": "01caa3a0",
   "metadata": {},
   "outputs": [
    {
     "data": {
      "text/plain": [
       "'Neighborhood_SawyerW'"
      ]
     },
     "execution_count": 145,
     "metadata": {},
     "output_type": "execute_result"
    }
   ],
   "source": [
    "model.pvalues.sort_values().index[-1]"
   ]
  },
  {
   "cell_type": "code",
   "execution_count": 146,
   "id": "414a2771",
   "metadata": {},
   "outputs": [
    {
     "data": {
      "text/plain": [
       "0.93035"
      ]
     },
     "execution_count": 146,
     "metadata": {},
     "output_type": "execute_result"
    }
   ],
   "source": [
    "col_to_be_dropped= model.pvalues.sort_values().index[-1]\n",
    "Xnew = Xnew.drop(labels=col_to_be_dropped,axis=1)\n",
    "from sklearn.model_selection import train_test_split\n",
    "xtrain,xtest,ytrain,ytest=train_test_split(Xnew,Y,test_size=0.2,random_state=31)\n",
    "from statsmodels.api import OLS,add_constant\n",
    "xconst = add_constant(xtrain,has_constant=\"add\")\n",
    "ols = OLS(ytrain,xconst)\n",
    "model = ols.fit()\n",
    "round(model.rsquared_adj,5)"
   ]
  },
  {
   "cell_type": "code",
   "execution_count": 147,
   "id": "44fab127",
   "metadata": {},
   "outputs": [],
   "source": [
    "#model 46"
   ]
  },
  {
   "cell_type": "code",
   "execution_count": 148,
   "id": "1f0d8230",
   "metadata": {},
   "outputs": [
    {
     "data": {
      "text/plain": [
       "'Condition2_Norm'"
      ]
     },
     "execution_count": 148,
     "metadata": {},
     "output_type": "execute_result"
    }
   ],
   "source": [
    "model.pvalues.sort_values().index[-1]"
   ]
  },
  {
   "cell_type": "code",
   "execution_count": 149,
   "id": "b031b016",
   "metadata": {},
   "outputs": [
    {
     "data": {
      "text/plain": [
       "0.93035"
      ]
     },
     "execution_count": 149,
     "metadata": {},
     "output_type": "execute_result"
    }
   ],
   "source": [
    "col_to_be_dropped= model.pvalues.sort_values().index[-1]\n",
    "Xnew = Xnew.drop(labels=col_to_be_dropped,axis=1)\n",
    "from sklearn.model_selection import train_test_split\n",
    "xtrain,xtest,ytrain,ytest=train_test_split(Xnew,Y,test_size=0.2,random_state=31)\n",
    "from statsmodels.api import OLS,add_constant\n",
    "xconst = add_constant(xtrain,has_constant=\"add\")\n",
    "ols = OLS(ytrain,xconst)\n",
    "model = ols.fit()\n",
    "round(model.rsquared_adj,5)"
   ]
  },
  {
   "cell_type": "code",
   "execution_count": 150,
   "id": "15e9b3d6",
   "metadata": {},
   "outputs": [],
   "source": [
    "#model 47"
   ]
  },
  {
   "cell_type": "code",
   "execution_count": 151,
   "id": "236c705b",
   "metadata": {},
   "outputs": [
    {
     "data": {
      "text/plain": [
       "'BldgType_Duplex'"
      ]
     },
     "execution_count": 151,
     "metadata": {},
     "output_type": "execute_result"
    }
   ],
   "source": [
    "model.pvalues.sort_values().index[-1]"
   ]
  },
  {
   "cell_type": "code",
   "execution_count": 152,
   "id": "125fb4de",
   "metadata": {},
   "outputs": [
    {
     "data": {
      "text/plain": [
       "0.93035"
      ]
     },
     "execution_count": 152,
     "metadata": {},
     "output_type": "execute_result"
    }
   ],
   "source": [
    "col_to_be_dropped= model.pvalues.sort_values().index[-1]\n",
    "Xnew = Xnew.drop(labels=col_to_be_dropped,axis=1)\n",
    "from sklearn.model_selection import train_test_split\n",
    "xtrain,xtest,ytrain,ytest=train_test_split(Xnew,Y,test_size=0.2,random_state=31)\n",
    "from statsmodels.api import OLS,add_constant\n",
    "xconst = add_constant(xtrain,has_constant=\"add\")\n",
    "ols = OLS(ytrain,xconst)\n",
    "model = ols.fit()\n",
    "round(model.rsquared_adj,5)"
   ]
  },
  {
   "cell_type": "code",
   "execution_count": 153,
   "id": "a7fd205e",
   "metadata": {},
   "outputs": [],
   "source": [
    "#model 48"
   ]
  },
  {
   "cell_type": "code",
   "execution_count": 154,
   "id": "99ba438f",
   "metadata": {},
   "outputs": [
    {
     "data": {
      "text/plain": [
       "'BldgType_Twnhs'"
      ]
     },
     "execution_count": 154,
     "metadata": {},
     "output_type": "execute_result"
    }
   ],
   "source": [
    "model.pvalues.sort_values().index[-1]"
   ]
  },
  {
   "cell_type": "code",
   "execution_count": 155,
   "id": "8c2d904b",
   "metadata": {},
   "outputs": [
    {
     "data": {
      "text/plain": [
       "0.93046"
      ]
     },
     "execution_count": 155,
     "metadata": {},
     "output_type": "execute_result"
    }
   ],
   "source": [
    "col_to_be_dropped= model.pvalues.sort_values().index[-1]\n",
    "Xnew = Xnew.drop(labels=col_to_be_dropped,axis=1)\n",
    "from sklearn.model_selection import train_test_split\n",
    "xtrain,xtest,ytrain,ytest=train_test_split(Xnew,Y,test_size=0.2,random_state=31)\n",
    "from statsmodels.api import OLS,add_constant\n",
    "xconst = add_constant(xtrain,has_constant=\"add\")\n",
    "ols = OLS(ytrain,xconst)\n",
    "model = ols.fit()\n",
    "round(model.rsquared_adj,5)"
   ]
  },
  {
   "cell_type": "code",
   "execution_count": 156,
   "id": "006a5439",
   "metadata": {},
   "outputs": [],
   "source": [
    "#model 49"
   ]
  },
  {
   "cell_type": "code",
   "execution_count": 157,
   "id": "dfcb1df4",
   "metadata": {},
   "outputs": [
    {
     "data": {
      "text/plain": [
       "'MiscVal'"
      ]
     },
     "execution_count": 157,
     "metadata": {},
     "output_type": "execute_result"
    }
   ],
   "source": [
    "model.pvalues.sort_values().index[-1]"
   ]
  },
  {
   "cell_type": "code",
   "execution_count": 158,
   "id": "4e35053d",
   "metadata": {},
   "outputs": [
    {
     "data": {
      "text/plain": [
       "0.93057"
      ]
     },
     "execution_count": 158,
     "metadata": {},
     "output_type": "execute_result"
    }
   ],
   "source": [
    "col_to_be_dropped= model.pvalues.sort_values().index[-1]\n",
    "Xnew = Xnew.drop(labels=col_to_be_dropped,axis=1)\n",
    "from sklearn.model_selection import train_test_split\n",
    "xtrain,xtest,ytrain,ytest=train_test_split(Xnew,Y,test_size=0.2,random_state=31)\n",
    "from statsmodels.api import OLS,add_constant\n",
    "xconst = add_constant(xtrain,has_constant=\"add\")\n",
    "ols = OLS(ytrain,xconst)\n",
    "model = ols.fit()\n",
    "round(model.rsquared_adj,5)"
   ]
  },
  {
   "cell_type": "code",
   "execution_count": 159,
   "id": "65326c80",
   "metadata": {},
   "outputs": [],
   "source": [
    "#model 50"
   ]
  },
  {
   "cell_type": "code",
   "execution_count": 160,
   "id": "3793aa56",
   "metadata": {},
   "outputs": [
    {
     "data": {
      "text/plain": [
       "'SaleCondition_Abnorml'"
      ]
     },
     "execution_count": 160,
     "metadata": {},
     "output_type": "execute_result"
    }
   ],
   "source": [
    "model.pvalues.sort_values().index[-1]"
   ]
  },
  {
   "cell_type": "code",
   "execution_count": 161,
   "id": "06a24df8",
   "metadata": {},
   "outputs": [
    {
     "data": {
      "text/plain": [
       "0.93057"
      ]
     },
     "execution_count": 161,
     "metadata": {},
     "output_type": "execute_result"
    }
   ],
   "source": [
    "col_to_be_dropped= model.pvalues.sort_values().index[-1]\n",
    "Xnew = Xnew.drop(labels=col_to_be_dropped,axis=1)\n",
    "from sklearn.model_selection import train_test_split\n",
    "xtrain,xtest,ytrain,ytest=train_test_split(Xnew,Y,test_size=0.2,random_state=31)\n",
    "from statsmodels.api import OLS,add_constant\n",
    "xconst = add_constant(xtrain,has_constant=\"add\")\n",
    "ols = OLS(ytrain,xconst)\n",
    "model = ols.fit()\n",
    "round(model.rsquared_adj,5)"
   ]
  },
  {
   "cell_type": "code",
   "execution_count": 162,
   "id": "98473cba",
   "metadata": {},
   "outputs": [],
   "source": [
    "#model 51"
   ]
  },
  {
   "cell_type": "code",
   "execution_count": 163,
   "id": "50149833",
   "metadata": {},
   "outputs": [
    {
     "data": {
      "text/plain": [
       "'SaleCondition_Family'"
      ]
     },
     "execution_count": 163,
     "metadata": {},
     "output_type": "execute_result"
    }
   ],
   "source": [
    "model.pvalues.sort_values().index[-1]"
   ]
  },
  {
   "cell_type": "code",
   "execution_count": 164,
   "id": "7aca9c1f",
   "metadata": {},
   "outputs": [
    {
     "data": {
      "text/plain": [
       "0.93068"
      ]
     },
     "execution_count": 164,
     "metadata": {},
     "output_type": "execute_result"
    }
   ],
   "source": [
    "col_to_be_dropped= model.pvalues.sort_values().index[-1]\n",
    "Xnew = Xnew.drop(labels=col_to_be_dropped,axis=1)\n",
    "from sklearn.model_selection import train_test_split\n",
    "xtrain,xtest,ytrain,ytest=train_test_split(Xnew,Y,test_size=0.2,random_state=31)\n",
    "from statsmodels.api import OLS,add_constant\n",
    "xconst = add_constant(xtrain,has_constant=\"add\")\n",
    "ols = OLS(ytrain,xconst)\n",
    "model = ols.fit()\n",
    "round(model.rsquared_adj,5)"
   ]
  },
  {
   "cell_type": "code",
   "execution_count": 165,
   "id": "efca6e7e",
   "metadata": {},
   "outputs": [],
   "source": [
    "#model 52"
   ]
  },
  {
   "cell_type": "code",
   "execution_count": 166,
   "id": "2a9a340c",
   "metadata": {},
   "outputs": [
    {
     "data": {
      "text/plain": [
       "'Neighborhood_Blueste'"
      ]
     },
     "execution_count": 166,
     "metadata": {},
     "output_type": "execute_result"
    }
   ],
   "source": [
    "model.pvalues.sort_values().index[-1]"
   ]
  },
  {
   "cell_type": "code",
   "execution_count": 167,
   "id": "09627c63",
   "metadata": {},
   "outputs": [
    {
     "data": {
      "text/plain": [
       "0.93078"
      ]
     },
     "execution_count": 167,
     "metadata": {},
     "output_type": "execute_result"
    }
   ],
   "source": [
    "col_to_be_dropped= model.pvalues.sort_values().index[-1]\n",
    "Xnew = Xnew.drop(labels=col_to_be_dropped,axis=1)\n",
    "from sklearn.model_selection import train_test_split\n",
    "xtrain,xtest,ytrain,ytest=train_test_split(Xnew,Y,test_size=0.2,random_state=31)\n",
    "from statsmodels.api import OLS,add_constant\n",
    "xconst = add_constant(xtrain,has_constant=\"add\")\n",
    "ols = OLS(ytrain,xconst)\n",
    "model = ols.fit()\n",
    "round(model.rsquared_adj,5)"
   ]
  },
  {
   "cell_type": "code",
   "execution_count": 168,
   "id": "74d5e415",
   "metadata": {},
   "outputs": [],
   "source": [
    "#model 53"
   ]
  },
  {
   "cell_type": "code",
   "execution_count": 169,
   "id": "04dc8169",
   "metadata": {},
   "outputs": [
    {
     "data": {
      "text/plain": [
       "'Functional_Maj2'"
      ]
     },
     "execution_count": 169,
     "metadata": {},
     "output_type": "execute_result"
    }
   ],
   "source": [
    "model.pvalues.sort_values().index[-1]"
   ]
  },
  {
   "cell_type": "code",
   "execution_count": 170,
   "id": "769dd27d",
   "metadata": {},
   "outputs": [
    {
     "data": {
      "text/plain": [
       "0.93089"
      ]
     },
     "execution_count": 170,
     "metadata": {},
     "output_type": "execute_result"
    }
   ],
   "source": [
    "col_to_be_dropped= model.pvalues.sort_values().index[-1]\n",
    "Xnew = Xnew.drop(labels=col_to_be_dropped,axis=1)\n",
    "from sklearn.model_selection import train_test_split\n",
    "xtrain,xtest,ytrain,ytest=train_test_split(Xnew,Y,test_size=0.2,random_state=31)\n",
    "from statsmodels.api import OLS,add_constant\n",
    "xconst = add_constant(xtrain,has_constant=\"add\")\n",
    "ols = OLS(ytrain,xconst)\n",
    "model = ols.fit()\n",
    "round(model.rsquared_adj,5)"
   ]
  },
  {
   "cell_type": "code",
   "execution_count": 171,
   "id": "71b9164c",
   "metadata": {},
   "outputs": [],
   "source": [
    "#model 54"
   ]
  },
  {
   "cell_type": "code",
   "execution_count": 172,
   "id": "bd97d65c",
   "metadata": {},
   "outputs": [
    {
     "data": {
      "text/plain": [
       "'BsmtFinType1_BLQ'"
      ]
     },
     "execution_count": 172,
     "metadata": {},
     "output_type": "execute_result"
    }
   ],
   "source": [
    "model.pvalues.sort_values().index[-1]"
   ]
  },
  {
   "cell_type": "code",
   "execution_count": 173,
   "id": "3bd19d79",
   "metadata": {},
   "outputs": [
    {
     "data": {
      "text/plain": [
       "0.93099"
      ]
     },
     "execution_count": 173,
     "metadata": {},
     "output_type": "execute_result"
    }
   ],
   "source": [
    "col_to_be_dropped= model.pvalues.sort_values().index[-1]\n",
    "Xnew = Xnew.drop(labels=col_to_be_dropped,axis=1)\n",
    "from sklearn.model_selection import train_test_split\n",
    "xtrain,xtest,ytrain,ytest=train_test_split(Xnew,Y,test_size=0.2,random_state=31)\n",
    "from statsmodels.api import OLS,add_constant\n",
    "xconst = add_constant(xtrain,has_constant=\"add\")\n",
    "ols = OLS(ytrain,xconst)\n",
    "model = ols.fit()\n",
    "round(model.rsquared_adj,5)"
   ]
  },
  {
   "cell_type": "code",
   "execution_count": 174,
   "id": "e9dc1343",
   "metadata": {},
   "outputs": [],
   "source": [
    "#model 55"
   ]
  },
  {
   "cell_type": "code",
   "execution_count": 175,
   "id": "f2c29a08",
   "metadata": {},
   "outputs": [
    {
     "data": {
      "text/plain": [
       "'RoofStyle_Gambrel'"
      ]
     },
     "execution_count": 175,
     "metadata": {},
     "output_type": "execute_result"
    }
   ],
   "source": [
    "model.pvalues.sort_values().index[-1]"
   ]
  },
  {
   "cell_type": "code",
   "execution_count": 176,
   "id": "9f3ce248",
   "metadata": {},
   "outputs": [
    {
     "data": {
      "text/plain": [
       "0.93109"
      ]
     },
     "execution_count": 176,
     "metadata": {},
     "output_type": "execute_result"
    }
   ],
   "source": [
    "col_to_be_dropped= model.pvalues.sort_values().index[-1]\n",
    "Xnew = Xnew.drop(labels=col_to_be_dropped,axis=1)\n",
    "from sklearn.model_selection import train_test_split\n",
    "xtrain,xtest,ytrain,ytest=train_test_split(Xnew,Y,test_size=0.2,random_state=31)\n",
    "from statsmodels.api import OLS,add_constant\n",
    "xconst = add_constant(xtrain,has_constant=\"add\")\n",
    "ols = OLS(ytrain,xconst)\n",
    "model = ols.fit()\n",
    "round(model.rsquared_adj,5)"
   ]
  },
  {
   "cell_type": "code",
   "execution_count": 177,
   "id": "41716394",
   "metadata": {},
   "outputs": [],
   "source": [
    "#model 56"
   ]
  },
  {
   "cell_type": "code",
   "execution_count": 178,
   "id": "392ef479",
   "metadata": {},
   "outputs": [
    {
     "data": {
      "text/plain": [
       "'Condition2_Feedr'"
      ]
     },
     "execution_count": 178,
     "metadata": {},
     "output_type": "execute_result"
    }
   ],
   "source": [
    "model.pvalues.sort_values().index[-1]"
   ]
  },
  {
   "cell_type": "code",
   "execution_count": 179,
   "id": "58021f43",
   "metadata": {},
   "outputs": [
    {
     "data": {
      "text/plain": [
       "0.93119"
      ]
     },
     "execution_count": 179,
     "metadata": {},
     "output_type": "execute_result"
    }
   ],
   "source": [
    "col_to_be_dropped= model.pvalues.sort_values().index[-1]\n",
    "Xnew = Xnew.drop(labels=col_to_be_dropped,axis=1)\n",
    "from sklearn.model_selection import train_test_split\n",
    "xtrain,xtest,ytrain,ytest=train_test_split(Xnew,Y,test_size=0.2,random_state=31)\n",
    "from statsmodels.api import OLS,add_constant\n",
    "xconst = add_constant(xtrain,has_constant=\"add\")\n",
    "ols = OLS(ytrain,xconst)\n",
    "model = ols.fit()\n",
    "round(model.rsquared_adj,5)"
   ]
  },
  {
   "cell_type": "code",
   "execution_count": 180,
   "id": "9b9b973f",
   "metadata": {},
   "outputs": [],
   "source": [
    "#Model 57"
   ]
  },
  {
   "cell_type": "code",
   "execution_count": 181,
   "id": "8615fa9a",
   "metadata": {},
   "outputs": [
    {
     "data": {
      "text/plain": [
       "'LotConfig_FR2'"
      ]
     },
     "execution_count": 181,
     "metadata": {},
     "output_type": "execute_result"
    }
   ],
   "source": [
    "model.pvalues.sort_values().index[-1]"
   ]
  },
  {
   "cell_type": "code",
   "execution_count": 182,
   "id": "9e974668",
   "metadata": {},
   "outputs": [
    {
     "data": {
      "text/plain": [
       "0.93119"
      ]
     },
     "execution_count": 182,
     "metadata": {},
     "output_type": "execute_result"
    }
   ],
   "source": [
    "col_to_be_dropped= model.pvalues.sort_values().index[-1]\n",
    "Xnew = Xnew.drop(labels=col_to_be_dropped,axis=1)\n",
    "from sklearn.model_selection import train_test_split\n",
    "xtrain,xtest,ytrain,ytest=train_test_split(Xnew,Y,test_size=0.2,random_state=31)\n",
    "from statsmodels.api import OLS,add_constant\n",
    "xconst = add_constant(xtrain,has_constant=\"add\")\n",
    "ols = OLS(ytrain,xconst)\n",
    "model = ols.fit()\n",
    "round(model.rsquared_adj,5)"
   ]
  },
  {
   "cell_type": "code",
   "execution_count": 183,
   "id": "ba6d3176",
   "metadata": {},
   "outputs": [],
   "source": [
    "#Model 58"
   ]
  },
  {
   "cell_type": "code",
   "execution_count": 184,
   "id": "e6ad27a4",
   "metadata": {},
   "outputs": [
    {
     "data": {
      "text/plain": [
       "'MasVnrArea'"
      ]
     },
     "execution_count": 184,
     "metadata": {},
     "output_type": "execute_result"
    }
   ],
   "source": [
    "model.pvalues.sort_values().index[-1]"
   ]
  },
  {
   "cell_type": "code",
   "execution_count": 185,
   "id": "eea9f14b",
   "metadata": {},
   "outputs": [
    {
     "data": {
      "text/plain": [
       "0.93129"
      ]
     },
     "execution_count": 185,
     "metadata": {},
     "output_type": "execute_result"
    }
   ],
   "source": [
    "col_to_be_dropped= model.pvalues.sort_values().index[-1]\n",
    "Xnew = Xnew.drop(labels=col_to_be_dropped,axis=1)\n",
    "from sklearn.model_selection import train_test_split\n",
    "xtrain,xtest,ytrain,ytest=train_test_split(Xnew,Y,test_size=0.2,random_state=31)\n",
    "from statsmodels.api import OLS,add_constant\n",
    "xconst = add_constant(xtrain,has_constant=\"add\")\n",
    "ols = OLS(ytrain,xconst)\n",
    "model = ols.fit()\n",
    "round(model.rsquared_adj,5)"
   ]
  },
  {
   "cell_type": "code",
   "execution_count": 186,
   "id": "09e677c3",
   "metadata": {},
   "outputs": [],
   "source": [
    "#Model 59"
   ]
  },
  {
   "cell_type": "code",
   "execution_count": 187,
   "id": "d2192371",
   "metadata": {},
   "outputs": [
    {
     "data": {
      "text/plain": [
       "'BsmtUnfSF'"
      ]
     },
     "execution_count": 187,
     "metadata": {},
     "output_type": "execute_result"
    }
   ],
   "source": [
    "model.pvalues.sort_values().index[-1]"
   ]
  },
  {
   "cell_type": "code",
   "execution_count": 188,
   "id": "db2832e2",
   "metadata": {},
   "outputs": [
    {
     "data": {
      "text/plain": [
       "0.93129"
      ]
     },
     "execution_count": 188,
     "metadata": {},
     "output_type": "execute_result"
    }
   ],
   "source": [
    "col_to_be_dropped= model.pvalues.sort_values().index[-1]\n",
    "Xnew = Xnew.drop(labels=col_to_be_dropped,axis=1)\n",
    "from sklearn.model_selection import train_test_split\n",
    "xtrain,xtest,ytrain,ytest=train_test_split(Xnew,Y,test_size=0.2,random_state=31)\n",
    "from statsmodels.api import OLS,add_constant\n",
    "xconst = add_constant(xtrain,has_constant=\"add\")\n",
    "ols = OLS(ytrain,xconst)\n",
    "model = ols.fit()\n",
    "round(model.rsquared_adj,5)"
   ]
  },
  {
   "cell_type": "code",
   "execution_count": 189,
   "id": "ab8ec6aa",
   "metadata": {},
   "outputs": [],
   "source": [
    "#Model 60"
   ]
  },
  {
   "cell_type": "code",
   "execution_count": 190,
   "id": "392673ad",
   "metadata": {},
   "outputs": [
    {
     "data": {
      "text/plain": [
       "'MasVnrType_BrkFace'"
      ]
     },
     "execution_count": 190,
     "metadata": {},
     "output_type": "execute_result"
    }
   ],
   "source": [
    "model.pvalues.sort_values().index[-1]"
   ]
  },
  {
   "cell_type": "code",
   "execution_count": 191,
   "id": "14855499",
   "metadata": {},
   "outputs": [
    {
     "data": {
      "text/plain": [
       "0.93139"
      ]
     },
     "execution_count": 191,
     "metadata": {},
     "output_type": "execute_result"
    }
   ],
   "source": [
    "col_to_be_dropped= model.pvalues.sort_values().index[-1]\n",
    "Xnew = Xnew.drop(labels=col_to_be_dropped,axis=1)\n",
    "from sklearn.model_selection import train_test_split\n",
    "xtrain,xtest,ytrain,ytest=train_test_split(Xnew,Y,test_size=0.2,random_state=31)\n",
    "from statsmodels.api import OLS,add_constant\n",
    "xconst = add_constant(xtrain,has_constant=\"add\")\n",
    "ols = OLS(ytrain,xconst)\n",
    "model = ols.fit()\n",
    "round(model.rsquared_adj,5)"
   ]
  },
  {
   "cell_type": "code",
   "execution_count": 192,
   "id": "a597e356",
   "metadata": {},
   "outputs": [],
   "source": [
    "#Model 61"
   ]
  },
  {
   "cell_type": "code",
   "execution_count": 193,
   "id": "c58047c6",
   "metadata": {},
   "outputs": [
    {
     "data": {
      "text/plain": [
       "'TotRmsAbvGrd'"
      ]
     },
     "execution_count": 193,
     "metadata": {},
     "output_type": "execute_result"
    }
   ],
   "source": [
    "model.pvalues.sort_values().index[-1]"
   ]
  },
  {
   "cell_type": "code",
   "execution_count": 194,
   "id": "89ce53c0",
   "metadata": {},
   "outputs": [
    {
     "data": {
      "text/plain": [
       "0.93148"
      ]
     },
     "execution_count": 194,
     "metadata": {},
     "output_type": "execute_result"
    }
   ],
   "source": [
    "col_to_be_dropped= model.pvalues.sort_values().index[-1]\n",
    "Xnew = Xnew.drop(labels=col_to_be_dropped,axis=1)\n",
    "from sklearn.model_selection import train_test_split\n",
    "xtrain,xtest,ytrain,ytest=train_test_split(Xnew,Y,test_size=0.2,random_state=31)\n",
    "from statsmodels.api import OLS,add_constant\n",
    "xconst = add_constant(xtrain,has_constant=\"add\")\n",
    "ols = OLS(ytrain,xconst)\n",
    "model = ols.fit()\n",
    "round(model.rsquared_adj,5)"
   ]
  },
  {
   "cell_type": "code",
   "execution_count": 195,
   "id": "aca3599d",
   "metadata": {},
   "outputs": [],
   "source": [
    "#Model 62"
   ]
  },
  {
   "cell_type": "code",
   "execution_count": 196,
   "id": "92da9bf1",
   "metadata": {},
   "outputs": [
    {
     "data": {
      "text/plain": [
       "'Neighborhood_BrkSide'"
      ]
     },
     "execution_count": 196,
     "metadata": {},
     "output_type": "execute_result"
    }
   ],
   "source": [
    "model.pvalues.sort_values().index[-1]"
   ]
  },
  {
   "cell_type": "code",
   "execution_count": 197,
   "id": "3e30c1ba",
   "metadata": {},
   "outputs": [
    {
     "data": {
      "text/plain": [
       "0.93157"
      ]
     },
     "execution_count": 197,
     "metadata": {},
     "output_type": "execute_result"
    }
   ],
   "source": [
    "col_to_be_dropped= model.pvalues.sort_values().index[-1]\n",
    "Xnew = Xnew.drop(labels=col_to_be_dropped,axis=1)\n",
    "from sklearn.model_selection import train_test_split\n",
    "xtrain,xtest,ytrain,ytest=train_test_split(Xnew,Y,test_size=0.2,random_state=31)\n",
    "from statsmodels.api import OLS,add_constant\n",
    "xconst = add_constant(xtrain,has_constant=\"add\")\n",
    "ols = OLS(ytrain,xconst)\n",
    "model = ols.fit()\n",
    "round(model.rsquared_adj,5)"
   ]
  },
  {
   "cell_type": "code",
   "execution_count": 198,
   "id": "db0bd95b",
   "metadata": {},
   "outputs": [],
   "source": [
    "#Model 63"
   ]
  },
  {
   "cell_type": "code",
   "execution_count": 199,
   "id": "6ed4f4a7",
   "metadata": {},
   "outputs": [
    {
     "data": {
      "text/plain": [
       "'Neighborhood_Veenker'"
      ]
     },
     "execution_count": 199,
     "metadata": {},
     "output_type": "execute_result"
    }
   ],
   "source": [
    "model.pvalues.sort_values().index[-1]"
   ]
  },
  {
   "cell_type": "code",
   "execution_count": 200,
   "id": "aa1cf344",
   "metadata": {},
   "outputs": [
    {
     "data": {
      "text/plain": [
       "0.93167"
      ]
     },
     "execution_count": 200,
     "metadata": {},
     "output_type": "execute_result"
    }
   ],
   "source": [
    "col_to_be_dropped= model.pvalues.sort_values().index[-1]\n",
    "Xnew = Xnew.drop(labels=col_to_be_dropped,axis=1)\n",
    "from sklearn.model_selection import train_test_split\n",
    "xtrain,xtest,ytrain,ytest=train_test_split(Xnew,Y,test_size=0.2,random_state=31)\n",
    "from statsmodels.api import OLS,add_constant\n",
    "xconst = add_constant(xtrain,has_constant=\"add\")\n",
    "ols = OLS(ytrain,xconst)\n",
    "model = ols.fit()\n",
    "round(model.rsquared_adj,5)"
   ]
  },
  {
   "cell_type": "code",
   "execution_count": 201,
   "id": "8c47a8a3",
   "metadata": {},
   "outputs": [],
   "source": [
    "#Model 64"
   ]
  },
  {
   "cell_type": "code",
   "execution_count": 202,
   "id": "c1fa0e48",
   "metadata": {},
   "outputs": [
    {
     "data": {
      "text/plain": [
       "'Neighborhood_IDOTRR'"
      ]
     },
     "execution_count": 202,
     "metadata": {},
     "output_type": "execute_result"
    }
   ],
   "source": [
    "model.pvalues.sort_values().index[-1]"
   ]
  },
  {
   "cell_type": "code",
   "execution_count": 203,
   "id": "cd9f8e4a",
   "metadata": {},
   "outputs": [
    {
     "data": {
      "text/plain": [
       "0.93177"
      ]
     },
     "execution_count": 203,
     "metadata": {},
     "output_type": "execute_result"
    }
   ],
   "source": [
    "col_to_be_dropped= model.pvalues.sort_values().index[-1]\n",
    "Xnew = Xnew.drop(labels=col_to_be_dropped,axis=1)\n",
    "from sklearn.model_selection import train_test_split\n",
    "xtrain,xtest,ytrain,ytest=train_test_split(Xnew,Y,test_size=0.2,random_state=31)\n",
    "from statsmodels.api import OLS,add_constant\n",
    "xconst = add_constant(xtrain,has_constant=\"add\")\n",
    "ols = OLS(ytrain,xconst)\n",
    "model = ols.fit()\n",
    "round(model.rsquared_adj,5)"
   ]
  },
  {
   "cell_type": "code",
   "execution_count": 204,
   "id": "133379cc",
   "metadata": {},
   "outputs": [],
   "source": [
    "#Model 65"
   ]
  },
  {
   "cell_type": "code",
   "execution_count": 205,
   "id": "f399cb9e",
   "metadata": {},
   "outputs": [
    {
     "data": {
      "text/plain": [
       "'BsmtFinType2_BLQ'"
      ]
     },
     "execution_count": 205,
     "metadata": {},
     "output_type": "execute_result"
    }
   ],
   "source": [
    "model.pvalues.sort_values().index[-1]"
   ]
  },
  {
   "cell_type": "code",
   "execution_count": 206,
   "id": "807a3a4c",
   "metadata": {},
   "outputs": [
    {
     "data": {
      "text/plain": [
       "0.93186"
      ]
     },
     "execution_count": 206,
     "metadata": {},
     "output_type": "execute_result"
    }
   ],
   "source": [
    "col_to_be_dropped= model.pvalues.sort_values().index[-1]\n",
    "Xnew = Xnew.drop(labels=col_to_be_dropped,axis=1)\n",
    "from sklearn.model_selection import train_test_split\n",
    "xtrain,xtest,ytrain,ytest=train_test_split(Xnew,Y,test_size=0.2,random_state=31)\n",
    "from statsmodels.api import OLS,add_constant\n",
    "xconst = add_constant(xtrain,has_constant=\"add\")\n",
    "ols = OLS(ytrain,xconst)\n",
    "model = ols.fit()\n",
    "round(model.rsquared_adj,5)"
   ]
  },
  {
   "cell_type": "code",
   "execution_count": 207,
   "id": "9d435b4d",
   "metadata": {},
   "outputs": [],
   "source": [
    "#Model 66"
   ]
  },
  {
   "cell_type": "code",
   "execution_count": 208,
   "id": "4b2677c0",
   "metadata": {},
   "outputs": [
    {
     "data": {
      "text/plain": [
       "'BsmtFinType1_ALQ'"
      ]
     },
     "execution_count": 208,
     "metadata": {},
     "output_type": "execute_result"
    }
   ],
   "source": [
    "model.pvalues.sort_values().index[-1]"
   ]
  },
  {
   "cell_type": "code",
   "execution_count": 209,
   "id": "bf76f693",
   "metadata": {},
   "outputs": [
    {
     "data": {
      "text/plain": [
       "0.93195"
      ]
     },
     "execution_count": 209,
     "metadata": {},
     "output_type": "execute_result"
    }
   ],
   "source": [
    "col_to_be_dropped= model.pvalues.sort_values().index[-1]\n",
    "Xnew = Xnew.drop(labels=col_to_be_dropped,axis=1)\n",
    "from sklearn.model_selection import train_test_split\n",
    "xtrain,xtest,ytrain,ytest=train_test_split(Xnew,Y,test_size=0.2,random_state=31)\n",
    "from statsmodels.api import OLS,add_constant\n",
    "xconst = add_constant(xtrain,has_constant=\"add\")\n",
    "ols = OLS(ytrain,xconst)\n",
    "model = ols.fit()\n",
    "round(model.rsquared_adj,5)"
   ]
  },
  {
   "cell_type": "code",
   "execution_count": 210,
   "id": "4ea52860",
   "metadata": {},
   "outputs": [],
   "source": [
    "#Model 67"
   ]
  },
  {
   "cell_type": "code",
   "execution_count": 211,
   "id": "2a77b41c",
   "metadata": {},
   "outputs": [
    {
     "data": {
      "text/plain": [
       "'BsmtFinType1_Unf'"
      ]
     },
     "execution_count": 211,
     "metadata": {},
     "output_type": "execute_result"
    }
   ],
   "source": [
    "model.pvalues.sort_values().index[-1]"
   ]
  },
  {
   "cell_type": "code",
   "execution_count": 212,
   "id": "19f47ac8",
   "metadata": {},
   "outputs": [
    {
     "data": {
      "text/plain": [
       "0.93205"
      ]
     },
     "execution_count": 212,
     "metadata": {},
     "output_type": "execute_result"
    }
   ],
   "source": [
    "col_to_be_dropped= model.pvalues.sort_values().index[-1]\n",
    "Xnew = Xnew.drop(labels=col_to_be_dropped,axis=1)\n",
    "from sklearn.model_selection import train_test_split\n",
    "xtrain,xtest,ytrain,ytest=train_test_split(Xnew,Y,test_size=0.2,random_state=31)\n",
    "from statsmodels.api import OLS,add_constant\n",
    "xconst = add_constant(xtrain,has_constant=\"add\")\n",
    "ols = OLS(ytrain,xconst)\n",
    "model = ols.fit()\n",
    "round(model.rsquared_adj,5)"
   ]
  },
  {
   "cell_type": "code",
   "execution_count": 213,
   "id": "c21cfb7a",
   "metadata": {},
   "outputs": [],
   "source": [
    "#Model 68"
   ]
  },
  {
   "cell_type": "code",
   "execution_count": 214,
   "id": "015d38f1",
   "metadata": {},
   "outputs": [
    {
     "data": {
      "text/plain": [
       "'SaleType_ConLw'"
      ]
     },
     "execution_count": 214,
     "metadata": {},
     "output_type": "execute_result"
    }
   ],
   "source": [
    "model.pvalues.sort_values().index[-1]"
   ]
  },
  {
   "cell_type": "code",
   "execution_count": 215,
   "id": "a718beed",
   "metadata": {},
   "outputs": [
    {
     "data": {
      "text/plain": [
       "0.93214"
      ]
     },
     "execution_count": 215,
     "metadata": {},
     "output_type": "execute_result"
    }
   ],
   "source": [
    "col_to_be_dropped= model.pvalues.sort_values().index[-1]\n",
    "Xnew = Xnew.drop(labels=col_to_be_dropped,axis=1)\n",
    "from sklearn.model_selection import train_test_split\n",
    "xtrain,xtest,ytrain,ytest=train_test_split(Xnew,Y,test_size=0.2,random_state=31)\n",
    "from statsmodels.api import OLS,add_constant\n",
    "xconst = add_constant(xtrain,has_constant=\"add\")\n",
    "ols = OLS(ytrain,xconst)\n",
    "model = ols.fit()\n",
    "round(model.rsquared_adj,5)"
   ]
  },
  {
   "cell_type": "code",
   "execution_count": 216,
   "id": "3ed15127",
   "metadata": {},
   "outputs": [],
   "source": [
    "#Model 69"
   ]
  },
  {
   "cell_type": "code",
   "execution_count": 217,
   "id": "5a5bb9a0",
   "metadata": {},
   "outputs": [
    {
     "data": {
      "text/plain": [
       "'RoofMatl_WdShake'"
      ]
     },
     "execution_count": 217,
     "metadata": {},
     "output_type": "execute_result"
    }
   ],
   "source": [
    "model.pvalues.sort_values().index[-1]"
   ]
  },
  {
   "cell_type": "code",
   "execution_count": 218,
   "id": "cffcc4eb",
   "metadata": {},
   "outputs": [
    {
     "data": {
      "text/plain": [
       "0.93223"
      ]
     },
     "execution_count": 218,
     "metadata": {},
     "output_type": "execute_result"
    }
   ],
   "source": [
    "col_to_be_dropped= model.pvalues.sort_values().index[-1]\n",
    "Xnew = Xnew.drop(labels=col_to_be_dropped,axis=1)\n",
    "from sklearn.model_selection import train_test_split\n",
    "xtrain,xtest,ytrain,ytest=train_test_split(Xnew,Y,test_size=0.2,random_state=31)\n",
    "from statsmodels.api import OLS,add_constant\n",
    "xconst = add_constant(xtrain,has_constant=\"add\")\n",
    "ols = OLS(ytrain,xconst)\n",
    "model = ols.fit()\n",
    "round(model.rsquared_adj,5)"
   ]
  },
  {
   "cell_type": "code",
   "execution_count": 219,
   "id": "ad05bfc2",
   "metadata": {},
   "outputs": [],
   "source": [
    "#Model 70"
   ]
  },
  {
   "cell_type": "code",
   "execution_count": 220,
   "id": "987024b1",
   "metadata": {},
   "outputs": [
    {
     "data": {
      "text/plain": [
       "'Exterior2nd_Wd Shng'"
      ]
     },
     "execution_count": 220,
     "metadata": {},
     "output_type": "execute_result"
    }
   ],
   "source": [
    "model.pvalues.sort_values().index[-1]"
   ]
  },
  {
   "cell_type": "code",
   "execution_count": 221,
   "id": "6658e8ab",
   "metadata": {},
   "outputs": [
    {
     "data": {
      "text/plain": [
       "0.93232"
      ]
     },
     "execution_count": 221,
     "metadata": {},
     "output_type": "execute_result"
    }
   ],
   "source": [
    "col_to_be_dropped= model.pvalues.sort_values().index[-1]\n",
    "Xnew = Xnew.drop(labels=col_to_be_dropped,axis=1)\n",
    "from sklearn.model_selection import train_test_split\n",
    "xtrain,xtest,ytrain,ytest=train_test_split(Xnew,Y,test_size=0.2,random_state=31)\n",
    "from statsmodels.api import OLS,add_constant\n",
    "xconst = add_constant(xtrain,has_constant=\"add\")\n",
    "ols = OLS(ytrain,xconst)\n",
    "model = ols.fit()\n",
    "round(model.rsquared_adj,5)"
   ]
  },
  {
   "cell_type": "code",
   "execution_count": 222,
   "id": "4d8195d9",
   "metadata": {},
   "outputs": [],
   "source": [
    "#Model 71"
   ]
  },
  {
   "cell_type": "code",
   "execution_count": 223,
   "id": "1175e9d6",
   "metadata": {},
   "outputs": [
    {
     "data": {
      "text/plain": [
       "'Exterior1st_CBlock'"
      ]
     },
     "execution_count": 223,
     "metadata": {},
     "output_type": "execute_result"
    }
   ],
   "source": [
    "model.pvalues.sort_values().index[-1]"
   ]
  },
  {
   "cell_type": "code",
   "execution_count": 224,
   "id": "b341b227",
   "metadata": {},
   "outputs": [
    {
     "data": {
      "text/plain": [
       "0.93232"
      ]
     },
     "execution_count": 224,
     "metadata": {},
     "output_type": "execute_result"
    }
   ],
   "source": [
    "col_to_be_dropped= model.pvalues.sort_values().index[-1]\n",
    "Xnew = Xnew.drop(labels=col_to_be_dropped,axis=1)\n",
    "from sklearn.model_selection import train_test_split\n",
    "xtrain,xtest,ytrain,ytest=train_test_split(Xnew,Y,test_size=0.2,random_state=31)\n",
    "from statsmodels.api import OLS,add_constant\n",
    "xconst = add_constant(xtrain,has_constant=\"add\")\n",
    "ols = OLS(ytrain,xconst)\n",
    "model = ols.fit()\n",
    "round(model.rsquared_adj,5)"
   ]
  },
  {
   "cell_type": "code",
   "execution_count": 225,
   "id": "c6ae2aa0",
   "metadata": {},
   "outputs": [],
   "source": [
    "#Model 72"
   ]
  },
  {
   "cell_type": "code",
   "execution_count": 226,
   "id": "07e40646",
   "metadata": {},
   "outputs": [
    {
     "data": {
      "text/plain": [
       "'Exterior2nd_CBlock'"
      ]
     },
     "execution_count": 226,
     "metadata": {},
     "output_type": "execute_result"
    }
   ],
   "source": [
    "model.pvalues.sort_values().index[-1]"
   ]
  },
  {
   "cell_type": "code",
   "execution_count": 227,
   "id": "0aef7a0f",
   "metadata": {},
   "outputs": [
    {
     "data": {
      "text/plain": [
       "0.93241"
      ]
     },
     "execution_count": 227,
     "metadata": {},
     "output_type": "execute_result"
    }
   ],
   "source": [
    "col_to_be_dropped= model.pvalues.sort_values().index[-1]\n",
    "Xnew = Xnew.drop(labels=col_to_be_dropped,axis=1)\n",
    "from sklearn.model_selection import train_test_split\n",
    "xtrain,xtest,ytrain,ytest=train_test_split(Xnew,Y,test_size=0.2,random_state=31)\n",
    "from statsmodels.api import OLS,add_constant\n",
    "xconst = add_constant(xtrain,has_constant=\"add\")\n",
    "ols = OLS(ytrain,xconst)\n",
    "model = ols.fit()\n",
    "round(model.rsquared_adj,5)"
   ]
  },
  {
   "cell_type": "code",
   "execution_count": 228,
   "id": "eb01989b",
   "metadata": {},
   "outputs": [],
   "source": [
    "#Model 73"
   ]
  },
  {
   "cell_type": "code",
   "execution_count": 229,
   "id": "fb4f19c0",
   "metadata": {},
   "outputs": [
    {
     "data": {
      "text/plain": [
       "'RoofStyle_Mansard'"
      ]
     },
     "execution_count": 229,
     "metadata": {},
     "output_type": "execute_result"
    }
   ],
   "source": [
    "model.pvalues.sort_values().index[-1]"
   ]
  },
  {
   "cell_type": "code",
   "execution_count": 230,
   "id": "bf7abecf",
   "metadata": {},
   "outputs": [
    {
     "data": {
      "text/plain": [
       "0.9325"
      ]
     },
     "execution_count": 230,
     "metadata": {},
     "output_type": "execute_result"
    }
   ],
   "source": [
    "col_to_be_dropped= model.pvalues.sort_values().index[-1]\n",
    "Xnew = Xnew.drop(labels=col_to_be_dropped,axis=1)\n",
    "from sklearn.model_selection import train_test_split\n",
    "xtrain,xtest,ytrain,ytest=train_test_split(Xnew,Y,test_size=0.2,random_state=31)\n",
    "from statsmodels.api import OLS,add_constant\n",
    "xconst = add_constant(xtrain,has_constant=\"add\")\n",
    "ols = OLS(ytrain,xconst)\n",
    "model = ols.fit()\n",
    "round(model.rsquared_adj,5)"
   ]
  },
  {
   "cell_type": "code",
   "execution_count": 231,
   "id": "9edc9304",
   "metadata": {},
   "outputs": [],
   "source": [
    "#Model 74"
   ]
  },
  {
   "cell_type": "code",
   "execution_count": 232,
   "id": "361cc728",
   "metadata": {},
   "outputs": [
    {
     "data": {
      "text/plain": [
       "'EnclosedPorch'"
      ]
     },
     "execution_count": 232,
     "metadata": {},
     "output_type": "execute_result"
    }
   ],
   "source": [
    "model.pvalues.sort_values().index[-1]"
   ]
  },
  {
   "cell_type": "code",
   "execution_count": 233,
   "id": "752f1d5e",
   "metadata": {},
   "outputs": [
    {
     "data": {
      "text/plain": [
       "0.93259"
      ]
     },
     "execution_count": 233,
     "metadata": {},
     "output_type": "execute_result"
    }
   ],
   "source": [
    "col_to_be_dropped= model.pvalues.sort_values().index[-1]\n",
    "Xnew = Xnew.drop(labels=col_to_be_dropped,axis=1)\n",
    "from sklearn.model_selection import train_test_split\n",
    "xtrain,xtest,ytrain,ytest=train_test_split(Xnew,Y,test_size=0.2,random_state=31)\n",
    "from statsmodels.api import OLS,add_constant\n",
    "xconst = add_constant(xtrain,has_constant=\"add\")\n",
    "ols = OLS(ytrain,xconst)\n",
    "model = ols.fit()\n",
    "round(model.rsquared_adj,5)"
   ]
  },
  {
   "cell_type": "code",
   "execution_count": 234,
   "id": "ed5f2f2a",
   "metadata": {},
   "outputs": [],
   "source": [
    "#Model 75"
   ]
  },
  {
   "cell_type": "code",
   "execution_count": 235,
   "id": "2911e96b",
   "metadata": {},
   "outputs": [
    {
     "data": {
      "text/plain": [
       "'BsmtFinType2_LwQ'"
      ]
     },
     "execution_count": 235,
     "metadata": {},
     "output_type": "execute_result"
    }
   ],
   "source": [
    "model.pvalues.sort_values().index[-1]"
   ]
  },
  {
   "cell_type": "code",
   "execution_count": 236,
   "id": "d8d0b563",
   "metadata": {},
   "outputs": [
    {
     "data": {
      "text/plain": [
       "0.93268"
      ]
     },
     "execution_count": 236,
     "metadata": {},
     "output_type": "execute_result"
    }
   ],
   "source": [
    "col_to_be_dropped= model.pvalues.sort_values().index[-1]\n",
    "Xnew = Xnew.drop(labels=col_to_be_dropped,axis=1)\n",
    "from sklearn.model_selection import train_test_split\n",
    "xtrain,xtest,ytrain,ytest=train_test_split(Xnew,Y,test_size=0.2,random_state=31)\n",
    "from statsmodels.api import OLS,add_constant\n",
    "xconst = add_constant(xtrain,has_constant=\"add\")\n",
    "ols = OLS(ytrain,xconst)\n",
    "model = ols.fit()\n",
    "round(model.rsquared_adj,5)"
   ]
  },
  {
   "cell_type": "code",
   "execution_count": 237,
   "id": "ce7977ed",
   "metadata": {},
   "outputs": [],
   "source": [
    "#Model 76"
   ]
  },
  {
   "cell_type": "code",
   "execution_count": 238,
   "id": "0acb3234",
   "metadata": {},
   "outputs": [
    {
     "data": {
      "text/plain": [
       "'ExterQual_Gd'"
      ]
     },
     "execution_count": 238,
     "metadata": {},
     "output_type": "execute_result"
    }
   ],
   "source": [
    "model.pvalues.sort_values().index[-1]"
   ]
  },
  {
   "cell_type": "code",
   "execution_count": 239,
   "id": "c23f17ca",
   "metadata": {},
   "outputs": [
    {
     "data": {
      "text/plain": [
       "0.93268"
      ]
     },
     "execution_count": 239,
     "metadata": {},
     "output_type": "execute_result"
    }
   ],
   "source": [
    "col_to_be_dropped= model.pvalues.sort_values().index[-1]\n",
    "Xnew = Xnew.drop(labels=col_to_be_dropped,axis=1)\n",
    "from sklearn.model_selection import train_test_split\n",
    "xtrain,xtest,ytrain,ytest=train_test_split(Xnew,Y,test_size=0.2,random_state=31)\n",
    "from statsmodels.api import OLS,add_constant\n",
    "xconst = add_constant(xtrain,has_constant=\"add\")\n",
    "ols = OLS(ytrain,xconst)\n",
    "model = ols.fit()\n",
    "round(model.rsquared_adj,5)"
   ]
  },
  {
   "cell_type": "code",
   "execution_count": 240,
   "id": "6a2384ff",
   "metadata": {},
   "outputs": [],
   "source": [
    "#Model 77"
   ]
  },
  {
   "cell_type": "code",
   "execution_count": 241,
   "id": "9eb94587",
   "metadata": {},
   "outputs": [
    {
     "data": {
      "text/plain": [
       "'BsmtFinSF2'"
      ]
     },
     "execution_count": 241,
     "metadata": {},
     "output_type": "execute_result"
    }
   ],
   "source": [
    "model.pvalues.sort_values().index[-1]"
   ]
  },
  {
   "cell_type": "code",
   "execution_count": 242,
   "id": "e90ee5e4",
   "metadata": {},
   "outputs": [
    {
     "data": {
      "text/plain": [
       "0.93276"
      ]
     },
     "execution_count": 242,
     "metadata": {},
     "output_type": "execute_result"
    }
   ],
   "source": [
    "col_to_be_dropped= model.pvalues.sort_values().index[-1]\n",
    "Xnew = Xnew.drop(labels=col_to_be_dropped,axis=1)\n",
    "from sklearn.model_selection import train_test_split\n",
    "xtrain,xtest,ytrain,ytest=train_test_split(Xnew,Y,test_size=0.2,random_state=31)\n",
    "from statsmodels.api import OLS,add_constant\n",
    "xconst = add_constant(xtrain,has_constant=\"add\")\n",
    "ols = OLS(ytrain,xconst)\n",
    "model = ols.fit()\n",
    "round(model.rsquared_adj,5)"
   ]
  },
  {
   "cell_type": "code",
   "execution_count": 243,
   "id": "ca6c5bcc",
   "metadata": {},
   "outputs": [],
   "source": [
    "#Model 78"
   ]
  },
  {
   "cell_type": "code",
   "execution_count": 244,
   "id": "c4122352",
   "metadata": {},
   "outputs": [
    {
     "data": {
      "text/plain": [
       "'BsmtFinType2_Rec'"
      ]
     },
     "execution_count": 244,
     "metadata": {},
     "output_type": "execute_result"
    }
   ],
   "source": [
    "model.pvalues.sort_values().index[-1]"
   ]
  },
  {
   "cell_type": "code",
   "execution_count": 245,
   "id": "22f6cad4",
   "metadata": {},
   "outputs": [
    {
     "data": {
      "text/plain": [
       "0.93284"
      ]
     },
     "execution_count": 245,
     "metadata": {},
     "output_type": "execute_result"
    }
   ],
   "source": [
    "col_to_be_dropped= model.pvalues.sort_values().index[-1]\n",
    "Xnew = Xnew.drop(labels=col_to_be_dropped,axis=1)\n",
    "from sklearn.model_selection import train_test_split\n",
    "xtrain,xtest,ytrain,ytest=train_test_split(Xnew,Y,test_size=0.2,random_state=31)\n",
    "from statsmodels.api import OLS,add_constant\n",
    "xconst = add_constant(xtrain,has_constant=\"add\")\n",
    "ols = OLS(ytrain,xconst)\n",
    "model = ols.fit()\n",
    "round(model.rsquared_adj,5)"
   ]
  },
  {
   "cell_type": "code",
   "execution_count": 246,
   "id": "82b226df",
   "metadata": {},
   "outputs": [],
   "source": [
    "#Model 79"
   ]
  },
  {
   "cell_type": "code",
   "execution_count": 247,
   "id": "8e3104b7",
   "metadata": {},
   "outputs": [
    {
     "data": {
      "text/plain": [
       "'SaleType_ConLI'"
      ]
     },
     "execution_count": 247,
     "metadata": {},
     "output_type": "execute_result"
    }
   ],
   "source": [
    "model.pvalues.sort_values().index[-1]"
   ]
  },
  {
   "cell_type": "code",
   "execution_count": 248,
   "id": "ce4c205c",
   "metadata": {},
   "outputs": [
    {
     "data": {
      "text/plain": [
       "0.93292"
      ]
     },
     "execution_count": 248,
     "metadata": {},
     "output_type": "execute_result"
    }
   ],
   "source": [
    "col_to_be_dropped= model.pvalues.sort_values().index[-1]\n",
    "Xnew = Xnew.drop(labels=col_to_be_dropped,axis=1)\n",
    "from sklearn.model_selection import train_test_split\n",
    "xtrain,xtest,ytrain,ytest=train_test_split(Xnew,Y,test_size=0.2,random_state=31)\n",
    "from statsmodels.api import OLS,add_constant\n",
    "xconst = add_constant(xtrain,has_constant=\"add\")\n",
    "ols = OLS(ytrain,xconst)\n",
    "model = ols.fit()\n",
    "round(model.rsquared_adj,5)"
   ]
  },
  {
   "cell_type": "code",
   "execution_count": 249,
   "id": "6de58725",
   "metadata": {},
   "outputs": [],
   "source": [
    "#Model 80"
   ]
  },
  {
   "cell_type": "code",
   "execution_count": 250,
   "id": "b3176ea2",
   "metadata": {},
   "outputs": [
    {
     "data": {
      "text/plain": [
       "'BsmtCond_Fa'"
      ]
     },
     "execution_count": 250,
     "metadata": {},
     "output_type": "execute_result"
    }
   ],
   "source": [
    "model.pvalues.sort_values().index[-1]"
   ]
  },
  {
   "cell_type": "code",
   "execution_count": 251,
   "id": "7693ff88",
   "metadata": {},
   "outputs": [
    {
     "data": {
      "text/plain": [
       "0.93292"
      ]
     },
     "execution_count": 251,
     "metadata": {},
     "output_type": "execute_result"
    }
   ],
   "source": [
    "col_to_be_dropped= model.pvalues.sort_values().index[-1]\n",
    "Xnew = Xnew.drop(labels=col_to_be_dropped,axis=1)\n",
    "from sklearn.model_selection import train_test_split\n",
    "xtrain,xtest,ytrain,ytest=train_test_split(Xnew,Y,test_size=0.2,random_state=31)\n",
    "from statsmodels.api import OLS,add_constant\n",
    "xconst = add_constant(xtrain,has_constant=\"add\")\n",
    "ols = OLS(ytrain,xconst)\n",
    "model = ols.fit()\n",
    "round(model.rsquared_adj,5)"
   ]
  },
  {
   "cell_type": "code",
   "execution_count": 252,
   "id": "18c4cb61",
   "metadata": {},
   "outputs": [],
   "source": [
    "#Model 81"
   ]
  },
  {
   "cell_type": "code",
   "execution_count": 253,
   "id": "f7a67fdb",
   "metadata": {},
   "outputs": [
    {
     "data": {
      "text/plain": [
       "'BsmtCond_Gd'"
      ]
     },
     "execution_count": 253,
     "metadata": {},
     "output_type": "execute_result"
    }
   ],
   "source": [
    "model.pvalues.sort_values().index[-1]"
   ]
  },
  {
   "cell_type": "code",
   "execution_count": 254,
   "id": "7ded4362",
   "metadata": {},
   "outputs": [
    {
     "data": {
      "text/plain": [
       "0.93302"
      ]
     },
     "execution_count": 254,
     "metadata": {},
     "output_type": "execute_result"
    }
   ],
   "source": [
    "col_to_be_dropped= model.pvalues.sort_values().index[-1]\n",
    "Xnew = Xnew.drop(labels=col_to_be_dropped,axis=1)\n",
    "from sklearn.model_selection import train_test_split\n",
    "xtrain,xtest,ytrain,ytest=train_test_split(Xnew,Y,test_size=0.2,random_state=31)\n",
    "from statsmodels.api import OLS,add_constant\n",
    "xconst = add_constant(xtrain,has_constant=\"add\")\n",
    "ols = OLS(ytrain,xconst)\n",
    "model = ols.fit()\n",
    "round(model.rsquared_adj,5)"
   ]
  },
  {
   "cell_type": "code",
   "execution_count": 255,
   "id": "4dcf183a",
   "metadata": {},
   "outputs": [],
   "source": [
    "#Model 82"
   ]
  },
  {
   "cell_type": "code",
   "execution_count": 256,
   "id": "12aa846b",
   "metadata": {},
   "outputs": [
    {
     "data": {
      "text/plain": [
       "'SaleType_ConLD'"
      ]
     },
     "execution_count": 256,
     "metadata": {},
     "output_type": "execute_result"
    }
   ],
   "source": [
    "model.pvalues.sort_values().index[-1]"
   ]
  },
  {
   "cell_type": "code",
   "execution_count": 257,
   "id": "9b1d3220",
   "metadata": {},
   "outputs": [
    {
     "data": {
      "text/plain": [
       "0.9331"
      ]
     },
     "execution_count": 257,
     "metadata": {},
     "output_type": "execute_result"
    }
   ],
   "source": [
    "col_to_be_dropped= model.pvalues.sort_values().index[-1]\n",
    "Xnew = Xnew.drop(labels=col_to_be_dropped,axis=1)\n",
    "from sklearn.model_selection import train_test_split\n",
    "xtrain,xtest,ytrain,ytest=train_test_split(Xnew,Y,test_size=0.2,random_state=31)\n",
    "from statsmodels.api import OLS,add_constant\n",
    "xconst = add_constant(xtrain,has_constant=\"add\")\n",
    "ols = OLS(ytrain,xconst)\n",
    "model = ols.fit()\n",
    "round(model.rsquared_adj,5)"
   ]
  },
  {
   "cell_type": "code",
   "execution_count": 258,
   "id": "c29602bc",
   "metadata": {},
   "outputs": [],
   "source": [
    "#Model 83"
   ]
  },
  {
   "cell_type": "code",
   "execution_count": 259,
   "id": "b68b1474",
   "metadata": {},
   "outputs": [
    {
     "data": {
      "text/plain": [
       "'MSZoning_RL'"
      ]
     },
     "execution_count": 259,
     "metadata": {},
     "output_type": "execute_result"
    }
   ],
   "source": [
    "model.pvalues.sort_values().index[-1]"
   ]
  },
  {
   "cell_type": "code",
   "execution_count": 260,
   "id": "f76b6961",
   "metadata": {},
   "outputs": [
    {
     "data": {
      "text/plain": [
       "0.93318"
      ]
     },
     "execution_count": 260,
     "metadata": {},
     "output_type": "execute_result"
    }
   ],
   "source": [
    "col_to_be_dropped= model.pvalues.sort_values().index[-1]\n",
    "Xnew = Xnew.drop(labels=col_to_be_dropped,axis=1)\n",
    "from sklearn.model_selection import train_test_split\n",
    "xtrain,xtest,ytrain,ytest=train_test_split(Xnew,Y,test_size=0.2,random_state=31)\n",
    "from statsmodels.api import OLS,add_constant\n",
    "xconst = add_constant(xtrain,has_constant=\"add\")\n",
    "ols = OLS(ytrain,xconst)\n",
    "model = ols.fit()\n",
    "round(model.rsquared_adj,5)"
   ]
  },
  {
   "cell_type": "code",
   "execution_count": 261,
   "id": "36e6471d",
   "metadata": {},
   "outputs": [],
   "source": [
    "#Model 84"
   ]
  },
  {
   "cell_type": "code",
   "execution_count": 262,
   "id": "1aa59b19",
   "metadata": {},
   "outputs": [
    {
     "data": {
      "text/plain": [
       "'MSZoning_RM'"
      ]
     },
     "execution_count": 262,
     "metadata": {},
     "output_type": "execute_result"
    }
   ],
   "source": [
    "model.pvalues.sort_values().index[-1]"
   ]
  },
  {
   "cell_type": "code",
   "execution_count": 263,
   "id": "335f13de",
   "metadata": {},
   "outputs": [
    {
     "data": {
      "text/plain": [
       "0.93328"
      ]
     },
     "execution_count": 263,
     "metadata": {},
     "output_type": "execute_result"
    }
   ],
   "source": [
    "col_to_be_dropped= model.pvalues.sort_values().index[-1]\n",
    "Xnew = Xnew.drop(labels=col_to_be_dropped,axis=1)\n",
    "from sklearn.model_selection import train_test_split\n",
    "xtrain,xtest,ytrain,ytest=train_test_split(Xnew,Y,test_size=0.2,random_state=31)\n",
    "from statsmodels.api import OLS,add_constant\n",
    "xconst = add_constant(xtrain,has_constant=\"add\")\n",
    "ols = OLS(ytrain,xconst)\n",
    "model = ols.fit()\n",
    "round(model.rsquared_adj,5)"
   ]
  },
  {
   "cell_type": "code",
   "execution_count": 264,
   "id": "685f5823",
   "metadata": {},
   "outputs": [],
   "source": [
    "#Model 85"
   ]
  },
  {
   "cell_type": "code",
   "execution_count": 265,
   "id": "c941b77d",
   "metadata": {},
   "outputs": [
    {
     "data": {
      "text/plain": [
       "'BldgType_2fmCon'"
      ]
     },
     "execution_count": 265,
     "metadata": {},
     "output_type": "execute_result"
    }
   ],
   "source": [
    "model.pvalues.sort_values().index[-1]"
   ]
  },
  {
   "cell_type": "code",
   "execution_count": 266,
   "id": "c4b5437f",
   "metadata": {},
   "outputs": [
    {
     "data": {
      "text/plain": [
       "0.93336"
      ]
     },
     "execution_count": 266,
     "metadata": {},
     "output_type": "execute_result"
    }
   ],
   "source": [
    "col_to_be_dropped= model.pvalues.sort_values().index[-1]\n",
    "Xnew = Xnew.drop(labels=col_to_be_dropped,axis=1)\n",
    "from sklearn.model_selection import train_test_split\n",
    "xtrain,xtest,ytrain,ytest=train_test_split(Xnew,Y,test_size=0.2,random_state=31)\n",
    "from statsmodels.api import OLS,add_constant\n",
    "xconst = add_constant(xtrain,has_constant=\"add\")\n",
    "ols = OLS(ytrain,xconst)\n",
    "model = ols.fit()\n",
    "round(model.rsquared_adj,5)"
   ]
  },
  {
   "cell_type": "code",
   "execution_count": 267,
   "id": "4cb3bb0a",
   "metadata": {},
   "outputs": [],
   "source": [
    "#Model 86"
   ]
  },
  {
   "cell_type": "code",
   "execution_count": 268,
   "id": "4793be85",
   "metadata": {},
   "outputs": [
    {
     "data": {
      "text/plain": [
       "'Exterior2nd_ImStucc'"
      ]
     },
     "execution_count": 268,
     "metadata": {},
     "output_type": "execute_result"
    }
   ],
   "source": [
    "model.pvalues.sort_values().index[-1]"
   ]
  },
  {
   "cell_type": "code",
   "execution_count": 269,
   "id": "2d2353ca",
   "metadata": {},
   "outputs": [
    {
     "data": {
      "text/plain": [
       "0.93343"
      ]
     },
     "execution_count": 269,
     "metadata": {},
     "output_type": "execute_result"
    }
   ],
   "source": [
    "col_to_be_dropped= model.pvalues.sort_values().index[-1]\n",
    "Xnew = Xnew.drop(labels=col_to_be_dropped,axis=1)\n",
    "from sklearn.model_selection import train_test_split\n",
    "xtrain,xtest,ytrain,ytest=train_test_split(Xnew,Y,test_size=0.2,random_state=31)\n",
    "from statsmodels.api import OLS,add_constant\n",
    "xconst = add_constant(xtrain,has_constant=\"add\")\n",
    "ols = OLS(ytrain,xconst)\n",
    "model = ols.fit()\n",
    "round(model.rsquared_adj,5)"
   ]
  },
  {
   "cell_type": "code",
   "execution_count": 270,
   "id": "624aa1e1",
   "metadata": {},
   "outputs": [],
   "source": [
    "#Model 87"
   ]
  },
  {
   "cell_type": "code",
   "execution_count": 271,
   "id": "8ea41fc8",
   "metadata": {},
   "outputs": [
    {
     "data": {
      "text/plain": [
       "'Exterior2nd_Plywood'"
      ]
     },
     "execution_count": 271,
     "metadata": {},
     "output_type": "execute_result"
    }
   ],
   "source": [
    "model.pvalues.sort_values().index[-1]"
   ]
  },
  {
   "cell_type": "code",
   "execution_count": 272,
   "id": "e5705815",
   "metadata": {},
   "outputs": [
    {
     "data": {
      "text/plain": [
       "0.93351"
      ]
     },
     "execution_count": 272,
     "metadata": {},
     "output_type": "execute_result"
    }
   ],
   "source": [
    "col_to_be_dropped= model.pvalues.sort_values().index[-1]\n",
    "Xnew = Xnew.drop(labels=col_to_be_dropped,axis=1)\n",
    "from sklearn.model_selection import train_test_split\n",
    "xtrain,xtest,ytrain,ytest=train_test_split(Xnew,Y,test_size=0.2,random_state=31)\n",
    "from statsmodels.api import OLS,add_constant\n",
    "xconst = add_constant(xtrain,has_constant=\"add\")\n",
    "ols = OLS(ytrain,xconst)\n",
    "model = ols.fit()\n",
    "round(model.rsquared_adj,5)"
   ]
  },
  {
   "cell_type": "code",
   "execution_count": 273,
   "id": "ee6409f6",
   "metadata": {},
   "outputs": [],
   "source": [
    "#Model 88"
   ]
  },
  {
   "cell_type": "code",
   "execution_count": 274,
   "id": "56d6a839",
   "metadata": {},
   "outputs": [
    {
     "data": {
      "text/plain": [
       "'Exterior2nd_BrkFace'"
      ]
     },
     "execution_count": 274,
     "metadata": {},
     "output_type": "execute_result"
    }
   ],
   "source": [
    "model.pvalues.sort_values().index[-1]"
   ]
  },
  {
   "cell_type": "code",
   "execution_count": 275,
   "id": "156d0104",
   "metadata": {},
   "outputs": [
    {
     "data": {
      "text/plain": [
       "0.93359"
      ]
     },
     "execution_count": 275,
     "metadata": {},
     "output_type": "execute_result"
    }
   ],
   "source": [
    "col_to_be_dropped= model.pvalues.sort_values().index[-1]\n",
    "Xnew = Xnew.drop(labels=col_to_be_dropped,axis=1)\n",
    "from sklearn.model_selection import train_test_split\n",
    "xtrain,xtest,ytrain,ytest=train_test_split(Xnew,Y,test_size=0.2,random_state=31)\n",
    "from statsmodels.api import OLS,add_constant\n",
    "xconst = add_constant(xtrain,has_constant=\"add\")\n",
    "ols = OLS(ytrain,xconst)\n",
    "model = ols.fit()\n",
    "round(model.rsquared_adj,5)"
   ]
  },
  {
   "cell_type": "code",
   "execution_count": 276,
   "id": "58b73ecf",
   "metadata": {},
   "outputs": [],
   "source": [
    "#Model 89"
   ]
  },
  {
   "cell_type": "code",
   "execution_count": 277,
   "id": "18b732fa",
   "metadata": {},
   "outputs": [
    {
     "data": {
      "text/plain": [
       "'Exterior2nd_Stone'"
      ]
     },
     "execution_count": 277,
     "metadata": {},
     "output_type": "execute_result"
    }
   ],
   "source": [
    "model.pvalues.sort_values().index[-1]"
   ]
  },
  {
   "cell_type": "code",
   "execution_count": 278,
   "id": "652d3661",
   "metadata": {},
   "outputs": [
    {
     "data": {
      "text/plain": [
       "0.93367"
      ]
     },
     "execution_count": 278,
     "metadata": {},
     "output_type": "execute_result"
    }
   ],
   "source": [
    "col_to_be_dropped= model.pvalues.sort_values().index[-1]\n",
    "Xnew = Xnew.drop(labels=col_to_be_dropped,axis=1)\n",
    "from sklearn.model_selection import train_test_split\n",
    "xtrain,xtest,ytrain,ytest=train_test_split(Xnew,Y,test_size=0.2,random_state=31)\n",
    "from statsmodels.api import OLS,add_constant\n",
    "xconst = add_constant(xtrain,has_constant=\"add\")\n",
    "ols = OLS(ytrain,xconst)\n",
    "model = ols.fit()\n",
    "round(model.rsquared_adj,5)"
   ]
  },
  {
   "cell_type": "code",
   "execution_count": 279,
   "id": "cf4cd02b",
   "metadata": {},
   "outputs": [],
   "source": [
    "#Model 90"
   ]
  },
  {
   "cell_type": "code",
   "execution_count": 280,
   "id": "b9616625",
   "metadata": {},
   "outputs": [
    {
     "data": {
      "text/plain": [
       "'Exterior2nd_AsbShng'"
      ]
     },
     "execution_count": 280,
     "metadata": {},
     "output_type": "execute_result"
    }
   ],
   "source": [
    "model.pvalues.sort_values().index[-1]"
   ]
  },
  {
   "cell_type": "code",
   "execution_count": 281,
   "id": "5452da45",
   "metadata": {},
   "outputs": [
    {
     "data": {
      "text/plain": [
       "0.93374"
      ]
     },
     "execution_count": 281,
     "metadata": {},
     "output_type": "execute_result"
    }
   ],
   "source": [
    "col_to_be_dropped= model.pvalues.sort_values().index[-1]\n",
    "Xnew = Xnew.drop(labels=col_to_be_dropped,axis=1)\n",
    "from sklearn.model_selection import train_test_split\n",
    "xtrain,xtest,ytrain,ytest=train_test_split(Xnew,Y,test_size=0.2,random_state=31)\n",
    "from statsmodels.api import OLS,add_constant\n",
    "xconst = add_constant(xtrain,has_constant=\"add\")\n",
    "ols = OLS(ytrain,xconst)\n",
    "model = ols.fit()\n",
    "round(model.rsquared_adj,5)"
   ]
  },
  {
   "cell_type": "code",
   "execution_count": 282,
   "id": "b8bdbfdc",
   "metadata": {},
   "outputs": [],
   "source": [
    "#Model 91"
   ]
  },
  {
   "cell_type": "code",
   "execution_count": 283,
   "id": "00de9f27",
   "metadata": {},
   "outputs": [
    {
     "data": {
      "text/plain": [
       "'Heating_GasA'"
      ]
     },
     "execution_count": 283,
     "metadata": {},
     "output_type": "execute_result"
    }
   ],
   "source": [
    "model.pvalues.sort_values().index[-1]"
   ]
  },
  {
   "cell_type": "code",
   "execution_count": 284,
   "id": "fe5207dc",
   "metadata": {},
   "outputs": [
    {
     "data": {
      "text/plain": [
       "0.93382"
      ]
     },
     "execution_count": 284,
     "metadata": {},
     "output_type": "execute_result"
    }
   ],
   "source": [
    "col_to_be_dropped= model.pvalues.sort_values().index[-1]\n",
    "Xnew = Xnew.drop(labels=col_to_be_dropped,axis=1)\n",
    "from sklearn.model_selection import train_test_split\n",
    "xtrain,xtest,ytrain,ytest=train_test_split(Xnew,Y,test_size=0.2,random_state=31)\n",
    "from statsmodels.api import OLS,add_constant\n",
    "xconst = add_constant(xtrain,has_constant=\"add\")\n",
    "ols = OLS(ytrain,xconst)\n",
    "model = ols.fit()\n",
    "round(model.rsquared_adj,5)"
   ]
  },
  {
   "cell_type": "code",
   "execution_count": 285,
   "id": "cdc8cac2",
   "metadata": {},
   "outputs": [],
   "source": [
    "#Model 92"
   ]
  },
  {
   "cell_type": "code",
   "execution_count": 286,
   "id": "71e6e78c",
   "metadata": {},
   "outputs": [
    {
     "data": {
      "text/plain": [
       "'Heating_Grav'"
      ]
     },
     "execution_count": 286,
     "metadata": {},
     "output_type": "execute_result"
    }
   ],
   "source": [
    "model.pvalues.sort_values().index[-1]"
   ]
  },
  {
   "cell_type": "code",
   "execution_count": 287,
   "id": "a0024aaf",
   "metadata": {},
   "outputs": [
    {
     "data": {
      "text/plain": [
       "0.93392"
      ]
     },
     "execution_count": 287,
     "metadata": {},
     "output_type": "execute_result"
    }
   ],
   "source": [
    "col_to_be_dropped= model.pvalues.sort_values().index[-1]\n",
    "Xnew = Xnew.drop(labels=col_to_be_dropped,axis=1)\n",
    "from sklearn.model_selection import train_test_split\n",
    "xtrain,xtest,ytrain,ytest=train_test_split(Xnew,Y,test_size=0.2,random_state=31)\n",
    "from statsmodels.api import OLS,add_constant\n",
    "xconst = add_constant(xtrain,has_constant=\"add\")\n",
    "ols = OLS(ytrain,xconst)\n",
    "model = ols.fit()\n",
    "round(model.rsquared_adj,5)"
   ]
  },
  {
   "cell_type": "code",
   "execution_count": 288,
   "id": "a374f3a8",
   "metadata": {},
   "outputs": [],
   "source": [
    "#Model 93"
   ]
  },
  {
   "cell_type": "code",
   "execution_count": 289,
   "id": "5337667b",
   "metadata": {},
   "outputs": [
    {
     "data": {
      "text/plain": [
       "'MoSold'"
      ]
     },
     "execution_count": 289,
     "metadata": {},
     "output_type": "execute_result"
    }
   ],
   "source": [
    "model.pvalues.sort_values().index[-1]"
   ]
  },
  {
   "cell_type": "code",
   "execution_count": 290,
   "id": "f1826ad3",
   "metadata": {},
   "outputs": [
    {
     "data": {
      "text/plain": [
       "0.93399"
      ]
     },
     "execution_count": 290,
     "metadata": {},
     "output_type": "execute_result"
    }
   ],
   "source": [
    "col_to_be_dropped= model.pvalues.sort_values().index[-1]\n",
    "Xnew = Xnew.drop(labels=col_to_be_dropped,axis=1)\n",
    "from sklearn.model_selection import train_test_split\n",
    "xtrain,xtest,ytrain,ytest=train_test_split(Xnew,Y,test_size=0.2,random_state=31)\n",
    "from statsmodels.api import OLS,add_constant\n",
    "xconst = add_constant(xtrain,has_constant=\"add\")\n",
    "ols = OLS(ytrain,xconst)\n",
    "model = ols.fit()\n",
    "round(model.rsquared_adj,5)"
   ]
  },
  {
   "cell_type": "code",
   "execution_count": 291,
   "id": "51bcf947",
   "metadata": {},
   "outputs": [],
   "source": [
    "#Model 94"
   ]
  },
  {
   "cell_type": "code",
   "execution_count": 292,
   "id": "57cf24e8",
   "metadata": {},
   "outputs": [
    {
     "data": {
      "text/plain": [
       "'HouseStyle_SLvl'"
      ]
     },
     "execution_count": 292,
     "metadata": {},
     "output_type": "execute_result"
    }
   ],
   "source": [
    "model.pvalues.sort_values().index[-1]"
   ]
  },
  {
   "cell_type": "code",
   "execution_count": 293,
   "id": "d6726de6",
   "metadata": {},
   "outputs": [
    {
     "data": {
      "text/plain": [
       "0.93405"
      ]
     },
     "execution_count": 293,
     "metadata": {},
     "output_type": "execute_result"
    }
   ],
   "source": [
    "col_to_be_dropped= model.pvalues.sort_values().index[-1]\n",
    "Xnew = Xnew.drop(labels=col_to_be_dropped,axis=1)\n",
    "from sklearn.model_selection import train_test_split\n",
    "xtrain,xtest,ytrain,ytest=train_test_split(Xnew,Y,test_size=0.2,random_state=31)\n",
    "from statsmodels.api import OLS,add_constant\n",
    "xconst = add_constant(xtrain,has_constant=\"add\")\n",
    "ols = OLS(ytrain,xconst)\n",
    "model = ols.fit()\n",
    "round(model.rsquared_adj,5)"
   ]
  },
  {
   "cell_type": "code",
   "execution_count": 294,
   "id": "eaf5761f",
   "metadata": {},
   "outputs": [],
   "source": [
    "#Model 95"
   ]
  },
  {
   "cell_type": "code",
   "execution_count": 295,
   "id": "077f6712",
   "metadata": {},
   "outputs": [
    {
     "data": {
      "text/plain": [
       "'HouseStyle_SFoyer'"
      ]
     },
     "execution_count": 295,
     "metadata": {},
     "output_type": "execute_result"
    }
   ],
   "source": [
    "model.pvalues.sort_values().index[-1]"
   ]
  },
  {
   "cell_type": "code",
   "execution_count": 296,
   "id": "3e2a6014",
   "metadata": {},
   "outputs": [
    {
     "data": {
      "text/plain": [
       "0.93414"
      ]
     },
     "execution_count": 296,
     "metadata": {},
     "output_type": "execute_result"
    }
   ],
   "source": [
    "col_to_be_dropped= model.pvalues.sort_values().index[-1]\n",
    "Xnew = Xnew.drop(labels=col_to_be_dropped,axis=1)\n",
    "from sklearn.model_selection import train_test_split\n",
    "xtrain,xtest,ytrain,ytest=train_test_split(Xnew,Y,test_size=0.2,random_state=31)\n",
    "from statsmodels.api import OLS,add_constant\n",
    "xconst = add_constant(xtrain,has_constant=\"add\")\n",
    "ols = OLS(ytrain,xconst)\n",
    "model = ols.fit()\n",
    "round(model.rsquared_adj,5)"
   ]
  },
  {
   "cell_type": "code",
   "execution_count": 297,
   "id": "166f9186",
   "metadata": {},
   "outputs": [],
   "source": [
    "#Model 96"
   ]
  },
  {
   "cell_type": "code",
   "execution_count": 298,
   "id": "41af274d",
   "metadata": {},
   "outputs": [
    {
     "data": {
      "text/plain": [
       "'MSSubClass'"
      ]
     },
     "execution_count": 298,
     "metadata": {},
     "output_type": "execute_result"
    }
   ],
   "source": [
    "model.pvalues.sort_values().index[-1]"
   ]
  },
  {
   "cell_type": "code",
   "execution_count": 299,
   "id": "c75c2101",
   "metadata": {},
   "outputs": [
    {
     "data": {
      "text/plain": [
       "0.93423"
      ]
     },
     "execution_count": 299,
     "metadata": {},
     "output_type": "execute_result"
    }
   ],
   "source": [
    "col_to_be_dropped= model.pvalues.sort_values().index[-1]\n",
    "Xnew = Xnew.drop(labels=col_to_be_dropped,axis=1)\n",
    "from sklearn.model_selection import train_test_split\n",
    "xtrain,xtest,ytrain,ytest=train_test_split(Xnew,Y,test_size=0.2,random_state=31)\n",
    "from statsmodels.api import OLS,add_constant\n",
    "xconst = add_constant(xtrain,has_constant=\"add\")\n",
    "ols = OLS(ytrain,xconst)\n",
    "model = ols.fit()\n",
    "round(model.rsquared_adj,5)"
   ]
  },
  {
   "cell_type": "code",
   "execution_count": 300,
   "id": "b5c38ad0",
   "metadata": {},
   "outputs": [],
   "source": [
    "#Model 97"
   ]
  },
  {
   "cell_type": "code",
   "execution_count": 301,
   "id": "49610cfa",
   "metadata": {},
   "outputs": [
    {
     "data": {
      "text/plain": [
       "'GarageQual_Ex'"
      ]
     },
     "execution_count": 301,
     "metadata": {},
     "output_type": "execute_result"
    }
   ],
   "source": [
    "model.pvalues.sort_values().index[-1]"
   ]
  },
  {
   "cell_type": "code",
   "execution_count": 302,
   "id": "8b40053c",
   "metadata": {},
   "outputs": [
    {
     "data": {
      "text/plain": [
       "0.93423"
      ]
     },
     "execution_count": 302,
     "metadata": {},
     "output_type": "execute_result"
    }
   ],
   "source": [
    "col_to_be_dropped= model.pvalues.sort_values().index[-1]\n",
    "Xnew = Xnew.drop(labels=col_to_be_dropped,axis=1)\n",
    "from sklearn.model_selection import train_test_split\n",
    "xtrain,xtest,ytrain,ytest=train_test_split(Xnew,Y,test_size=0.2,random_state=31)\n",
    "from statsmodels.api import OLS,add_constant\n",
    "xconst = add_constant(xtrain,has_constant=\"add\")\n",
    "ols = OLS(ytrain,xconst)\n",
    "model = ols.fit()\n",
    "round(model.rsquared_adj,5)"
   ]
  },
  {
   "cell_type": "code",
   "execution_count": 303,
   "id": "e7ecc782",
   "metadata": {},
   "outputs": [],
   "source": [
    "#Model 98"
   ]
  },
  {
   "cell_type": "code",
   "execution_count": 304,
   "id": "40a2d58e",
   "metadata": {},
   "outputs": [
    {
     "data": {
      "text/plain": [
       "'GarageQual_TA'"
      ]
     },
     "execution_count": 304,
     "metadata": {},
     "output_type": "execute_result"
    }
   ],
   "source": [
    "model.pvalues.sort_values().index[-1]"
   ]
  },
  {
   "cell_type": "code",
   "execution_count": 305,
   "id": "6ef4ae0b",
   "metadata": {},
   "outputs": [
    {
     "data": {
      "text/plain": [
       "0.93423"
      ]
     },
     "execution_count": 305,
     "metadata": {},
     "output_type": "execute_result"
    }
   ],
   "source": [
    "col_to_be_dropped= model.pvalues.sort_values().index[-1]\n",
    "Xnew = Xnew.drop(labels=col_to_be_dropped,axis=1)\n",
    "from sklearn.model_selection import train_test_split\n",
    "xtrain,xtest,ytrain,ytest=train_test_split(Xnew,Y,test_size=0.2,random_state=31)\n",
    "from statsmodels.api import OLS,add_constant\n",
    "xconst = add_constant(xtrain,has_constant=\"add\")\n",
    "ols = OLS(ytrain,xconst)\n",
    "model = ols.fit()\n",
    "round(model.rsquared_adj,5)"
   ]
  },
  {
   "cell_type": "code",
   "execution_count": 306,
   "id": "3bdc93ad",
   "metadata": {},
   "outputs": [],
   "source": [
    "#Model 99"
   ]
  },
  {
   "cell_type": "code",
   "execution_count": 307,
   "id": "746daee0",
   "metadata": {},
   "outputs": [
    {
     "data": {
      "text/plain": [
       "'GarageCond_Ex'"
      ]
     },
     "execution_count": 307,
     "metadata": {},
     "output_type": "execute_result"
    }
   ],
   "source": [
    "model.pvalues.sort_values().index[-1]"
   ]
  },
  {
   "cell_type": "code",
   "execution_count": 308,
   "id": "e163a2bf",
   "metadata": {},
   "outputs": [
    {
     "data": {
      "text/plain": [
       "0.93432"
      ]
     },
     "execution_count": 308,
     "metadata": {},
     "output_type": "execute_result"
    }
   ],
   "source": [
    "col_to_be_dropped= model.pvalues.sort_values().index[-1]\n",
    "Xnew = Xnew.drop(labels=col_to_be_dropped,axis=1)\n",
    "from sklearn.model_selection import train_test_split\n",
    "xtrain,xtest,ytrain,ytest=train_test_split(Xnew,Y,test_size=0.2,random_state=31)\n",
    "from statsmodels.api import OLS,add_constant\n",
    "xconst = add_constant(xtrain,has_constant=\"add\")\n",
    "ols = OLS(ytrain,xconst)\n",
    "model = ols.fit()\n",
    "round(model.rsquared_adj,5)"
   ]
  },
  {
   "cell_type": "code",
   "execution_count": 309,
   "id": "7cee1428",
   "metadata": {},
   "outputs": [],
   "source": [
    "#Model 100"
   ]
  },
  {
   "cell_type": "code",
   "execution_count": 310,
   "id": "7914d868",
   "metadata": {},
   "outputs": [
    {
     "data": {
      "text/plain": [
       "'Exterior1st_Stucco'"
      ]
     },
     "execution_count": 310,
     "metadata": {},
     "output_type": "execute_result"
    }
   ],
   "source": [
    "model.pvalues.sort_values().index[-1]"
   ]
  },
  {
   "cell_type": "code",
   "execution_count": 311,
   "id": "038b6621",
   "metadata": {},
   "outputs": [
    {
     "data": {
      "text/plain": [
       "0.93438"
      ]
     },
     "execution_count": 311,
     "metadata": {},
     "output_type": "execute_result"
    }
   ],
   "source": [
    "col_to_be_dropped= model.pvalues.sort_values().index[-1]\n",
    "Xnew = Xnew.drop(labels=col_to_be_dropped,axis=1)\n",
    "from sklearn.model_selection import train_test_split\n",
    "xtrain,xtest,ytrain,ytest=train_test_split(Xnew,Y,test_size=0.2,random_state=31)\n",
    "from statsmodels.api import OLS,add_constant\n",
    "xconst = add_constant(xtrain,has_constant=\"add\")\n",
    "ols = OLS(ytrain,xconst)\n",
    "model = ols.fit()\n",
    "round(model.rsquared_adj,5)"
   ]
  },
  {
   "cell_type": "code",
   "execution_count": 312,
   "id": "86e0d713",
   "metadata": {},
   "outputs": [],
   "source": [
    "#Model 101"
   ]
  },
  {
   "cell_type": "code",
   "execution_count": 313,
   "id": "b3e90bba",
   "metadata": {},
   "outputs": [
    {
     "data": {
      "text/plain": [
       "'Foundation_PConc'"
      ]
     },
     "execution_count": 313,
     "metadata": {},
     "output_type": "execute_result"
    }
   ],
   "source": [
    "model.pvalues.sort_values().index[-1]"
   ]
  },
  {
   "cell_type": "code",
   "execution_count": 314,
   "id": "208a2a82",
   "metadata": {},
   "outputs": [
    {
     "data": {
      "text/plain": [
       "0.93444"
      ]
     },
     "execution_count": 314,
     "metadata": {},
     "output_type": "execute_result"
    }
   ],
   "source": [
    "col_to_be_dropped= model.pvalues.sort_values().index[-1]\n",
    "Xnew = Xnew.drop(labels=col_to_be_dropped,axis=1)\n",
    "from sklearn.model_selection import train_test_split\n",
    "xtrain,xtest,ytrain,ytest=train_test_split(Xnew,Y,test_size=0.2,random_state=31)\n",
    "from statsmodels.api import OLS,add_constant\n",
    "xconst = add_constant(xtrain,has_constant=\"add\")\n",
    "ols = OLS(ytrain,xconst)\n",
    "model = ols.fit()\n",
    "round(model.rsquared_adj,5)"
   ]
  },
  {
   "cell_type": "code",
   "execution_count": 315,
   "id": "845c871e",
   "metadata": {},
   "outputs": [],
   "source": [
    "#Model 102"
   ]
  },
  {
   "cell_type": "code",
   "execution_count": 316,
   "id": "5c1f8e11",
   "metadata": {},
   "outputs": [
    {
     "data": {
      "text/plain": [
       "'BsmtFinType2_ALQ'"
      ]
     },
     "execution_count": 316,
     "metadata": {},
     "output_type": "execute_result"
    }
   ],
   "source": [
    "model.pvalues.sort_values().index[-1]"
   ]
  },
  {
   "cell_type": "code",
   "execution_count": 317,
   "id": "90e58aca",
   "metadata": {},
   "outputs": [
    {
     "data": {
      "text/plain": [
       "0.9345"
      ]
     },
     "execution_count": 317,
     "metadata": {},
     "output_type": "execute_result"
    }
   ],
   "source": [
    "col_to_be_dropped= model.pvalues.sort_values().index[-1]\n",
    "Xnew = Xnew.drop(labels=col_to_be_dropped,axis=1)\n",
    "from sklearn.model_selection import train_test_split\n",
    "xtrain,xtest,ytrain,ytest=train_test_split(Xnew,Y,test_size=0.2,random_state=31)\n",
    "from statsmodels.api import OLS,add_constant\n",
    "xconst = add_constant(xtrain,has_constant=\"add\")\n",
    "ols = OLS(ytrain,xconst)\n",
    "model = ols.fit()\n",
    "round(model.rsquared_adj,5)"
   ]
  },
  {
   "cell_type": "code",
   "execution_count": 318,
   "id": "e150e29c",
   "metadata": {},
   "outputs": [],
   "source": [
    "#Model 103"
   ]
  },
  {
   "cell_type": "code",
   "execution_count": 319,
   "id": "a44dded1",
   "metadata": {},
   "outputs": [
    {
     "data": {
      "text/plain": [
       "'ExterQual_TA'"
      ]
     },
     "execution_count": 319,
     "metadata": {},
     "output_type": "execute_result"
    }
   ],
   "source": [
    "model.pvalues.sort_values().index[-1]"
   ]
  },
  {
   "cell_type": "code",
   "execution_count": 320,
   "id": "cfffff4c",
   "metadata": {},
   "outputs": [
    {
     "data": {
      "text/plain": [
       "0.93455"
      ]
     },
     "execution_count": 320,
     "metadata": {},
     "output_type": "execute_result"
    }
   ],
   "source": [
    "col_to_be_dropped= model.pvalues.sort_values().index[-1]\n",
    "Xnew = Xnew.drop(labels=col_to_be_dropped,axis=1)\n",
    "from sklearn.model_selection import train_test_split\n",
    "xtrain,xtest,ytrain,ytest=train_test_split(Xnew,Y,test_size=0.2,random_state=31)\n",
    "from statsmodels.api import OLS,add_constant\n",
    "xconst = add_constant(xtrain,has_constant=\"add\")\n",
    "ols = OLS(ytrain,xconst)\n",
    "model = ols.fit()\n",
    "round(model.rsquared_adj,5)"
   ]
  },
  {
   "cell_type": "code",
   "execution_count": 321,
   "id": "d2b57ade",
   "metadata": {},
   "outputs": [],
   "source": [
    "#Model 104"
   ]
  },
  {
   "cell_type": "code",
   "execution_count": 322,
   "id": "2edf8133",
   "metadata": {},
   "outputs": [
    {
     "data": {
      "text/plain": [
       "'FireplaceQu_TA'"
      ]
     },
     "execution_count": 322,
     "metadata": {},
     "output_type": "execute_result"
    }
   ],
   "source": [
    "model.pvalues.sort_values().index[-1]"
   ]
  },
  {
   "cell_type": "code",
   "execution_count": 323,
   "id": "88a8342e",
   "metadata": {},
   "outputs": [
    {
     "data": {
      "text/plain": [
       "0.93455"
      ]
     },
     "execution_count": 323,
     "metadata": {},
     "output_type": "execute_result"
    }
   ],
   "source": [
    "col_to_be_dropped= model.pvalues.sort_values().index[-1]\n",
    "Xnew = Xnew.drop(labels=col_to_be_dropped,axis=1)\n",
    "from sklearn.model_selection import train_test_split\n",
    "xtrain,xtest,ytrain,ytest=train_test_split(Xnew,Y,test_size=0.2,random_state=31)\n",
    "from statsmodels.api import OLS,add_constant\n",
    "xconst = add_constant(xtrain,has_constant=\"add\")\n",
    "ols = OLS(ytrain,xconst)\n",
    "model = ols.fit()\n",
    "round(model.rsquared_adj,5)"
   ]
  },
  {
   "cell_type": "code",
   "execution_count": 324,
   "id": "4c45a687",
   "metadata": {},
   "outputs": [],
   "source": [
    "#Model 105"
   ]
  },
  {
   "cell_type": "code",
   "execution_count": 325,
   "id": "0b135d33",
   "metadata": {},
   "outputs": [
    {
     "data": {
      "text/plain": [
       "'FireplaceQu_Gd'"
      ]
     },
     "execution_count": 325,
     "metadata": {},
     "output_type": "execute_result"
    }
   ],
   "source": [
    "model.pvalues.sort_values().index[-1]"
   ]
  },
  {
   "cell_type": "code",
   "execution_count": 326,
   "id": "d8f12fc0",
   "metadata": {},
   "outputs": [
    {
     "data": {
      "text/plain": [
       "0.93464"
      ]
     },
     "execution_count": 326,
     "metadata": {},
     "output_type": "execute_result"
    }
   ],
   "source": [
    "col_to_be_dropped= model.pvalues.sort_values().index[-1]\n",
    "Xnew = Xnew.drop(labels=col_to_be_dropped,axis=1)\n",
    "from sklearn.model_selection import train_test_split\n",
    "xtrain,xtest,ytrain,ytest=train_test_split(Xnew,Y,test_size=0.2,random_state=31)\n",
    "from statsmodels.api import OLS,add_constant\n",
    "xconst = add_constant(xtrain,has_constant=\"add\")\n",
    "ols = OLS(ytrain,xconst)\n",
    "model = ols.fit()\n",
    "round(model.rsquared_adj,5)"
   ]
  },
  {
   "cell_type": "code",
   "execution_count": 327,
   "id": "726580ae",
   "metadata": {},
   "outputs": [],
   "source": [
    "#Model 106"
   ]
  },
  {
   "cell_type": "code",
   "execution_count": 328,
   "id": "562db334",
   "metadata": {},
   "outputs": [
    {
     "data": {
      "text/plain": [
       "'FireplaceQu_Ex'"
      ]
     },
     "execution_count": 328,
     "metadata": {},
     "output_type": "execute_result"
    }
   ],
   "source": [
    "model.pvalues.sort_values().index[-1]"
   ]
  },
  {
   "cell_type": "code",
   "execution_count": 329,
   "id": "d8eed70e",
   "metadata": {},
   "outputs": [
    {
     "data": {
      "text/plain": [
       "0.9347"
      ]
     },
     "execution_count": 329,
     "metadata": {},
     "output_type": "execute_result"
    }
   ],
   "source": [
    "col_to_be_dropped= model.pvalues.sort_values().index[-1]\n",
    "Xnew = Xnew.drop(labels=col_to_be_dropped,axis=1)\n",
    "from sklearn.model_selection import train_test_split\n",
    "xtrain,xtest,ytrain,ytest=train_test_split(Xnew,Y,test_size=0.2,random_state=31)\n",
    "from statsmodels.api import OLS,add_constant\n",
    "xconst = add_constant(xtrain,has_constant=\"add\")\n",
    "ols = OLS(ytrain,xconst)\n",
    "model = ols.fit()\n",
    "round(model.rsquared_adj,5)"
   ]
  },
  {
   "cell_type": "code",
   "execution_count": 330,
   "id": "405ff091",
   "metadata": {},
   "outputs": [],
   "source": [
    "#Model 107"
   ]
  },
  {
   "cell_type": "code",
   "execution_count": 331,
   "id": "f6a635ed",
   "metadata": {},
   "outputs": [
    {
     "data": {
      "text/plain": [
       "'GarageQual_Gd'"
      ]
     },
     "execution_count": 331,
     "metadata": {},
     "output_type": "execute_result"
    }
   ],
   "source": [
    "model.pvalues.sort_values().index[-1]"
   ]
  },
  {
   "cell_type": "code",
   "execution_count": 332,
   "id": "2eed3d24",
   "metadata": {},
   "outputs": [
    {
     "data": {
      "text/plain": [
       "0.93475"
      ]
     },
     "execution_count": 332,
     "metadata": {},
     "output_type": "execute_result"
    }
   ],
   "source": [
    "col_to_be_dropped= model.pvalues.sort_values().index[-1]\n",
    "Xnew = Xnew.drop(labels=col_to_be_dropped,axis=1)\n",
    "from sklearn.model_selection import train_test_split\n",
    "xtrain,xtest,ytrain,ytest=train_test_split(Xnew,Y,test_size=0.2,random_state=31)\n",
    "from statsmodels.api import OLS,add_constant\n",
    "xconst = add_constant(xtrain,has_constant=\"add\")\n",
    "ols = OLS(ytrain,xconst)\n",
    "model = ols.fit()\n",
    "round(model.rsquared_adj,5)"
   ]
  },
  {
   "cell_type": "code",
   "execution_count": 333,
   "id": "b8741c8c",
   "metadata": {},
   "outputs": [],
   "source": [
    "#Model 108"
   ]
  },
  {
   "cell_type": "code",
   "execution_count": 334,
   "id": "6b9e4e2b",
   "metadata": {},
   "outputs": [
    {
     "data": {
      "text/plain": [
       "'Fence_GdPrv'"
      ]
     },
     "execution_count": 334,
     "metadata": {},
     "output_type": "execute_result"
    }
   ],
   "source": [
    "model.pvalues.sort_values().index[-1]"
   ]
  },
  {
   "cell_type": "code",
   "execution_count": 335,
   "id": "f0a9bfba",
   "metadata": {},
   "outputs": [
    {
     "data": {
      "text/plain": [
       "0.93475"
      ]
     },
     "execution_count": 335,
     "metadata": {},
     "output_type": "execute_result"
    }
   ],
   "source": [
    "col_to_be_dropped= model.pvalues.sort_values().index[-1]\n",
    "Xnew = Xnew.drop(labels=col_to_be_dropped,axis=1)\n",
    "from sklearn.model_selection import train_test_split\n",
    "xtrain,xtest,ytrain,ytest=train_test_split(Xnew,Y,test_size=0.2,random_state=31)\n",
    "from statsmodels.api import OLS,add_constant\n",
    "xconst = add_constant(xtrain,has_constant=\"add\")\n",
    "ols = OLS(ytrain,xconst)\n",
    "model = ols.fit()\n",
    "round(model.rsquared_adj,5)"
   ]
  },
  {
   "cell_type": "code",
   "execution_count": 336,
   "id": "0fd9ac52",
   "metadata": {},
   "outputs": [],
   "source": [
    "#Model 109"
   ]
  },
  {
   "cell_type": "code",
   "execution_count": 337,
   "id": "ec9d1336",
   "metadata": {},
   "outputs": [
    {
     "data": {
      "text/plain": [
       "'Fence_GdWo'"
      ]
     },
     "execution_count": 337,
     "metadata": {},
     "output_type": "execute_result"
    }
   ],
   "source": [
    "model.pvalues.sort_values().index[-1]"
   ]
  },
  {
   "cell_type": "code",
   "execution_count": 338,
   "id": "02bb5b64",
   "metadata": {},
   "outputs": [
    {
     "data": {
      "text/plain": [
       "0.9348"
      ]
     },
     "execution_count": 338,
     "metadata": {},
     "output_type": "execute_result"
    }
   ],
   "source": [
    "col_to_be_dropped= model.pvalues.sort_values().index[-1]\n",
    "Xnew = Xnew.drop(labels=col_to_be_dropped,axis=1)\n",
    "from sklearn.model_selection import train_test_split\n",
    "xtrain,xtest,ytrain,ytest=train_test_split(Xnew,Y,test_size=0.2,random_state=31)\n",
    "from statsmodels.api import OLS,add_constant\n",
    "xconst = add_constant(xtrain,has_constant=\"add\")\n",
    "ols = OLS(ytrain,xconst)\n",
    "model = ols.fit()\n",
    "round(model.rsquared_adj,5)"
   ]
  },
  {
   "cell_type": "code",
   "execution_count": 339,
   "id": "834751c5",
   "metadata": {},
   "outputs": [],
   "source": [
    "#Model 110"
   ]
  },
  {
   "cell_type": "code",
   "execution_count": 340,
   "id": "b3082a0e",
   "metadata": {},
   "outputs": [
    {
     "data": {
      "text/plain": [
       "'Fence_MnPrv'"
      ]
     },
     "execution_count": 340,
     "metadata": {},
     "output_type": "execute_result"
    }
   ],
   "source": [
    "model.pvalues.sort_values().index[-1]"
   ]
  },
  {
   "cell_type": "code",
   "execution_count": 341,
   "id": "18d39f76",
   "metadata": {},
   "outputs": [
    {
     "data": {
      "text/plain": [
       "0.93486"
      ]
     },
     "execution_count": 341,
     "metadata": {},
     "output_type": "execute_result"
    }
   ],
   "source": [
    "col_to_be_dropped= model.pvalues.sort_values().index[-1]\n",
    "Xnew = Xnew.drop(labels=col_to_be_dropped,axis=1)\n",
    "from sklearn.model_selection import train_test_split\n",
    "xtrain,xtest,ytrain,ytest=train_test_split(Xnew,Y,test_size=0.2,random_state=31)\n",
    "from statsmodels.api import OLS,add_constant\n",
    "xconst = add_constant(xtrain,has_constant=\"add\")\n",
    "ols = OLS(ytrain,xconst)\n",
    "model = ols.fit()\n",
    "round(model.rsquared_adj,5)"
   ]
  },
  {
   "cell_type": "code",
   "execution_count": 342,
   "id": "8b14260f",
   "metadata": {},
   "outputs": [],
   "source": [
    "#Model 111"
   ]
  },
  {
   "cell_type": "code",
   "execution_count": 343,
   "id": "9313497d",
   "metadata": {},
   "outputs": [
    {
     "data": {
      "text/plain": [
       "'Fence_None'"
      ]
     },
     "execution_count": 343,
     "metadata": {},
     "output_type": "execute_result"
    }
   ],
   "source": [
    "model.pvalues.sort_values().index[-1]"
   ]
  },
  {
   "cell_type": "code",
   "execution_count": 344,
   "id": "70536395",
   "metadata": {},
   "outputs": [
    {
     "data": {
      "text/plain": [
       "0.93493"
      ]
     },
     "execution_count": 344,
     "metadata": {},
     "output_type": "execute_result"
    }
   ],
   "source": [
    "col_to_be_dropped= model.pvalues.sort_values().index[-1]\n",
    "Xnew = Xnew.drop(labels=col_to_be_dropped,axis=1)\n",
    "from sklearn.model_selection import train_test_split\n",
    "xtrain,xtest,ytrain,ytest=train_test_split(Xnew,Y,test_size=0.2,random_state=31)\n",
    "from statsmodels.api import OLS,add_constant\n",
    "xconst = add_constant(xtrain,has_constant=\"add\")\n",
    "ols = OLS(ytrain,xconst)\n",
    "model = ols.fit()\n",
    "round(model.rsquared_adj,5)"
   ]
  },
  {
   "cell_type": "code",
   "execution_count": 345,
   "id": "60ab6179",
   "metadata": {},
   "outputs": [],
   "source": [
    "#Model 112"
   ]
  },
  {
   "cell_type": "code",
   "execution_count": 346,
   "id": "29f5e815",
   "metadata": {},
   "outputs": [
    {
     "data": {
      "text/plain": [
       "'RoofMatl_WdShngl'"
      ]
     },
     "execution_count": 346,
     "metadata": {},
     "output_type": "execute_result"
    }
   ],
   "source": [
    "model.pvalues.sort_values().index[-1]"
   ]
  },
  {
   "cell_type": "code",
   "execution_count": 347,
   "id": "50d2cc90",
   "metadata": {},
   "outputs": [
    {
     "data": {
      "text/plain": [
       "0.93499"
      ]
     },
     "execution_count": 347,
     "metadata": {},
     "output_type": "execute_result"
    }
   ],
   "source": [
    "col_to_be_dropped= model.pvalues.sort_values().index[-1]\n",
    "Xnew = Xnew.drop(labels=col_to_be_dropped,axis=1)\n",
    "from sklearn.model_selection import train_test_split\n",
    "xtrain,xtest,ytrain,ytest=train_test_split(Xnew,Y,test_size=0.2,random_state=31)\n",
    "from statsmodels.api import OLS,add_constant\n",
    "xconst = add_constant(xtrain,has_constant=\"add\")\n",
    "ols = OLS(ytrain,xconst)\n",
    "model = ols.fit()\n",
    "round(model.rsquared_adj,5)"
   ]
  },
  {
   "cell_type": "code",
   "execution_count": 348,
   "id": "da0cb24c",
   "metadata": {},
   "outputs": [],
   "source": [
    "#Model 113"
   ]
  },
  {
   "cell_type": "code",
   "execution_count": 349,
   "id": "cc7a746f",
   "metadata": {},
   "outputs": [
    {
     "data": {
      "text/plain": [
       "'LandContour_Low'"
      ]
     },
     "execution_count": 349,
     "metadata": {},
     "output_type": "execute_result"
    }
   ],
   "source": [
    "model.pvalues.sort_values().index[-1]"
   ]
  },
  {
   "cell_type": "code",
   "execution_count": 350,
   "id": "4b8b0664",
   "metadata": {},
   "outputs": [
    {
     "data": {
      "text/plain": [
       "0.93499"
      ]
     },
     "execution_count": 350,
     "metadata": {},
     "output_type": "execute_result"
    }
   ],
   "source": [
    "col_to_be_dropped= model.pvalues.sort_values().index[-1]\n",
    "Xnew = Xnew.drop(labels=col_to_be_dropped,axis=1)\n",
    "from sklearn.model_selection import train_test_split\n",
    "xtrain,xtest,ytrain,ytest=train_test_split(Xnew,Y,test_size=0.2,random_state=31)\n",
    "from statsmodels.api import OLS,add_constant\n",
    "xconst = add_constant(xtrain,has_constant=\"add\")\n",
    "ols = OLS(ytrain,xconst)\n",
    "model = ols.fit()\n",
    "round(model.rsquared_adj,5)"
   ]
  },
  {
   "cell_type": "code",
   "execution_count": 351,
   "id": "8c1197e2",
   "metadata": {},
   "outputs": [],
   "source": [
    "#Model 114"
   ]
  },
  {
   "cell_type": "code",
   "execution_count": 352,
   "id": "b44146d8",
   "metadata": {},
   "outputs": [
    {
     "data": {
      "text/plain": [
       "'Exterior1st_ImStucc'"
      ]
     },
     "execution_count": 352,
     "metadata": {},
     "output_type": "execute_result"
    }
   ],
   "source": [
    "model.pvalues.sort_values().index[-1]"
   ]
  },
  {
   "cell_type": "code",
   "execution_count": 353,
   "id": "99d1a5f1",
   "metadata": {},
   "outputs": [
    {
     "data": {
      "text/plain": [
       "0.93503"
      ]
     },
     "execution_count": 353,
     "metadata": {},
     "output_type": "execute_result"
    }
   ],
   "source": [
    "col_to_be_dropped= model.pvalues.sort_values().index[-1]\n",
    "Xnew = Xnew.drop(labels=col_to_be_dropped,axis=1)\n",
    "from sklearn.model_selection import train_test_split\n",
    "xtrain,xtest,ytrain,ytest=train_test_split(Xnew,Y,test_size=0.2,random_state=31)\n",
    "from statsmodels.api import OLS,add_constant\n",
    "xconst = add_constant(xtrain,has_constant=\"add\")\n",
    "ols = OLS(ytrain,xconst)\n",
    "model = ols.fit()\n",
    "round(model.rsquared_adj,5)"
   ]
  },
  {
   "cell_type": "code",
   "execution_count": 354,
   "id": "cde59aca",
   "metadata": {},
   "outputs": [],
   "source": [
    "#Model 115"
   ]
  },
  {
   "cell_type": "code",
   "execution_count": 355,
   "id": "e8935595",
   "metadata": {},
   "outputs": [
    {
     "data": {
      "text/plain": [
       "'SaleType_Con'"
      ]
     },
     "execution_count": 355,
     "metadata": {},
     "output_type": "execute_result"
    }
   ],
   "source": [
    "model.pvalues.sort_values().index[-1]"
   ]
  },
  {
   "cell_type": "code",
   "execution_count": 356,
   "id": "f99eb671",
   "metadata": {},
   "outputs": [
    {
     "data": {
      "text/plain": [
       "0.93507"
      ]
     },
     "execution_count": 356,
     "metadata": {},
     "output_type": "execute_result"
    }
   ],
   "source": [
    "col_to_be_dropped= model.pvalues.sort_values().index[-1]\n",
    "Xnew = Xnew.drop(labels=col_to_be_dropped,axis=1)\n",
    "from sklearn.model_selection import train_test_split\n",
    "xtrain,xtest,ytrain,ytest=train_test_split(Xnew,Y,test_size=0.2,random_state=31)\n",
    "from statsmodels.api import OLS,add_constant\n",
    "xconst = add_constant(xtrain,has_constant=\"add\")\n",
    "ols = OLS(ytrain,xconst)\n",
    "model = ols.fit()\n",
    "round(model.rsquared_adj,5)"
   ]
  },
  {
   "cell_type": "code",
   "execution_count": 357,
   "id": "d75a337e",
   "metadata": {},
   "outputs": [],
   "source": [
    "#Model 116"
   ]
  },
  {
   "cell_type": "code",
   "execution_count": 358,
   "id": "64c1216c",
   "metadata": {},
   "outputs": [
    {
     "data": {
      "text/plain": [
       "'SaleType_WD'"
      ]
     },
     "execution_count": 358,
     "metadata": {},
     "output_type": "execute_result"
    }
   ],
   "source": [
    "model.pvalues.sort_values().index[-1]"
   ]
  },
  {
   "cell_type": "code",
   "execution_count": 359,
   "id": "06e4a8fc",
   "metadata": {},
   "outputs": [
    {
     "data": {
      "text/plain": [
       "0.93513"
      ]
     },
     "execution_count": 359,
     "metadata": {},
     "output_type": "execute_result"
    }
   ],
   "source": [
    "col_to_be_dropped= model.pvalues.sort_values().index[-1]\n",
    "Xnew = Xnew.drop(labels=col_to_be_dropped,axis=1)\n",
    "from sklearn.model_selection import train_test_split\n",
    "xtrain,xtest,ytrain,ytest=train_test_split(Xnew,Y,test_size=0.2,random_state=31)\n",
    "from statsmodels.api import OLS,add_constant\n",
    "xconst = add_constant(xtrain,has_constant=\"add\")\n",
    "ols = OLS(ytrain,xconst)\n",
    "model = ols.fit()\n",
    "round(model.rsquared_adj,5)"
   ]
  },
  {
   "cell_type": "code",
   "execution_count": 360,
   "id": "f7ba3ef3",
   "metadata": {},
   "outputs": [],
   "source": [
    "#Model 117"
   ]
  },
  {
   "cell_type": "code",
   "execution_count": 361,
   "id": "07265d7e",
   "metadata": {},
   "outputs": [
    {
     "data": {
      "text/plain": [
       "'3SsnPorch'"
      ]
     },
     "execution_count": 361,
     "metadata": {},
     "output_type": "execute_result"
    }
   ],
   "source": [
    "model.pvalues.sort_values().index[-1]"
   ]
  },
  {
   "cell_type": "code",
   "execution_count": 362,
   "id": "bbed9174",
   "metadata": {},
   "outputs": [
    {
     "data": {
      "text/plain": [
       "0.93517"
      ]
     },
     "execution_count": 362,
     "metadata": {},
     "output_type": "execute_result"
    }
   ],
   "source": [
    "col_to_be_dropped= model.pvalues.sort_values().index[-1]\n",
    "Xnew = Xnew.drop(labels=col_to_be_dropped,axis=1)\n",
    "from sklearn.model_selection import train_test_split\n",
    "xtrain,xtest,ytrain,ytest=train_test_split(Xnew,Y,test_size=0.2,random_state=31)\n",
    "from statsmodels.api import OLS,add_constant\n",
    "xconst = add_constant(xtrain,has_constant=\"add\")\n",
    "ols = OLS(ytrain,xconst)\n",
    "model = ols.fit()\n",
    "round(model.rsquared_adj,5)"
   ]
  },
  {
   "cell_type": "code",
   "execution_count": 363,
   "id": "4e7635c6",
   "metadata": {},
   "outputs": [],
   "source": [
    "#Model 118"
   ]
  },
  {
   "cell_type": "code",
   "execution_count": 364,
   "id": "b13991d1",
   "metadata": {},
   "outputs": [
    {
     "data": {
      "text/plain": [
       "'Condition1_RRAn'"
      ]
     },
     "execution_count": 364,
     "metadata": {},
     "output_type": "execute_result"
    }
   ],
   "source": [
    "model.pvalues.sort_values().index[-1]"
   ]
  },
  {
   "cell_type": "code",
   "execution_count": 365,
   "id": "cc05a827",
   "metadata": {},
   "outputs": [
    {
     "data": {
      "text/plain": [
       "0.93517"
      ]
     },
     "execution_count": 365,
     "metadata": {},
     "output_type": "execute_result"
    }
   ],
   "source": [
    "col_to_be_dropped= model.pvalues.sort_values().index[-1]\n",
    "Xnew = Xnew.drop(labels=col_to_be_dropped,axis=1)\n",
    "from sklearn.model_selection import train_test_split\n",
    "xtrain,xtest,ytrain,ytest=train_test_split(Xnew,Y,test_size=0.2,random_state=31)\n",
    "from statsmodels.api import OLS,add_constant\n",
    "xconst = add_constant(xtrain,has_constant=\"add\")\n",
    "ols = OLS(ytrain,xconst)\n",
    "model = ols.fit()\n",
    "round(model.rsquared_adj,5)"
   ]
  },
  {
   "cell_type": "code",
   "execution_count": 366,
   "id": "37231de0",
   "metadata": {},
   "outputs": [],
   "source": [
    "#Model 119"
   ]
  },
  {
   "cell_type": "code",
   "execution_count": 367,
   "id": "1cbdbb1a",
   "metadata": {},
   "outputs": [
    {
     "data": {
      "text/plain": [
       "'Condition1_Feedr'"
      ]
     },
     "execution_count": 367,
     "metadata": {},
     "output_type": "execute_result"
    }
   ],
   "source": [
    "model.pvalues.sort_values().index[-1]"
   ]
  },
  {
   "cell_type": "code",
   "execution_count": 368,
   "id": "871147a5",
   "metadata": {},
   "outputs": [
    {
     "data": {
      "text/plain": [
       "0.93526"
      ]
     },
     "execution_count": 368,
     "metadata": {},
     "output_type": "execute_result"
    }
   ],
   "source": [
    "col_to_be_dropped= model.pvalues.sort_values().index[-1]\n",
    "Xnew = Xnew.drop(labels=col_to_be_dropped,axis=1)\n",
    "from sklearn.model_selection import train_test_split\n",
    "xtrain,xtest,ytrain,ytest=train_test_split(Xnew,Y,test_size=0.2,random_state=31)\n",
    "from statsmodels.api import OLS,add_constant\n",
    "xconst = add_constant(xtrain,has_constant=\"add\")\n",
    "ols = OLS(ytrain,xconst)\n",
    "model = ols.fit()\n",
    "round(model.rsquared_adj,5)"
   ]
  },
  {
   "cell_type": "code",
   "execution_count": 369,
   "id": "260201d4",
   "metadata": {},
   "outputs": [],
   "source": [
    "#Model 120"
   ]
  },
  {
   "cell_type": "code",
   "execution_count": 370,
   "id": "a2e4c539",
   "metadata": {},
   "outputs": [
    {
     "data": {
      "text/plain": [
       "'Condition1_RRNn'"
      ]
     },
     "execution_count": 370,
     "metadata": {},
     "output_type": "execute_result"
    }
   ],
   "source": [
    "model.pvalues.sort_values().index[-1]"
   ]
  },
  {
   "cell_type": "code",
   "execution_count": 371,
   "id": "8eec35ab",
   "metadata": {},
   "outputs": [
    {
     "data": {
      "text/plain": [
       "0.93532"
      ]
     },
     "execution_count": 371,
     "metadata": {},
     "output_type": "execute_result"
    }
   ],
   "source": [
    "col_to_be_dropped= model.pvalues.sort_values().index[-1]\n",
    "Xnew = Xnew.drop(labels=col_to_be_dropped,axis=1)\n",
    "from sklearn.model_selection import train_test_split\n",
    "xtrain,xtest,ytrain,ytest=train_test_split(Xnew,Y,test_size=0.2,random_state=31)\n",
    "from statsmodels.api import OLS,add_constant\n",
    "xconst = add_constant(xtrain,has_constant=\"add\")\n",
    "ols = OLS(ytrain,xconst)\n",
    "model = ols.fit()\n",
    "round(model.rsquared_adj,5)"
   ]
  },
  {
   "cell_type": "code",
   "execution_count": 372,
   "id": "fd4a9207",
   "metadata": {},
   "outputs": [],
   "source": [
    "#Model 121"
   ]
  },
  {
   "cell_type": "code",
   "execution_count": 373,
   "id": "eb5e22eb",
   "metadata": {},
   "outputs": [
    {
     "data": {
      "text/plain": [
       "'LotConfig_FR3'"
      ]
     },
     "execution_count": 373,
     "metadata": {},
     "output_type": "execute_result"
    }
   ],
   "source": [
    "model.pvalues.sort_values().index[-1]"
   ]
  },
  {
   "cell_type": "code",
   "execution_count": 374,
   "id": "e355457e",
   "metadata": {},
   "outputs": [
    {
     "data": {
      "text/plain": [
       "0.93537"
      ]
     },
     "execution_count": 374,
     "metadata": {},
     "output_type": "execute_result"
    }
   ],
   "source": [
    "col_to_be_dropped= model.pvalues.sort_values().index[-1]\n",
    "Xnew = Xnew.drop(labels=col_to_be_dropped,axis=1)\n",
    "from sklearn.model_selection import train_test_split\n",
    "xtrain,xtest,ytrain,ytest=train_test_split(Xnew,Y,test_size=0.2,random_state=31)\n",
    "from statsmodels.api import OLS,add_constant\n",
    "xconst = add_constant(xtrain,has_constant=\"add\")\n",
    "ols = OLS(ytrain,xconst)\n",
    "model = ols.fit()\n",
    "round(model.rsquared_adj,5)"
   ]
  },
  {
   "cell_type": "code",
   "execution_count": 375,
   "id": "6a06250f",
   "metadata": {},
   "outputs": [],
   "source": [
    "#Model 122"
   ]
  },
  {
   "cell_type": "code",
   "execution_count": 376,
   "id": "bb8bb7c2",
   "metadata": {},
   "outputs": [
    {
     "data": {
      "text/plain": [
       "'BldgType_TwnhsE'"
      ]
     },
     "execution_count": 376,
     "metadata": {},
     "output_type": "execute_result"
    }
   ],
   "source": [
    "model.pvalues.sort_values().index[-1]"
   ]
  },
  {
   "cell_type": "code",
   "execution_count": 377,
   "id": "0822a411",
   "metadata": {},
   "outputs": [
    {
     "data": {
      "text/plain": [
       "0.93541"
      ]
     },
     "execution_count": 377,
     "metadata": {},
     "output_type": "execute_result"
    }
   ],
   "source": [
    "col_to_be_dropped= model.pvalues.sort_values().index[-1]\n",
    "Xnew = Xnew.drop(labels=col_to_be_dropped,axis=1)\n",
    "from sklearn.model_selection import train_test_split\n",
    "xtrain,xtest,ytrain,ytest=train_test_split(Xnew,Y,test_size=0.2,random_state=31)\n",
    "from statsmodels.api import OLS,add_constant\n",
    "xconst = add_constant(xtrain,has_constant=\"add\")\n",
    "ols = OLS(ytrain,xconst)\n",
    "model = ols.fit()\n",
    "round(model.rsquared_adj,5)"
   ]
  },
  {
   "cell_type": "code",
   "execution_count": 378,
   "id": "820744ea",
   "metadata": {},
   "outputs": [],
   "source": [
    "#Model 123"
   ]
  },
  {
   "cell_type": "code",
   "execution_count": 379,
   "id": "d5bf0c9d",
   "metadata": {},
   "outputs": [
    {
     "data": {
      "text/plain": [
       "'Functional_Maj1'"
      ]
     },
     "execution_count": 379,
     "metadata": {},
     "output_type": "execute_result"
    }
   ],
   "source": [
    "model.pvalues.sort_values().index[-1]"
   ]
  },
  {
   "cell_type": "code",
   "execution_count": 380,
   "id": "1a087d34",
   "metadata": {},
   "outputs": [
    {
     "data": {
      "text/plain": [
       "0.93546"
      ]
     },
     "execution_count": 380,
     "metadata": {},
     "output_type": "execute_result"
    }
   ],
   "source": [
    "col_to_be_dropped= model.pvalues.sort_values().index[-1]\n",
    "Xnew = Xnew.drop(labels=col_to_be_dropped,axis=1)\n",
    "from sklearn.model_selection import train_test_split\n",
    "xtrain,xtest,ytrain,ytest=train_test_split(Xnew,Y,test_size=0.2,random_state=31)\n",
    "from statsmodels.api import OLS,add_constant\n",
    "xconst = add_constant(xtrain,has_constant=\"add\")\n",
    "ols = OLS(ytrain,xconst)\n",
    "model = ols.fit()\n",
    "round(model.rsquared_adj,5)"
   ]
  },
  {
   "cell_type": "code",
   "execution_count": 381,
   "id": "2486322c",
   "metadata": {},
   "outputs": [],
   "source": [
    "#Model 124"
   ]
  },
  {
   "cell_type": "code",
   "execution_count": 382,
   "id": "b597988e",
   "metadata": {},
   "outputs": [
    {
     "data": {
      "text/plain": [
       "'RoofStyle_Gable'"
      ]
     },
     "execution_count": 382,
     "metadata": {},
     "output_type": "execute_result"
    }
   ],
   "source": [
    "model.pvalues.sort_values().index[-1]"
   ]
  },
  {
   "cell_type": "code",
   "execution_count": 383,
   "id": "63eabdd5",
   "metadata": {},
   "outputs": [
    {
     "data": {
      "text/plain": [
       "0.9355"
      ]
     },
     "execution_count": 383,
     "metadata": {},
     "output_type": "execute_result"
    }
   ],
   "source": [
    "col_to_be_dropped= model.pvalues.sort_values().index[-1]\n",
    "Xnew = Xnew.drop(labels=col_to_be_dropped,axis=1)\n",
    "from sklearn.model_selection import train_test_split\n",
    "xtrain,xtest,ytrain,ytest=train_test_split(Xnew,Y,test_size=0.2,random_state=31)\n",
    "from statsmodels.api import OLS,add_constant\n",
    "xconst = add_constant(xtrain,has_constant=\"add\")\n",
    "ols = OLS(ytrain,xconst)\n",
    "model = ols.fit()\n",
    "round(model.rsquared_adj,5)"
   ]
  },
  {
   "cell_type": "code",
   "execution_count": 384,
   "id": "aa542e49",
   "metadata": {},
   "outputs": [],
   "source": [
    "#Model 125"
   ]
  },
  {
   "cell_type": "code",
   "execution_count": 385,
   "id": "858a260c",
   "metadata": {},
   "outputs": [
    {
     "data": {
      "text/plain": [
       "'BsmtExposure_No'"
      ]
     },
     "execution_count": 385,
     "metadata": {},
     "output_type": "execute_result"
    }
   ],
   "source": [
    "model.pvalues.sort_values().index[-1]"
   ]
  },
  {
   "cell_type": "code",
   "execution_count": 386,
   "id": "04316af8",
   "metadata": {},
   "outputs": [
    {
     "data": {
      "text/plain": [
       "0.9355"
      ]
     },
     "execution_count": 386,
     "metadata": {},
     "output_type": "execute_result"
    }
   ],
   "source": [
    "col_to_be_dropped= model.pvalues.sort_values().index[-1]\n",
    "Xnew = Xnew.drop(labels=col_to_be_dropped,axis=1)\n",
    "from sklearn.model_selection import train_test_split\n",
    "xtrain,xtest,ytrain,ytest=train_test_split(Xnew,Y,test_size=0.2,random_state=31)\n",
    "from statsmodels.api import OLS,add_constant\n",
    "xconst = add_constant(xtrain,has_constant=\"add\")\n",
    "ols = OLS(ytrain,xconst)\n",
    "model = ols.fit()\n",
    "round(model.rsquared_adj,5)"
   ]
  },
  {
   "cell_type": "code",
   "execution_count": 387,
   "id": "7b0e60a6",
   "metadata": {},
   "outputs": [],
   "source": [
    "#Model 126"
   ]
  },
  {
   "cell_type": "code",
   "execution_count": 388,
   "id": "0b28839b",
   "metadata": {},
   "outputs": [
    {
     "data": {
      "text/plain": [
       "'BsmtExposure_Mn'"
      ]
     },
     "execution_count": 388,
     "metadata": {},
     "output_type": "execute_result"
    }
   ],
   "source": [
    "model.pvalues.sort_values().index[-1]"
   ]
  },
  {
   "cell_type": "code",
   "execution_count": 389,
   "id": "df9eb7a8",
   "metadata": {},
   "outputs": [
    {
     "data": {
      "text/plain": [
       "0.93558"
      ]
     },
     "execution_count": 389,
     "metadata": {},
     "output_type": "execute_result"
    }
   ],
   "source": [
    "col_to_be_dropped= model.pvalues.sort_values().index[-1]\n",
    "Xnew = Xnew.drop(labels=col_to_be_dropped,axis=1)\n",
    "from sklearn.model_selection import train_test_split\n",
    "xtrain,xtest,ytrain,ytest=train_test_split(Xnew,Y,test_size=0.2,random_state=31)\n",
    "from statsmodels.api import OLS,add_constant\n",
    "xconst = add_constant(xtrain,has_constant=\"add\")\n",
    "ols = OLS(ytrain,xconst)\n",
    "model = ols.fit()\n",
    "round(model.rsquared_adj,5)"
   ]
  },
  {
   "cell_type": "code",
   "execution_count": 390,
   "id": "81f74862",
   "metadata": {},
   "outputs": [],
   "source": [
    "#Model 127"
   ]
  },
  {
   "cell_type": "code",
   "execution_count": 391,
   "id": "3fc54d75",
   "metadata": {},
   "outputs": [
    {
     "data": {
      "text/plain": [
       "'BsmtQual_Fa'"
      ]
     },
     "execution_count": 391,
     "metadata": {},
     "output_type": "execute_result"
    }
   ],
   "source": [
    "model.pvalues.sort_values().index[-1]"
   ]
  },
  {
   "cell_type": "code",
   "execution_count": 392,
   "id": "2d4b745b",
   "metadata": {},
   "outputs": [
    {
     "data": {
      "text/plain": [
       "0.93558"
      ]
     },
     "execution_count": 392,
     "metadata": {},
     "output_type": "execute_result"
    }
   ],
   "source": [
    "col_to_be_dropped= model.pvalues.sort_values().index[-1]\n",
    "Xnew = Xnew.drop(labels=col_to_be_dropped,axis=1)\n",
    "from sklearn.model_selection import train_test_split\n",
    "xtrain,xtest,ytrain,ytest=train_test_split(Xnew,Y,test_size=0.2,random_state=31)\n",
    "from statsmodels.api import OLS,add_constant\n",
    "xconst = add_constant(xtrain,has_constant=\"add\")\n",
    "ols = OLS(ytrain,xconst)\n",
    "model = ols.fit()\n",
    "round(model.rsquared_adj,5)"
   ]
  },
  {
   "cell_type": "code",
   "execution_count": 393,
   "id": "1d72334e",
   "metadata": {},
   "outputs": [],
   "source": [
    "#Model 128"
   ]
  },
  {
   "cell_type": "code",
   "execution_count": 394,
   "id": "10ab5cdb",
   "metadata": {},
   "outputs": [
    {
     "data": {
      "text/plain": [
       "'ExterCond_Fa'"
      ]
     },
     "execution_count": 394,
     "metadata": {},
     "output_type": "execute_result"
    }
   ],
   "source": [
    "model.pvalues.sort_values().index[-1]"
   ]
  },
  {
   "cell_type": "code",
   "execution_count": 395,
   "id": "4f671c50",
   "metadata": {},
   "outputs": [
    {
     "data": {
      "text/plain": [
       "0.93558"
      ]
     },
     "execution_count": 395,
     "metadata": {},
     "output_type": "execute_result"
    }
   ],
   "source": [
    "col_to_be_dropped= model.pvalues.sort_values().index[-1]\n",
    "Xnew = Xnew.drop(labels=col_to_be_dropped,axis=1)\n",
    "from sklearn.model_selection import train_test_split\n",
    "xtrain,xtest,ytrain,ytest=train_test_split(Xnew,Y,test_size=0.2,random_state=31)\n",
    "from statsmodels.api import OLS,add_constant\n",
    "xconst = add_constant(xtrain,has_constant=\"add\")\n",
    "ols = OLS(ytrain,xconst)\n",
    "model = ols.fit()\n",
    "round(model.rsquared_adj,5)"
   ]
  },
  {
   "cell_type": "code",
   "execution_count": 396,
   "id": "cc7f1ee0",
   "metadata": {},
   "outputs": [],
   "source": [
    "#Model 129"
   ]
  },
  {
   "cell_type": "code",
   "execution_count": 397,
   "id": "6b847e90",
   "metadata": {},
   "outputs": [
    {
     "data": {
      "text/plain": [
       "'BedroomAbvGr'"
      ]
     },
     "execution_count": 397,
     "metadata": {},
     "output_type": "execute_result"
    }
   ],
   "source": [
    "model.pvalues.sort_values().index[-1]"
   ]
  },
  {
   "cell_type": "code",
   "execution_count": 398,
   "id": "635c7e33",
   "metadata": {},
   "outputs": [
    {
     "data": {
      "text/plain": [
       "0.9356"
      ]
     },
     "execution_count": 398,
     "metadata": {},
     "output_type": "execute_result"
    }
   ],
   "source": [
    "col_to_be_dropped= model.pvalues.sort_values().index[-1]\n",
    "Xnew = Xnew.drop(labels=col_to_be_dropped,axis=1)\n",
    "from sklearn.model_selection import train_test_split\n",
    "xtrain,xtest,ytrain,ytest=train_test_split(Xnew,Y,test_size=0.2,random_state=31)\n",
    "from statsmodels.api import OLS,add_constant\n",
    "xconst = add_constant(xtrain,has_constant=\"add\")\n",
    "ols = OLS(ytrain,xconst)\n",
    "model = ols.fit()\n",
    "round(model.rsquared_adj,5)"
   ]
  },
  {
   "cell_type": "code",
   "execution_count": 399,
   "id": "428f7f31",
   "metadata": {},
   "outputs": [],
   "source": [
    "#Model 130"
   ]
  },
  {
   "cell_type": "code",
   "execution_count": 400,
   "id": "a5f7fed8",
   "metadata": {},
   "outputs": [
    {
     "data": {
      "text/plain": [
       "'GarageYrBlt'"
      ]
     },
     "execution_count": 400,
     "metadata": {},
     "output_type": "execute_result"
    }
   ],
   "source": [
    "model.pvalues.sort_values().index[-1]"
   ]
  },
  {
   "cell_type": "code",
   "execution_count": 401,
   "id": "ad3ea250",
   "metadata": {},
   "outputs": [
    {
     "data": {
      "text/plain": [
       "0.93562"
      ]
     },
     "execution_count": 401,
     "metadata": {},
     "output_type": "execute_result"
    }
   ],
   "source": [
    "col_to_be_dropped= model.pvalues.sort_values().index[-1]\n",
    "Xnew = Xnew.drop(labels=col_to_be_dropped,axis=1)\n",
    "from sklearn.model_selection import train_test_split\n",
    "xtrain,xtest,ytrain,ytest=train_test_split(Xnew,Y,test_size=0.2,random_state=31)\n",
    "from statsmodels.api import OLS,add_constant\n",
    "xconst = add_constant(xtrain,has_constant=\"add\")\n",
    "ols = OLS(ytrain,xconst)\n",
    "model = ols.fit()\n",
    "round(model.rsquared_adj,5)"
   ]
  },
  {
   "cell_type": "code",
   "execution_count": 402,
   "id": "21fced5c",
   "metadata": {},
   "outputs": [],
   "source": [
    "#Model 131"
   ]
  },
  {
   "cell_type": "code",
   "execution_count": 403,
   "id": "4cfd86c7",
   "metadata": {},
   "outputs": [
    {
     "data": {
      "text/plain": [
       "'GarageCond_Po'"
      ]
     },
     "execution_count": 403,
     "metadata": {},
     "output_type": "execute_result"
    }
   ],
   "source": [
    "model.pvalues.sort_values().index[-1]"
   ]
  },
  {
   "cell_type": "code",
   "execution_count": 404,
   "id": "b54ee910",
   "metadata": {},
   "outputs": [
    {
     "data": {
      "text/plain": [
       "0.93564"
      ]
     },
     "execution_count": 404,
     "metadata": {},
     "output_type": "execute_result"
    }
   ],
   "source": [
    "col_to_be_dropped= model.pvalues.sort_values().index[-1]\n",
    "Xnew = Xnew.drop(labels=col_to_be_dropped,axis=1)\n",
    "from sklearn.model_selection import train_test_split\n",
    "xtrain,xtest,ytrain,ytest=train_test_split(Xnew,Y,test_size=0.2,random_state=31)\n",
    "from statsmodels.api import OLS,add_constant\n",
    "xconst = add_constant(xtrain,has_constant=\"add\")\n",
    "ols = OLS(ytrain,xconst)\n",
    "model = ols.fit()\n",
    "round(model.rsquared_adj,5)"
   ]
  },
  {
   "cell_type": "code",
   "execution_count": 405,
   "id": "97254d65",
   "metadata": {},
   "outputs": [],
   "source": [
    "#Model 132"
   ]
  },
  {
   "cell_type": "code",
   "execution_count": 406,
   "id": "75f9f1c0",
   "metadata": {},
   "outputs": [
    {
     "data": {
      "text/plain": [
       "'GarageQual_Fa'"
      ]
     },
     "execution_count": 406,
     "metadata": {},
     "output_type": "execute_result"
    }
   ],
   "source": [
    "model.pvalues.sort_values().index[-1]"
   ]
  },
  {
   "cell_type": "code",
   "execution_count": 407,
   "id": "67b07ea7",
   "metadata": {},
   "outputs": [
    {
     "data": {
      "text/plain": [
       "0.93567"
      ]
     },
     "execution_count": 407,
     "metadata": {},
     "output_type": "execute_result"
    }
   ],
   "source": [
    "col_to_be_dropped= model.pvalues.sort_values().index[-1]\n",
    "Xnew = Xnew.drop(labels=col_to_be_dropped,axis=1)\n",
    "from sklearn.model_selection import train_test_split\n",
    "xtrain,xtest,ytrain,ytest=train_test_split(Xnew,Y,test_size=0.2,random_state=31)\n",
    "from statsmodels.api import OLS,add_constant\n",
    "xconst = add_constant(xtrain,has_constant=\"add\")\n",
    "ols = OLS(ytrain,xconst)\n",
    "model = ols.fit()\n",
    "round(model.rsquared_adj,5)"
   ]
  },
  {
   "cell_type": "code",
   "execution_count": 408,
   "id": "7f7e0440",
   "metadata": {},
   "outputs": [],
   "source": [
    "#Model 133"
   ]
  },
  {
   "cell_type": "code",
   "execution_count": 409,
   "id": "03f7a1ec",
   "metadata": {},
   "outputs": [
    {
     "data": {
      "text/plain": [
       "'PavedDrive_Y'"
      ]
     },
     "execution_count": 409,
     "metadata": {},
     "output_type": "execute_result"
    }
   ],
   "source": [
    "model.pvalues.sort_values().index[-1]"
   ]
  },
  {
   "cell_type": "code",
   "execution_count": 410,
   "id": "7afd10bb",
   "metadata": {},
   "outputs": [
    {
     "data": {
      "text/plain": [
       "0.93569"
      ]
     },
     "execution_count": 410,
     "metadata": {},
     "output_type": "execute_result"
    }
   ],
   "source": [
    "col_to_be_dropped= model.pvalues.sort_values().index[-1]\n",
    "Xnew = Xnew.drop(labels=col_to_be_dropped,axis=1)\n",
    "from sklearn.model_selection import train_test_split\n",
    "xtrain,xtest,ytrain,ytest=train_test_split(Xnew,Y,test_size=0.2,random_state=31)\n",
    "from statsmodels.api import OLS,add_constant\n",
    "xconst = add_constant(xtrain,has_constant=\"add\")\n",
    "ols = OLS(ytrain,xconst)\n",
    "model = ols.fit()\n",
    "round(model.rsquared_adj,5)"
   ]
  },
  {
   "cell_type": "code",
   "execution_count": 411,
   "id": "a614aaa3",
   "metadata": {},
   "outputs": [],
   "source": [
    "#Model 134"
   ]
  },
  {
   "cell_type": "code",
   "execution_count": 412,
   "id": "1df6eed1",
   "metadata": {},
   "outputs": [
    {
     "data": {
      "text/plain": [
       "'PavedDrive_N'"
      ]
     },
     "execution_count": 412,
     "metadata": {},
     "output_type": "execute_result"
    }
   ],
   "source": [
    "model.pvalues.sort_values().index[-1]"
   ]
  },
  {
   "cell_type": "code",
   "execution_count": 413,
   "id": "12bd7ae1",
   "metadata": {},
   "outputs": [
    {
     "data": {
      "text/plain": [
       "0.93574"
      ]
     },
     "execution_count": 413,
     "metadata": {},
     "output_type": "execute_result"
    }
   ],
   "source": [
    "col_to_be_dropped= model.pvalues.sort_values().index[-1]\n",
    "Xnew = Xnew.drop(labels=col_to_be_dropped,axis=1)\n",
    "from sklearn.model_selection import train_test_split\n",
    "xtrain,xtest,ytrain,ytest=train_test_split(Xnew,Y,test_size=0.2,random_state=31)\n",
    "from statsmodels.api import OLS,add_constant\n",
    "xconst = add_constant(xtrain,has_constant=\"add\")\n",
    "ols = OLS(ytrain,xconst)\n",
    "model = ols.fit()\n",
    "round(model.rsquared_adj,5)"
   ]
  },
  {
   "cell_type": "code",
   "execution_count": 414,
   "id": "43c74e53",
   "metadata": {},
   "outputs": [],
   "source": [
    "#Model 135"
   ]
  },
  {
   "cell_type": "code",
   "execution_count": 415,
   "id": "d4f86302",
   "metadata": {},
   "outputs": [
    {
     "data": {
      "text/plain": [
       "'Exterior1st_CemntBd'"
      ]
     },
     "execution_count": 415,
     "metadata": {},
     "output_type": "execute_result"
    }
   ],
   "source": [
    "model.pvalues.sort_values().index[-1]"
   ]
  },
  {
   "cell_type": "code",
   "execution_count": 416,
   "id": "82d2d9d9",
   "metadata": {},
   "outputs": [
    {
     "data": {
      "text/plain": [
       "0.93576"
      ]
     },
     "execution_count": 416,
     "metadata": {},
     "output_type": "execute_result"
    }
   ],
   "source": [
    "col_to_be_dropped= model.pvalues.sort_values().index[-1]\n",
    "Xnew = Xnew.drop(labels=col_to_be_dropped,axis=1)\n",
    "from sklearn.model_selection import train_test_split\n",
    "xtrain,xtest,ytrain,ytest=train_test_split(Xnew,Y,test_size=0.2,random_state=31)\n",
    "from statsmodels.api import OLS,add_constant\n",
    "xconst = add_constant(xtrain,has_constant=\"add\")\n",
    "ols = OLS(ytrain,xconst)\n",
    "model = ols.fit()\n",
    "round(model.rsquared_adj,5)"
   ]
  },
  {
   "cell_type": "code",
   "execution_count": 417,
   "id": "d9d287e5",
   "metadata": {},
   "outputs": [],
   "source": [
    "#Model 136"
   ]
  },
  {
   "cell_type": "code",
   "execution_count": 418,
   "id": "8b8b4003",
   "metadata": {},
   "outputs": [
    {
     "data": {
      "text/plain": [
       "'Functional_Min2'"
      ]
     },
     "execution_count": 418,
     "metadata": {},
     "output_type": "execute_result"
    }
   ],
   "source": [
    "model.pvalues.sort_values().index[-1]"
   ]
  },
  {
   "cell_type": "code",
   "execution_count": 419,
   "id": "795badb1",
   "metadata": {},
   "outputs": [
    {
     "data": {
      "text/plain": [
       "0.93579"
      ]
     },
     "execution_count": 419,
     "metadata": {},
     "output_type": "execute_result"
    }
   ],
   "source": [
    "col_to_be_dropped= model.pvalues.sort_values().index[-1]\n",
    "Xnew = Xnew.drop(labels=col_to_be_dropped,axis=1)\n",
    "from sklearn.model_selection import train_test_split\n",
    "xtrain,xtest,ytrain,ytest=train_test_split(Xnew,Y,test_size=0.2,random_state=31)\n",
    "from statsmodels.api import OLS,add_constant\n",
    "xconst = add_constant(xtrain,has_constant=\"add\")\n",
    "ols = OLS(ytrain,xconst)\n",
    "model = ols.fit()\n",
    "round(model.rsquared_adj,5)"
   ]
  },
  {
   "cell_type": "code",
   "execution_count": 420,
   "id": "2238b7ee",
   "metadata": {},
   "outputs": [],
   "source": [
    "#Model 137"
   ]
  },
  {
   "cell_type": "code",
   "execution_count": 421,
   "id": "5dddb9cd",
   "metadata": {},
   "outputs": [
    {
     "data": {
      "text/plain": [
       "'LandContour_Bnk'"
      ]
     },
     "execution_count": 421,
     "metadata": {},
     "output_type": "execute_result"
    }
   ],
   "source": [
    "model.pvalues.sort_values().index[-1]"
   ]
  },
  {
   "cell_type": "code",
   "execution_count": 422,
   "id": "29756dde",
   "metadata": {},
   "outputs": [
    {
     "data": {
      "text/plain": [
       "0.93583"
      ]
     },
     "execution_count": 422,
     "metadata": {},
     "output_type": "execute_result"
    }
   ],
   "source": [
    "col_to_be_dropped= model.pvalues.sort_values().index[-1]\n",
    "Xnew = Xnew.drop(labels=col_to_be_dropped,axis=1)\n",
    "from sklearn.model_selection import train_test_split\n",
    "xtrain,xtest,ytrain,ytest=train_test_split(Xnew,Y,test_size=0.2,random_state=31)\n",
    "from statsmodels.api import OLS,add_constant\n",
    "xconst = add_constant(xtrain,has_constant=\"add\")\n",
    "ols = OLS(ytrain,xconst)\n",
    "model = ols.fit()\n",
    "round(model.rsquared_adj,5)"
   ]
  },
  {
   "cell_type": "code",
   "execution_count": 423,
   "id": "5c7caf99",
   "metadata": {},
   "outputs": [],
   "source": [
    "#Model 138"
   ]
  },
  {
   "cell_type": "code",
   "execution_count": 424,
   "id": "95886b74",
   "metadata": {},
   "outputs": [
    {
     "data": {
      "text/plain": [
       "'Neighborhood_SWISU'"
      ]
     },
     "execution_count": 424,
     "metadata": {},
     "output_type": "execute_result"
    }
   ],
   "source": [
    "model.pvalues.sort_values().index[-1]"
   ]
  },
  {
   "cell_type": "code",
   "execution_count": 425,
   "id": "4d05267b",
   "metadata": {},
   "outputs": [
    {
     "data": {
      "text/plain": [
       "0.93587"
      ]
     },
     "execution_count": 425,
     "metadata": {},
     "output_type": "execute_result"
    }
   ],
   "source": [
    "col_to_be_dropped= model.pvalues.sort_values().index[-1]\n",
    "Xnew = Xnew.drop(labels=col_to_be_dropped,axis=1)\n",
    "from sklearn.model_selection import train_test_split\n",
    "xtrain,xtest,ytrain,ytest=train_test_split(Xnew,Y,test_size=0.2,random_state=31)\n",
    "from statsmodels.api import OLS,add_constant\n",
    "xconst = add_constant(xtrain,has_constant=\"add\")\n",
    "ols = OLS(ytrain,xconst)\n",
    "model = ols.fit()\n",
    "round(model.rsquared_adj,5)"
   ]
  },
  {
   "cell_type": "code",
   "execution_count": 426,
   "id": "d545ac7a",
   "metadata": {},
   "outputs": [],
   "source": [
    "#Model 139"
   ]
  },
  {
   "cell_type": "code",
   "execution_count": 427,
   "id": "506f936c",
   "metadata": {},
   "outputs": [
    {
     "data": {
      "text/plain": [
       "'GarageType_CarPort'"
      ]
     },
     "execution_count": 427,
     "metadata": {},
     "output_type": "execute_result"
    }
   ],
   "source": [
    "model.pvalues.sort_values().index[-1]"
   ]
  },
  {
   "cell_type": "code",
   "execution_count": 428,
   "id": "4ccb6181",
   "metadata": {},
   "outputs": [
    {
     "data": {
      "text/plain": [
       "0.9359"
      ]
     },
     "execution_count": 428,
     "metadata": {},
     "output_type": "execute_result"
    }
   ],
   "source": [
    "col_to_be_dropped= model.pvalues.sort_values().index[-1]\n",
    "Xnew = Xnew.drop(labels=col_to_be_dropped,axis=1)\n",
    "from sklearn.model_selection import train_test_split\n",
    "xtrain,xtest,ytrain,ytest=train_test_split(Xnew,Y,test_size=0.2,random_state=31)\n",
    "from statsmodels.api import OLS,add_constant\n",
    "xconst = add_constant(xtrain,has_constant=\"add\")\n",
    "ols = OLS(ytrain,xconst)\n",
    "model = ols.fit()\n",
    "round(model.rsquared_adj,5)"
   ]
  },
  {
   "cell_type": "code",
   "execution_count": 429,
   "id": "ddd88045",
   "metadata": {},
   "outputs": [],
   "source": [
    "#Model 140"
   ]
  },
  {
   "cell_type": "code",
   "execution_count": 430,
   "id": "b56fdd1a",
   "metadata": {},
   "outputs": [
    {
     "data": {
      "text/plain": [
       "'Exterior1st_VinylSd'"
      ]
     },
     "execution_count": 430,
     "metadata": {},
     "output_type": "execute_result"
    }
   ],
   "source": [
    "model.pvalues.sort_values().index[-1]"
   ]
  },
  {
   "cell_type": "code",
   "execution_count": 431,
   "id": "401d3be6",
   "metadata": {},
   "outputs": [
    {
     "data": {
      "text/plain": [
       "0.93591"
      ]
     },
     "execution_count": 431,
     "metadata": {},
     "output_type": "execute_result"
    }
   ],
   "source": [
    "col_to_be_dropped= model.pvalues.sort_values().index[-1]\n",
    "Xnew = Xnew.drop(labels=col_to_be_dropped,axis=1)\n",
    "from sklearn.model_selection import train_test_split\n",
    "xtrain,xtest,ytrain,ytest=train_test_split(Xnew,Y,test_size=0.2,random_state=31)\n",
    "from statsmodels.api import OLS,add_constant\n",
    "xconst = add_constant(xtrain,has_constant=\"add\")\n",
    "ols = OLS(ytrain,xconst)\n",
    "model = ols.fit()\n",
    "round(model.rsquared_adj,5)"
   ]
  },
  {
   "cell_type": "code",
   "execution_count": 432,
   "id": "4aa101d7",
   "metadata": {},
   "outputs": [],
   "source": [
    "#Model 141"
   ]
  },
  {
   "cell_type": "code",
   "execution_count": 433,
   "id": "dd2e9484",
   "metadata": {},
   "outputs": [
    {
     "data": {
      "text/plain": [
       "'Exterior1st_HdBoard'"
      ]
     },
     "execution_count": 433,
     "metadata": {},
     "output_type": "execute_result"
    }
   ],
   "source": [
    "model.pvalues.sort_values().index[-1]"
   ]
  },
  {
   "cell_type": "code",
   "execution_count": 434,
   "id": "8e8f59b4",
   "metadata": {},
   "outputs": [
    {
     "data": {
      "text/plain": [
       "0.93594"
      ]
     },
     "execution_count": 434,
     "metadata": {},
     "output_type": "execute_result"
    }
   ],
   "source": [
    "col_to_be_dropped= model.pvalues.sort_values().index[-1]\n",
    "Xnew = Xnew.drop(labels=col_to_be_dropped,axis=1)\n",
    "from sklearn.model_selection import train_test_split\n",
    "xtrain,xtest,ytrain,ytest=train_test_split(Xnew,Y,test_size=0.2,random_state=31)\n",
    "from statsmodels.api import OLS,add_constant\n",
    "xconst = add_constant(xtrain,has_constant=\"add\")\n",
    "ols = OLS(ytrain,xconst)\n",
    "model = ols.fit()\n",
    "round(model.rsquared_adj,5)"
   ]
  },
  {
   "cell_type": "code",
   "execution_count": 435,
   "id": "1d990974",
   "metadata": {},
   "outputs": [],
   "source": [
    "#Model 142"
   ]
  },
  {
   "cell_type": "code",
   "execution_count": 436,
   "id": "48bb3e23",
   "metadata": {},
   "outputs": [
    {
     "data": {
      "text/plain": [
       "'Exterior1st_Wd Sdng'"
      ]
     },
     "execution_count": 436,
     "metadata": {},
     "output_type": "execute_result"
    }
   ],
   "source": [
    "model.pvalues.sort_values().index[-1]"
   ]
  },
  {
   "cell_type": "code",
   "execution_count": 437,
   "id": "9316ad1d",
   "metadata": {},
   "outputs": [
    {
     "data": {
      "text/plain": [
       "0.936"
      ]
     },
     "execution_count": 437,
     "metadata": {},
     "output_type": "execute_result"
    }
   ],
   "source": [
    "col_to_be_dropped= model.pvalues.sort_values().index[-1]\n",
    "Xnew = Xnew.drop(labels=col_to_be_dropped,axis=1)\n",
    "from sklearn.model_selection import train_test_split\n",
    "xtrain,xtest,ytrain,ytest=train_test_split(Xnew,Y,test_size=0.2,random_state=31)\n",
    "from statsmodels.api import OLS,add_constant\n",
    "xconst = add_constant(xtrain,has_constant=\"add\")\n",
    "ols = OLS(ytrain,xconst)\n",
    "model = ols.fit()\n",
    "round(model.rsquared_adj,5)"
   ]
  },
  {
   "cell_type": "code",
   "execution_count": 438,
   "id": "82763e1e",
   "metadata": {},
   "outputs": [],
   "source": [
    "#Model 143"
   ]
  },
  {
   "cell_type": "code",
   "execution_count": 439,
   "id": "ce91dae3",
   "metadata": {},
   "outputs": [
    {
     "data": {
      "text/plain": [
       "'Exterior1st_Plywood'"
      ]
     },
     "execution_count": 439,
     "metadata": {},
     "output_type": "execute_result"
    }
   ],
   "source": [
    "model.pvalues.sort_values().index[-1]"
   ]
  },
  {
   "cell_type": "code",
   "execution_count": 440,
   "id": "7932b46d",
   "metadata": {},
   "outputs": [
    {
     "data": {
      "text/plain": [
       "0.93602"
      ]
     },
     "execution_count": 440,
     "metadata": {},
     "output_type": "execute_result"
    }
   ],
   "source": [
    "col_to_be_dropped= model.pvalues.sort_values().index[-1]\n",
    "Xnew = Xnew.drop(labels=col_to_be_dropped,axis=1)\n",
    "from sklearn.model_selection import train_test_split\n",
    "xtrain,xtest,ytrain,ytest=train_test_split(Xnew,Y,test_size=0.2,random_state=31)\n",
    "from statsmodels.api import OLS,add_constant\n",
    "xconst = add_constant(xtrain,has_constant=\"add\")\n",
    "ols = OLS(ytrain,xconst)\n",
    "model = ols.fit()\n",
    "round(model.rsquared_adj,5)"
   ]
  },
  {
   "cell_type": "code",
   "execution_count": 441,
   "id": "e2cda27d",
   "metadata": {},
   "outputs": [],
   "source": [
    "#Model 144"
   ]
  },
  {
   "cell_type": "code",
   "execution_count": 442,
   "id": "fef78732",
   "metadata": {},
   "outputs": [
    {
     "data": {
      "text/plain": [
       "'LotShape_IR3'"
      ]
     },
     "execution_count": 442,
     "metadata": {},
     "output_type": "execute_result"
    }
   ],
   "source": [
    "model.pvalues.sort_values().index[-1]"
   ]
  },
  {
   "cell_type": "code",
   "execution_count": 443,
   "id": "0e6a3f19",
   "metadata": {},
   "outputs": [
    {
     "data": {
      "text/plain": [
       "0.93602"
      ]
     },
     "execution_count": 443,
     "metadata": {},
     "output_type": "execute_result"
    }
   ],
   "source": [
    "col_to_be_dropped= model.pvalues.sort_values().index[-1]\n",
    "Xnew = Xnew.drop(labels=col_to_be_dropped,axis=1)\n",
    "from sklearn.model_selection import train_test_split\n",
    "xtrain,xtest,ytrain,ytest=train_test_split(Xnew,Y,test_size=0.2,random_state=31)\n",
    "from statsmodels.api import OLS,add_constant\n",
    "xconst = add_constant(xtrain,has_constant=\"add\")\n",
    "ols = OLS(ytrain,xconst)\n",
    "model = ols.fit()\n",
    "round(model.rsquared_adj,5)"
   ]
  },
  {
   "cell_type": "code",
   "execution_count": 444,
   "id": "4a364e57",
   "metadata": {},
   "outputs": [],
   "source": [
    "#Model 145"
   ]
  },
  {
   "cell_type": "code",
   "execution_count": 445,
   "id": "984d3222",
   "metadata": {},
   "outputs": [
    {
     "data": {
      "text/plain": [
       "'Neighborhood_Sawyer'"
      ]
     },
     "execution_count": 445,
     "metadata": {},
     "output_type": "execute_result"
    }
   ],
   "source": [
    "model.pvalues.sort_values().index[-1]"
   ]
  },
  {
   "cell_type": "code",
   "execution_count": 446,
   "id": "0ec3d6dd",
   "metadata": {},
   "outputs": [
    {
     "data": {
      "text/plain": [
       "0.93601"
      ]
     },
     "execution_count": 446,
     "metadata": {},
     "output_type": "execute_result"
    }
   ],
   "source": [
    "col_to_be_dropped= model.pvalues.sort_values().index[-1]\n",
    "Xnew = Xnew.drop(labels=col_to_be_dropped,axis=1)\n",
    "from sklearn.model_selection import train_test_split\n",
    "xtrain,xtest,ytrain,ytest=train_test_split(Xnew,Y,test_size=0.2,random_state=31)\n",
    "from statsmodels.api import OLS,add_constant\n",
    "xconst = add_constant(xtrain,has_constant=\"add\")\n",
    "ols = OLS(ytrain,xconst)\n",
    "model = ols.fit()\n",
    "round(model.rsquared_adj,5)"
   ]
  },
  {
   "cell_type": "code",
   "execution_count": 447,
   "id": "10d8996d",
   "metadata": {},
   "outputs": [],
   "source": [
    "#Model 146"
   ]
  },
  {
   "cell_type": "code",
   "execution_count": 448,
   "id": "1bd4b27c",
   "metadata": {},
   "outputs": [
    {
     "data": {
      "text/plain": [
       "'Neighborhood_CollgCr'"
      ]
     },
     "execution_count": 448,
     "metadata": {},
     "output_type": "execute_result"
    }
   ],
   "source": [
    "model.pvalues.sort_values().index[-1]"
   ]
  },
  {
   "cell_type": "code",
   "execution_count": 449,
   "id": "903eaf00",
   "metadata": {},
   "outputs": [
    {
     "data": {
      "text/plain": [
       "0.93603"
      ]
     },
     "execution_count": 449,
     "metadata": {},
     "output_type": "execute_result"
    }
   ],
   "source": [
    "col_to_be_dropped= model.pvalues.sort_values().index[-1]\n",
    "Xnew = Xnew.drop(labels=col_to_be_dropped,axis=1)\n",
    "from sklearn.model_selection import train_test_split\n",
    "xtrain,xtest,ytrain,ytest=train_test_split(Xnew,Y,test_size=0.2,random_state=31)\n",
    "from statsmodels.api import OLS,add_constant\n",
    "xconst = add_constant(xtrain,has_constant=\"add\")\n",
    "ols = OLS(ytrain,xconst)\n",
    "model = ols.fit()\n",
    "round(model.rsquared_adj,5)"
   ]
  },
  {
   "cell_type": "code",
   "execution_count": 450,
   "id": "b3980f5a",
   "metadata": {},
   "outputs": [],
   "source": [
    "#Model 147"
   ]
  },
  {
   "cell_type": "code",
   "execution_count": 451,
   "id": "786900c9",
   "metadata": {},
   "outputs": [
    {
     "data": {
      "text/plain": [
       "'Neighborhood_Somerst'"
      ]
     },
     "execution_count": 451,
     "metadata": {},
     "output_type": "execute_result"
    }
   ],
   "source": [
    "model.pvalues.sort_values().index[-1]"
   ]
  },
  {
   "cell_type": "code",
   "execution_count": 452,
   "id": "be6f6408",
   "metadata": {},
   "outputs": [
    {
     "data": {
      "text/plain": [
       "0.93608"
      ]
     },
     "execution_count": 452,
     "metadata": {},
     "output_type": "execute_result"
    }
   ],
   "source": [
    "col_to_be_dropped= model.pvalues.sort_values().index[-1]\n",
    "Xnew = Xnew.drop(labels=col_to_be_dropped,axis=1)\n",
    "from sklearn.model_selection import train_test_split\n",
    "xtrain,xtest,ytrain,ytest=train_test_split(Xnew,Y,test_size=0.2,random_state=31)\n",
    "from statsmodels.api import OLS,add_constant\n",
    "xconst = add_constant(xtrain,has_constant=\"add\")\n",
    "ols = OLS(ytrain,xconst)\n",
    "model = ols.fit()\n",
    "round(model.rsquared_adj,5)"
   ]
  },
  {
   "cell_type": "code",
   "execution_count": 453,
   "id": "3794b403",
   "metadata": {},
   "outputs": [],
   "source": [
    "#Model 148"
   ]
  },
  {
   "cell_type": "code",
   "execution_count": 454,
   "id": "058aab97",
   "metadata": {},
   "outputs": [
    {
     "data": {
      "text/plain": [
       "'Neighborhood_Timber'"
      ]
     },
     "execution_count": 454,
     "metadata": {},
     "output_type": "execute_result"
    }
   ],
   "source": [
    "model.pvalues.sort_values().index[-1]"
   ]
  },
  {
   "cell_type": "code",
   "execution_count": 455,
   "id": "37e5712b",
   "metadata": {},
   "outputs": [
    {
     "data": {
      "text/plain": [
       "0.93614"
      ]
     },
     "execution_count": 455,
     "metadata": {},
     "output_type": "execute_result"
    }
   ],
   "source": [
    "col_to_be_dropped= model.pvalues.sort_values().index[-1]\n",
    "Xnew = Xnew.drop(labels=col_to_be_dropped,axis=1)\n",
    "from sklearn.model_selection import train_test_split\n",
    "xtrain,xtest,ytrain,ytest=train_test_split(Xnew,Y,test_size=0.2,random_state=31)\n",
    "from statsmodels.api import OLS,add_constant\n",
    "xconst = add_constant(xtrain,has_constant=\"add\")\n",
    "ols = OLS(ytrain,xconst)\n",
    "model = ols.fit()\n",
    "round(model.rsquared_adj,5)"
   ]
  },
  {
   "cell_type": "code",
   "execution_count": 456,
   "id": "5cfc447f",
   "metadata": {},
   "outputs": [],
   "source": [
    "#Model 149"
   ]
  },
  {
   "cell_type": "code",
   "execution_count": 457,
   "id": "b5084100",
   "metadata": {},
   "outputs": [
    {
     "data": {
      "text/plain": [
       "'Neighborhood_Gilbert'"
      ]
     },
     "execution_count": 457,
     "metadata": {},
     "output_type": "execute_result"
    }
   ],
   "source": [
    "model.pvalues.sort_values().index[-1]"
   ]
  },
  {
   "cell_type": "code",
   "execution_count": 458,
   "id": "33e67534",
   "metadata": {},
   "outputs": [
    {
     "data": {
      "text/plain": [
       "0.9362"
      ]
     },
     "execution_count": 458,
     "metadata": {},
     "output_type": "execute_result"
    }
   ],
   "source": [
    "col_to_be_dropped= model.pvalues.sort_values().index[-1]\n",
    "Xnew = Xnew.drop(labels=col_to_be_dropped,axis=1)\n",
    "from sklearn.model_selection import train_test_split\n",
    "xtrain,xtest,ytrain,ytest=train_test_split(Xnew,Y,test_size=0.2,random_state=31)\n",
    "from statsmodels.api import OLS,add_constant\n",
    "xconst = add_constant(xtrain,has_constant=\"add\")\n",
    "ols = OLS(ytrain,xconst)\n",
    "model = ols.fit()\n",
    "round(model.rsquared_adj,5)"
   ]
  },
  {
   "cell_type": "code",
   "execution_count": 459,
   "id": "dc228806",
   "metadata": {},
   "outputs": [],
   "source": [
    "#model 150"
   ]
  },
  {
   "cell_type": "code",
   "execution_count": 460,
   "id": "3344aaa4",
   "metadata": {},
   "outputs": [
    {
     "data": {
      "text/plain": [
       "'Neighborhood_ClearCr'"
      ]
     },
     "execution_count": 460,
     "metadata": {},
     "output_type": "execute_result"
    }
   ],
   "source": [
    "model.pvalues.sort_values().index[-1]"
   ]
  },
  {
   "cell_type": "code",
   "execution_count": 461,
   "id": "62a166fa",
   "metadata": {},
   "outputs": [
    {
     "data": {
      "text/plain": [
       "0.93621"
      ]
     },
     "execution_count": 461,
     "metadata": {},
     "output_type": "execute_result"
    }
   ],
   "source": [
    "col_to_be_dropped= model.pvalues.sort_values().index[-1]\n",
    "Xnew = Xnew.drop(labels=col_to_be_dropped,axis=1)\n",
    "from sklearn.model_selection import train_test_split\n",
    "xtrain,xtest,ytrain,ytest=train_test_split(Xnew,Y,test_size=0.2,random_state=31)\n",
    "from statsmodels.api import OLS,add_constant\n",
    "xconst = add_constant(xtrain,has_constant=\"add\")\n",
    "ols = OLS(ytrain,xconst)\n",
    "model = ols.fit()\n",
    "round(model.rsquared_adj,5)"
   ]
  },
  {
   "cell_type": "code",
   "execution_count": 462,
   "id": "ce4d96ac",
   "metadata": {},
   "outputs": [],
   "source": [
    "#model 151"
   ]
  },
  {
   "cell_type": "code",
   "execution_count": 463,
   "id": "c19371b6",
   "metadata": {},
   "outputs": [
    {
     "data": {
      "text/plain": [
       "'Neighborhood_MeadowV'"
      ]
     },
     "execution_count": 463,
     "metadata": {},
     "output_type": "execute_result"
    }
   ],
   "source": [
    "model.pvalues.sort_values().index[-1]"
   ]
  },
  {
   "cell_type": "code",
   "execution_count": 464,
   "id": "b4b99a09",
   "metadata": {},
   "outputs": [
    {
     "data": {
      "text/plain": [
       "0.9362"
      ]
     },
     "execution_count": 464,
     "metadata": {},
     "output_type": "execute_result"
    }
   ],
   "source": [
    "col_to_be_dropped= model.pvalues.sort_values().index[-1]\n",
    "Xnew = Xnew.drop(labels=col_to_be_dropped,axis=1)\n",
    "from sklearn.model_selection import train_test_split\n",
    "xtrain,xtest,ytrain,ytest=train_test_split(Xnew,Y,test_size=0.2,random_state=31)\n",
    "from statsmodels.api import OLS,add_constant\n",
    "xconst = add_constant(xtrain,has_constant=\"add\")\n",
    "ols = OLS(ytrain,xconst)\n",
    "model = ols.fit()\n",
    "round(model.rsquared_adj,5)"
   ]
  },
  {
   "cell_type": "code",
   "execution_count": 465,
   "id": "2953e534",
   "metadata": {},
   "outputs": [],
   "source": [
    "#model 152"
   ]
  },
  {
   "cell_type": "code",
   "execution_count": 466,
   "id": "84aef853",
   "metadata": {},
   "outputs": [
    {
     "data": {
      "text/plain": [
       "'Neighborhood_OldTown'"
      ]
     },
     "execution_count": 466,
     "metadata": {},
     "output_type": "execute_result"
    }
   ],
   "source": [
    "model.pvalues.sort_values().index[-1]"
   ]
  },
  {
   "cell_type": "code",
   "execution_count": 467,
   "id": "da45ccd8",
   "metadata": {},
   "outputs": [
    {
     "data": {
      "text/plain": [
       "0.9362"
      ]
     },
     "execution_count": 467,
     "metadata": {},
     "output_type": "execute_result"
    }
   ],
   "source": [
    "col_to_be_dropped= model.pvalues.sort_values().index[-1]\n",
    "Xnew = Xnew.drop(labels=col_to_be_dropped,axis=1)\n",
    "from sklearn.model_selection import train_test_split\n",
    "xtrain,xtest,ytrain,ytest=train_test_split(Xnew,Y,test_size=0.2,random_state=31)\n",
    "from statsmodels.api import OLS,add_constant\n",
    "xconst = add_constant(xtrain,has_constant=\"add\")\n",
    "ols = OLS(ytrain,xconst)\n",
    "model = ols.fit()\n",
    "round(model.rsquared_adj,5)"
   ]
  },
  {
   "cell_type": "code",
   "execution_count": 468,
   "id": "9ceb4e28",
   "metadata": {},
   "outputs": [],
   "source": [
    "#model 153"
   ]
  },
  {
   "cell_type": "code",
   "execution_count": 469,
   "id": "f02abb44",
   "metadata": {},
   "outputs": [
    {
     "data": {
      "text/plain": [
       "'Neighborhood_NAmes'"
      ]
     },
     "execution_count": 469,
     "metadata": {},
     "output_type": "execute_result"
    }
   ],
   "source": [
    "model.pvalues.sort_values().index[-1]"
   ]
  },
  {
   "cell_type": "code",
   "execution_count": 470,
   "id": "aeb47d3b",
   "metadata": {},
   "outputs": [
    {
     "data": {
      "text/plain": [
       "0.9362"
      ]
     },
     "execution_count": 470,
     "metadata": {},
     "output_type": "execute_result"
    }
   ],
   "source": [
    "col_to_be_dropped= model.pvalues.sort_values().index[-1]\n",
    "Xnew = Xnew.drop(labels=col_to_be_dropped,axis=1)\n",
    "from sklearn.model_selection import train_test_split\n",
    "xtrain,xtest,ytrain,ytest=train_test_split(Xnew,Y,test_size=0.2,random_state=31)\n",
    "from statsmodels.api import OLS,add_constant\n",
    "xconst = add_constant(xtrain,has_constant=\"add\")\n",
    "ols = OLS(ytrain,xconst)\n",
    "model = ols.fit()\n",
    "round(model.rsquared_adj,5)"
   ]
  },
  {
   "cell_type": "code",
   "execution_count": 471,
   "id": "c258b60f",
   "metadata": {},
   "outputs": [],
   "source": [
    "#Model 154"
   ]
  },
  {
   "cell_type": "code",
   "execution_count": 472,
   "id": "624fcbbb",
   "metadata": {},
   "outputs": [
    {
     "data": {
      "text/plain": [
       "'HeatingQC_Fa'"
      ]
     },
     "execution_count": 472,
     "metadata": {},
     "output_type": "execute_result"
    }
   ],
   "source": [
    "model.pvalues.sort_values().index[-1]"
   ]
  },
  {
   "cell_type": "code",
   "execution_count": 473,
   "id": "b1d843b6",
   "metadata": {},
   "outputs": [
    {
     "data": {
      "text/plain": [
       "0.9362"
      ]
     },
     "execution_count": 473,
     "metadata": {},
     "output_type": "execute_result"
    }
   ],
   "source": [
    "col_to_be_dropped= model.pvalues.sort_values().index[-1]\n",
    "Xnew = Xnew.drop(labels=col_to_be_dropped,axis=1)\n",
    "from sklearn.model_selection import train_test_split\n",
    "xtrain,xtest,ytrain,ytest=train_test_split(Xnew,Y,test_size=0.2,random_state=31)\n",
    "from statsmodels.api import OLS,add_constant\n",
    "xconst = add_constant(xtrain,has_constant=\"add\")\n",
    "ols = OLS(ytrain,xconst)\n",
    "model = ols.fit()\n",
    "round(model.rsquared_adj,5)"
   ]
  },
  {
   "cell_type": "code",
   "execution_count": 474,
   "id": "e6e85d45",
   "metadata": {},
   "outputs": [],
   "source": [
    "#Model 155"
   ]
  },
  {
   "cell_type": "code",
   "execution_count": 475,
   "id": "86687201",
   "metadata": {},
   "outputs": [
    {
     "data": {
      "text/plain": [
       "'HeatingQC_TA'"
      ]
     },
     "execution_count": 475,
     "metadata": {},
     "output_type": "execute_result"
    }
   ],
   "source": [
    "model.pvalues.sort_values().index[-1]"
   ]
  },
  {
   "cell_type": "code",
   "execution_count": 476,
   "id": "f04444f5",
   "metadata": {},
   "outputs": [
    {
     "data": {
      "text/plain": [
       "0.93628"
      ]
     },
     "execution_count": 476,
     "metadata": {},
     "output_type": "execute_result"
    }
   ],
   "source": [
    "col_to_be_dropped= model.pvalues.sort_values().index[-1]\n",
    "Xnew = Xnew.drop(labels=col_to_be_dropped,axis=1)\n",
    "from sklearn.model_selection import train_test_split\n",
    "xtrain,xtest,ytrain,ytest=train_test_split(Xnew,Y,test_size=0.2,random_state=31)\n",
    "from statsmodels.api import OLS,add_constant\n",
    "xconst = add_constant(xtrain,has_constant=\"add\")\n",
    "ols = OLS(ytrain,xconst)\n",
    "model = ols.fit()\n",
    "round(model.rsquared_adj,5)"
   ]
  },
  {
   "cell_type": "code",
   "execution_count": 477,
   "id": "819d0f19",
   "metadata": {},
   "outputs": [],
   "source": [
    "#Model 156"
   ]
  },
  {
   "cell_type": "code",
   "execution_count": 478,
   "id": "600479e3",
   "metadata": {},
   "outputs": [
    {
     "data": {
      "text/plain": [
       "'HeatingQC_Ex'"
      ]
     },
     "execution_count": 478,
     "metadata": {},
     "output_type": "execute_result"
    }
   ],
   "source": [
    "model.pvalues.sort_values().index[-1]"
   ]
  },
  {
   "cell_type": "code",
   "execution_count": 479,
   "id": "a68c8b6b",
   "metadata": {},
   "outputs": [
    {
     "data": {
      "text/plain": [
       "0.93634"
      ]
     },
     "execution_count": 479,
     "metadata": {},
     "output_type": "execute_result"
    }
   ],
   "source": [
    "col_to_be_dropped= model.pvalues.sort_values().index[-1]\n",
    "Xnew = Xnew.drop(labels=col_to_be_dropped,axis=1)\n",
    "from sklearn.model_selection import train_test_split\n",
    "xtrain,xtest,ytrain,ytest=train_test_split(Xnew,Y,test_size=0.2,random_state=31)\n",
    "from statsmodels.api import OLS,add_constant\n",
    "xconst = add_constant(xtrain,has_constant=\"add\")\n",
    "ols = OLS(ytrain,xconst)\n",
    "model = ols.fit()\n",
    "round(model.rsquared_adj,5)"
   ]
  },
  {
   "cell_type": "code",
   "execution_count": 480,
   "id": "0ae62fc3",
   "metadata": {},
   "outputs": [],
   "source": [
    "#Model 157"
   ]
  },
  {
   "cell_type": "code",
   "execution_count": 481,
   "id": "b96beece",
   "metadata": {},
   "outputs": [
    {
     "data": {
      "text/plain": [
       "'Foundation_BrkTil'"
      ]
     },
     "execution_count": 481,
     "metadata": {},
     "output_type": "execute_result"
    }
   ],
   "source": [
    "model.pvalues.sort_values().index[-1]"
   ]
  },
  {
   "cell_type": "code",
   "execution_count": 482,
   "id": "41de3f53",
   "metadata": {},
   "outputs": [
    {
     "data": {
      "text/plain": [
       "0.93634"
      ]
     },
     "execution_count": 482,
     "metadata": {},
     "output_type": "execute_result"
    }
   ],
   "source": [
    "col_to_be_dropped= model.pvalues.sort_values().index[-1]\n",
    "Xnew = Xnew.drop(labels=col_to_be_dropped,axis=1)\n",
    "from sklearn.model_selection import train_test_split\n",
    "xtrain,xtest,ytrain,ytest=train_test_split(Xnew,Y,test_size=0.2,random_state=31)\n",
    "from statsmodels.api import OLS,add_constant\n",
    "xconst = add_constant(xtrain,has_constant=\"add\")\n",
    "ols = OLS(ytrain,xconst)\n",
    "model = ols.fit()\n",
    "round(model.rsquared_adj,5)"
   ]
  },
  {
   "cell_type": "code",
   "execution_count": 483,
   "id": "6afb7a0f",
   "metadata": {},
   "outputs": [],
   "source": [
    "#Model 158"
   ]
  },
  {
   "cell_type": "code",
   "execution_count": 484,
   "id": "97747dc6",
   "metadata": {},
   "outputs": [
    {
     "data": {
      "text/plain": [
       "'HouseStyle_2.5Unf'"
      ]
     },
     "execution_count": 484,
     "metadata": {},
     "output_type": "execute_result"
    }
   ],
   "source": [
    "model.pvalues.sort_values().index[-1]"
   ]
  },
  {
   "cell_type": "code",
   "execution_count": 485,
   "id": "7bf0c529",
   "metadata": {},
   "outputs": [
    {
     "data": {
      "text/plain": [
       "0.93631"
      ]
     },
     "execution_count": 485,
     "metadata": {},
     "output_type": "execute_result"
    }
   ],
   "source": [
    "col_to_be_dropped= model.pvalues.sort_values().index[-1]\n",
    "Xnew = Xnew.drop(labels=col_to_be_dropped,axis=1)\n",
    "from sklearn.model_selection import train_test_split\n",
    "xtrain,xtest,ytrain,ytest=train_test_split(Xnew,Y,test_size=0.2,random_state=31)\n",
    "from statsmodels.api import OLS,add_constant\n",
    "xconst = add_constant(xtrain,has_constant=\"add\")\n",
    "ols = OLS(ytrain,xconst)\n",
    "model = ols.fit()\n",
    "round(model.rsquared_adj,5)"
   ]
  },
  {
   "cell_type": "markdown",
   "id": "e53554cb",
   "metadata": {},
   "source": [
    "# Check for overfiiting"
   ]
  },
  {
   "cell_type": "code",
   "execution_count": 486,
   "id": "b618e51e",
   "metadata": {},
   "outputs": [],
   "source": [
    "from sklearn.linear_model import LinearRegression\n",
    "lm = LinearRegression()\n",
    "model = lm.fit(xtrain,ytrain)\n",
    "tr_pred = model.predict(xtrain) \n",
    "ts_pred = model.predict(xtest)\n",
    "\n",
    "from sklearn.metrics import mean_squared_error\n",
    "tr_err = round(mean_squared_error(ytrain,tr_pred),2)\n",
    "ts_err = round(mean_squared_error(ytest,ts_pred),2)"
   ]
  },
  {
   "cell_type": "code",
   "execution_count": 487,
   "id": "d9a5e3da",
   "metadata": {},
   "outputs": [
    {
     "data": {
      "text/plain": [
       "254147888.92"
      ]
     },
     "execution_count": 487,
     "metadata": {},
     "output_type": "execute_result"
    }
   ],
   "source": [
    "tr_err"
   ]
  },
  {
   "cell_type": "code",
   "execution_count": 488,
   "id": "78dca0de",
   "metadata": {},
   "outputs": [
    {
     "data": {
      "text/plain": [
       "1.316205629231053e+29"
      ]
     },
     "execution_count": 488,
     "metadata": {},
     "output_type": "execute_result"
    }
   ],
   "source": [
    "ts_err"
   ]
  },
  {
   "cell_type": "markdown",
   "id": "76f316bc",
   "metadata": {},
   "source": [
    "# Regularize the data"
   ]
  },
  {
   "cell_type": "markdown",
   "id": "5fd30d77",
   "metadata": {},
   "source": [
    "# Create Tuning Grid and Ridge Model"
   ]
  },
  {
   "cell_type": "code",
   "execution_count": 489,
   "id": "141a3831",
   "metadata": {},
   "outputs": [],
   "source": [
    "tr=[]\n",
    "ts=[]\n",
    "w=[]\n",
    "y=20\n",
    "for i in range (0,2000,1):\n",
    "    y=round(y+0.1,2)\n",
    "    from sklearn.linear_model import Ridge\n",
    "    rr = Ridge(alpha=y)\n",
    "    model1 = rr.fit(xtrain,ytrain)\n",
    "    tr_pred = model1.predict(xtrain) \n",
    "    ts_pred = model1.predict(xtest)\n",
    "    tr_err1 = round(mean_squared_error(ytrain,tr_pred),2)\n",
    "    ts_err1 = round(mean_squared_error(ytest,ts_pred),2)\n",
    "    w.append(y)\n",
    "    tr.append(tr_err1)\n",
    "    ts.append(ts_err1)"
   ]
  },
  {
   "cell_type": "code",
   "execution_count": 490,
   "id": "e1b89eb6",
   "metadata": {},
   "outputs": [
    {
     "data": {
      "text/plain": [
       "495522094.52"
      ]
     },
     "execution_count": 490,
     "metadata": {},
     "output_type": "execute_result"
    }
   ],
   "source": [
    "tr_err1"
   ]
  },
  {
   "cell_type": "code",
   "execution_count": 491,
   "id": "a5ccbf6f",
   "metadata": {},
   "outputs": [
    {
     "data": {
      "text/plain": [
       "462339599.33"
      ]
     },
     "execution_count": 491,
     "metadata": {},
     "output_type": "execute_result"
    }
   ],
   "source": [
    "ts_err1"
   ]
  },
  {
   "cell_type": "code",
   "execution_count": 492,
   "id": "58b28996",
   "metadata": {},
   "outputs": [
    {
     "data": {
      "text/plain": [
       "Text(0, 0.5, 'Loss')"
      ]
     },
     "execution_count": 492,
     "metadata": {},
     "output_type": "execute_result"
    },
    {
     "data": {
      "image/png": "[encoded data removed]",
      "text/plain": [
       "<Figure size 432x288 with 1 Axes>"
      ]
     },
     "metadata": {
      "needs_background": "light"
     },
     "output_type": "display_data"
    }
   ],
   "source": [
    "import matplotlib.pyplot as plt\n",
    "plt.plot(w,tr,c=\"red\")\n",
    "plt.plot(w,ts,c=\"green\")\n",
    "plt.xlabel(\"Lambdas tried\")\n",
    "plt.ylabel(\"Loss\")"
   ]
  },
  {
   "cell_type": "markdown",
   "id": "aff7dd87",
   "metadata": {},
   "source": [
    "# using the best value of Alpha created Ridge Model"
   ]
  },
  {
   "cell_type": "code",
   "execution_count": 493,
   "id": "a07c8788",
   "metadata": {},
   "outputs": [
    {
     "name": "stdout",
     "output_type": "stream",
     "text": [
      "325229716.98 320869991.59\n"
     ]
    }
   ],
   "source": [
    "rr = Ridge(alpha=21.05)\n",
    "model = rr.fit(xtrain,ytrain)\n",
    "tr_pred = model.predict(xtrain) \n",
    "ts_pred = model.predict(xtest)\n",
    "tr_err1 = round(mean_squared_error(ytrain,tr_pred),2)\n",
    "ts_err1 = round(mean_squared_error(ytest,ts_pred),2)\n",
    "print(tr_err1,ts_err1)"
   ]
  },
  {
   "cell_type": "markdown",
   "id": "233c1df8",
   "metadata": {},
   "source": [
    "# Create Tuning Grid and Lasso Model"
   ]
  },
  {
   "cell_type": "code",
   "execution_count": 494,
   "id": "453ae668",
   "metadata": {},
   "outputs": [],
   "source": [
    "tr=[]\n",
    "ts=[]\n",
    "w= []\n",
    "y=125.05\n",
    "for i in range (0,2000,1):\n",
    "    y=round(y+0.1,2)\n",
    "    from sklearn.linear_model import Lasso\n",
    "    rr = Lasso(alpha=y)\n",
    "    model1 = rr.fit(xtrain,ytrain)\n",
    "    tr_pred = model1.predict(xtrain) \n",
    "    ts_pred = model1.predict(xtest)\n",
    "    tr_err2 = round(mean_squared_error(ytrain,tr_pred),2)\n",
    "    ts_err2 = round(mean_squared_error(ytest,ts_pred),2)\n",
    "    w.append(y)\n",
    "    tr.append(tr_err2)\n",
    "    ts.append(ts_err2)"
   ]
  },
  {
   "cell_type": "code",
   "execution_count": 495,
   "id": "4fa5607a",
   "metadata": {},
   "outputs": [
    {
     "data": {
      "text/plain": [
       "365586965.69"
      ]
     },
     "execution_count": 495,
     "metadata": {},
     "output_type": "execute_result"
    }
   ],
   "source": [
    "tr_err2"
   ]
  },
  {
   "cell_type": "code",
   "execution_count": 496,
   "id": "727be645",
   "metadata": {},
   "outputs": [
    {
     "data": {
      "text/plain": [
       "366652926.12"
      ]
     },
     "execution_count": 496,
     "metadata": {},
     "output_type": "execute_result"
    }
   ],
   "source": [
    "ts_err2"
   ]
  },
  {
   "cell_type": "code",
   "execution_count": 497,
   "id": "16bab0ea",
   "metadata": {},
   "outputs": [
    {
     "data": {
      "text/plain": [
       "Text(0, 0.5, 'Loss')"
      ]
     },
     "execution_count": 497,
     "metadata": {},
     "output_type": "execute_result"
    },
    {
     "data": {
      "image/png": "[encoded data removed]",
      "text/plain": [
       "<Figure size 432x288 with 1 Axes>"
      ]
     },
     "metadata": {
      "needs_background": "light"
     },
     "output_type": "display_data"
    }
   ],
   "source": [
    "import matplotlib.pyplot as plt\n",
    "plt.plot(w,tr,c=\"red\")\n",
    "plt.plot(w,ts,c=\"green\")\n",
    "plt.xlabel(\"Lambdas tried\")\n",
    "plt.ylabel(\"Loss\")"
   ]
  },
  {
   "cell_type": "markdown",
   "id": "9e9f8b69",
   "metadata": {},
   "source": [
    "# using the best value of Alpha created Lasso Model¶"
   ]
  },
  {
   "cell_type": "code",
   "execution_count": 498,
   "id": "e20b0a8c",
   "metadata": {},
   "outputs": [
    {
     "name": "stdout",
     "output_type": "stream",
     "text": [
      "325229716.98 320869991.59\n"
     ]
    }
   ],
   "source": [
    "rr = Lasso(alpha=125.08)\n",
    "model1 = rr.fit(xtrain,ytrain)\n",
    "tr_pred = model1.predict(xtrain) \n",
    "ts_pred = model1.predict(xtest)\n",
    "tr_err2 = round(mean_squared_error(ytrain,tr_pred),2)\n",
    "ts_err2 = round(mean_squared_error(ytest,ts_pred),2)\n",
    "print(tr_err1,ts_err1)"
   ]
  },
  {
   "cell_type": "markdown",
   "id": "a5f52aae",
   "metadata": {},
   "source": [
    "# Test Set for Prediction"
   ]
  },
  {
   "cell_type": "code",
   "execution_count": 499,
   "id": "ca5861ba",
   "metadata": {},
   "outputs": [],
   "source": [
    "cols_to_keep = Xnew.columns"
   ]
  },
  {
   "cell_type": "code",
   "execution_count": 500,
   "id": "e5deff40",
   "metadata": {},
   "outputs": [
    {
     "data": {
      "text/plain": [
       "Index(['LotArea', 'OverallQual', 'OverallCond', 'YearBuilt', 'YearRemodAdd',\n",
       "       'BsmtFinSF1', 'TotalBsmtSF', '1stFlrSF', '2ndFlrSF', 'GarageCars',\n",
       "       ...\n",
       "       'PoolQC_None', 'Fence_MnWw', 'MiscFeature_None', 'MiscFeature_Shed',\n",
       "       'SaleType_CWD', 'SaleType_New', 'SaleCondition_AdjLand',\n",
       "       'SaleCondition_Alloca', 'SaleCondition_Normal',\n",
       "       'SaleCondition_Partial'],\n",
       "      dtype='object', length=110)"
      ]
     },
     "execution_count": 500,
     "metadata": {},
     "output_type": "execute_result"
    }
   ],
   "source": [
    "cols_to_keep"
   ]
  },
  {
   "cell_type": "code",
   "execution_count": 501,
   "id": "faf18b27",
   "metadata": {},
   "outputs": [
    {
     "data": {
      "text/plain": [
       "(1021, 110)"
      ]
     },
     "execution_count": 501,
     "metadata": {},
     "output_type": "execute_result"
    }
   ],
   "source": [
    "Xnew.shape"
   ]
  },
  {
   "cell_type": "code",
   "execution_count": 502,
   "id": "a7b4b4e4",
   "metadata": {},
   "outputs": [
    {
     "data": {
      "text/plain": [
       "(1459, 80)"
      ]
     },
     "execution_count": 502,
     "metadata": {},
     "output_type": "execute_result"
    }
   ],
   "source": [
    "test.shape"
   ]
  },
  {
   "cell_type": "code",
   "execution_count": 503,
   "id": "fa5c3db4",
   "metadata": {},
   "outputs": [
    {
     "data": {
      "text/html": [
       "<div>\n",
       "<style scoped>\n",
       "    .dataframe tbody tr th:only-of-type {\n",
       "        vertical-align: middle;\n",
       "    }\n",
       "\n",
       "    .dataframe tbody tr th {\n",
       "        vertical-align: top;\n",
       "    }\n",
       "\n",
       "    .dataframe thead th {\n",
       "        text-align: right;\n",
       "    }\n",
       "</style>\n",
       "<table border=\"1\" class=\"dataframe\">\n",
       "  <thead>\n",
       "    <tr style=\"text-align: right;\">\n",
       "      <th></th>\n",
       "      <th>Id</th>\n",
       "      <th>MSSubClass</th>\n",
       "      <th>MSZoning</th>\n",
       "      <th>LotFrontage</th>\n",
       "      <th>LotArea</th>\n",
       "      <th>Street</th>\n",
       "      <th>Alley</th>\n",
       "      <th>LotShape</th>\n",
       "      <th>LandContour</th>\n",
       "      <th>Utilities</th>\n",
       "      <th>...</th>\n",
       "      <th>ScreenPorch</th>\n",
       "      <th>PoolArea</th>\n",
       "      <th>PoolQC</th>\n",
       "      <th>Fence</th>\n",
       "      <th>MiscFeature</th>\n",
       "      <th>MiscVal</th>\n",
       "      <th>MoSold</th>\n",
       "      <th>YrSold</th>\n",
       "      <th>SaleType</th>\n",
       "      <th>SaleCondition</th>\n",
       "    </tr>\n",
       "  </thead>\n",
       "  <tbody>\n",
       "    <tr>\n",
       "      <th>0</th>\n",
       "      <td>1461</td>\n",
       "      <td>20</td>\n",
       "      <td>RH</td>\n",
       "      <td>80.0</td>\n",
       "      <td>11622</td>\n",
       "      <td>Pave</td>\n",
       "      <td>None</td>\n",
       "      <td>Reg</td>\n",
       "      <td>Lvl</td>\n",
       "      <td>AllPub</td>\n",
       "      <td>...</td>\n",
       "      <td>120</td>\n",
       "      <td>0</td>\n",
       "      <td>None</td>\n",
       "      <td>MnPrv</td>\n",
       "      <td>None</td>\n",
       "      <td>0</td>\n",
       "      <td>6</td>\n",
       "      <td>2010</td>\n",
       "      <td>WD</td>\n",
       "      <td>Normal</td>\n",
       "    </tr>\n",
       "    <tr>\n",
       "      <th>1</th>\n",
       "      <td>1462</td>\n",
       "      <td>20</td>\n",
       "      <td>RL</td>\n",
       "      <td>81.0</td>\n",
       "      <td>14267</td>\n",
       "      <td>Pave</td>\n",
       "      <td>None</td>\n",
       "      <td>IR1</td>\n",
       "      <td>Lvl</td>\n",
       "      <td>AllPub</td>\n",
       "      <td>...</td>\n",
       "      <td>0</td>\n",
       "      <td>0</td>\n",
       "      <td>None</td>\n",
       "      <td>None</td>\n",
       "      <td>Gar2</td>\n",
       "      <td>12500</td>\n",
       "      <td>6</td>\n",
       "      <td>2010</td>\n",
       "      <td>WD</td>\n",
       "      <td>Normal</td>\n",
       "    </tr>\n",
       "    <tr>\n",
       "      <th>2</th>\n",
       "      <td>1463</td>\n",
       "      <td>60</td>\n",
       "      <td>RL</td>\n",
       "      <td>74.0</td>\n",
       "      <td>13830</td>\n",
       "      <td>Pave</td>\n",
       "      <td>None</td>\n",
       "      <td>IR1</td>\n",
       "      <td>Lvl</td>\n",
       "      <td>AllPub</td>\n",
       "      <td>...</td>\n",
       "      <td>0</td>\n",
       "      <td>0</td>\n",
       "      <td>None</td>\n",
       "      <td>MnPrv</td>\n",
       "      <td>None</td>\n",
       "      <td>0</td>\n",
       "      <td>3</td>\n",
       "      <td>2010</td>\n",
       "      <td>WD</td>\n",
       "      <td>Normal</td>\n",
       "    </tr>\n",
       "    <tr>\n",
       "      <th>3</th>\n",
       "      <td>1464</td>\n",
       "      <td>60</td>\n",
       "      <td>RL</td>\n",
       "      <td>78.0</td>\n",
       "      <td>9978</td>\n",
       "      <td>Pave</td>\n",
       "      <td>None</td>\n",
       "      <td>IR1</td>\n",
       "      <td>Lvl</td>\n",
       "      <td>AllPub</td>\n",
       "      <td>...</td>\n",
       "      <td>0</td>\n",
       "      <td>0</td>\n",
       "      <td>None</td>\n",
       "      <td>None</td>\n",
       "      <td>None</td>\n",
       "      <td>0</td>\n",
       "      <td>6</td>\n",
       "      <td>2010</td>\n",
       "      <td>WD</td>\n",
       "      <td>Normal</td>\n",
       "    </tr>\n",
       "    <tr>\n",
       "      <th>4</th>\n",
       "      <td>1465</td>\n",
       "      <td>120</td>\n",
       "      <td>RL</td>\n",
       "      <td>43.0</td>\n",
       "      <td>5005</td>\n",
       "      <td>Pave</td>\n",
       "      <td>None</td>\n",
       "      <td>IR1</td>\n",
       "      <td>HLS</td>\n",
       "      <td>AllPub</td>\n",
       "      <td>...</td>\n",
       "      <td>144</td>\n",
       "      <td>0</td>\n",
       "      <td>None</td>\n",
       "      <td>None</td>\n",
       "      <td>None</td>\n",
       "      <td>0</td>\n",
       "      <td>1</td>\n",
       "      <td>2010</td>\n",
       "      <td>WD</td>\n",
       "      <td>Normal</td>\n",
       "    </tr>\n",
       "  </tbody>\n",
       "</table>\n",
       "<p>5 rows × 80 columns</p>\n",
       "</div>"
      ],
      "text/plain": [
       "     Id  MSSubClass MSZoning  LotFrontage  LotArea Street Alley LotShape  \\\n",
       "0  1461          20       RH         80.0    11622   Pave  None      Reg   \n",
       "1  1462          20       RL         81.0    14267   Pave  None      IR1   \n",
       "2  1463          60       RL         74.0    13830   Pave  None      IR1   \n",
       "3  1464          60       RL         78.0     9978   Pave  None      IR1   \n",
       "4  1465         120       RL         43.0     5005   Pave  None      IR1   \n",
       "\n",
       "  LandContour Utilities  ... ScreenPorch PoolArea PoolQC  Fence MiscFeature  \\\n",
       "0         Lvl    AllPub  ...         120        0   None  MnPrv        None   \n",
       "1         Lvl    AllPub  ...           0        0   None   None        Gar2   \n",
       "2         Lvl    AllPub  ...           0        0   None  MnPrv        None   \n",
       "3         Lvl    AllPub  ...           0        0   None   None        None   \n",
       "4         HLS    AllPub  ...         144        0   None   None        None   \n",
       "\n",
       "  MiscVal MoSold  YrSold  SaleType  SaleCondition  \n",
       "0       0      6    2010        WD         Normal  \n",
       "1   12500      6    2010        WD         Normal  \n",
       "2       0      3    2010        WD         Normal  \n",
       "3       0      6    2010        WD         Normal  \n",
       "4       0      1    2010        WD         Normal  \n",
       "\n",
       "[5 rows x 80 columns]"
      ]
     },
     "execution_count": 503,
     "metadata": {},
     "output_type": "execute_result"
    }
   ],
   "source": [
    "test.head()"
   ]
  },
  {
   "cell_type": "code",
   "execution_count": 504,
   "id": "d6fba5ac",
   "metadata": {},
   "outputs": [],
   "source": [
    "test_B = test.drop(labels=[\"Id\"],axis=1)"
   ]
  },
  {
   "cell_type": "code",
   "execution_count": 505,
   "id": "d9c580bc",
   "metadata": {},
   "outputs": [
    {
     "data": {
      "text/html": [
       "<div>\n",
       "<style scoped>\n",
       "    .dataframe tbody tr th:only-of-type {\n",
       "        vertical-align: middle;\n",
       "    }\n",
       "\n",
       "    .dataframe tbody tr th {\n",
       "        vertical-align: top;\n",
       "    }\n",
       "\n",
       "    .dataframe thead th {\n",
       "        text-align: right;\n",
       "    }\n",
       "</style>\n",
       "<table border=\"1\" class=\"dataframe\">\n",
       "  <thead>\n",
       "    <tr style=\"text-align: right;\">\n",
       "      <th></th>\n",
       "      <th>MSSubClass</th>\n",
       "      <th>MSZoning</th>\n",
       "      <th>LotFrontage</th>\n",
       "      <th>LotArea</th>\n",
       "      <th>Street</th>\n",
       "      <th>Alley</th>\n",
       "      <th>LotShape</th>\n",
       "      <th>LandContour</th>\n",
       "      <th>Utilities</th>\n",
       "      <th>LotConfig</th>\n",
       "      <th>...</th>\n",
       "      <th>ScreenPorch</th>\n",
       "      <th>PoolArea</th>\n",
       "      <th>PoolQC</th>\n",
       "      <th>Fence</th>\n",
       "      <th>MiscFeature</th>\n",
       "      <th>MiscVal</th>\n",
       "      <th>MoSold</th>\n",
       "      <th>YrSold</th>\n",
       "      <th>SaleType</th>\n",
       "      <th>SaleCondition</th>\n",
       "    </tr>\n",
       "  </thead>\n",
       "  <tbody>\n",
       "    <tr>\n",
       "      <th>0</th>\n",
       "      <td>20</td>\n",
       "      <td>RH</td>\n",
       "      <td>80.0</td>\n",
       "      <td>11622</td>\n",
       "      <td>Pave</td>\n",
       "      <td>None</td>\n",
       "      <td>Reg</td>\n",
       "      <td>Lvl</td>\n",
       "      <td>AllPub</td>\n",
       "      <td>Inside</td>\n",
       "      <td>...</td>\n",
       "      <td>120</td>\n",
       "      <td>0</td>\n",
       "      <td>None</td>\n",
       "      <td>MnPrv</td>\n",
       "      <td>None</td>\n",
       "      <td>0</td>\n",
       "      <td>6</td>\n",
       "      <td>2010</td>\n",
       "      <td>WD</td>\n",
       "      <td>Normal</td>\n",
       "    </tr>\n",
       "    <tr>\n",
       "      <th>1</th>\n",
       "      <td>20</td>\n",
       "      <td>RL</td>\n",
       "      <td>81.0</td>\n",
       "      <td>14267</td>\n",
       "      <td>Pave</td>\n",
       "      <td>None</td>\n",
       "      <td>IR1</td>\n",
       "      <td>Lvl</td>\n",
       "      <td>AllPub</td>\n",
       "      <td>Corner</td>\n",
       "      <td>...</td>\n",
       "      <td>0</td>\n",
       "      <td>0</td>\n",
       "      <td>None</td>\n",
       "      <td>None</td>\n",
       "      <td>Gar2</td>\n",
       "      <td>12500</td>\n",
       "      <td>6</td>\n",
       "      <td>2010</td>\n",
       "      <td>WD</td>\n",
       "      <td>Normal</td>\n",
       "    </tr>\n",
       "  </tbody>\n",
       "</table>\n",
       "<p>2 rows × 79 columns</p>\n",
       "</div>"
      ],
      "text/plain": [
       "   MSSubClass MSZoning  LotFrontage  LotArea Street Alley LotShape  \\\n",
       "0          20       RH         80.0    11622   Pave  None      Reg   \n",
       "1          20       RL         81.0    14267   Pave  None      IR1   \n",
       "\n",
       "  LandContour Utilities LotConfig  ... ScreenPorch PoolArea PoolQC  Fence  \\\n",
       "0         Lvl    AllPub    Inside  ...         120        0   None  MnPrv   \n",
       "1         Lvl    AllPub    Corner  ...           0        0   None   None   \n",
       "\n",
       "  MiscFeature MiscVal  MoSold  YrSold  SaleType  SaleCondition  \n",
       "0        None       0       6    2010        WD         Normal  \n",
       "1        Gar2   12500       6    2010        WD         Normal  \n",
       "\n",
       "[2 rows x 79 columns]"
      ]
     },
     "execution_count": 505,
     "metadata": {},
     "output_type": "execute_result"
    }
   ],
   "source": [
    "test_B.head(2)"
   ]
  },
  {
   "cell_type": "markdown",
   "id": "f6cf6150",
   "metadata": {},
   "source": [
    "# Divide data in cat and con"
   ]
  },
  {
   "cell_type": "code",
   "execution_count": 506,
   "id": "83958316",
   "metadata": {},
   "outputs": [],
   "source": [
    "cat_test = []\n",
    "con_test = []\n",
    "for i in test_B.columns:\n",
    "    if(test_B[i].dtypes == \"object\"):\n",
    "        cat_test.append(i)\n",
    "    else:\n",
    "        con_test.append(i)"
   ]
  },
  {
   "cell_type": "code",
   "execution_count": 507,
   "id": "8e9e7888",
   "metadata": {},
   "outputs": [
    {
     "data": {
      "text/plain": [
       "36"
      ]
     },
     "execution_count": 507,
     "metadata": {},
     "output_type": "execute_result"
    }
   ],
   "source": [
    "len(con_test)"
   ]
  },
  {
   "cell_type": "code",
   "execution_count": 508,
   "id": "10fc15bd",
   "metadata": {},
   "outputs": [
    {
     "data": {
      "text/plain": [
       "36"
      ]
     },
     "execution_count": 508,
     "metadata": {},
     "output_type": "execute_result"
    }
   ],
   "source": [
    "len(con)"
   ]
  },
  {
   "cell_type": "code",
   "execution_count": 509,
   "id": "96ad8222",
   "metadata": {},
   "outputs": [],
   "source": [
    "#test = test.drop(labels=[\"Id\"],axis=1)"
   ]
  },
  {
   "cell_type": "code",
   "execution_count": 510,
   "id": "0bde3f0b",
   "metadata": {},
   "outputs": [],
   "source": [
    "test1=test_B[con]"
   ]
  },
  {
   "cell_type": "code",
   "execution_count": 511,
   "id": "fddfca01",
   "metadata": {},
   "outputs": [
    {
     "data": {
      "text/html": [
       "<div>\n",
       "<style scoped>\n",
       "    .dataframe tbody tr th:only-of-type {\n",
       "        vertical-align: middle;\n",
       "    }\n",
       "\n",
       "    .dataframe tbody tr th {\n",
       "        vertical-align: top;\n",
       "    }\n",
       "\n",
       "    .dataframe thead th {\n",
       "        text-align: right;\n",
       "    }\n",
       "</style>\n",
       "<table border=\"1\" class=\"dataframe\">\n",
       "  <thead>\n",
       "    <tr style=\"text-align: right;\">\n",
       "      <th></th>\n",
       "      <th>MSSubClass</th>\n",
       "      <th>LotFrontage</th>\n",
       "      <th>LotArea</th>\n",
       "      <th>OverallQual</th>\n",
       "      <th>OverallCond</th>\n",
       "      <th>YearBuilt</th>\n",
       "      <th>YearRemodAdd</th>\n",
       "      <th>MasVnrArea</th>\n",
       "      <th>BsmtFinSF1</th>\n",
       "      <th>BsmtFinSF2</th>\n",
       "      <th>...</th>\n",
       "      <th>GarageArea</th>\n",
       "      <th>WoodDeckSF</th>\n",
       "      <th>OpenPorchSF</th>\n",
       "      <th>EnclosedPorch</th>\n",
       "      <th>3SsnPorch</th>\n",
       "      <th>ScreenPorch</th>\n",
       "      <th>PoolArea</th>\n",
       "      <th>MiscVal</th>\n",
       "      <th>MoSold</th>\n",
       "      <th>YrSold</th>\n",
       "    </tr>\n",
       "  </thead>\n",
       "  <tbody>\n",
       "    <tr>\n",
       "      <th>0</th>\n",
       "      <td>20</td>\n",
       "      <td>80.0</td>\n",
       "      <td>11622</td>\n",
       "      <td>5</td>\n",
       "      <td>6</td>\n",
       "      <td>1961</td>\n",
       "      <td>1961</td>\n",
       "      <td>0.0</td>\n",
       "      <td>468.0</td>\n",
       "      <td>144.0</td>\n",
       "      <td>...</td>\n",
       "      <td>730.0</td>\n",
       "      <td>140</td>\n",
       "      <td>0</td>\n",
       "      <td>0</td>\n",
       "      <td>0</td>\n",
       "      <td>120</td>\n",
       "      <td>0</td>\n",
       "      <td>0</td>\n",
       "      <td>6</td>\n",
       "      <td>2010</td>\n",
       "    </tr>\n",
       "    <tr>\n",
       "      <th>1</th>\n",
       "      <td>20</td>\n",
       "      <td>81.0</td>\n",
       "      <td>14267</td>\n",
       "      <td>6</td>\n",
       "      <td>6</td>\n",
       "      <td>1958</td>\n",
       "      <td>1958</td>\n",
       "      <td>108.0</td>\n",
       "      <td>923.0</td>\n",
       "      <td>0.0</td>\n",
       "      <td>...</td>\n",
       "      <td>312.0</td>\n",
       "      <td>393</td>\n",
       "      <td>36</td>\n",
       "      <td>0</td>\n",
       "      <td>0</td>\n",
       "      <td>0</td>\n",
       "      <td>0</td>\n",
       "      <td>12500</td>\n",
       "      <td>6</td>\n",
       "      <td>2010</td>\n",
       "    </tr>\n",
       "    <tr>\n",
       "      <th>2</th>\n",
       "      <td>60</td>\n",
       "      <td>74.0</td>\n",
       "      <td>13830</td>\n",
       "      <td>5</td>\n",
       "      <td>5</td>\n",
       "      <td>1997</td>\n",
       "      <td>1998</td>\n",
       "      <td>0.0</td>\n",
       "      <td>791.0</td>\n",
       "      <td>0.0</td>\n",
       "      <td>...</td>\n",
       "      <td>482.0</td>\n",
       "      <td>212</td>\n",
       "      <td>34</td>\n",
       "      <td>0</td>\n",
       "      <td>0</td>\n",
       "      <td>0</td>\n",
       "      <td>0</td>\n",
       "      <td>0</td>\n",
       "      <td>3</td>\n",
       "      <td>2010</td>\n",
       "    </tr>\n",
       "    <tr>\n",
       "      <th>3</th>\n",
       "      <td>60</td>\n",
       "      <td>78.0</td>\n",
       "      <td>9978</td>\n",
       "      <td>6</td>\n",
       "      <td>6</td>\n",
       "      <td>1998</td>\n",
       "      <td>1998</td>\n",
       "      <td>20.0</td>\n",
       "      <td>602.0</td>\n",
       "      <td>0.0</td>\n",
       "      <td>...</td>\n",
       "      <td>470.0</td>\n",
       "      <td>360</td>\n",
       "      <td>36</td>\n",
       "      <td>0</td>\n",
       "      <td>0</td>\n",
       "      <td>0</td>\n",
       "      <td>0</td>\n",
       "      <td>0</td>\n",
       "      <td>6</td>\n",
       "      <td>2010</td>\n",
       "    </tr>\n",
       "    <tr>\n",
       "      <th>4</th>\n",
       "      <td>120</td>\n",
       "      <td>43.0</td>\n",
       "      <td>5005</td>\n",
       "      <td>8</td>\n",
       "      <td>5</td>\n",
       "      <td>1992</td>\n",
       "      <td>1992</td>\n",
       "      <td>0.0</td>\n",
       "      <td>263.0</td>\n",
       "      <td>0.0</td>\n",
       "      <td>...</td>\n",
       "      <td>506.0</td>\n",
       "      <td>0</td>\n",
       "      <td>82</td>\n",
       "      <td>0</td>\n",
       "      <td>0</td>\n",
       "      <td>144</td>\n",
       "      <td>0</td>\n",
       "      <td>0</td>\n",
       "      <td>1</td>\n",
       "      <td>2010</td>\n",
       "    </tr>\n",
       "  </tbody>\n",
       "</table>\n",
       "<p>5 rows × 36 columns</p>\n",
       "</div>"
      ],
      "text/plain": [
       "   MSSubClass  LotFrontage  LotArea  OverallQual  OverallCond  YearBuilt  \\\n",
       "0          20         80.0    11622            5            6       1961   \n",
       "1          20         81.0    14267            6            6       1958   \n",
       "2          60         74.0    13830            5            5       1997   \n",
       "3          60         78.0     9978            6            6       1998   \n",
       "4         120         43.0     5005            8            5       1992   \n",
       "\n",
       "   YearRemodAdd  MasVnrArea  BsmtFinSF1  BsmtFinSF2  ...  GarageArea  \\\n",
       "0          1961         0.0       468.0       144.0  ...       730.0   \n",
       "1          1958       108.0       923.0         0.0  ...       312.0   \n",
       "2          1998         0.0       791.0         0.0  ...       482.0   \n",
       "3          1998        20.0       602.0         0.0  ...       470.0   \n",
       "4          1992         0.0       263.0         0.0  ...       506.0   \n",
       "\n",
       "   WoodDeckSF  OpenPorchSF  EnclosedPorch  3SsnPorch  ScreenPorch  PoolArea  \\\n",
       "0         140            0              0          0          120         0   \n",
       "1         393           36              0          0            0         0   \n",
       "2         212           34              0          0            0         0   \n",
       "3         360           36              0          0            0         0   \n",
       "4           0           82              0          0          144         0   \n",
       "\n",
       "   MiscVal  MoSold  YrSold  \n",
       "0        0       6    2010  \n",
       "1    12500       6    2010  \n",
       "2        0       3    2010  \n",
       "3        0       6    2010  \n",
       "4        0       1    2010  \n",
       "\n",
       "[5 rows x 36 columns]"
      ]
     },
     "execution_count": 511,
     "metadata": {},
     "output_type": "execute_result"
    }
   ],
   "source": [
    "test1.head()"
   ]
  },
  {
   "cell_type": "code",
   "execution_count": 512,
   "id": "dc372822",
   "metadata": {},
   "outputs": [],
   "source": [
    "Xtest1=pd.DataFrame(ss.transform(test1),columns=test1.columns)"
   ]
  },
  {
   "cell_type": "code",
   "execution_count": 513,
   "id": "48392522",
   "metadata": {},
   "outputs": [],
   "source": [
    "Xtest2=pd.get_dummies(test[cat_test])"
   ]
  },
  {
   "cell_type": "code",
   "execution_count": 514,
   "id": "a49a185d",
   "metadata": {},
   "outputs": [
    {
     "data": {
      "text/plain": [
       "Series([], dtype: int64)"
      ]
     },
     "execution_count": 514,
     "metadata": {},
     "output_type": "execute_result"
    }
   ],
   "source": [
    "O = Xtest1.isna().sum()\n",
    "O[O>0]"
   ]
  },
  {
   "cell_type": "code",
   "execution_count": 515,
   "id": "e58e9438",
   "metadata": {},
   "outputs": [
    {
     "data": {
      "text/plain": [
       "RangeIndex(start=0, stop=1459, step=1)"
      ]
     },
     "execution_count": 515,
     "metadata": {},
     "output_type": "execute_result"
    }
   ],
   "source": [
    "Xtest2.index"
   ]
  },
  {
   "cell_type": "code",
   "execution_count": 516,
   "id": "14e2b05c",
   "metadata": {},
   "outputs": [],
   "source": [
    "Xtest_new=Xtest1.join(Xtest2)"
   ]
  },
  {
   "cell_type": "code",
   "execution_count": 517,
   "id": "328caab0",
   "metadata": {},
   "outputs": [
    {
     "data": {
      "text/plain": [
       "(1459, 284)"
      ]
     },
     "execution_count": 517,
     "metadata": {},
     "output_type": "execute_result"
    }
   ],
   "source": [
    "Xtest_new.shape"
   ]
  },
  {
   "cell_type": "code",
   "execution_count": 518,
   "id": "0d430d67",
   "metadata": {},
   "outputs": [
    {
     "data": {
      "text/html": [
       "<div>\n",
       "<style scoped>\n",
       "    .dataframe tbody tr th:only-of-type {\n",
       "        vertical-align: middle;\n",
       "    }\n",
       "\n",
       "    .dataframe tbody tr th {\n",
       "        vertical-align: top;\n",
       "    }\n",
       "\n",
       "    .dataframe thead th {\n",
       "        text-align: right;\n",
       "    }\n",
       "</style>\n",
       "<table border=\"1\" class=\"dataframe\">\n",
       "  <thead>\n",
       "    <tr style=\"text-align: right;\">\n",
       "      <th></th>\n",
       "      <th>MSSubClass</th>\n",
       "      <th>LotFrontage</th>\n",
       "      <th>LotArea</th>\n",
       "      <th>OverallQual</th>\n",
       "      <th>OverallCond</th>\n",
       "      <th>YearBuilt</th>\n",
       "      <th>YearRemodAdd</th>\n",
       "      <th>MasVnrArea</th>\n",
       "      <th>BsmtFinSF1</th>\n",
       "      <th>BsmtFinSF2</th>\n",
       "      <th>...</th>\n",
       "      <th>SaleType_ConLw</th>\n",
       "      <th>SaleType_New</th>\n",
       "      <th>SaleType_Oth</th>\n",
       "      <th>SaleType_WD</th>\n",
       "      <th>SaleCondition_Abnorml</th>\n",
       "      <th>SaleCondition_AdjLand</th>\n",
       "      <th>SaleCondition_Alloca</th>\n",
       "      <th>SaleCondition_Family</th>\n",
       "      <th>SaleCondition_Normal</th>\n",
       "      <th>SaleCondition_Partial</th>\n",
       "    </tr>\n",
       "  </thead>\n",
       "  <tbody>\n",
       "    <tr>\n",
       "      <th>0</th>\n",
       "      <td>-0.841723</td>\n",
       "      <td>0.674791</td>\n",
       "      <td>0.674191</td>\n",
       "      <td>-0.819253</td>\n",
       "      <td>0.490629</td>\n",
       "      <td>-0.492064</td>\n",
       "      <td>-1.213911</td>\n",
       "      <td>-0.643521</td>\n",
       "      <td>0.123883</td>\n",
       "      <td>1.663686</td>\n",
       "      <td>...</td>\n",
       "      <td>0</td>\n",
       "      <td>0</td>\n",
       "      <td>0</td>\n",
       "      <td>1</td>\n",
       "      <td>0</td>\n",
       "      <td>0</td>\n",
       "      <td>0</td>\n",
       "      <td>0</td>\n",
       "      <td>1</td>\n",
       "      <td>0</td>\n",
       "    </tr>\n",
       "    <tr>\n",
       "      <th>1</th>\n",
       "      <td>-0.841723</td>\n",
       "      <td>0.729292</td>\n",
       "      <td>1.400432</td>\n",
       "      <td>-0.067719</td>\n",
       "      <td>0.490629</td>\n",
       "      <td>-0.595332</td>\n",
       "      <td>-1.358639</td>\n",
       "      <td>0.185789</td>\n",
       "      <td>1.241300</td>\n",
       "      <td>-0.246206</td>\n",
       "      <td>...</td>\n",
       "      <td>0</td>\n",
       "      <td>0</td>\n",
       "      <td>0</td>\n",
       "      <td>1</td>\n",
       "      <td>0</td>\n",
       "      <td>0</td>\n",
       "      <td>0</td>\n",
       "      <td>0</td>\n",
       "      <td>1</td>\n",
       "      <td>0</td>\n",
       "    </tr>\n",
       "  </tbody>\n",
       "</table>\n",
       "<p>2 rows × 284 columns</p>\n",
       "</div>"
      ],
      "text/plain": [
       "   MSSubClass  LotFrontage   LotArea  OverallQual  OverallCond  YearBuilt  \\\n",
       "0   -0.841723     0.674791  0.674191    -0.819253     0.490629  -0.492064   \n",
       "1   -0.841723     0.729292  1.400432    -0.067719     0.490629  -0.595332   \n",
       "\n",
       "   YearRemodAdd  MasVnrArea  BsmtFinSF1  BsmtFinSF2  ...  SaleType_ConLw  \\\n",
       "0     -1.213911   -0.643521    0.123883    1.663686  ...               0   \n",
       "1     -1.358639    0.185789    1.241300   -0.246206  ...               0   \n",
       "\n",
       "   SaleType_New  SaleType_Oth  SaleType_WD  SaleCondition_Abnorml  \\\n",
       "0             0             0            1                      0   \n",
       "1             0             0            1                      0   \n",
       "\n",
       "   SaleCondition_AdjLand  SaleCondition_Alloca  SaleCondition_Family  \\\n",
       "0                      0                     0                     0   \n",
       "1                      0                     0                     0   \n",
       "\n",
       "   SaleCondition_Normal  SaleCondition_Partial  \n",
       "0                     1                      0  \n",
       "1                     1                      0  \n",
       "\n",
       "[2 rows x 284 columns]"
      ]
     },
     "execution_count": 518,
     "metadata": {},
     "output_type": "execute_result"
    }
   ],
   "source": [
    "Xtest_new.head(2)"
   ]
  },
  {
   "cell_type": "markdown",
   "id": "05c85284",
   "metadata": {},
   "source": [
    "# Adding columns which is not present in Xtest_New"
   ]
  },
  {
   "cell_type": "code",
   "execution_count": 519,
   "id": "1e5eca00",
   "metadata": {},
   "outputs": [],
   "source": [
    "m=0\n",
    "q=[]\n",
    "for i in range(0,1459,1):\n",
    "    m=0\n",
    "    q.append(m)"
   ]
  },
  {
   "cell_type": "code",
   "execution_count": 520,
   "id": "3ac0e3e1",
   "metadata": {},
   "outputs": [],
   "source": [
    "Xtest_new['Exterior2nd_Other']=q"
   ]
  },
  {
   "cell_type": "code",
   "execution_count": 521,
   "id": "639c0ae1",
   "metadata": {},
   "outputs": [],
   "source": [
    "Xtest_final=Xtest_new[Xnew.columns]"
   ]
  },
  {
   "cell_type": "code",
   "execution_count": 522,
   "id": "82ace0aa",
   "metadata": {},
   "outputs": [
    {
     "data": {
      "text/plain": [
       "(1021, 110)"
      ]
     },
     "execution_count": 522,
     "metadata": {},
     "output_type": "execute_result"
    }
   ],
   "source": [
    "Xnew.shape"
   ]
  },
  {
   "cell_type": "code",
   "execution_count": 523,
   "id": "cba52311",
   "metadata": {},
   "outputs": [
    {
     "data": {
      "text/plain": [
       "(1459, 110)"
      ]
     },
     "execution_count": 523,
     "metadata": {},
     "output_type": "execute_result"
    }
   ],
   "source": [
    "Xtest_final.shape"
   ]
  },
  {
   "cell_type": "code",
   "execution_count": 524,
   "id": "e1da5d61",
   "metadata": {},
   "outputs": [
    {
     "data": {
      "text/plain": [
       "Series([], dtype: int64)"
      ]
     },
     "execution_count": 524,
     "metadata": {},
     "output_type": "execute_result"
    }
   ],
   "source": [
    "P = Xtest_final.isna().sum()\n",
    "P[P>0]\n"
   ]
  },
  {
   "cell_type": "code",
   "execution_count": 525,
   "id": "3393ead1",
   "metadata": {},
   "outputs": [
    {
     "data": {
      "text/html": [
       "<div>\n",
       "<style scoped>\n",
       "    .dataframe tbody tr th:only-of-type {\n",
       "        vertical-align: middle;\n",
       "    }\n",
       "\n",
       "    .dataframe tbody tr th {\n",
       "        vertical-align: top;\n",
       "    }\n",
       "\n",
       "    .dataframe thead th {\n",
       "        text-align: right;\n",
       "    }\n",
       "</style>\n",
       "<table border=\"1\" class=\"dataframe\">\n",
       "  <thead>\n",
       "    <tr style=\"text-align: right;\">\n",
       "      <th></th>\n",
       "      <th>LotArea</th>\n",
       "      <th>OverallQual</th>\n",
       "      <th>OverallCond</th>\n",
       "      <th>YearBuilt</th>\n",
       "      <th>YearRemodAdd</th>\n",
       "      <th>BsmtFinSF1</th>\n",
       "      <th>TotalBsmtSF</th>\n",
       "      <th>1stFlrSF</th>\n",
       "      <th>2ndFlrSF</th>\n",
       "      <th>GarageCars</th>\n",
       "      <th>...</th>\n",
       "      <th>PoolQC_None</th>\n",
       "      <th>Fence_MnWw</th>\n",
       "      <th>MiscFeature_None</th>\n",
       "      <th>MiscFeature_Shed</th>\n",
       "      <th>SaleType_CWD</th>\n",
       "      <th>SaleType_New</th>\n",
       "      <th>SaleCondition_AdjLand</th>\n",
       "      <th>SaleCondition_Alloca</th>\n",
       "      <th>SaleCondition_Normal</th>\n",
       "      <th>SaleCondition_Partial</th>\n",
       "    </tr>\n",
       "  </thead>\n",
       "  <tbody>\n",
       "    <tr>\n",
       "      <th>0</th>\n",
       "      <td>0.674191</td>\n",
       "      <td>-0.819253</td>\n",
       "      <td>0.490629</td>\n",
       "      <td>-0.492064</td>\n",
       "      <td>-1.213911</td>\n",
       "      <td>0.123883</td>\n",
       "      <td>-0.372377</td>\n",
       "      <td>-0.623162</td>\n",
       "      <td>-0.794856</td>\n",
       "      <td>-1.061121</td>\n",
       "      <td>...</td>\n",
       "      <td>1</td>\n",
       "      <td>0</td>\n",
       "      <td>1</td>\n",
       "      <td>0</td>\n",
       "      <td>0</td>\n",
       "      <td>0</td>\n",
       "      <td>0</td>\n",
       "      <td>0</td>\n",
       "      <td>1</td>\n",
       "      <td>0</td>\n",
       "    </tr>\n",
       "    <tr>\n",
       "      <th>1</th>\n",
       "      <td>1.400432</td>\n",
       "      <td>-0.067719</td>\n",
       "      <td>0.490629</td>\n",
       "      <td>-0.595332</td>\n",
       "      <td>-1.358639</td>\n",
       "      <td>1.241300</td>\n",
       "      <td>0.848418</td>\n",
       "      <td>0.676015</td>\n",
       "      <td>-0.794856</td>\n",
       "      <td>-1.061121</td>\n",
       "      <td>...</td>\n",
       "      <td>1</td>\n",
       "      <td>0</td>\n",
       "      <td>0</td>\n",
       "      <td>0</td>\n",
       "      <td>0</td>\n",
       "      <td>0</td>\n",
       "      <td>0</td>\n",
       "      <td>0</td>\n",
       "      <td>1</td>\n",
       "      <td>0</td>\n",
       "    </tr>\n",
       "  </tbody>\n",
       "</table>\n",
       "<p>2 rows × 110 columns</p>\n",
       "</div>"
      ],
      "text/plain": [
       "    LotArea  OverallQual  OverallCond  YearBuilt  YearRemodAdd  BsmtFinSF1  \\\n",
       "0  0.674191    -0.819253     0.490629  -0.492064     -1.213911    0.123883   \n",
       "1  1.400432    -0.067719     0.490629  -0.595332     -1.358639    1.241300   \n",
       "\n",
       "   TotalBsmtSF  1stFlrSF  2ndFlrSF  GarageCars  ...  PoolQC_None  Fence_MnWw  \\\n",
       "0    -0.372377 -0.623162 -0.794856   -1.061121  ...            1           0   \n",
       "1     0.848418  0.676015 -0.794856   -1.061121  ...            1           0   \n",
       "\n",
       "   MiscFeature_None  MiscFeature_Shed  SaleType_CWD  SaleType_New  \\\n",
       "0                 1                 0             0             0   \n",
       "1                 0                 0             0             0   \n",
       "\n",
       "   SaleCondition_AdjLand  SaleCondition_Alloca  SaleCondition_Normal  \\\n",
       "0                      0                     0                     1   \n",
       "1                      0                     0                     1   \n",
       "\n",
       "   SaleCondition_Partial  \n",
       "0                      0  \n",
       "1                      0  \n",
       "\n",
       "[2 rows x 110 columns]"
      ]
     },
     "execution_count": 525,
     "metadata": {},
     "output_type": "execute_result"
    }
   ],
   "source": [
    "Xtest_final.head(2)"
   ]
  },
  {
   "cell_type": "code",
   "execution_count": 526,
   "id": "d92fc83b",
   "metadata": {},
   "outputs": [],
   "source": [
    "pred=model.predict(Xtest_final)"
   ]
  },
  {
   "cell_type": "code",
   "execution_count": 527,
   "id": "8f6060d8",
   "metadata": {},
   "outputs": [
    {
     "data": {
      "text/plain": [
       "array([[121854.85766243],\n",
       "       [174178.45808184],\n",
       "       [196241.75129933],\n",
       "       ...,\n",
       "       [195984.32938549],\n",
       "       [124146.348022  ],\n",
       "       [224865.75117133]])"
      ]
     },
     "execution_count": 527,
     "metadata": {},
     "output_type": "execute_result"
    }
   ],
   "source": [
    "pred"
   ]
  },
  {
   "cell_type": "code",
   "execution_count": 531,
   "id": "b035564f",
   "metadata": {},
   "outputs": [
    {
     "data": {
      "text/html": [
       "<div>\n",
       "<style scoped>\n",
       "    .dataframe tbody tr th:only-of-type {\n",
       "        vertical-align: middle;\n",
       "    }\n",
       "\n",
       "    .dataframe tbody tr th {\n",
       "        vertical-align: top;\n",
       "    }\n",
       "\n",
       "    .dataframe thead th {\n",
       "        text-align: right;\n",
       "    }\n",
       "</style>\n",
       "<table border=\"1\" class=\"dataframe\">\n",
       "  <thead>\n",
       "    <tr style=\"text-align: right;\">\n",
       "      <th></th>\n",
       "      <th>LotArea</th>\n",
       "      <th>OverallQual</th>\n",
       "      <th>OverallCond</th>\n",
       "      <th>YearBuilt</th>\n",
       "      <th>YearRemodAdd</th>\n",
       "      <th>BsmtFinSF1</th>\n",
       "      <th>TotalBsmtSF</th>\n",
       "      <th>1stFlrSF</th>\n",
       "      <th>2ndFlrSF</th>\n",
       "      <th>GarageCars</th>\n",
       "      <th>...</th>\n",
       "      <th>PoolQC_None</th>\n",
       "      <th>Fence_MnWw</th>\n",
       "      <th>MiscFeature_None</th>\n",
       "      <th>MiscFeature_Shed</th>\n",
       "      <th>SaleType_CWD</th>\n",
       "      <th>SaleType_New</th>\n",
       "      <th>SaleCondition_AdjLand</th>\n",
       "      <th>SaleCondition_Alloca</th>\n",
       "      <th>SaleCondition_Normal</th>\n",
       "      <th>SaleCondition_Partial</th>\n",
       "    </tr>\n",
       "  </thead>\n",
       "  <tbody>\n",
       "    <tr>\n",
       "      <th>0</th>\n",
       "      <td>0.674191</td>\n",
       "      <td>-0.819253</td>\n",
       "      <td>0.490629</td>\n",
       "      <td>-0.492064</td>\n",
       "      <td>-1.213911</td>\n",
       "      <td>0.123883</td>\n",
       "      <td>-0.372377</td>\n",
       "      <td>-0.623162</td>\n",
       "      <td>-0.794856</td>\n",
       "      <td>-1.061121</td>\n",
       "      <td>...</td>\n",
       "      <td>1</td>\n",
       "      <td>0</td>\n",
       "      <td>1</td>\n",
       "      <td>0</td>\n",
       "      <td>0</td>\n",
       "      <td>0</td>\n",
       "      <td>0</td>\n",
       "      <td>0</td>\n",
       "      <td>1</td>\n",
       "      <td>0</td>\n",
       "    </tr>\n",
       "    <tr>\n",
       "      <th>1</th>\n",
       "      <td>1.400432</td>\n",
       "      <td>-0.067719</td>\n",
       "      <td>0.490629</td>\n",
       "      <td>-0.595332</td>\n",
       "      <td>-1.358639</td>\n",
       "      <td>1.241300</td>\n",
       "      <td>0.848418</td>\n",
       "      <td>0.676015</td>\n",
       "      <td>-0.794856</td>\n",
       "      <td>-1.061121</td>\n",
       "      <td>...</td>\n",
       "      <td>1</td>\n",
       "      <td>0</td>\n",
       "      <td>0</td>\n",
       "      <td>0</td>\n",
       "      <td>0</td>\n",
       "      <td>0</td>\n",
       "      <td>0</td>\n",
       "      <td>0</td>\n",
       "      <td>1</td>\n",
       "      <td>0</td>\n",
       "    </tr>\n",
       "    <tr>\n",
       "      <th>2</th>\n",
       "      <td>1.280444</td>\n",
       "      <td>-0.819253</td>\n",
       "      <td>-0.527526</td>\n",
       "      <td>0.747149</td>\n",
       "      <td>0.571069</td>\n",
       "      <td>0.917126</td>\n",
       "      <td>-0.246747</td>\n",
       "      <td>-0.527149</td>\n",
       "      <td>0.919882</td>\n",
       "      <td>0.340437</td>\n",
       "      <td>...</td>\n",
       "      <td>1</td>\n",
       "      <td>0</td>\n",
       "      <td>1</td>\n",
       "      <td>0</td>\n",
       "      <td>0</td>\n",
       "      <td>0</td>\n",
       "      <td>0</td>\n",
       "      <td>0</td>\n",
       "      <td>1</td>\n",
       "      <td>0</td>\n",
       "    </tr>\n",
       "    <tr>\n",
       "      <th>3</th>\n",
       "      <td>0.222795</td>\n",
       "      <td>-0.067719</td>\n",
       "      <td>0.490629</td>\n",
       "      <td>0.781571</td>\n",
       "      <td>0.571069</td>\n",
       "      <td>0.452968</td>\n",
       "      <td>-0.252209</td>\n",
       "      <td>-0.533150</td>\n",
       "      <td>0.863621</td>\n",
       "      <td>0.340437</td>\n",
       "      <td>...</td>\n",
       "      <td>1</td>\n",
       "      <td>0</td>\n",
       "      <td>1</td>\n",
       "      <td>0</td>\n",
       "      <td>0</td>\n",
       "      <td>0</td>\n",
       "      <td>0</td>\n",
       "      <td>0</td>\n",
       "      <td>1</td>\n",
       "      <td>0</td>\n",
       "    </tr>\n",
       "    <tr>\n",
       "      <th>4</th>\n",
       "      <td>-1.142649</td>\n",
       "      <td>1.435348</td>\n",
       "      <td>-0.527526</td>\n",
       "      <td>0.575036</td>\n",
       "      <td>0.281613</td>\n",
       "      <td>-0.379569</td>\n",
       "      <td>0.714595</td>\n",
       "      <td>0.528995</td>\n",
       "      <td>-0.794856</td>\n",
       "      <td>0.340437</td>\n",
       "      <td>...</td>\n",
       "      <td>1</td>\n",
       "      <td>0</td>\n",
       "      <td>1</td>\n",
       "      <td>0</td>\n",
       "      <td>0</td>\n",
       "      <td>0</td>\n",
       "      <td>0</td>\n",
       "      <td>0</td>\n",
       "      <td>1</td>\n",
       "      <td>0</td>\n",
       "    </tr>\n",
       "  </tbody>\n",
       "</table>\n",
       "<p>5 rows × 110 columns</p>\n",
       "</div>"
      ],
      "text/plain": [
       "    LotArea  OverallQual  OverallCond  YearBuilt  YearRemodAdd  BsmtFinSF1  \\\n",
       "0  0.674191    -0.819253     0.490629  -0.492064     -1.213911    0.123883   \n",
       "1  1.400432    -0.067719     0.490629  -0.595332     -1.358639    1.241300   \n",
       "2  1.280444    -0.819253    -0.527526   0.747149      0.571069    0.917126   \n",
       "3  0.222795    -0.067719     0.490629   0.781571      0.571069    0.452968   \n",
       "4 -1.142649     1.435348    -0.527526   0.575036      0.281613   -0.379569   \n",
       "\n",
       "   TotalBsmtSF  1stFlrSF  2ndFlrSF  GarageCars  ...  PoolQC_None  Fence_MnWw  \\\n",
       "0    -0.372377 -0.623162 -0.794856   -1.061121  ...            1           0   \n",
       "1     0.848418  0.676015 -0.794856   -1.061121  ...            1           0   \n",
       "2    -0.246747 -0.527149  0.919882    0.340437  ...            1           0   \n",
       "3    -0.252209 -0.533150  0.863621    0.340437  ...            1           0   \n",
       "4     0.714595  0.528995 -0.794856    0.340437  ...            1           0   \n",
       "\n",
       "   MiscFeature_None  MiscFeature_Shed  SaleType_CWD  SaleType_New  \\\n",
       "0                 1                 0             0             0   \n",
       "1                 0                 0             0             0   \n",
       "2                 1                 0             0             0   \n",
       "3                 1                 0             0             0   \n",
       "4                 1                 0             0             0   \n",
       "\n",
       "   SaleCondition_AdjLand  SaleCondition_Alloca  SaleCondition_Normal  \\\n",
       "0                      0                     0                     1   \n",
       "1                      0                     0                     1   \n",
       "2                      0                     0                     1   \n",
       "3                      0                     0                     1   \n",
       "4                      0                     0                     1   \n",
       "\n",
       "   SaleCondition_Partial  \n",
       "0                      0  \n",
       "1                      0  \n",
       "2                      0  \n",
       "3                      0  \n",
       "4                      0  \n",
       "\n",
       "[5 rows x 110 columns]"
      ]
     },
     "execution_count": 531,
     "metadata": {},
     "output_type": "execute_result"
    }
   ],
   "source": [
    "Xtest_final.head()"
   ]
  },
  {
   "cell_type": "code",
   "execution_count": 532,
   "id": "1491d267",
   "metadata": {},
   "outputs": [],
   "source": [
    "T = test[[\"Id\"]]\n",
    "T['SalePrice']=pred\n"
   ]
  },
  {
   "cell_type": "code",
   "execution_count": 533,
   "id": "a07a3576",
   "metadata": {},
   "outputs": [
    {
     "data": {
      "text/html": [
       "<div>\n",
       "<style scoped>\n",
       "    .dataframe tbody tr th:only-of-type {\n",
       "        vertical-align: middle;\n",
       "    }\n",
       "\n",
       "    .dataframe tbody tr th {\n",
       "        vertical-align: top;\n",
       "    }\n",
       "\n",
       "    .dataframe thead th {\n",
       "        text-align: right;\n",
       "    }\n",
       "</style>\n",
       "<table border=\"1\" class=\"dataframe\">\n",
       "  <thead>\n",
       "    <tr style=\"text-align: right;\">\n",
       "      <th></th>\n",
       "      <th>Id</th>\n",
       "      <th>SalePrice</th>\n",
       "    </tr>\n",
       "  </thead>\n",
       "  <tbody>\n",
       "    <tr>\n",
       "      <th>0</th>\n",
       "      <td>1461</td>\n",
       "      <td>121854.857662</td>\n",
       "    </tr>\n",
       "    <tr>\n",
       "      <th>1</th>\n",
       "      <td>1462</td>\n",
       "      <td>174178.458082</td>\n",
       "    </tr>\n",
       "    <tr>\n",
       "      <th>2</th>\n",
       "      <td>1463</td>\n",
       "      <td>196241.751299</td>\n",
       "    </tr>\n",
       "    <tr>\n",
       "      <th>3</th>\n",
       "      <td>1464</td>\n",
       "      <td>207433.057019</td>\n",
       "    </tr>\n",
       "    <tr>\n",
       "      <th>4</th>\n",
       "      <td>1465</td>\n",
       "      <td>191188.007128</td>\n",
       "    </tr>\n",
       "  </tbody>\n",
       "</table>\n",
       "</div>"
      ],
      "text/plain": [
       "     Id      SalePrice\n",
       "0  1461  121854.857662\n",
       "1  1462  174178.458082\n",
       "2  1463  196241.751299\n",
       "3  1464  207433.057019\n",
       "4  1465  191188.007128"
      ]
     },
     "execution_count": 533,
     "metadata": {},
     "output_type": "execute_result"
    }
   ],
   "source": [
    "T.head(5)"
   ]
  },
  {
   "cell_type": "code",
   "execution_count": 534,
   "id": "db86efb5",
   "metadata": {},
   "outputs": [],
   "source": [
    "T.to_csv(\"C:/Users/hp/Desktop/Python Classess/Regression Assignment/Submission.csv\")"
   ]
  },
  {
   "cell_type": "code",
   "execution_count": null,
   "id": "18a3b133",
   "metadata": {},
   "outputs": [],
   "source": []
  }
 ],
 "metadata": {
  "kernelspec": {
   "display_name": "Python 3 (ipykernel)",
   "language": "python",
   "name": "python3"
  },
  "language_info": {
   "codemirror_mode": {
    "name": "ipython",
    "version": 3
   },
   "file_extension": ".py",
   "mimetype": "text/x-python",
   "name": "python",
   "nbconvert_exporter": "python",
   "pygments_lexer": "ipython3",
   "version": "3.9.7"
  }
 },
 "nbformat": 4,
 "nbformat_minor": 5
}
